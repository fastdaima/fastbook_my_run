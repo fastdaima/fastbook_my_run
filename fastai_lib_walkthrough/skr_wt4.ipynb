{
  "nbformat": 4,
  "nbformat_minor": 0,
  "metadata": {
    "jupytext": {
      "split_at_heading": true
    },
    "kernelspec": {
      "display_name": "Python 3",
      "language": "python",
      "name": "python3"
    },
    "colab": {
      "name": "skr_wt4.ipynb",
      "provenance": [],
      "collapsed_sections": []
    }
  },
  "cells": [
    {
      "cell_type": "markdown",
      "metadata": {
        "id": "e5Y4JMEHRuKy",
        "colab_type": "text"
      },
      "source": [
        "# Tutorial \n",
        "# Created by SKR and used as template for Walk Through 4 lecture of JeremyH\n",
        "## Modified from the pets dataset notebook ## \n",
        "\n"
      ]
    },
    {
      "cell_type": "markdown",
      "metadata": {
        "id": "InZ8X-1RRyzF",
        "colab_type": "text"
      },
      "source": [
        "Setup the notebook for my own environment"
      ]
    },
    {
      "cell_type": "code",
      "metadata": {
        "id": "J8tJwO5xR5T-",
        "colab_type": "code",
        "colab": {}
      },
      "source": [
        "# do something like this - copy over from fastai2 walkthru \n",
        "# !nvidia-smi -L"
      ],
      "execution_count": null,
      "outputs": []
    },
    {
      "cell_type": "code",
      "metadata": {
        "id": "6tjU1B9gR-1j",
        "colab_type": "code",
        "colab": {
          "base_uri": "https://localhost:8080/",
          "height": 34
        },
        "outputId": "4320bf52-3c2c-4ced-c55e-7f8433711322"
      },
      "source": [
        "# make your Google drive accessible \n",
        "from google.colab import drive\n",
        "drive.mount('/content/gdrive', force_remount=True)\n",
        "root_dir = \"/content/gdrive/My Drive/\"\n",
        "base_dir = root_dir + 'fastai2_library/course-v4/'\n",
        "\n",
        "# navigate to the notebooks directory for dl2\n",
        "import os\n",
        "os.chdir(base_dir)"
      ],
      "execution_count": null,
      "outputs": [
        {
          "output_type": "stream",
          "text": [
            "Mounted at /content/gdrive\n"
          ],
          "name": "stdout"
        }
      ]
    },
    {
      "cell_type": "code",
      "metadata": {
        "id": "uyvVsb4HR_br",
        "colab_type": "code",
        "colab": {
          "base_uri": "https://localhost:8080/",
          "height": 34
        },
        "outputId": "4797407a-fc77-494d-92a9-7a0e8531e70b"
      },
      "source": [
        "!pwd\n",
        "# cd to base_dir if above os.chdir does not work using below command\n",
        "# %cd \"/content/gdrive/My Drive/fastai/course-v4/\""
      ],
      "execution_count": null,
      "outputs": [
        {
          "output_type": "stream",
          "text": [
            "/content/gdrive/My Drive/fastai2_library/course-v4\n"
          ],
          "name": "stdout"
        }
      ]
    },
    {
      "cell_type": "code",
      "metadata": {
        "id": "Z83NOjpASEHO",
        "colab_type": "code",
        "colab": {}
      },
      "source": [
        "!pip install -q -r requirements.txt"
      ],
      "execution_count": null,
      "outputs": []
    },
    {
      "cell_type": "code",
      "metadata": {
        "id": "0oElbUwtR_xT",
        "colab_type": "code",
        "colab": {
          "base_uri": "https://localhost:8080/",
          "height": 34
        },
        "outputId": "92df72c1-3083-4bb7-96c7-7f5bc12f955d"
      },
      "source": [
        "%cd nbs"
      ],
      "execution_count": null,
      "outputs": [
        {
          "output_type": "stream",
          "text": [
            "/content/gdrive/My Drive/fastai2_library/course-v4/nbs\n"
          ],
          "name": "stdout"
        }
      ]
    },
    {
      "cell_type": "markdown",
      "metadata": {
        "id": "XasYDi7bRuKz",
        "colab_type": "text"
      },
      "source": [
        "### Jeremy Setup at beginning of notebook"
      ]
    },
    {
      "cell_type": "code",
      "metadata": {
        "id": "PC0B7fetRuK1",
        "colab_type": "code",
        "colab": {}
      },
      "source": [
        "# original imports in JH notebook\n",
        "#from local.torch_basics import *\n",
        "#from local.test import *\n",
        "#from local.data.all import *\n",
        "#from local.vision.core import *\n",
        "#from local.notebook.showdoc import *\n",
        "\n",
        "# imports in mnist nb\n",
        "from fastai2.vision.all import *\n",
        "from utils import *"
      ],
      "execution_count": null,
      "outputs": []
    },
    {
      "cell_type": "markdown",
      "metadata": {
        "id": "p1hduEF_RuK8",
        "colab_type": "text"
      },
      "source": [
        "First we'll have a look at the basic steps using a single MNIST image. We'll start with a filename, and see step by step how it can be converted in to a labelled image that can be displayed and used for modeling. We use the usual `untar_data` to download our dataset (if necessary) and get all the image files:"
      ]
    },
    {
      "cell_type": "code",
      "metadata": {
        "id": "koa0Uq67RuK9",
        "colab_type": "code",
        "colab": {
          "base_uri": "https://localhost:8080/",
          "height": 34
        },
        "outputId": "e33fb6b9-e22d-487c-ad95-35f3acc50010"
      },
      "source": [
        "source = untar_data(URLs.MNIST_TINY)/'train'\n",
        "items = get_image_files(source)\n",
        "fn = items[0]; fn"
      ],
      "execution_count": null,
      "outputs": [
        {
          "output_type": "execute_result",
          "data": {
            "text/plain": [
              "Path('/root/.fastai/data/mnist_tiny/train/3/7214.png')"
            ]
          },
          "metadata": {
            "tags": []
          },
          "execution_count": 18
        }
      ]
    },
    {
      "cell_type": "code",
      "metadata": {
        "id": "0Bg-FfN-suPG",
        "colab_type": "code",
        "colab": {}
      },
      "source": [
        "def neg(x): return -x"
      ],
      "execution_count": null,
      "outputs": []
    },
    {
      "cell_type": "code",
      "metadata": {
        "id": "CAHufeTlsuX5",
        "colab_type": "code",
        "colab": {
          "base_uri": "https://localhost:8080/",
          "height": 34
        },
        "outputId": "04ccd3c1-f4b0-4ccb-9c76-f853d6baa551"
      },
      "source": [
        "neg(3)"
      ],
      "execution_count": null,
      "outputs": [
        {
          "output_type": "execute_result",
          "data": {
            "text/plain": [
              "-3"
            ]
          },
          "metadata": {
            "tags": []
          },
          "execution_count": 20
        }
      ]
    },
    {
      "cell_type": "code",
      "metadata": {
        "id": "Ulue3kdksuU7",
        "colab_type": "code",
        "colab": {}
      },
      "source": [
        "tup = (1, 3)"
      ],
      "execution_count": null,
      "outputs": []
    },
    {
      "cell_type": "code",
      "metadata": {
        "id": "YgYTdE7JstuM",
        "colab_type": "code",
        "colab": {
          "base_uri": "https://localhost:8080/",
          "height": 214
        },
        "outputId": "5a530390-dbe4-4c61-b0e7-e0fb24474595"
      },
      "source": [
        "neg(tup)"
      ],
      "execution_count": null,
      "outputs": [
        {
          "output_type": "error",
          "ename": "TypeError",
          "evalue": "ignored",
          "traceback": [
            "\u001b[0;31m---------------------------------------------------------------------------\u001b[0m",
            "\u001b[0;31mTypeError\u001b[0m                                 Traceback (most recent call last)",
            "\u001b[0;32m<ipython-input-22-33ab5d8cf21a>\u001b[0m in \u001b[0;36m<module>\u001b[0;34m()\u001b[0m\n\u001b[0;32m----> 1\u001b[0;31m \u001b[0mneg\u001b[0m\u001b[0;34m(\u001b[0m\u001b[0mtup\u001b[0m\u001b[0;34m)\u001b[0m\u001b[0;34m\u001b[0m\u001b[0;34m\u001b[0m\u001b[0m\n\u001b[0m",
            "\u001b[0;32m<ipython-input-19-e69650f4afb8>\u001b[0m in \u001b[0;36mneg\u001b[0;34m(x)\u001b[0m\n\u001b[0;32m----> 1\u001b[0;31m \u001b[0;32mdef\u001b[0m \u001b[0mneg\u001b[0m\u001b[0;34m(\u001b[0m\u001b[0mx\u001b[0m\u001b[0;34m)\u001b[0m\u001b[0;34m:\u001b[0m \u001b[0;32mreturn\u001b[0m \u001b[0;34m-\u001b[0m\u001b[0mx\u001b[0m\u001b[0;34m\u001b[0m\u001b[0;34m\u001b[0m\u001b[0m\n\u001b[0m",
            "\u001b[0;31mTypeError\u001b[0m: bad operand type for unary -: 'tuple'"
          ]
        }
      ]
    },
    {
      "cell_type": "markdown",
      "metadata": {
        "id": "M2SGA42YuQ52",
        "colab_type": "text"
      },
      "source": [
        "Above does NOT work is a design choice in Python. "
      ]
    },
    {
      "cell_type": "code",
      "metadata": {
        "id": "LaOVay_wstm3",
        "colab_type": "code",
        "colab": {}
      },
      "source": [
        "arr = array([1, 3])"
      ],
      "execution_count": null,
      "outputs": []
    },
    {
      "cell_type": "code",
      "metadata": {
        "id": "dhtQVS9rugO1",
        "colab_type": "code",
        "colab": {
          "base_uri": "https://localhost:8080/",
          "height": 34
        },
        "outputId": "e47bb2f1-cce8-4c47-a108-68f5bc0694d4"
      },
      "source": [
        "neg(arr)"
      ],
      "execution_count": null,
      "outputs": [
        {
          "output_type": "execute_result",
          "data": {
            "text/plain": [
              "array([-1, -3])"
            ]
          },
          "metadata": {
            "tags": []
          },
          "execution_count": 24
        }
      ]
    },
    {
      "cell_type": "markdown",
      "metadata": {
        "id": "IYR1x-inuoV7",
        "colab_type": "text"
      },
      "source": [
        "Neg works - so different behavior."
      ]
    },
    {
      "cell_type": "markdown",
      "metadata": {
        "id": "H8uc6KF8uyyD",
        "colab_type": "text"
      },
      "source": [
        "Python lets us change its behavior depending on domain. In DS domain, we are interested in tuple like things coz generally \n",
        "we have X and Y. \n",
        "eg Image (X) and Label (Y), in classification;\n",
        "source image(X), mask (Y) in segmentation;\n",
        "(image tuple) (X), bool(Y) for Siamese;\n",
        "(conts, cats) (X), targ(Y) for Tabular.\n",
        "\n",
        "We would like Python to have neg behave more like it does for arrays "
      ]
    },
    {
      "cell_type": "markdown",
      "metadata": {
        "id": "2-e032x9wI0S",
        "colab_type": "text"
      },
      "source": [
        "ONE WAY to change behavior of a Python function is to use a DECORATOR "
      ]
    },
    {
      "cell_type": "code",
      "metadata": {
        "id": "oxWcra_TujfQ",
        "colab_type": "code",
        "colab": {}
      },
      "source": [
        "@Transform\n",
        "def neg(x): return -x"
      ],
      "execution_count": null,
      "outputs": []
    },
    {
      "cell_type": "code",
      "metadata": {
        "id": "UphFwTSrujyB",
        "colab_type": "code",
        "colab": {
          "base_uri": "https://localhost:8080/",
          "height": 34
        },
        "outputId": "4ae7fce8-ff44-48dc-dba7-42229d68473e"
      },
      "source": [
        "# this works\n",
        "neg(tup)"
      ],
      "execution_count": null,
      "outputs": [
        {
          "output_type": "execute_result",
          "data": {
            "text/plain": [
              "(-1, -3)"
            ]
          },
          "metadata": {
            "tags": []
          },
          "execution_count": 26
        }
      ]
    },
    {
      "cell_type": "code",
      "metadata": {
        "id": "Irf25qYKukRy",
        "colab_type": "code",
        "colab": {
          "base_uri": "https://localhost:8080/",
          "height": 45
        },
        "outputId": "f7441692-b5c1-4f17-f8bb-0dbf572776b4"
      },
      "source": [
        "# Let us grab an image\n",
        "img = load_image(fn); img"
      ],
      "execution_count": null,
      "outputs": [
        {
          "output_type": "execute_result",
          "data": {
            "image/png": "[encoded data removed]",
            "text/plain": [
              "<PIL.Image.Image image mode=L size=28x28 at 0x7F0A9C2B8780>"
            ]
          },
          "metadata": {
            "tags": []
          },
          "execution_count": 27
        }
      ]
    },
    {
      "cell_type": "code",
      "metadata": {
        "id": "Fafa0cQjukeM",
        "colab_type": "code",
        "colab": {
          "base_uri": "https://localhost:8080/",
          "height": 68
        },
        "outputId": "adbef9f0-438f-4955-ab63-c93299a8b249"
      },
      "source": [
        "# Create a  tensor of the image\n",
        "timg = tensor(array(img)).float() # need the float here or else unsigned int so neg does not work. \n",
        "# Let us look at few rows of it\n",
        "tsub = timg[12:15]\n",
        "tsub"
      ],
      "execution_count": null,
      "outputs": [
        {
          "output_type": "execute_result",
          "data": {
            "text/plain": [
              "tensor([[  0.,   0.,   0.,   0.,   0.,   0.,   0.,   0.,   0.,   0.,   0.,   3.,  34., 210., 254., 253., 179.,  64.,   0.,   0.,   0.,   0.,   0.,   0.,   0.,   0.,   0.,   0.],\n",
              "        [  0.,   0.,   0.,   0.,   0.,   0.,   0.,   0.,   0.,   0.,   0., 105., 253., 253., 254., 114.,  11.,   0.,   0.,   0.,   0.,   0.,   0.,   0.,   0.,   0.,   0.,   0.],\n",
              "        [  0.,   0.,   0.,   0.,   0.,   0.,   0.,   0.,   0.,   0.,  22., 210., 253., 253., 121.,   6.,   0.,   0.,   0.,   0.,   0.,   0.,   0.,   0.,   0.,   0.,   0.,   0.]])"
            ]
          },
          "metadata": {
            "tags": []
          },
          "execution_count": 28
        }
      ]
    },
    {
      "cell_type": "code",
      "metadata": {
        "id": "UhINerpRukaa",
        "colab_type": "code",
        "colab": {
          "base_uri": "https://localhost:8080/",
          "height": 119
        },
        "outputId": "1a55908a-c7ca-4fe8-ebc9-6339e6ea4eca"
      },
      "source": [
        "neg(tsub)"
      ],
      "execution_count": null,
      "outputs": [
        {
          "output_type": "execute_result",
          "data": {
            "text/plain": [
              "tensor([[  -0.,   -0.,   -0.,   -0.,   -0.,   -0.,   -0.,   -0.,   -0.,   -0.,   -0.,   -3.,  -34., -210., -254., -253., -179.,  -64.,   -0.,   -0.,   -0.,   -0.,   -0.,   -0.,   -0.,   -0.,   -0.,\n",
              "           -0.],\n",
              "        [  -0.,   -0.,   -0.,   -0.,   -0.,   -0.,   -0.,   -0.,   -0.,   -0.,   -0., -105., -253., -253., -254., -114.,  -11.,   -0.,   -0.,   -0.,   -0.,   -0.,   -0.,   -0.,   -0.,   -0.,   -0.,\n",
              "           -0.],\n",
              "        [  -0.,   -0.,   -0.,   -0.,   -0.,   -0.,   -0.,   -0.,   -0.,   -0.,  -22., -210., -253., -253., -121.,   -6.,   -0.,   -0.,   -0.,   -0.,   -0.,   -0.,   -0.,   -0.,   -0.,   -0.,   -0.,\n",
              "           -0.]])"
            ]
          },
          "metadata": {
            "tags": []
          },
          "execution_count": 29
        }
      ]
    },
    {
      "cell_type": "code",
      "metadata": {
        "id": "gsQDsscgukXu",
        "colab_type": "code",
        "colab": {
          "base_uri": "https://localhost:8080/",
          "height": 221
        },
        "outputId": "1e843916-b8ea-400f-9b9a-538922bd9e15"
      },
      "source": [
        "neg((tsub, tsub))"
      ],
      "execution_count": null,
      "outputs": [
        {
          "output_type": "execute_result",
          "data": {
            "text/plain": [
              "(tensor([[  -0.,   -0.,   -0.,   -0.,   -0.,   -0.,   -0.,   -0.,   -0.,   -0.,   -0.,   -3.,  -34., -210., -254., -253., -179.,  -64.,   -0.,   -0.,   -0.,   -0.,   -0.,   -0.,   -0.,   -0.,   -0.,\n",
              "            -0.],\n",
              "         [  -0.,   -0.,   -0.,   -0.,   -0.,   -0.,   -0.,   -0.,   -0.,   -0.,   -0., -105., -253., -253., -254., -114.,  -11.,   -0.,   -0.,   -0.,   -0.,   -0.,   -0.,   -0.,   -0.,   -0.,   -0.,\n",
              "            -0.],\n",
              "         [  -0.,   -0.,   -0.,   -0.,   -0.,   -0.,   -0.,   -0.,   -0.,   -0.,  -22., -210., -253., -253., -121.,   -6.,   -0.,   -0.,   -0.,   -0.,   -0.,   -0.,   -0.,   -0.,   -0.,   -0.,   -0.,\n",
              "            -0.]]),\n",
              " tensor([[  -0.,   -0.,   -0.,   -0.,   -0.,   -0.,   -0.,   -0.,   -0.,   -0.,   -0.,   -3.,  -34., -210., -254., -253., -179.,  -64.,   -0.,   -0.,   -0.,   -0.,   -0.,   -0.,   -0.,   -0.,   -0.,\n",
              "            -0.],\n",
              "         [  -0.,   -0.,   -0.,   -0.,   -0.,   -0.,   -0.,   -0.,   -0.,   -0.,   -0., -105., -253., -253., -254., -114.,  -11.,   -0.,   -0.,   -0.,   -0.,   -0.,   -0.,   -0.,   -0.,   -0.,   -0.,\n",
              "            -0.],\n",
              "         [  -0.,   -0.,   -0.,   -0.,   -0.,   -0.,   -0.,   -0.,   -0.,   -0.,  -22., -210., -253., -253., -121.,   -6.,   -0.,   -0.,   -0.,   -0.,   -0.,   -0.,   -0.,   -0.,   -0.,   -0.,   -0.,\n",
              "            -0.]]))"
            ]
          },
          "metadata": {
            "tags": []
          },
          "execution_count": 30
        }
      ]
    },
    {
      "cell_type": "markdown",
      "metadata": {
        "id": "bBStDKj6ybO7",
        "colab_type": "text"
      },
      "source": [
        "Let us try a more interesting function: A Normalization function which would be useful to have in a transformation pipeline. "
      ]
    },
    {
      "cell_type": "code",
      "metadata": {
        "id": "jSGACoZ9qj0K",
        "colab_type": "code",
        "colab": {}
      },
      "source": [
        "# At first just a function to normalize\n",
        "def norm(x, m, s): return (x-m)/s"
      ],
      "execution_count": null,
      "outputs": []
    },
    {
      "cell_type": "code",
      "metadata": {
        "id": "nCYwLsqSqugs",
        "colab_type": "code",
        "colab": {
          "base_uri": "https://localhost:8080/",
          "height": 119
        },
        "outputId": "b4cf2950-84e2-43ed-ea98-9600234c4121"
      },
      "source": [
        "nimg = norm(timg, 127., 50.)\n",
        "nimg[12:15]"
      ],
      "execution_count": null,
      "outputs": [
        {
          "output_type": "execute_result",
          "data": {
            "text/plain": [
              "tensor([[-2.5400, -2.5400, -2.5400, -2.5400, -2.5400, -2.5400, -2.5400, -2.5400, -2.5400, -2.5400, -2.5400, -2.4800, -1.8600,  1.6600,  2.5400,  2.5200,  1.0400, -1.2600, -2.5400, -2.5400, -2.5400,\n",
              "         -2.5400, -2.5400, -2.5400, -2.5400, -2.5400, -2.5400, -2.5400],\n",
              "        [-2.5400, -2.5400, -2.5400, -2.5400, -2.5400, -2.5400, -2.5400, -2.5400, -2.5400, -2.5400, -2.5400, -0.4400,  2.5200,  2.5200,  2.5400, -0.2600, -2.3200, -2.5400, -2.5400, -2.5400, -2.5400,\n",
              "         -2.5400, -2.5400, -2.5400, -2.5400, -2.5400, -2.5400, -2.5400],\n",
              "        [-2.5400, -2.5400, -2.5400, -2.5400, -2.5400, -2.5400, -2.5400, -2.5400, -2.5400, -2.5400, -2.1000,  1.6600,  2.5200,  2.5200, -0.1200, -2.4200, -2.5400, -2.5400, -2.5400, -2.5400, -2.5400,\n",
              "         -2.5400, -2.5400, -2.5400, -2.5400, -2.5400, -2.5400, -2.5400]])"
            ]
          },
          "metadata": {
            "tags": []
          },
          "execution_count": 32
        }
      ]
    },
    {
      "cell_type": "code",
      "metadata": {
        "id": "86vIRxtlrejZ",
        "colab_type": "code",
        "colab": {
          "base_uri": "https://localhost:8080/",
          "height": 34
        },
        "outputId": "bbd61c1f-9b14-40e4-fa52-347133b3465a"
      },
      "source": [
        "timg.mean(), nimg.mean()"
      ],
      "execution_count": null,
      "outputs": [
        {
          "output_type": "execute_result",
          "data": {
            "text/plain": [
              "(tensor(28.2219), tensor(-1.9756))"
            ]
          },
          "metadata": {
            "tags": []
          },
          "execution_count": 33
        }
      ]
    },
    {
      "cell_type": "markdown",
      "metadata": {
        "id": "Y8PXKHwLsJEu",
        "colab_type": "text"
      },
      "source": [
        "Typically though we would like to run this function on GPU as it can execute much faster on GPU. BUT by the time this data (here an image) ends up on GPU it will NOT just be an image. It will be an image AND a label. "
      ]
    },
    {
      "cell_type": "code",
      "metadata": {
        "id": "xcRB5vYjreTp",
        "colab_type": "code",
        "colab": {}
      },
      "source": [
        "# So let us create an tuple which is an image and an int value\n",
        "imgtup = (timg, 1)"
      ],
      "execution_count": null,
      "outputs": []
    },
    {
      "cell_type": "code",
      "metadata": {
        "id": "LXBfWVOJsnux",
        "colab_type": "code",
        "colab": {
          "base_uri": "https://localhost:8080/",
          "height": 510
        },
        "outputId": "fe4a05fe-0d6d-4801-bc94-98eefab187b2"
      },
      "source": [
        "# Something like what we will actually be working with on the GPU\n",
        "imgtup"
      ],
      "execution_count": null,
      "outputs": [
        {
          "output_type": "execute_result",
          "data": {
            "text/plain": [
              "(tensor([[  0.,   0.,   0.,   0.,   0.,   0.,   0.,   0.,   0.,   0.,   0.,   0.,   0.,   0.,   0.,   0.,   0.,   0.,   0.,   0.,   0.,   0.,   0.,   0.,   0.,   0.,   0.,   0.],\n",
              "         [  0.,   0.,   0.,   0.,   0.,   0.,   0.,   0.,   0.,   0.,   0.,   0.,   0.,   0.,   0.,   0.,   0.,   0.,   0.,   0.,   0.,   0.,   0.,   0.,   0.,   0.,   0.,   0.],\n",
              "         [  0.,   0.,   0.,   0.,   0.,   0.,   0.,   0.,   0.,   0.,   0.,   0.,   0.,   0.,   0.,   0.,   0.,   0.,   0.,   0.,   0.,   0.,   0.,   0.,   0.,   0.,   0.,   0.],\n",
              "         [  0.,   0.,   0.,   0.,   0.,   0.,   0.,   0.,   0.,   0.,   0.,   0.,   0.,   0.,   0.,   0.,   0.,   0.,   0.,   0.,   0.,   0.,   0.,   0.,   0.,   0.,   0.,   0.],\n",
              "         [  0.,   0.,   0.,   0.,   0.,   0.,   0.,   0.,   0.,   0.,   0.,   0.,   0.,   0.,   0.,   0.,   0.,   0.,   0.,   0.,   0.,   0.,   0.,   0.,   0.,   0.,   0.,   0.],\n",
              "         [  0.,   0.,   0.,   0.,   0.,   0.,   0.,   0.,   0.,  26., 213., 169., 121., 121., 192., 121., 121., 121.,  89.,   0.,   0.,   0.,   0.,   0.,   0.,   0.,   0.,   0.],\n",
              "         [  0.,   0.,   0.,   0.,   0.,   0.,   0.,   0.,   0.,  31., 220., 253., 253., 253., 254., 253., 253., 253., 250., 190.,   0.,   0.,   0.,   0.,   0.,   0.,   0.,   0.],\n",
              "         [  0.,   0.,   0.,   0.,   0.,   0.,   0.,   0.,   0.,   0.,  39., 159., 214., 253., 160., 159., 194., 253., 253., 199.,   0.,   0.,   0.,   0.,   0.,   0.,   0.,   0.],\n",
              "         [  0.,   0.,   0.,   0.,   0.,   0.,   0.,   0.,   0.,   0.,   0.,   0.,  23.,  39.,   0.,   0.,  94., 253., 253., 199.,   0.,   0.,   0.,   0.,   0.,   0.,   0.,   0.],\n",
              "         [  0.,   0.,   0.,   0.,   0.,   0.,   0.,   0.,   0.,   0.,   0.,   0.,   0.,   0.,   0.,   0., 129., 253., 253., 164.,   0.,   0.,   0.,   0.,   0.,   0.,   0.,   0.],\n",
              "         [  0.,   0.,   0.,   0.,   0.,   0.,   0.,   0.,   0.,   0.,   0.,   0.,   0.,   0.,   0., 178., 247., 253., 239.,  52.,   0.,   0.,   0.,   0.,   0.,   0.,   0.,   0.],\n",
              "         [  0.,   0.,   0.,   0.,   0.,   0.,   0.,   0.,   0.,   0.,   0.,   0.,   0.,  22., 175., 249., 253., 240.,  86.,   0.,   0.,   0.,   0.,   0.,   0.,   0.,   0.,   0.],\n",
              "         [  0.,   0.,   0.,   0.,   0.,   0.,   0.,   0.,   0.,   0.,   0.,   3.,  34., 210., 254., 253., 179.,  64.,   0.,   0.,   0.,   0.,   0.,   0.,   0.,   0.,   0.,   0.],\n",
              "         [  0.,   0.,   0.,   0.,   0.,   0.,   0.,   0.,   0.,   0.,   0., 105., 253., 253., 254., 114.,  11.,   0.,   0.,   0.,   0.,   0.,   0.,   0.,   0.,   0.,   0.,   0.],\n",
              "         [  0.,   0.,   0.,   0.,   0.,   0.,   0.,   0.,   0.,   0.,  22., 210., 253., 253., 121.,   6.,   0.,   0.,   0.,   0.,   0.,   0.,   0.,   0.,   0.,   0.,   0.,   0.],\n",
              "         [  0.,   0.,   0.,   0.,   0.,   0.,   0.,   0.,   0.,   0.,  41., 254., 254., 121.,   0.,   0.,   0.,   0.,   0.,   0.,   0.,   0.,   0.,   0.,   0.,   0.,   0.,   0.],\n",
              "         [  0.,   0.,   0.,   0.,   0.,   0.,   0.,   0.,   0.,   0.,   2., 165., 253., 247.,   0.,   0.,   0.,   0.,   0.,   0.,   0.,   0.,   0.,   0.,   0.,   0.,   0.,   0.],\n",
              "         [  0.,   0.,   0.,   0.,   0.,   0.,   0.,   0.,   0.,   0.,   0., 112., 253., 253., 165.,   5.,   0.,   0.,   0.,   0.,   0.,   0.,   0.,   0.,   0.,   0.,   0.,   0.],\n",
              "         [  0.,   0.,   0.,   0.,   0.,   0.,   0.,   0.,   0.,   0.,   0.,  19., 219., 253., 254.,  13.,   0.,   0.,   0.,   0.,   0.,   0.,   0.,   0.,   0.,   0.,   0.,   0.],\n",
              "         [  0.,   0.,   0.,   0.,   0.,   0.,   0.,   0.,   0.,   0.,   0.,   0.,  42., 253., 254., 119.,   0.,   0.,   0.,   0.,   0.,   0.,   0.,   0.,   0.,   0.,   0.,   0.],\n",
              "         [  0.,   0.,   0.,   0.,   0.,   0.,   0.,   0.,   0.,   0.,   0.,   0.,   4., 165., 254., 225.,  19.,   0.,   0.,   0.,   0.,   0.,   0.,   0.,   0.,   0.,   0.,   0.],\n",
              "         [  0.,   0.,   0.,   0.,   0.,   0.,   0.,   0.,  32.,  41.,  41.,  41.,  41., 153., 255., 253., 118.,   0.,   0.,   0.,   0.,   0.,   0.,   0.,   0.,   0.,   0.,   0.],\n",
              "         [  0.,   0.,   0.,   0.,   0.,   0.,   0.,   0., 201., 253., 253., 253., 253., 253., 255., 253.,  75.,   0.,   0.,   0.,   0.,   0.,   0.,   0.,   0.,   0.,   0.,   0.],\n",
              "         [  0.,   0.,   0.,   0.,   0.,   0.,   0.,   0., 194., 253., 253., 253., 253., 253., 255., 184.,  11.,   0.,   0.,   0.,   0.,   0.,   0.,   0.,   0.,   0.,   0.,   0.],\n",
              "         [  0.,   0.,   0.,   0.,   0.,   0.,   0.,   0.,  32., 120., 120., 120., 120., 190., 121.,   6.,   0.,   0.,   0.,   0.,   0.,   0.,   0.,   0.,   0.,   0.,   0.,   0.],\n",
              "         [  0.,   0.,   0.,   0.,   0.,   0.,   0.,   0.,   0.,   0.,   0.,   0.,   0.,   0.,   0.,   0.,   0.,   0.,   0.,   0.,   0.,   0.,   0.,   0.,   0.,   0.,   0.,   0.],\n",
              "         [  0.,   0.,   0.,   0.,   0.,   0.,   0.,   0.,   0.,   0.,   0.,   0.,   0.,   0.,   0.,   0.,   0.,   0.,   0.,   0.,   0.,   0.,   0.,   0.,   0.,   0.,   0.,   0.],\n",
              "         [  0.,   0.,   0.,   0.,   0.,   0.,   0.,   0.,   0.,   0.,   0.,   0.,   0.,   0.,   0.,   0.,   0.,   0.,   0.,   0.,   0.,   0.,   0.,   0.,   0.,   0.,   0.,   0.]]),\n",
              " 1)"
            ]
          },
          "metadata": {
            "tags": []
          },
          "execution_count": 35
        }
      ]
    },
    {
      "cell_type": "code",
      "metadata": {
        "id": "ol7cr1p4s2aT",
        "colab_type": "code",
        "colab": {
          "base_uri": "https://localhost:8080/",
          "height": 265
        },
        "outputId": "8fe455b6-caf4-4fe9-8497-2c9239f2e132"
      },
      "source": [
        "# If we wish to normalize that - AGAIN PROBLEM \n",
        "# So need a transform\n",
        "norm(imgtup, m=127., s=50.)"
      ],
      "execution_count": null,
      "outputs": [
        {
          "output_type": "error",
          "ename": "TypeError",
          "evalue": "ignored",
          "traceback": [
            "\u001b[0;31m---------------------------------------------------------------------------\u001b[0m",
            "\u001b[0;31mTypeError\u001b[0m                                 Traceback (most recent call last)",
            "\u001b[0;32m<ipython-input-36-432bec27e703>\u001b[0m in \u001b[0;36m<module>\u001b[0;34m()\u001b[0m\n\u001b[1;32m      1\u001b[0m \u001b[0;31m# If we wish to normalize that - AGAIN PROBLEM\u001b[0m\u001b[0;34m\u001b[0m\u001b[0;34m\u001b[0m\u001b[0;34m\u001b[0m\u001b[0m\n\u001b[1;32m      2\u001b[0m \u001b[0;31m# So need a transform\u001b[0m\u001b[0;34m\u001b[0m\u001b[0;34m\u001b[0m\u001b[0;34m\u001b[0m\u001b[0m\n\u001b[0;32m----> 3\u001b[0;31m \u001b[0mnorm\u001b[0m\u001b[0;34m(\u001b[0m\u001b[0mimgtup\u001b[0m\u001b[0;34m,\u001b[0m \u001b[0mm\u001b[0m\u001b[0;34m=\u001b[0m\u001b[0;36m127.\u001b[0m\u001b[0;34m,\u001b[0m \u001b[0ms\u001b[0m\u001b[0;34m=\u001b[0m\u001b[0;36m50.\u001b[0m\u001b[0;34m)\u001b[0m\u001b[0;34m\u001b[0m\u001b[0;34m\u001b[0m\u001b[0m\n\u001b[0m",
            "\u001b[0;32m<ipython-input-31-252fee556ddb>\u001b[0m in \u001b[0;36mnorm\u001b[0;34m(x, m, s)\u001b[0m\n\u001b[1;32m      1\u001b[0m \u001b[0;31m# At first just a function to normalize\u001b[0m\u001b[0;34m\u001b[0m\u001b[0;34m\u001b[0m\u001b[0;34m\u001b[0m\u001b[0m\n\u001b[0;32m----> 2\u001b[0;31m \u001b[0;32mdef\u001b[0m \u001b[0mnorm\u001b[0m\u001b[0;34m(\u001b[0m\u001b[0mx\u001b[0m\u001b[0;34m,\u001b[0m \u001b[0mm\u001b[0m\u001b[0;34m,\u001b[0m \u001b[0ms\u001b[0m\u001b[0;34m)\u001b[0m\u001b[0;34m:\u001b[0m \u001b[0;32mreturn\u001b[0m \u001b[0;34m(\u001b[0m\u001b[0mx\u001b[0m\u001b[0;34m-\u001b[0m\u001b[0mm\u001b[0m\u001b[0;34m)\u001b[0m\u001b[0;34m/\u001b[0m\u001b[0ms\u001b[0m\u001b[0;34m\u001b[0m\u001b[0;34m\u001b[0m\u001b[0m\n\u001b[0m",
            "\u001b[0;31mTypeError\u001b[0m: unsupported operand type(s) for -: 'tuple' and 'float'"
          ]
        }
      ]
    },
    {
      "cell_type": "code",
      "metadata": {
        "id": "xREfYDSZtG-9",
        "colab_type": "code",
        "colab": {}
      },
      "source": [
        "@Transform\n",
        "def norm(x, m, s): return (x-m)/s"
      ],
      "execution_count": null,
      "outputs": []
    },
    {
      "cell_type": "code",
      "metadata": {
        "id": "J6Yxwyx8tb20",
        "colab_type": "code",
        "colab": {
          "base_uri": "https://localhost:8080/",
          "height": 119
        },
        "outputId": "f5fc9d4f-1339-4e0a-e8e4-13ba73b5b228"
      },
      "source": [
        "nimg = norm(timg, m=127., s=50.)\n",
        "nimg[12:15]"
      ],
      "execution_count": null,
      "outputs": [
        {
          "output_type": "execute_result",
          "data": {
            "text/plain": [
              "tensor([[-2.5400, -2.5400, -2.5400, -2.5400, -2.5400, -2.5400, -2.5400, -2.5400, -2.5400, -2.5400, -2.5400, -2.4800, -1.8600,  1.6600,  2.5400,  2.5200,  1.0400, -1.2600, -2.5400, -2.5400, -2.5400,\n",
              "         -2.5400, -2.5400, -2.5400, -2.5400, -2.5400, -2.5400, -2.5400],\n",
              "        [-2.5400, -2.5400, -2.5400, -2.5400, -2.5400, -2.5400, -2.5400, -2.5400, -2.5400, -2.5400, -2.5400, -0.4400,  2.5200,  2.5200,  2.5400, -0.2600, -2.3200, -2.5400, -2.5400, -2.5400, -2.5400,\n",
              "         -2.5400, -2.5400, -2.5400, -2.5400, -2.5400, -2.5400, -2.5400],\n",
              "        [-2.5400, -2.5400, -2.5400, -2.5400, -2.5400, -2.5400, -2.5400, -2.5400, -2.5400, -2.5400, -2.1000,  1.6600,  2.5200,  2.5200, -0.1200, -2.4200, -2.5400, -2.5400, -2.5400, -2.5400, -2.5400,\n",
              "         -2.5400, -2.5400, -2.5400, -2.5400, -2.5400, -2.5400, -2.5400]])"
            ]
          },
          "metadata": {
            "tags": []
          },
          "execution_count": 38
        }
      ]
    },
    {
      "cell_type": "code",
      "metadata": {
        "id": "x9BBU-V6tpn1",
        "colab_type": "code",
        "colab": {
          "base_uri": "https://localhost:8080/",
          "height": 34
        },
        "outputId": "5928719c-e5b8-4eb5-8fef-4a919c3784e5"
      },
      "source": [
        "timg.mean(), nimg.mean()"
      ],
      "execution_count": null,
      "outputs": [
        {
          "output_type": "execute_result",
          "data": {
            "text/plain": [
              "(tensor(28.2219), tensor(-1.9756))"
            ]
          },
          "metadata": {
            "tags": []
          },
          "execution_count": 39
        }
      ]
    },
    {
      "cell_type": "code",
      "metadata": {
        "id": "mKjZVaNAtpVH",
        "colab_type": "code",
        "colab": {}
      },
      "source": [
        "imgtup = (timg, 1)"
      ],
      "execution_count": null,
      "outputs": []
    },
    {
      "cell_type": "code",
      "metadata": {
        "id": "NqHp9OG4t6al",
        "colab_type": "code",
        "colab": {
          "base_uri": "https://localhost:8080/",
          "height": 1000
        },
        "outputId": "5658108e-20d3-4c94-9f85-1f044811ddbd"
      },
      "source": [
        "norm(imgtup, m=127., s=50.)\n",
        "# Working again BUT a problem if you look at below this function ALSO \n",
        "# Transformed our label - NOT what we want."
      ],
      "execution_count": null,
      "outputs": [
        {
          "output_type": "execute_result",
          "data": {
            "text/plain": [
              "(tensor([[-2.5400, -2.5400, -2.5400, -2.5400, -2.5400, -2.5400, -2.5400, -2.5400, -2.5400, -2.5400, -2.5400, -2.5400, -2.5400, -2.5400, -2.5400, -2.5400, -2.5400, -2.5400, -2.5400, -2.5400, -2.5400,\n",
              "          -2.5400, -2.5400, -2.5400, -2.5400, -2.5400, -2.5400, -2.5400],\n",
              "         [-2.5400, -2.5400, -2.5400, -2.5400, -2.5400, -2.5400, -2.5400, -2.5400, -2.5400, -2.5400, -2.5400, -2.5400, -2.5400, -2.5400, -2.5400, -2.5400, -2.5400, -2.5400, -2.5400, -2.5400, -2.5400,\n",
              "          -2.5400, -2.5400, -2.5400, -2.5400, -2.5400, -2.5400, -2.5400],\n",
              "         [-2.5400, -2.5400, -2.5400, -2.5400, -2.5400, -2.5400, -2.5400, -2.5400, -2.5400, -2.5400, -2.5400, -2.5400, -2.5400, -2.5400, -2.5400, -2.5400, -2.5400, -2.5400, -2.5400, -2.5400, -2.5400,\n",
              "          -2.5400, -2.5400, -2.5400, -2.5400, -2.5400, -2.5400, -2.5400],\n",
              "         [-2.5400, -2.5400, -2.5400, -2.5400, -2.5400, -2.5400, -2.5400, -2.5400, -2.5400, -2.5400, -2.5400, -2.5400, -2.5400, -2.5400, -2.5400, -2.5400, -2.5400, -2.5400, -2.5400, -2.5400, -2.5400,\n",
              "          -2.5400, -2.5400, -2.5400, -2.5400, -2.5400, -2.5400, -2.5400],\n",
              "         [-2.5400, -2.5400, -2.5400, -2.5400, -2.5400, -2.5400, -2.5400, -2.5400, -2.5400, -2.5400, -2.5400, -2.5400, -2.5400, -2.5400, -2.5400, -2.5400, -2.5400, -2.5400, -2.5400, -2.5400, -2.5400,\n",
              "          -2.5400, -2.5400, -2.5400, -2.5400, -2.5400, -2.5400, -2.5400],\n",
              "         [-2.5400, -2.5400, -2.5400, -2.5400, -2.5400, -2.5400, -2.5400, -2.5400, -2.5400, -2.0200,  1.7200,  0.8400, -0.1200, -0.1200,  1.3000, -0.1200, -0.1200, -0.1200, -0.7600, -2.5400, -2.5400,\n",
              "          -2.5400, -2.5400, -2.5400, -2.5400, -2.5400, -2.5400, -2.5400],\n",
              "         [-2.5400, -2.5400, -2.5400, -2.5400, -2.5400, -2.5400, -2.5400, -2.5400, -2.5400, -1.9200,  1.8600,  2.5200,  2.5200,  2.5200,  2.5400,  2.5200,  2.5200,  2.5200,  2.4600,  1.2600, -2.5400,\n",
              "          -2.5400, -2.5400, -2.5400, -2.5400, -2.5400, -2.5400, -2.5400],\n",
              "         [-2.5400, -2.5400, -2.5400, -2.5400, -2.5400, -2.5400, -2.5400, -2.5400, -2.5400, -2.5400, -1.7600,  0.6400,  1.7400,  2.5200,  0.6600,  0.6400,  1.3400,  2.5200,  2.5200,  1.4400, -2.5400,\n",
              "          -2.5400, -2.5400, -2.5400, -2.5400, -2.5400, -2.5400, -2.5400],\n",
              "         [-2.5400, -2.5400, -2.5400, -2.5400, -2.5400, -2.5400, -2.5400, -2.5400, -2.5400, -2.5400, -2.5400, -2.5400, -2.0800, -1.7600, -2.5400, -2.5400, -0.6600,  2.5200,  2.5200,  1.4400, -2.5400,\n",
              "          -2.5400, -2.5400, -2.5400, -2.5400, -2.5400, -2.5400, -2.5400],\n",
              "         [-2.5400, -2.5400, -2.5400, -2.5400, -2.5400, -2.5400, -2.5400, -2.5400, -2.5400, -2.5400, -2.5400, -2.5400, -2.5400, -2.5400, -2.5400, -2.5400,  0.0400,  2.5200,  2.5200,  0.7400, -2.5400,\n",
              "          -2.5400, -2.5400, -2.5400, -2.5400, -2.5400, -2.5400, -2.5400],\n",
              "         [-2.5400, -2.5400, -2.5400, -2.5400, -2.5400, -2.5400, -2.5400, -2.5400, -2.5400, -2.5400, -2.5400, -2.5400, -2.5400, -2.5400, -2.5400,  1.0200,  2.4000,  2.5200,  2.2400, -1.5000, -2.5400,\n",
              "          -2.5400, -2.5400, -2.5400, -2.5400, -2.5400, -2.5400, -2.5400],\n",
              "         [-2.5400, -2.5400, -2.5400, -2.5400, -2.5400, -2.5400, -2.5400, -2.5400, -2.5400, -2.5400, -2.5400, -2.5400, -2.5400, -2.1000,  0.9600,  2.4400,  2.5200,  2.2600, -0.8200, -2.5400, -2.5400,\n",
              "          -2.5400, -2.5400, -2.5400, -2.5400, -2.5400, -2.5400, -2.5400],\n",
              "         [-2.5400, -2.5400, -2.5400, -2.5400, -2.5400, -2.5400, -2.5400, -2.5400, -2.5400, -2.5400, -2.5400, -2.4800, -1.8600,  1.6600,  2.5400,  2.5200,  1.0400, -1.2600, -2.5400, -2.5400, -2.5400,\n",
              "          -2.5400, -2.5400, -2.5400, -2.5400, -2.5400, -2.5400, -2.5400],\n",
              "         [-2.5400, -2.5400, -2.5400, -2.5400, -2.5400, -2.5400, -2.5400, -2.5400, -2.5400, -2.5400, -2.5400, -0.4400,  2.5200,  2.5200,  2.5400, -0.2600, -2.3200, -2.5400, -2.5400, -2.5400, -2.5400,\n",
              "          -2.5400, -2.5400, -2.5400, -2.5400, -2.5400, -2.5400, -2.5400],\n",
              "         [-2.5400, -2.5400, -2.5400, -2.5400, -2.5400, -2.5400, -2.5400, -2.5400, -2.5400, -2.5400, -2.1000,  1.6600,  2.5200,  2.5200, -0.1200, -2.4200, -2.5400, -2.5400, -2.5400, -2.5400, -2.5400,\n",
              "          -2.5400, -2.5400, -2.5400, -2.5400, -2.5400, -2.5400, -2.5400],\n",
              "         [-2.5400, -2.5400, -2.5400, -2.5400, -2.5400, -2.5400, -2.5400, -2.5400, -2.5400, -2.5400, -1.7200,  2.5400,  2.5400, -0.1200, -2.5400, -2.5400, -2.5400, -2.5400, -2.5400, -2.5400, -2.5400,\n",
              "          -2.5400, -2.5400, -2.5400, -2.5400, -2.5400, -2.5400, -2.5400],\n",
              "         [-2.5400, -2.5400, -2.5400, -2.5400, -2.5400, -2.5400, -2.5400, -2.5400, -2.5400, -2.5400, -2.5000,  0.7600,  2.5200,  2.4000, -2.5400, -2.5400, -2.5400, -2.5400, -2.5400, -2.5400, -2.5400,\n",
              "          -2.5400, -2.5400, -2.5400, -2.5400, -2.5400, -2.5400, -2.5400],\n",
              "         [-2.5400, -2.5400, -2.5400, -2.5400, -2.5400, -2.5400, -2.5400, -2.5400, -2.5400, -2.5400, -2.5400, -0.3000,  2.5200,  2.5200,  0.7600, -2.4400, -2.5400, -2.5400, -2.5400, -2.5400, -2.5400,\n",
              "          -2.5400, -2.5400, -2.5400, -2.5400, -2.5400, -2.5400, -2.5400],\n",
              "         [-2.5400, -2.5400, -2.5400, -2.5400, -2.5400, -2.5400, -2.5400, -2.5400, -2.5400, -2.5400, -2.5400, -2.1600,  1.8400,  2.5200,  2.5400, -2.2800, -2.5400, -2.5400, -2.5400, -2.5400, -2.5400,\n",
              "          -2.5400, -2.5400, -2.5400, -2.5400, -2.5400, -2.5400, -2.5400],\n",
              "         [-2.5400, -2.5400, -2.5400, -2.5400, -2.5400, -2.5400, -2.5400, -2.5400, -2.5400, -2.5400, -2.5400, -2.5400, -1.7000,  2.5200,  2.5400, -0.1600, -2.5400, -2.5400, -2.5400, -2.5400, -2.5400,\n",
              "          -2.5400, -2.5400, -2.5400, -2.5400, -2.5400, -2.5400, -2.5400],\n",
              "         [-2.5400, -2.5400, -2.5400, -2.5400, -2.5400, -2.5400, -2.5400, -2.5400, -2.5400, -2.5400, -2.5400, -2.5400, -2.4600,  0.7600,  2.5400,  1.9600, -2.1600, -2.5400, -2.5400, -2.5400, -2.5400,\n",
              "          -2.5400, -2.5400, -2.5400, -2.5400, -2.5400, -2.5400, -2.5400],\n",
              "         [-2.5400, -2.5400, -2.5400, -2.5400, -2.5400, -2.5400, -2.5400, -2.5400, -1.9000, -1.7200, -1.7200, -1.7200, -1.7200,  0.5200,  2.5600,  2.5200, -0.1800, -2.5400, -2.5400, -2.5400, -2.5400,\n",
              "          -2.5400, -2.5400, -2.5400, -2.5400, -2.5400, -2.5400, -2.5400],\n",
              "         [-2.5400, -2.5400, -2.5400, -2.5400, -2.5400, -2.5400, -2.5400, -2.5400,  1.4800,  2.5200,  2.5200,  2.5200,  2.5200,  2.5200,  2.5600,  2.5200, -1.0400, -2.5400, -2.5400, -2.5400, -2.5400,\n",
              "          -2.5400, -2.5400, -2.5400, -2.5400, -2.5400, -2.5400, -2.5400],\n",
              "         [-2.5400, -2.5400, -2.5400, -2.5400, -2.5400, -2.5400, -2.5400, -2.5400,  1.3400,  2.5200,  2.5200,  2.5200,  2.5200,  2.5200,  2.5600,  1.1400, -2.3200, -2.5400, -2.5400, -2.5400, -2.5400,\n",
              "          -2.5400, -2.5400, -2.5400, -2.5400, -2.5400, -2.5400, -2.5400],\n",
              "         [-2.5400, -2.5400, -2.5400, -2.5400, -2.5400, -2.5400, -2.5400, -2.5400, -1.9000, -0.1400, -0.1400, -0.1400, -0.1400,  1.2600, -0.1200, -2.4200, -2.5400, -2.5400, -2.5400, -2.5400, -2.5400,\n",
              "          -2.5400, -2.5400, -2.5400, -2.5400, -2.5400, -2.5400, -2.5400],\n",
              "         [-2.5400, -2.5400, -2.5400, -2.5400, -2.5400, -2.5400, -2.5400, -2.5400, -2.5400, -2.5400, -2.5400, -2.5400, -2.5400, -2.5400, -2.5400, -2.5400, -2.5400, -2.5400, -2.5400, -2.5400, -2.5400,\n",
              "          -2.5400, -2.5400, -2.5400, -2.5400, -2.5400, -2.5400, -2.5400],\n",
              "         [-2.5400, -2.5400, -2.5400, -2.5400, -2.5400, -2.5400, -2.5400, -2.5400, -2.5400, -2.5400, -2.5400, -2.5400, -2.5400, -2.5400, -2.5400, -2.5400, -2.5400, -2.5400, -2.5400, -2.5400, -2.5400,\n",
              "          -2.5400, -2.5400, -2.5400, -2.5400, -2.5400, -2.5400, -2.5400],\n",
              "         [-2.5400, -2.5400, -2.5400, -2.5400, -2.5400, -2.5400, -2.5400, -2.5400, -2.5400, -2.5400, -2.5400, -2.5400, -2.5400, -2.5400, -2.5400, -2.5400, -2.5400, -2.5400, -2.5400, -2.5400, -2.5400,\n",
              "          -2.5400, -2.5400, -2.5400, -2.5400, -2.5400, -2.5400, -2.5400]]),\n",
              " -2.52)"
            ]
          },
          "metadata": {
            "tags": []
          },
          "execution_count": 41
        }
      ]
    },
    {
      "cell_type": "markdown",
      "metadata": {
        "id": "eli1TYAOuZ_-",
        "colab_type": "text"
      },
      "source": [
        "We want a WAY to apply the Norm Transform to ONLY THOSE ITEMS that we wish to NORMALIZE. We can add a Type notation to say what to apply it to. The issue is that by the time you get to the dataloader(s) everything is a Tensor so how do you decide which bits of the Tuple to apply the Transform to. \n",
        "\n",
        "The Answer: We create things that INHERIT from a Tensor. Fastai has TensorBase which is the base class for things that inherit from Tensor. So then we do the following."
      ]
    },
    {
      "cell_type": "code",
      "metadata": {
        "id": "BWjlU5nsva-q",
        "colab_type": "code",
        "colab": {}
      },
      "source": [
        "TensorBase??"
      ],
      "execution_count": null,
      "outputs": []
    },
    {
      "cell_type": "code",
      "metadata": {
        "id": "T5TInX9T3boq",
        "colab_type": "code",
        "colab": {}
      },
      "source": [
        "# This cell created to inherit from Tensor\n",
        "class MyTensorImg(TensorBase): pass "
      ],
      "execution_count": null,
      "outputs": []
    },
    {
      "cell_type": "code",
      "metadata": {
        "id": "jEQL3MIc3sp8",
        "colab_type": "code",
        "colab": {}
      },
      "source": [
        "# mti is exactly like a Tensor and does tensory thing - add, sub etc\n",
        "mti = MyTensorImg(timg)"
      ],
      "execution_count": null,
      "outputs": []
    },
    {
      "cell_type": "code",
      "metadata": {
        "id": "Z2U693BQwJtK",
        "colab_type": "code",
        "colab": {
          "base_uri": "https://localhost:8080/",
          "height": 34
        },
        "outputId": "e8f3320c-b3d6-4a1e-f189-8cdd10bc0674"
      },
      "source": [
        "# Check its type\n",
        "type(mti)"
      ],
      "execution_count": null,
      "outputs": [
        {
          "output_type": "execute_result",
          "data": {
            "text/plain": [
              "__main__.MyTensorImg"
            ]
          },
          "metadata": {
            "tags": []
          },
          "execution_count": 45
        }
      ]
    },
    {
      "cell_type": "markdown",
      "metadata": {
        "id": "8groQqWXwjty",
        "colab_type": "text"
      },
      "source": [
        "Now we can start constraining our function (a Transform) to work ONLY on things we want. So a Transform can be made to work only on a particular type. So if you are applying to a Tuple, it will only apply to this type. "
      ]
    },
    {
      "cell_type": "code",
      "metadata": {
        "id": "fFNpwpb0wKla",
        "colab_type": "code",
        "colab": {}
      },
      "source": [
        "@Transform\n",
        "def norm(x:MyTensorImg, m, s): return (x-m)/s"
      ],
      "execution_count": null,
      "outputs": []
    },
    {
      "cell_type": "code",
      "metadata": {
        "id": "8JFBVrhV0ohi",
        "colab_type": "code",
        "colab": {}
      },
      "source": [
        "imgtup = (mti, 1)"
      ],
      "execution_count": null,
      "outputs": []
    },
    {
      "cell_type": "code",
      "metadata": {
        "id": "Z9aRYg08xQj9",
        "colab_type": "code",
        "colab": {
          "base_uri": "https://localhost:8080/",
          "height": 989
        },
        "outputId": "92b03e10-3543-42aa-9807-db907c70d8fe"
      },
      "source": [
        "# Look at that label now - it has NOT been transformed.\n",
        "# So Transform is applied only to type MyTensorImg\n",
        "norm(imgtup, m=127., s=50.)"
      ],
      "execution_count": null,
      "outputs": [
        {
          "output_type": "execute_result",
          "data": {
            "text/plain": [
              "(MyTensorImg([[-2.5400, -2.5400, -2.5400, -2.5400, -2.5400, -2.5400, -2.5400, -2.5400, -2.5400, -2.5400, -2.5400, -2.5400, -2.5400, -2.5400, -2.5400, -2.5400, -2.5400, -2.5400, -2.5400, -2.5400, -2.5400,\n",
              "          -2.5400, -2.5400, -2.5400, -2.5400, -2.5400, -2.5400, -2.5400],\n",
              "         [-2.5400, -2.5400, -2.5400, -2.5400, -2.5400, -2.5400, -2.5400, -2.5400, -2.5400, -2.5400, -2.5400, -2.5400, -2.5400, -2.5400, -2.5400, -2.5400, -2.5400, -2.5400, -2.5400, -2.5400, -2.5400,\n",
              "          -2.5400, -2.5400, -2.5400, -2.5400, -2.5400, -2.5400, -2.5400],\n",
              "         [-2.5400, -2.5400, -2.5400, -2.5400, -2.5400, -2.5400, -2.5400, -2.5400, -2.5400, -2.5400, -2.5400, -2.5400, -2.5400, -2.5400, -2.5400, -2.5400, -2.5400, -2.5400, -2.5400, -2.5400, -2.5400,\n",
              "          -2.5400, -2.5400, -2.5400, -2.5400, -2.5400, -2.5400, -2.5400],\n",
              "         [-2.5400, -2.5400, -2.5400, -2.5400, -2.5400, -2.5400, -2.5400, -2.5400, -2.5400, -2.5400, -2.5400, -2.5400, -2.5400, -2.5400, -2.5400, -2.5400, -2.5400, -2.5400, -2.5400, -2.5400, -2.5400,\n",
              "          -2.5400, -2.5400, -2.5400, -2.5400, -2.5400, -2.5400, -2.5400],\n",
              "         [-2.5400, -2.5400, -2.5400, -2.5400, -2.5400, -2.5400, -2.5400, -2.5400, -2.5400, -2.5400, -2.5400, -2.5400, -2.5400, -2.5400, -2.5400, -2.5400, -2.5400, -2.5400, -2.5400, -2.5400, -2.5400,\n",
              "          -2.5400, -2.5400, -2.5400, -2.5400, -2.5400, -2.5400, -2.5400],\n",
              "         [-2.5400, -2.5400, -2.5400, -2.5400, -2.5400, -2.5400, -2.5400, -2.5400, -2.5400, -2.0200,  1.7200,  0.8400, -0.1200, -0.1200,  1.3000, -0.1200, -0.1200, -0.1200, -0.7600, -2.5400, -2.5400,\n",
              "          -2.5400, -2.5400, -2.5400, -2.5400, -2.5400, -2.5400, -2.5400],\n",
              "         [-2.5400, -2.5400, -2.5400, -2.5400, -2.5400, -2.5400, -2.5400, -2.5400, -2.5400, -1.9200,  1.8600,  2.5200,  2.5200,  2.5200,  2.5400,  2.5200,  2.5200,  2.5200,  2.4600,  1.2600, -2.5400,\n",
              "          -2.5400, -2.5400, -2.5400, -2.5400, -2.5400, -2.5400, -2.5400],\n",
              "         [-2.5400, -2.5400, -2.5400, -2.5400, -2.5400, -2.5400, -2.5400, -2.5400, -2.5400, -2.5400, -1.7600,  0.6400,  1.7400,  2.5200,  0.6600,  0.6400,  1.3400,  2.5200,  2.5200,  1.4400, -2.5400,\n",
              "          -2.5400, -2.5400, -2.5400, -2.5400, -2.5400, -2.5400, -2.5400],\n",
              "         [-2.5400, -2.5400, -2.5400, -2.5400, -2.5400, -2.5400, -2.5400, -2.5400, -2.5400, -2.5400, -2.5400, -2.5400, -2.0800, -1.7600, -2.5400, -2.5400, -0.6600,  2.5200,  2.5200,  1.4400, -2.5400,\n",
              "          -2.5400, -2.5400, -2.5400, -2.5400, -2.5400, -2.5400, -2.5400],\n",
              "         [-2.5400, -2.5400, -2.5400, -2.5400, -2.5400, -2.5400, -2.5400, -2.5400, -2.5400, -2.5400, -2.5400, -2.5400, -2.5400, -2.5400, -2.5400, -2.5400,  0.0400,  2.5200,  2.5200,  0.7400, -2.5400,\n",
              "          -2.5400, -2.5400, -2.5400, -2.5400, -2.5400, -2.5400, -2.5400],\n",
              "         [-2.5400, -2.5400, -2.5400, -2.5400, -2.5400, -2.5400, -2.5400, -2.5400, -2.5400, -2.5400, -2.5400, -2.5400, -2.5400, -2.5400, -2.5400,  1.0200,  2.4000,  2.5200,  2.2400, -1.5000, -2.5400,\n",
              "          -2.5400, -2.5400, -2.5400, -2.5400, -2.5400, -2.5400, -2.5400],\n",
              "         [-2.5400, -2.5400, -2.5400, -2.5400, -2.5400, -2.5400, -2.5400, -2.5400, -2.5400, -2.5400, -2.5400, -2.5400, -2.5400, -2.1000,  0.9600,  2.4400,  2.5200,  2.2600, -0.8200, -2.5400, -2.5400,\n",
              "          -2.5400, -2.5400, -2.5400, -2.5400, -2.5400, -2.5400, -2.5400],\n",
              "         [-2.5400, -2.5400, -2.5400, -2.5400, -2.5400, -2.5400, -2.5400, -2.5400, -2.5400, -2.5400, -2.5400, -2.4800, -1.8600,  1.6600,  2.5400,  2.5200,  1.0400, -1.2600, -2.5400, -2.5400, -2.5400,\n",
              "          -2.5400, -2.5400, -2.5400, -2.5400, -2.5400, -2.5400, -2.5400],\n",
              "         [-2.5400, -2.5400, -2.5400, -2.5400, -2.5400, -2.5400, -2.5400, -2.5400, -2.5400, -2.5400, -2.5400, -0.4400,  2.5200,  2.5200,  2.5400, -0.2600, -2.3200, -2.5400, -2.5400, -2.5400, -2.5400,\n",
              "          -2.5400, -2.5400, -2.5400, -2.5400, -2.5400, -2.5400, -2.5400],\n",
              "         [-2.5400, -2.5400, -2.5400, -2.5400, -2.5400, -2.5400, -2.5400, -2.5400, -2.5400, -2.5400, -2.1000,  1.6600,  2.5200,  2.5200, -0.1200, -2.4200, -2.5400, -2.5400, -2.5400, -2.5400, -2.5400,\n",
              "          -2.5400, -2.5400, -2.5400, -2.5400, -2.5400, -2.5400, -2.5400],\n",
              "         [-2.5400, -2.5400, -2.5400, -2.5400, -2.5400, -2.5400, -2.5400, -2.5400, -2.5400, -2.5400, -1.7200,  2.5400,  2.5400, -0.1200, -2.5400, -2.5400, -2.5400, -2.5400, -2.5400, -2.5400, -2.5400,\n",
              "          -2.5400, -2.5400, -2.5400, -2.5400, -2.5400, -2.5400, -2.5400],\n",
              "         [-2.5400, -2.5400, -2.5400, -2.5400, -2.5400, -2.5400, -2.5400, -2.5400, -2.5400, -2.5400, -2.5000,  0.7600,  2.5200,  2.4000, -2.5400, -2.5400, -2.5400, -2.5400, -2.5400, -2.5400, -2.5400,\n",
              "          -2.5400, -2.5400, -2.5400, -2.5400, -2.5400, -2.5400, -2.5400],\n",
              "         [-2.5400, -2.5400, -2.5400, -2.5400, -2.5400, -2.5400, -2.5400, -2.5400, -2.5400, -2.5400, -2.5400, -0.3000,  2.5200,  2.5200,  0.7600, -2.4400, -2.5400, -2.5400, -2.5400, -2.5400, -2.5400,\n",
              "          -2.5400, -2.5400, -2.5400, -2.5400, -2.5400, -2.5400, -2.5400],\n",
              "         [-2.5400, -2.5400, -2.5400, -2.5400, -2.5400, -2.5400, -2.5400, -2.5400, -2.5400, -2.5400, -2.5400, -2.1600,  1.8400,  2.5200,  2.5400, -2.2800, -2.5400, -2.5400, -2.5400, -2.5400, -2.5400,\n",
              "          -2.5400, -2.5400, -2.5400, -2.5400, -2.5400, -2.5400, -2.5400],\n",
              "         [-2.5400, -2.5400, -2.5400, -2.5400, -2.5400, -2.5400, -2.5400, -2.5400, -2.5400, -2.5400, -2.5400, -2.5400, -1.7000,  2.5200,  2.5400, -0.1600, -2.5400, -2.5400, -2.5400, -2.5400, -2.5400,\n",
              "          -2.5400, -2.5400, -2.5400, -2.5400, -2.5400, -2.5400, -2.5400],\n",
              "         [-2.5400, -2.5400, -2.5400, -2.5400, -2.5400, -2.5400, -2.5400, -2.5400, -2.5400, -2.5400, -2.5400, -2.5400, -2.4600,  0.7600,  2.5400,  1.9600, -2.1600, -2.5400, -2.5400, -2.5400, -2.5400,\n",
              "          -2.5400, -2.5400, -2.5400, -2.5400, -2.5400, -2.5400, -2.5400],\n",
              "         [-2.5400, -2.5400, -2.5400, -2.5400, -2.5400, -2.5400, -2.5400, -2.5400, -1.9000, -1.7200, -1.7200, -1.7200, -1.7200,  0.5200,  2.5600,  2.5200, -0.1800, -2.5400, -2.5400, -2.5400, -2.5400,\n",
              "          -2.5400, -2.5400, -2.5400, -2.5400, -2.5400, -2.5400, -2.5400],\n",
              "         [-2.5400, -2.5400, -2.5400, -2.5400, -2.5400, -2.5400, -2.5400, -2.5400,  1.4800,  2.5200,  2.5200,  2.5200,  2.5200,  2.5200,  2.5600,  2.5200, -1.0400, -2.5400, -2.5400, -2.5400, -2.5400,\n",
              "          -2.5400, -2.5400, -2.5400, -2.5400, -2.5400, -2.5400, -2.5400],\n",
              "         [-2.5400, -2.5400, -2.5400, -2.5400, -2.5400, -2.5400, -2.5400, -2.5400,  1.3400,  2.5200,  2.5200,  2.5200,  2.5200,  2.5200,  2.5600,  1.1400, -2.3200, -2.5400, -2.5400, -2.5400, -2.5400,\n",
              "          -2.5400, -2.5400, -2.5400, -2.5400, -2.5400, -2.5400, -2.5400],\n",
              "         [-2.5400, -2.5400, -2.5400, -2.5400, -2.5400, -2.5400, -2.5400, -2.5400, -1.9000, -0.1400, -0.1400, -0.1400, -0.1400,  1.2600, -0.1200, -2.4200, -2.5400, -2.5400, -2.5400, -2.5400, -2.5400,\n",
              "          -2.5400, -2.5400, -2.5400, -2.5400, -2.5400, -2.5400, -2.5400],\n",
              "         [-2.5400, -2.5400, -2.5400, -2.5400, -2.5400, -2.5400, -2.5400, -2.5400, -2.5400, -2.5400, -2.5400, -2.5400, -2.5400, -2.5400, -2.5400, -2.5400, -2.5400, -2.5400, -2.5400, -2.5400, -2.5400,\n",
              "          -2.5400, -2.5400, -2.5400, -2.5400, -2.5400, -2.5400, -2.5400],\n",
              "         [-2.5400, -2.5400, -2.5400, -2.5400, -2.5400, -2.5400, -2.5400, -2.5400, -2.5400, -2.5400, -2.5400, -2.5400, -2.5400, -2.5400, -2.5400, -2.5400, -2.5400, -2.5400, -2.5400, -2.5400, -2.5400,\n",
              "          -2.5400, -2.5400, -2.5400, -2.5400, -2.5400, -2.5400, -2.5400],\n",
              "         [-2.5400, -2.5400, -2.5400, -2.5400, -2.5400, -2.5400, -2.5400, -2.5400, -2.5400, -2.5400, -2.5400, -2.5400, -2.5400, -2.5400, -2.5400, -2.5400, -2.5400, -2.5400, -2.5400, -2.5400, -2.5400,\n",
              "          -2.5400, -2.5400, -2.5400, -2.5400, -2.5400, -2.5400, -2.5400]]), 1)"
            ]
          },
          "metadata": {
            "tags": []
          },
          "execution_count": 48
        }
      ]
    },
    {
      "cell_type": "markdown",
      "metadata": {
        "id": "xu-Q088VySne",
        "colab_type": "text"
      },
      "source": [
        "This behavior is NO MORE STRANGE than typical python dispatch. Different languages, libraries have different dispatch methods. Julia dispatches similar to this way of dispatching based on types described here but Python BY DEFAULT does it differently and we are just picking A WAY to do this. So this is just another way of doing FUNCTION DISPATCH in Python."
      ]
    },
    {
      "cell_type": "markdown",
      "metadata": {
        "id": "Jj1RaoTEyxB_",
        "colab_type": "text"
      },
      "source": [
        "Do Transforms only apply to Tensors? Note: The second part of imgtup is an int 1 and we saw the Norm transform apply to 1 so we got -2.52."
      ]
    },
    {
      "cell_type": "code",
      "metadata": {
        "id": "Wf1zAiUCxQ1h",
        "colab_type": "code",
        "colab": {}
      },
      "source": [
        "class MyInt(int): pass"
      ],
      "execution_count": null,
      "outputs": []
    },
    {
      "cell_type": "code",
      "metadata": {
        "id": "dYIbD8_86gNl",
        "colab_type": "code",
        "colab": {}
      },
      "source": [
        "mi = MyInt(1)"
      ],
      "execution_count": null,
      "outputs": []
    },
    {
      "cell_type": "code",
      "metadata": {
        "id": "LJD1Xhit1BNt",
        "colab_type": "code",
        "colab": {}
      },
      "source": [
        "@Transform\n",
        "def norm(x:MyInt, m, s): return (x-m)/s"
      ],
      "execution_count": null,
      "outputs": []
    },
    {
      "cell_type": "code",
      "metadata": {
        "id": "fktTtNbK1B2O",
        "colab_type": "code",
        "colab": {}
      },
      "source": [
        "imgtup = (mti, mi)"
      ],
      "execution_count": null,
      "outputs": []
    },
    {
      "cell_type": "code",
      "metadata": {
        "id": "IHjQ-bLV1Ctc",
        "colab_type": "code",
        "colab": {
          "base_uri": "https://localhost:8080/",
          "height": 510
        },
        "outputId": "928b52ac-166f-4408-81cb-04b833affc46"
      },
      "source": [
        "# Now the img tensor does NOT get transformed ONLY the label does\n",
        "norm(imgtup, m=127., s=50.)"
      ],
      "execution_count": null,
      "outputs": [
        {
          "output_type": "execute_result",
          "data": {
            "text/plain": [
              "(MyTensorImg([[  0.,   0.,   0.,   0.,   0.,   0.,   0.,   0.,   0.,   0.,   0.,   0.,   0.,   0.,   0.,   0.,   0.,   0.,   0.,   0.,   0.,   0.,   0.,   0.,   0.,   0.,   0.,   0.],\n",
              "         [  0.,   0.,   0.,   0.,   0.,   0.,   0.,   0.,   0.,   0.,   0.,   0.,   0.,   0.,   0.,   0.,   0.,   0.,   0.,   0.,   0.,   0.,   0.,   0.,   0.,   0.,   0.,   0.],\n",
              "         [  0.,   0.,   0.,   0.,   0.,   0.,   0.,   0.,   0.,   0.,   0.,   0.,   0.,   0.,   0.,   0.,   0.,   0.,   0.,   0.,   0.,   0.,   0.,   0.,   0.,   0.,   0.,   0.],\n",
              "         [  0.,   0.,   0.,   0.,   0.,   0.,   0.,   0.,   0.,   0.,   0.,   0.,   0.,   0.,   0.,   0.,   0.,   0.,   0.,   0.,   0.,   0.,   0.,   0.,   0.,   0.,   0.,   0.],\n",
              "         [  0.,   0.,   0.,   0.,   0.,   0.,   0.,   0.,   0.,   0.,   0.,   0.,   0.,   0.,   0.,   0.,   0.,   0.,   0.,   0.,   0.,   0.,   0.,   0.,   0.,   0.,   0.,   0.],\n",
              "         [  0.,   0.,   0.,   0.,   0.,   0.,   0.,   0.,   0.,  26., 213., 169., 121., 121., 192., 121., 121., 121.,  89.,   0.,   0.,   0.,   0.,   0.,   0.,   0.,   0.,   0.],\n",
              "         [  0.,   0.,   0.,   0.,   0.,   0.,   0.,   0.,   0.,  31., 220., 253., 253., 253., 254., 253., 253., 253., 250., 190.,   0.,   0.,   0.,   0.,   0.,   0.,   0.,   0.],\n",
              "         [  0.,   0.,   0.,   0.,   0.,   0.,   0.,   0.,   0.,   0.,  39., 159., 214., 253., 160., 159., 194., 253., 253., 199.,   0.,   0.,   0.,   0.,   0.,   0.,   0.,   0.],\n",
              "         [  0.,   0.,   0.,   0.,   0.,   0.,   0.,   0.,   0.,   0.,   0.,   0.,  23.,  39.,   0.,   0.,  94., 253., 253., 199.,   0.,   0.,   0.,   0.,   0.,   0.,   0.,   0.],\n",
              "         [  0.,   0.,   0.,   0.,   0.,   0.,   0.,   0.,   0.,   0.,   0.,   0.,   0.,   0.,   0.,   0., 129., 253., 253., 164.,   0.,   0.,   0.,   0.,   0.,   0.,   0.,   0.],\n",
              "         [  0.,   0.,   0.,   0.,   0.,   0.,   0.,   0.,   0.,   0.,   0.,   0.,   0.,   0.,   0., 178., 247., 253., 239.,  52.,   0.,   0.,   0.,   0.,   0.,   0.,   0.,   0.],\n",
              "         [  0.,   0.,   0.,   0.,   0.,   0.,   0.,   0.,   0.,   0.,   0.,   0.,   0.,  22., 175., 249., 253., 240.,  86.,   0.,   0.,   0.,   0.,   0.,   0.,   0.,   0.,   0.],\n",
              "         [  0.,   0.,   0.,   0.,   0.,   0.,   0.,   0.,   0.,   0.,   0.,   3.,  34., 210., 254., 253., 179.,  64.,   0.,   0.,   0.,   0.,   0.,   0.,   0.,   0.,   0.,   0.],\n",
              "         [  0.,   0.,   0.,   0.,   0.,   0.,   0.,   0.,   0.,   0.,   0., 105., 253., 253., 254., 114.,  11.,   0.,   0.,   0.,   0.,   0.,   0.,   0.,   0.,   0.,   0.,   0.],\n",
              "         [  0.,   0.,   0.,   0.,   0.,   0.,   0.,   0.,   0.,   0.,  22., 210., 253., 253., 121.,   6.,   0.,   0.,   0.,   0.,   0.,   0.,   0.,   0.,   0.,   0.,   0.,   0.],\n",
              "         [  0.,   0.,   0.,   0.,   0.,   0.,   0.,   0.,   0.,   0.,  41., 254., 254., 121.,   0.,   0.,   0.,   0.,   0.,   0.,   0.,   0.,   0.,   0.,   0.,   0.,   0.,   0.],\n",
              "         [  0.,   0.,   0.,   0.,   0.,   0.,   0.,   0.,   0.,   0.,   2., 165., 253., 247.,   0.,   0.,   0.,   0.,   0.,   0.,   0.,   0.,   0.,   0.,   0.,   0.,   0.,   0.],\n",
              "         [  0.,   0.,   0.,   0.,   0.,   0.,   0.,   0.,   0.,   0.,   0., 112., 253., 253., 165.,   5.,   0.,   0.,   0.,   0.,   0.,   0.,   0.,   0.,   0.,   0.,   0.,   0.],\n",
              "         [  0.,   0.,   0.,   0.,   0.,   0.,   0.,   0.,   0.,   0.,   0.,  19., 219., 253., 254.,  13.,   0.,   0.,   0.,   0.,   0.,   0.,   0.,   0.,   0.,   0.,   0.,   0.],\n",
              "         [  0.,   0.,   0.,   0.,   0.,   0.,   0.,   0.,   0.,   0.,   0.,   0.,  42., 253., 254., 119.,   0.,   0.,   0.,   0.,   0.,   0.,   0.,   0.,   0.,   0.,   0.,   0.],\n",
              "         [  0.,   0.,   0.,   0.,   0.,   0.,   0.,   0.,   0.,   0.,   0.,   0.,   4., 165., 254., 225.,  19.,   0.,   0.,   0.,   0.,   0.,   0.,   0.,   0.,   0.,   0.,   0.],\n",
              "         [  0.,   0.,   0.,   0.,   0.,   0.,   0.,   0.,  32.,  41.,  41.,  41.,  41., 153., 255., 253., 118.,   0.,   0.,   0.,   0.,   0.,   0.,   0.,   0.,   0.,   0.,   0.],\n",
              "         [  0.,   0.,   0.,   0.,   0.,   0.,   0.,   0., 201., 253., 253., 253., 253., 253., 255., 253.,  75.,   0.,   0.,   0.,   0.,   0.,   0.,   0.,   0.,   0.,   0.,   0.],\n",
              "         [  0.,   0.,   0.,   0.,   0.,   0.,   0.,   0., 194., 253., 253., 253., 253., 253., 255., 184.,  11.,   0.,   0.,   0.,   0.,   0.,   0.,   0.,   0.,   0.,   0.,   0.],\n",
              "         [  0.,   0.,   0.,   0.,   0.,   0.,   0.,   0.,  32., 120., 120., 120., 120., 190., 121.,   6.,   0.,   0.,   0.,   0.,   0.,   0.,   0.,   0.,   0.,   0.,   0.,   0.],\n",
              "         [  0.,   0.,   0.,   0.,   0.,   0.,   0.,   0.,   0.,   0.,   0.,   0.,   0.,   0.,   0.,   0.,   0.,   0.,   0.,   0.,   0.,   0.,   0.,   0.,   0.,   0.,   0.,   0.],\n",
              "         [  0.,   0.,   0.,   0.,   0.,   0.,   0.,   0.,   0.,   0.,   0.,   0.,   0.,   0.,   0.,   0.,   0.,   0.,   0.,   0.,   0.,   0.,   0.,   0.,   0.,   0.,   0.,   0.],\n",
              "         [  0.,   0.,   0.,   0.,   0.,   0.,   0.,   0.,   0.,   0.,   0.,   0.,   0.,   0.,   0.,   0.,   0.,   0.,   0.,   0.,   0.,   0.,   0.,   0.,   0.,   0.,   0.,   0.]]),\n",
              " -2.52)"
            ]
          },
          "metadata": {
            "tags": []
          },
          "execution_count": 53
        }
      ]
    },
    {
      "cell_type": "code",
      "metadata": {
        "id": "fyAeWlAE2mOC",
        "colab_type": "code",
        "colab": {}
      },
      "source": [
        "@Transform\n",
        "def norm(x:Tensor, m, s): return (x-m)/s"
      ],
      "execution_count": null,
      "outputs": []
    },
    {
      "cell_type": "markdown",
      "metadata": {
        "id": "e2IVKgEZ2DYe",
        "colab_type": "text"
      },
      "source": [
        "One issue is that we do NOT want to pass the mean and sd every time, so "
      ]
    },
    {
      "cell_type": "code",
      "metadata": {
        "id": "4YUdaLJy1Dp5",
        "colab_type": "code",
        "colab": {}
      },
      "source": [
        "m,s = timg.mean(), timg.std()"
      ],
      "execution_count": null,
      "outputs": []
    },
    {
      "cell_type": "code",
      "metadata": {
        "id": "EO0hLWcy1EH_",
        "colab_type": "code",
        "colab": {}
      },
      "source": [
        "f = partial(norm, m=m, s=s)"
      ],
      "execution_count": null,
      "outputs": []
    },
    {
      "cell_type": "code",
      "metadata": {
        "id": "L6DpGUJL1Evt",
        "colab_type": "code",
        "colab": {
          "base_uri": "https://localhost:8080/",
          "height": 119
        },
        "outputId": "fca5848b-cb34-45ae-bb0e-7bad8b9e3a1d"
      },
      "source": [
        "nimg = f(timg)\n",
        "nimg[12:15]"
      ],
      "execution_count": null,
      "outputs": [
        {
          "output_type": "execute_result",
          "data": {
            "text/plain": [
              "tensor([[-0.3888, -0.3888, -0.3888, -0.3888, -0.3888, -0.3888, -0.3888, -0.3888, -0.3888, -0.3888, -0.3888, -0.3475,  0.0796,  2.5045,  3.1107,  3.0969,  2.0774,  0.4929, -0.3888, -0.3888, -0.3888,\n",
              "         -0.3888, -0.3888, -0.3888, -0.3888, -0.3888, -0.3888, -0.3888],\n",
              "        [-0.3888, -0.3888, -0.3888, -0.3888, -0.3888, -0.3888, -0.3888, -0.3888, -0.3888, -0.3888, -0.3888,  1.0578,  3.0969,  3.0969,  3.1107,  1.1818, -0.2373, -0.3888, -0.3888, -0.3888, -0.3888,\n",
              "         -0.3888, -0.3888, -0.3888, -0.3888, -0.3888, -0.3888, -0.3888],\n",
              "        [-0.3888, -0.3888, -0.3888, -0.3888, -0.3888, -0.3888, -0.3888, -0.3888, -0.3888, -0.3888, -0.0857,  2.5045,  3.0969,  3.0969,  1.2783, -0.3062, -0.3888, -0.3888, -0.3888, -0.3888, -0.3888,\n",
              "         -0.3888, -0.3888, -0.3888, -0.3888, -0.3888, -0.3888, -0.3888]])"
            ]
          },
          "metadata": {
            "tags": []
          },
          "execution_count": 57
        }
      ]
    },
    {
      "cell_type": "code",
      "metadata": {
        "id": "5c9FtJH53WyE",
        "colab_type": "code",
        "colab": {}
      },
      "source": [
        "imgtup = (timg, mi)"
      ],
      "execution_count": null,
      "outputs": []
    },
    {
      "cell_type": "code",
      "metadata": {
        "id": "oIzFYraS1EhA",
        "colab_type": "code",
        "colab": {
          "base_uri": "https://localhost:8080/",
          "height": 969
        },
        "outputId": "1f5604d9-0599-4ce0-bc61-7024541fba61"
      },
      "source": [
        "# This is how we would like Normalization to work. ie Normalize something with the same mean\n",
        "# and std deviation. \n",
        "f(imgtup)"
      ],
      "execution_count": null,
      "outputs": [
        {
          "output_type": "execute_result",
          "data": {
            "text/plain": [
              "(tensor([[-0.3888, -0.3888, -0.3888, -0.3888, -0.3888, -0.3888, -0.3888, -0.3888, -0.3888, -0.3888, -0.3888, -0.3888, -0.3888, -0.3888, -0.3888, -0.3888, -0.3888, -0.3888, -0.3888, -0.3888, -0.3888,\n",
              "          -0.3888, -0.3888, -0.3888, -0.3888, -0.3888, -0.3888, -0.3888],\n",
              "         [-0.3888, -0.3888, -0.3888, -0.3888, -0.3888, -0.3888, -0.3888, -0.3888, -0.3888, -0.3888, -0.3888, -0.3888, -0.3888, -0.3888, -0.3888, -0.3888, -0.3888, -0.3888, -0.3888, -0.3888, -0.3888,\n",
              "          -0.3888, -0.3888, -0.3888, -0.3888, -0.3888, -0.3888, -0.3888],\n",
              "         [-0.3888, -0.3888, -0.3888, -0.3888, -0.3888, -0.3888, -0.3888, -0.3888, -0.3888, -0.3888, -0.3888, -0.3888, -0.3888, -0.3888, -0.3888, -0.3888, -0.3888, -0.3888, -0.3888, -0.3888, -0.3888,\n",
              "          -0.3888, -0.3888, -0.3888, -0.3888, -0.3888, -0.3888, -0.3888],\n",
              "         [-0.3888, -0.3888, -0.3888, -0.3888, -0.3888, -0.3888, -0.3888, -0.3888, -0.3888, -0.3888, -0.3888, -0.3888, -0.3888, -0.3888, -0.3888, -0.3888, -0.3888, -0.3888, -0.3888, -0.3888, -0.3888,\n",
              "          -0.3888, -0.3888, -0.3888, -0.3888, -0.3888, -0.3888, -0.3888],\n",
              "         [-0.3888, -0.3888, -0.3888, -0.3888, -0.3888, -0.3888, -0.3888, -0.3888, -0.3888, -0.3888, -0.3888, -0.3888, -0.3888, -0.3888, -0.3888, -0.3888, -0.3888, -0.3888, -0.3888, -0.3888, -0.3888,\n",
              "          -0.3888, -0.3888, -0.3888, -0.3888, -0.3888, -0.3888, -0.3888],\n",
              "         [-0.3888, -0.3888, -0.3888, -0.3888, -0.3888, -0.3888, -0.3888, -0.3888, -0.3888, -0.0306,  2.5458,  1.9396,  1.2783,  1.2783,  2.2565,  1.2783,  1.2783,  1.2783,  0.8374, -0.3888, -0.3888,\n",
              "          -0.3888, -0.3888, -0.3888, -0.3888, -0.3888, -0.3888, -0.3888],\n",
              "         [-0.3888, -0.3888, -0.3888, -0.3888, -0.3888, -0.3888, -0.3888, -0.3888, -0.3888,  0.0383,  2.6422,  3.0969,  3.0969,  3.0969,  3.1107,  3.0969,  3.0969,  3.0969,  3.0556,  2.2289, -0.3888,\n",
              "          -0.3888, -0.3888, -0.3888, -0.3888, -0.3888, -0.3888, -0.3888],\n",
              "         [-0.3888, -0.3888, -0.3888, -0.3888, -0.3888, -0.3888, -0.3888, -0.3888, -0.3888, -0.3888,  0.1485,  1.8018,  2.5596,  3.0969,  1.8156,  1.8018,  2.2840,  3.0969,  3.0969,  2.3529, -0.3888,\n",
              "          -0.3888, -0.3888, -0.3888, -0.3888, -0.3888, -0.3888, -0.3888],\n",
              "         [-0.3888, -0.3888, -0.3888, -0.3888, -0.3888, -0.3888, -0.3888, -0.3888, -0.3888, -0.3888, -0.3888, -0.3888, -0.0719,  0.1485, -0.3888, -0.3888,  0.9063,  3.0969,  3.0969,  2.3529, -0.3888,\n",
              "          -0.3888, -0.3888, -0.3888, -0.3888, -0.3888, -0.3888, -0.3888],\n",
              "         [-0.3888, -0.3888, -0.3888, -0.3888, -0.3888, -0.3888, -0.3888, -0.3888, -0.3888, -0.3888, -0.3888, -0.3888, -0.3888, -0.3888, -0.3888, -0.3888,  1.3885,  3.0969,  3.0969,  1.8707, -0.3888,\n",
              "          -0.3888, -0.3888, -0.3888, -0.3888, -0.3888, -0.3888, -0.3888],\n",
              "         [-0.3888, -0.3888, -0.3888, -0.3888, -0.3888, -0.3888, -0.3888, -0.3888, -0.3888, -0.3888, -0.3888, -0.3888, -0.3888, -0.3888, -0.3888,  2.0636,  3.0142,  3.0969,  2.9040,  0.3276, -0.3888,\n",
              "          -0.3888, -0.3888, -0.3888, -0.3888, -0.3888, -0.3888, -0.3888],\n",
              "         [-0.3888, -0.3888, -0.3888, -0.3888, -0.3888, -0.3888, -0.3888, -0.3888, -0.3888, -0.3888, -0.3888, -0.3888, -0.3888, -0.0857,  2.0222,  3.0418,  3.0969,  2.9178,  0.7960, -0.3888, -0.3888,\n",
              "          -0.3888, -0.3888, -0.3888, -0.3888, -0.3888, -0.3888, -0.3888],\n",
              "         [-0.3888, -0.3888, -0.3888, -0.3888, -0.3888, -0.3888, -0.3888, -0.3888, -0.3888, -0.3888, -0.3888, -0.3475,  0.0796,  2.5045,  3.1107,  3.0969,  2.0774,  0.4929, -0.3888, -0.3888, -0.3888,\n",
              "          -0.3888, -0.3888, -0.3888, -0.3888, -0.3888, -0.3888, -0.3888],\n",
              "         [-0.3888, -0.3888, -0.3888, -0.3888, -0.3888, -0.3888, -0.3888, -0.3888, -0.3888, -0.3888, -0.3888,  1.0578,  3.0969,  3.0969,  3.1107,  1.1818, -0.2373, -0.3888, -0.3888, -0.3888, -0.3888,\n",
              "          -0.3888, -0.3888, -0.3888, -0.3888, -0.3888, -0.3888, -0.3888],\n",
              "         [-0.3888, -0.3888, -0.3888, -0.3888, -0.3888, -0.3888, -0.3888, -0.3888, -0.3888, -0.3888, -0.0857,  2.5045,  3.0969,  3.0969,  1.2783, -0.3062, -0.3888, -0.3888, -0.3888, -0.3888, -0.3888,\n",
              "          -0.3888, -0.3888, -0.3888, -0.3888, -0.3888, -0.3888, -0.3888],\n",
              "         [-0.3888, -0.3888, -0.3888, -0.3888, -0.3888, -0.3888, -0.3888, -0.3888, -0.3888, -0.3888,  0.1761,  3.1107,  3.1107,  1.2783, -0.3888, -0.3888, -0.3888, -0.3888, -0.3888, -0.3888, -0.3888,\n",
              "          -0.3888, -0.3888, -0.3888, -0.3888, -0.3888, -0.3888, -0.3888],\n",
              "         [-0.3888, -0.3888, -0.3888, -0.3888, -0.3888, -0.3888, -0.3888, -0.3888, -0.3888, -0.3888, -0.3613,  1.8845,  3.0969,  3.0142, -0.3888, -0.3888, -0.3888, -0.3888, -0.3888, -0.3888, -0.3888,\n",
              "          -0.3888, -0.3888, -0.3888, -0.3888, -0.3888, -0.3888, -0.3888],\n",
              "         [-0.3888, -0.3888, -0.3888, -0.3888, -0.3888, -0.3888, -0.3888, -0.3888, -0.3888, -0.3888, -0.3888,  1.1543,  3.0969,  3.0969,  1.8845, -0.3199, -0.3888, -0.3888, -0.3888, -0.3888, -0.3888,\n",
              "          -0.3888, -0.3888, -0.3888, -0.3888, -0.3888, -0.3888, -0.3888],\n",
              "         [-0.3888, -0.3888, -0.3888, -0.3888, -0.3888, -0.3888, -0.3888, -0.3888, -0.3888, -0.3888, -0.3888, -0.1271,  2.6285,  3.0969,  3.1107, -0.2097, -0.3888, -0.3888, -0.3888, -0.3888, -0.3888,\n",
              "          -0.3888, -0.3888, -0.3888, -0.3888, -0.3888, -0.3888, -0.3888],\n",
              "         [-0.3888, -0.3888, -0.3888, -0.3888, -0.3888, -0.3888, -0.3888, -0.3888, -0.3888, -0.3888, -0.3888, -0.3888,  0.1898,  3.0969,  3.1107,  1.2507, -0.3888, -0.3888, -0.3888, -0.3888, -0.3888,\n",
              "          -0.3888, -0.3888, -0.3888, -0.3888, -0.3888, -0.3888, -0.3888],\n",
              "         [-0.3888, -0.3888, -0.3888, -0.3888, -0.3888, -0.3888, -0.3888, -0.3888, -0.3888, -0.3888, -0.3888, -0.3888, -0.3337,  1.8845,  3.1107,  2.7111, -0.1271, -0.3888, -0.3888, -0.3888, -0.3888,\n",
              "          -0.3888, -0.3888, -0.3888, -0.3888, -0.3888, -0.3888, -0.3888],\n",
              "         [-0.3888, -0.3888, -0.3888, -0.3888, -0.3888, -0.3888, -0.3888, -0.3888,  0.0521,  0.1761,  0.1761,  0.1761,  0.1761,  1.7191,  3.1244,  3.0969,  1.2369, -0.3888, -0.3888, -0.3888, -0.3888,\n",
              "          -0.3888, -0.3888, -0.3888, -0.3888, -0.3888, -0.3888, -0.3888],\n",
              "         [-0.3888, -0.3888, -0.3888, -0.3888, -0.3888, -0.3888, -0.3888, -0.3888,  2.3805,  3.0969,  3.0969,  3.0969,  3.0969,  3.0969,  3.1244,  3.0969,  0.6445, -0.3888, -0.3888, -0.3888, -0.3888,\n",
              "          -0.3888, -0.3888, -0.3888, -0.3888, -0.3888, -0.3888, -0.3888],\n",
              "         [-0.3888, -0.3888, -0.3888, -0.3888, -0.3888, -0.3888, -0.3888, -0.3888,  2.2840,  3.0969,  3.0969,  3.0969,  3.0969,  3.0969,  3.1244,  2.1462, -0.2373, -0.3888, -0.3888, -0.3888, -0.3888,\n",
              "          -0.3888, -0.3888, -0.3888, -0.3888, -0.3888, -0.3888, -0.3888],\n",
              "         [-0.3888, -0.3888, -0.3888, -0.3888, -0.3888, -0.3888, -0.3888, -0.3888,  0.0521,  1.2645,  1.2645,  1.2645,  1.2645,  2.2289,  1.2783, -0.3062, -0.3888, -0.3888, -0.3888, -0.3888, -0.3888,\n",
              "          -0.3888, -0.3888, -0.3888, -0.3888, -0.3888, -0.3888, -0.3888],\n",
              "         [-0.3888, -0.3888, -0.3888, -0.3888, -0.3888, -0.3888, -0.3888, -0.3888, -0.3888, -0.3888, -0.3888, -0.3888, -0.3888, -0.3888, -0.3888, -0.3888, -0.3888, -0.3888, -0.3888, -0.3888, -0.3888,\n",
              "          -0.3888, -0.3888, -0.3888, -0.3888, -0.3888, -0.3888, -0.3888],\n",
              "         [-0.3888, -0.3888, -0.3888, -0.3888, -0.3888, -0.3888, -0.3888, -0.3888, -0.3888, -0.3888, -0.3888, -0.3888, -0.3888, -0.3888, -0.3888, -0.3888, -0.3888, -0.3888, -0.3888, -0.3888, -0.3888,\n",
              "          -0.3888, -0.3888, -0.3888, -0.3888, -0.3888, -0.3888, -0.3888],\n",
              "         [-0.3888, -0.3888, -0.3888, -0.3888, -0.3888, -0.3888, -0.3888, -0.3888, -0.3888, -0.3888, -0.3888, -0.3888, -0.3888, -0.3888, -0.3888, -0.3888, -0.3888, -0.3888, -0.3888, -0.3888, -0.3888,\n",
              "          -0.3888, -0.3888, -0.3888, -0.3888, -0.3888, -0.3888, -0.3888]]), 1)"
            ]
          },
          "metadata": {
            "tags": []
          },
          "execution_count": 59
        }
      ]
    },
    {
      "cell_type": "markdown",
      "metadata": {
        "id": "l-gfWi1t3t6r",
        "colab_type": "text"
      },
      "source": [
        "Few other things we want in Normalization. We want to be able to serialize it. We want to be able to save the transform we are using to disk including the mean and std deviation.\n",
        "\n",
        "Secondly we want to be able to undo the normalization so that when we get back an image or whatever from a model we would want to display it which means we need to be able to DENORMALIZE it. \n",
        "\n",
        "These capabilities imply we need STATE and to get STATE we need to create a CLASS.  "
      ]
    },
    {
      "cell_type": "code",
      "metadata": {
        "id": "ZFRK00b61D5j",
        "colab_type": "code",
        "colab": {}
      },
      "source": [
        "class Norm(Transform):\n",
        "    # To pass in m and s\n",
        "    #def __init__(self, m, s): self.m, self.s = m,s\n",
        "    def __init__(self, m, s): \n",
        "      super().__init__()\n",
        "      store_attr(self, 'm,s')\n",
        "    def encodes(self, x: Tensor): return (x-self.m)/self.s"
      ],
      "execution_count": null,
      "outputs": []
    },
    {
      "cell_type": "code",
      "metadata": {
        "id": "JMYm6HnF1DcP",
        "colab_type": "code",
        "colab": {}
      },
      "source": [
        "m, s = timg.mean(), timg.std()"
      ],
      "execution_count": null,
      "outputs": []
    },
    {
      "cell_type": "code",
      "metadata": {
        "id": "J2xTRl071C-E",
        "colab_type": "code",
        "colab": {}
      },
      "source": [
        "f = Norm(m=m, s=s)"
      ],
      "execution_count": null,
      "outputs": []
    },
    {
      "cell_type": "code",
      "metadata": {
        "id": "sQvd3qXl1Cez",
        "colab_type": "code",
        "colab": {
          "base_uri": "https://localhost:8080/",
          "height": 119
        },
        "outputId": "80f89fb8-35ff-4a4a-cda4-43d13b67c158"
      },
      "source": [
        "nimg = f(timg)\n",
        "nimg[12:15]"
      ],
      "execution_count": null,
      "outputs": [
        {
          "output_type": "execute_result",
          "data": {
            "text/plain": [
              "tensor([[-0.3888, -0.3888, -0.3888, -0.3888, -0.3888, -0.3888, -0.3888, -0.3888, -0.3888, -0.3888, -0.3888, -0.3475,  0.0796,  2.5045,  3.1107,  3.0969,  2.0774,  0.4929, -0.3888, -0.3888, -0.3888,\n",
              "         -0.3888, -0.3888, -0.3888, -0.3888, -0.3888, -0.3888, -0.3888],\n",
              "        [-0.3888, -0.3888, -0.3888, -0.3888, -0.3888, -0.3888, -0.3888, -0.3888, -0.3888, -0.3888, -0.3888,  1.0578,  3.0969,  3.0969,  3.1107,  1.1818, -0.2373, -0.3888, -0.3888, -0.3888, -0.3888,\n",
              "         -0.3888, -0.3888, -0.3888, -0.3888, -0.3888, -0.3888, -0.3888],\n",
              "        [-0.3888, -0.3888, -0.3888, -0.3888, -0.3888, -0.3888, -0.3888, -0.3888, -0.3888, -0.3888, -0.0857,  2.5045,  3.0969,  3.0969,  1.2783, -0.3062, -0.3888, -0.3888, -0.3888, -0.3888, -0.3888,\n",
              "         -0.3888, -0.3888, -0.3888, -0.3888, -0.3888, -0.3888, -0.3888]])"
            ]
          },
          "metadata": {
            "tags": []
          },
          "execution_count": 63
        }
      ]
    },
    {
      "cell_type": "code",
      "metadata": {
        "id": "G4wUM-ED1Bjk",
        "colab_type": "code",
        "colab": {}
      },
      "source": [
        "imgtup = (timg, mi)"
      ],
      "execution_count": null,
      "outputs": []
    },
    {
      "cell_type": "code",
      "metadata": {
        "id": "ErDW4ELl1A2Y",
        "colab_type": "code",
        "colab": {
          "base_uri": "https://localhost:8080/",
          "height": 969
        },
        "outputId": "970fa0b3-20bf-49a0-d4bb-7187bc9d0daf"
      },
      "source": [
        "f(imgtup)"
      ],
      "execution_count": null,
      "outputs": [
        {
          "output_type": "execute_result",
          "data": {
            "text/plain": [
              "(tensor([[-0.3888, -0.3888, -0.3888, -0.3888, -0.3888, -0.3888, -0.3888, -0.3888, -0.3888, -0.3888, -0.3888, -0.3888, -0.3888, -0.3888, -0.3888, -0.3888, -0.3888, -0.3888, -0.3888, -0.3888, -0.3888,\n",
              "          -0.3888, -0.3888, -0.3888, -0.3888, -0.3888, -0.3888, -0.3888],\n",
              "         [-0.3888, -0.3888, -0.3888, -0.3888, -0.3888, -0.3888, -0.3888, -0.3888, -0.3888, -0.3888, -0.3888, -0.3888, -0.3888, -0.3888, -0.3888, -0.3888, -0.3888, -0.3888, -0.3888, -0.3888, -0.3888,\n",
              "          -0.3888, -0.3888, -0.3888, -0.3888, -0.3888, -0.3888, -0.3888],\n",
              "         [-0.3888, -0.3888, -0.3888, -0.3888, -0.3888, -0.3888, -0.3888, -0.3888, -0.3888, -0.3888, -0.3888, -0.3888, -0.3888, -0.3888, -0.3888, -0.3888, -0.3888, -0.3888, -0.3888, -0.3888, -0.3888,\n",
              "          -0.3888, -0.3888, -0.3888, -0.3888, -0.3888, -0.3888, -0.3888],\n",
              "         [-0.3888, -0.3888, -0.3888, -0.3888, -0.3888, -0.3888, -0.3888, -0.3888, -0.3888, -0.3888, -0.3888, -0.3888, -0.3888, -0.3888, -0.3888, -0.3888, -0.3888, -0.3888, -0.3888, -0.3888, -0.3888,\n",
              "          -0.3888, -0.3888, -0.3888, -0.3888, -0.3888, -0.3888, -0.3888],\n",
              "         [-0.3888, -0.3888, -0.3888, -0.3888, -0.3888, -0.3888, -0.3888, -0.3888, -0.3888, -0.3888, -0.3888, -0.3888, -0.3888, -0.3888, -0.3888, -0.3888, -0.3888, -0.3888, -0.3888, -0.3888, -0.3888,\n",
              "          -0.3888, -0.3888, -0.3888, -0.3888, -0.3888, -0.3888, -0.3888],\n",
              "         [-0.3888, -0.3888, -0.3888, -0.3888, -0.3888, -0.3888, -0.3888, -0.3888, -0.3888, -0.0306,  2.5458,  1.9396,  1.2783,  1.2783,  2.2565,  1.2783,  1.2783,  1.2783,  0.8374, -0.3888, -0.3888,\n",
              "          -0.3888, -0.3888, -0.3888, -0.3888, -0.3888, -0.3888, -0.3888],\n",
              "         [-0.3888, -0.3888, -0.3888, -0.3888, -0.3888, -0.3888, -0.3888, -0.3888, -0.3888,  0.0383,  2.6422,  3.0969,  3.0969,  3.0969,  3.1107,  3.0969,  3.0969,  3.0969,  3.0556,  2.2289, -0.3888,\n",
              "          -0.3888, -0.3888, -0.3888, -0.3888, -0.3888, -0.3888, -0.3888],\n",
              "         [-0.3888, -0.3888, -0.3888, -0.3888, -0.3888, -0.3888, -0.3888, -0.3888, -0.3888, -0.3888,  0.1485,  1.8018,  2.5596,  3.0969,  1.8156,  1.8018,  2.2840,  3.0969,  3.0969,  2.3529, -0.3888,\n",
              "          -0.3888, -0.3888, -0.3888, -0.3888, -0.3888, -0.3888, -0.3888],\n",
              "         [-0.3888, -0.3888, -0.3888, -0.3888, -0.3888, -0.3888, -0.3888, -0.3888, -0.3888, -0.3888, -0.3888, -0.3888, -0.0719,  0.1485, -0.3888, -0.3888,  0.9063,  3.0969,  3.0969,  2.3529, -0.3888,\n",
              "          -0.3888, -0.3888, -0.3888, -0.3888, -0.3888, -0.3888, -0.3888],\n",
              "         [-0.3888, -0.3888, -0.3888, -0.3888, -0.3888, -0.3888, -0.3888, -0.3888, -0.3888, -0.3888, -0.3888, -0.3888, -0.3888, -0.3888, -0.3888, -0.3888,  1.3885,  3.0969,  3.0969,  1.8707, -0.3888,\n",
              "          -0.3888, -0.3888, -0.3888, -0.3888, -0.3888, -0.3888, -0.3888],\n",
              "         [-0.3888, -0.3888, -0.3888, -0.3888, -0.3888, -0.3888, -0.3888, -0.3888, -0.3888, -0.3888, -0.3888, -0.3888, -0.3888, -0.3888, -0.3888,  2.0636,  3.0142,  3.0969,  2.9040,  0.3276, -0.3888,\n",
              "          -0.3888, -0.3888, -0.3888, -0.3888, -0.3888, -0.3888, -0.3888],\n",
              "         [-0.3888, -0.3888, -0.3888, -0.3888, -0.3888, -0.3888, -0.3888, -0.3888, -0.3888, -0.3888, -0.3888, -0.3888, -0.3888, -0.0857,  2.0222,  3.0418,  3.0969,  2.9178,  0.7960, -0.3888, -0.3888,\n",
              "          -0.3888, -0.3888, -0.3888, -0.3888, -0.3888, -0.3888, -0.3888],\n",
              "         [-0.3888, -0.3888, -0.3888, -0.3888, -0.3888, -0.3888, -0.3888, -0.3888, -0.3888, -0.3888, -0.3888, -0.3475,  0.0796,  2.5045,  3.1107,  3.0969,  2.0774,  0.4929, -0.3888, -0.3888, -0.3888,\n",
              "          -0.3888, -0.3888, -0.3888, -0.3888, -0.3888, -0.3888, -0.3888],\n",
              "         [-0.3888, -0.3888, -0.3888, -0.3888, -0.3888, -0.3888, -0.3888, -0.3888, -0.3888, -0.3888, -0.3888,  1.0578,  3.0969,  3.0969,  3.1107,  1.1818, -0.2373, -0.3888, -0.3888, -0.3888, -0.3888,\n",
              "          -0.3888, -0.3888, -0.3888, -0.3888, -0.3888, -0.3888, -0.3888],\n",
              "         [-0.3888, -0.3888, -0.3888, -0.3888, -0.3888, -0.3888, -0.3888, -0.3888, -0.3888, -0.3888, -0.0857,  2.5045,  3.0969,  3.0969,  1.2783, -0.3062, -0.3888, -0.3888, -0.3888, -0.3888, -0.3888,\n",
              "          -0.3888, -0.3888, -0.3888, -0.3888, -0.3888, -0.3888, -0.3888],\n",
              "         [-0.3888, -0.3888, -0.3888, -0.3888, -0.3888, -0.3888, -0.3888, -0.3888, -0.3888, -0.3888,  0.1761,  3.1107,  3.1107,  1.2783, -0.3888, -0.3888, -0.3888, -0.3888, -0.3888, -0.3888, -0.3888,\n",
              "          -0.3888, -0.3888, -0.3888, -0.3888, -0.3888, -0.3888, -0.3888],\n",
              "         [-0.3888, -0.3888, -0.3888, -0.3888, -0.3888, -0.3888, -0.3888, -0.3888, -0.3888, -0.3888, -0.3613,  1.8845,  3.0969,  3.0142, -0.3888, -0.3888, -0.3888, -0.3888, -0.3888, -0.3888, -0.3888,\n",
              "          -0.3888, -0.3888, -0.3888, -0.3888, -0.3888, -0.3888, -0.3888],\n",
              "         [-0.3888, -0.3888, -0.3888, -0.3888, -0.3888, -0.3888, -0.3888, -0.3888, -0.3888, -0.3888, -0.3888,  1.1543,  3.0969,  3.0969,  1.8845, -0.3199, -0.3888, -0.3888, -0.3888, -0.3888, -0.3888,\n",
              "          -0.3888, -0.3888, -0.3888, -0.3888, -0.3888, -0.3888, -0.3888],\n",
              "         [-0.3888, -0.3888, -0.3888, -0.3888, -0.3888, -0.3888, -0.3888, -0.3888, -0.3888, -0.3888, -0.3888, -0.1271,  2.6285,  3.0969,  3.1107, -0.2097, -0.3888, -0.3888, -0.3888, -0.3888, -0.3888,\n",
              "          -0.3888, -0.3888, -0.3888, -0.3888, -0.3888, -0.3888, -0.3888],\n",
              "         [-0.3888, -0.3888, -0.3888, -0.3888, -0.3888, -0.3888, -0.3888, -0.3888, -0.3888, -0.3888, -0.3888, -0.3888,  0.1898,  3.0969,  3.1107,  1.2507, -0.3888, -0.3888, -0.3888, -0.3888, -0.3888,\n",
              "          -0.3888, -0.3888, -0.3888, -0.3888, -0.3888, -0.3888, -0.3888],\n",
              "         [-0.3888, -0.3888, -0.3888, -0.3888, -0.3888, -0.3888, -0.3888, -0.3888, -0.3888, -0.3888, -0.3888, -0.3888, -0.3337,  1.8845,  3.1107,  2.7111, -0.1271, -0.3888, -0.3888, -0.3888, -0.3888,\n",
              "          -0.3888, -0.3888, -0.3888, -0.3888, -0.3888, -0.3888, -0.3888],\n",
              "         [-0.3888, -0.3888, -0.3888, -0.3888, -0.3888, -0.3888, -0.3888, -0.3888,  0.0521,  0.1761,  0.1761,  0.1761,  0.1761,  1.7191,  3.1244,  3.0969,  1.2369, -0.3888, -0.3888, -0.3888, -0.3888,\n",
              "          -0.3888, -0.3888, -0.3888, -0.3888, -0.3888, -0.3888, -0.3888],\n",
              "         [-0.3888, -0.3888, -0.3888, -0.3888, -0.3888, -0.3888, -0.3888, -0.3888,  2.3805,  3.0969,  3.0969,  3.0969,  3.0969,  3.0969,  3.1244,  3.0969,  0.6445, -0.3888, -0.3888, -0.3888, -0.3888,\n",
              "          -0.3888, -0.3888, -0.3888, -0.3888, -0.3888, -0.3888, -0.3888],\n",
              "         [-0.3888, -0.3888, -0.3888, -0.3888, -0.3888, -0.3888, -0.3888, -0.3888,  2.2840,  3.0969,  3.0969,  3.0969,  3.0969,  3.0969,  3.1244,  2.1462, -0.2373, -0.3888, -0.3888, -0.3888, -0.3888,\n",
              "          -0.3888, -0.3888, -0.3888, -0.3888, -0.3888, -0.3888, -0.3888],\n",
              "         [-0.3888, -0.3888, -0.3888, -0.3888, -0.3888, -0.3888, -0.3888, -0.3888,  0.0521,  1.2645,  1.2645,  1.2645,  1.2645,  2.2289,  1.2783, -0.3062, -0.3888, -0.3888, -0.3888, -0.3888, -0.3888,\n",
              "          -0.3888, -0.3888, -0.3888, -0.3888, -0.3888, -0.3888, -0.3888],\n",
              "         [-0.3888, -0.3888, -0.3888, -0.3888, -0.3888, -0.3888, -0.3888, -0.3888, -0.3888, -0.3888, -0.3888, -0.3888, -0.3888, -0.3888, -0.3888, -0.3888, -0.3888, -0.3888, -0.3888, -0.3888, -0.3888,\n",
              "          -0.3888, -0.3888, -0.3888, -0.3888, -0.3888, -0.3888, -0.3888],\n",
              "         [-0.3888, -0.3888, -0.3888, -0.3888, -0.3888, -0.3888, -0.3888, -0.3888, -0.3888, -0.3888, -0.3888, -0.3888, -0.3888, -0.3888, -0.3888, -0.3888, -0.3888, -0.3888, -0.3888, -0.3888, -0.3888,\n",
              "          -0.3888, -0.3888, -0.3888, -0.3888, -0.3888, -0.3888, -0.3888],\n",
              "         [-0.3888, -0.3888, -0.3888, -0.3888, -0.3888, -0.3888, -0.3888, -0.3888, -0.3888, -0.3888, -0.3888, -0.3888, -0.3888, -0.3888, -0.3888, -0.3888, -0.3888, -0.3888, -0.3888, -0.3888, -0.3888,\n",
              "          -0.3888, -0.3888, -0.3888, -0.3888, -0.3888, -0.3888, -0.3888]]), 1)"
            ]
          },
          "metadata": {
            "tags": []
          },
          "execution_count": 65
        }
      ]
    },
    {
      "cell_type": "markdown",
      "metadata": {
        "id": "dY6JzABT7y1O",
        "colab_type": "text"
      },
      "source": [
        "If you wish to apply the same function to multiple types then you need to do what the following cell does "
      ]
    },
    {
      "cell_type": "code",
      "metadata": {
        "id": "q1ZlN6aMyCU5",
        "colab_type": "code",
        "colab": {}
      },
      "source": [
        "# One way is below\n",
        "class Norm(Transform):\n",
        "    def __init__(self, m, s):\n",
        "        super().__init()\n",
        "        self.m, self.s = m, s\n",
        "    def encodes(self, x:Tensor): return (x - self.mean)/self.s\n",
        "    def encodes(self, x:int):    return (x - self.mean)/self.s"
      ],
      "execution_count": null,
      "outputs": []
    },
    {
      "cell_type": "code",
      "metadata": {
        "id": "ut5Cc-wdx_0x",
        "colab_type": "code",
        "colab": {}
      },
      "source": [
        "# Another way\n",
        "class Norm(Transform):\n",
        "    def __init__(self, m, s):\n",
        "        super().__init()\n",
        "        self.m, self.s = m, s\n",
        "    def encodes(self, x:Tensor): return (x - self.mean)/self.s"
      ],
      "execution_count": null,
      "outputs": []
    },
    {
      "cell_type": "code",
      "metadata": {
        "id": "ybr4NPxnyBu5",
        "colab_type": "code",
        "colab": {}
      },
      "source": [
        "# Empty class definition ONCE\n",
        "class Norm(Transform): pass"
      ],
      "execution_count": null,
      "outputs": []
    },
    {
      "cell_type": "code",
      "metadata": {
        "id": "fBKSi6bWyAoU",
        "colab_type": "code",
        "colab": {}
      },
      "source": [
        "# followed by decorator use of that class and put \n",
        "# encodes in these different places \n",
        "@Norm\n",
        "def encodes(self, x:Tensor): return (x-self.m)/self.s"
      ],
      "execution_count": null,
      "outputs": []
    },
    {
      "cell_type": "code",
      "metadata": {
        "id": "LRsnifqIyA-s",
        "colab_type": "code",
        "colab": {}
      },
      "source": [
        "@Norm\n",
        "def encodes(self, x:int):    return (x-self.m)/self.s"
      ],
      "execution_count": null,
      "outputs": []
    },
    {
      "cell_type": "markdown",
      "metadata": {
        "id": "m_JgB-de-m2E",
        "colab_type": "text"
      },
      "source": [
        "This makes the whole Transform infrastructure modularly extensible. For eg if Normalizing an Audio tensor was different you could just do this and the whole Audio normalizing would occur without any impact on the original code and be its own module thingy. \n",
        "\n",
        "So this allows for DATA AUGMENTATION (transforms are used for this if you recall - though we have been discussing Normalization) - we can come up with our own DATA AUGMENTATIONs for our own DATA TYPES. "
      ]
    },
    {
      "cell_type": "markdown",
      "metadata": {
        "id": "BjKYD7IGuM2p",
        "colab_type": "text"
      },
      "source": [
        "The way that THIS DISPATCH SYSTEM WORKS "
      ]
    },
    {
      "cell_type": "code",
      "metadata": {
        "id": "9m0P-X0eyAvQ",
        "colab_type": "code",
        "colab": {}
      },
      "source": [
        "class Norm(Transform):\n",
        "  def __init__(self, m, s):\n",
        "    super().__init__()\n",
        "    self.m, self.s = m, s\n",
        "  def encodes(self, x:Tensor):\n",
        "    print('a')\n",
        "    return (x-self.m)/self.s\n",
        "  def encodes(self, x:MyTensorImg):\n",
        "    print('b')\n",
        "    return (x-self.m)/self.s"
      ],
      "execution_count": null,
      "outputs": []
    },
    {
      "cell_type": "code",
      "metadata": {
        "id": "EFxkwWaFx_98",
        "colab_type": "code",
        "colab": {}
      },
      "source": [
        "m,s = timg.mean(), timg.std()"
      ],
      "execution_count": null,
      "outputs": []
    },
    {
      "cell_type": "code",
      "metadata": {
        "id": "dXUcFvo0x_7F",
        "colab_type": "code",
        "colab": {}
      },
      "source": [
        "f = Norm(m=m, s=s)"
      ],
      "execution_count": null,
      "outputs": []
    },
    {
      "cell_type": "code",
      "metadata": {
        "id": "rYWVbWxLuj96",
        "colab_type": "code",
        "colab": {
          "base_uri": "https://localhost:8080/",
          "height": 136
        },
        "outputId": "530477c0-5810-456b-eba9-bf2f5ce72878"
      },
      "source": [
        "nimg = f(mti)\n",
        "nimg[12:15]"
      ],
      "execution_count": null,
      "outputs": [
        {
          "output_type": "stream",
          "text": [
            "b\n"
          ],
          "name": "stdout"
        },
        {
          "output_type": "execute_result",
          "data": {
            "text/plain": [
              "tensor([[-0.3888, -0.3888, -0.3888, -0.3888, -0.3888, -0.3888, -0.3888, -0.3888, -0.3888, -0.3888, -0.3888, -0.3475,  0.0796,  2.5045,  3.1107,  3.0969,  2.0774,  0.4929, -0.3888, -0.3888, -0.3888,\n",
              "         -0.3888, -0.3888, -0.3888, -0.3888, -0.3888, -0.3888, -0.3888],\n",
              "        [-0.3888, -0.3888, -0.3888, -0.3888, -0.3888, -0.3888, -0.3888, -0.3888, -0.3888, -0.3888, -0.3888,  1.0578,  3.0969,  3.0969,  3.1107,  1.1818, -0.2373, -0.3888, -0.3888, -0.3888, -0.3888,\n",
              "         -0.3888, -0.3888, -0.3888, -0.3888, -0.3888, -0.3888, -0.3888],\n",
              "        [-0.3888, -0.3888, -0.3888, -0.3888, -0.3888, -0.3888, -0.3888, -0.3888, -0.3888, -0.3888, -0.0857,  2.5045,  3.0969,  3.0969,  1.2783, -0.3062, -0.3888, -0.3888, -0.3888, -0.3888, -0.3888,\n",
              "         -0.3888, -0.3888, -0.3888, -0.3888, -0.3888, -0.3888, -0.3888]])"
            ]
          },
          "metadata": {
            "tags": []
          },
          "execution_count": 74
        }
      ]
    },
    {
      "cell_type": "markdown",
      "metadata": {
        "id": "KpC6_UhrvStJ",
        "colab_type": "text"
      },
      "source": [
        "Notice that this prints 'b' - Why? Coz MyTensorImg is further down the hierarchy than Tensor is and so that is the more specific match. So encodes uses the most precise type that it can "
      ]
    },
    {
      "cell_type": "code",
      "metadata": {
        "id": "m70PtQrDuj6o",
        "colab_type": "code",
        "colab": {}
      },
      "source": [
        "# Another example\n",
        "class Norm(Transform):\n",
        "  def __init__(self, m, s):\n",
        "    super().__init__()\n",
        "    self.m, self.s = m, s\n",
        "  def encodes(self, x:Tensor):\n",
        "    print('a')\n",
        "    return (x-self.m)/self.s\n",
        "  def encodes(self, x:numbers.Integral):\n",
        "    print('b')\n",
        "    return (x-self.m)/self.s"
      ],
      "execution_count": null,
      "outputs": []
    },
    {
      "cell_type": "code",
      "metadata": {
        "id": "axKFT0GCuj3g",
        "colab_type": "code",
        "colab": {}
      },
      "source": [
        "m,s = timg.mean(), timg.std()"
      ],
      "execution_count": null,
      "outputs": []
    },
    {
      "cell_type": "code",
      "metadata": {
        "id": "xA1abAOWujn7",
        "colab_type": "code",
        "colab": {}
      },
      "source": [
        "f = Norm(m=m, s=s)"
      ],
      "execution_count": null,
      "outputs": []
    },
    {
      "cell_type": "code",
      "metadata": {
        "id": "KQP_jT_jujPq",
        "colab_type": "code",
        "colab": {
          "base_uri": "https://localhost:8080/",
          "height": 51
        },
        "outputId": "fe624cdf-2815-4d27-94bc-128b6bd6bad0"
      },
      "source": [
        "f(3)"
      ],
      "execution_count": null,
      "outputs": [
        {
          "output_type": "stream",
          "text": [
            "b\n"
          ],
          "name": "stdout"
        },
        {
          "output_type": "execute_result",
          "data": {
            "text/plain": [
              "tensor(-0.3475)"
            ]
          },
          "metadata": {
            "tags": []
          },
          "execution_count": 78
        }
      ]
    },
    {
      "cell_type": "code",
      "metadata": {
        "id": "KQuvcfCjwFYg",
        "colab_type": "code",
        "colab": {}
      },
      "source": [
        "# Another example\n",
        "class Norm(Transform):\n",
        "  def __init__(self, m, s):\n",
        "    super().__init__()\n",
        "    self.m, self.s = m, s\n",
        "  def encodes(self, x:Tensor):\n",
        "    print('a')\n",
        "    return (x-self.m)/self.s\n",
        "  def encodes(self, x:numbers.Integral):\n",
        "    print('b')\n",
        "    return (x-self.m)/self.s\n",
        "  def encodes(self, x:int):\n",
        "    print('c')\n",
        "    return (x-self.m)/self.s\n"
      ],
      "execution_count": null,
      "outputs": []
    },
    {
      "cell_type": "code",
      "metadata": {
        "id": "NmH8NLDVwFrR",
        "colab_type": "code",
        "colab": {}
      },
      "source": [
        "m,s = timg.mean(), timg.std()"
      ],
      "execution_count": null,
      "outputs": []
    },
    {
      "cell_type": "code",
      "metadata": {
        "id": "PJRX-GvrwGH3",
        "colab_type": "code",
        "colab": {}
      },
      "source": [
        "f = Norm(m=m, s=s)"
      ],
      "execution_count": null,
      "outputs": []
    },
    {
      "cell_type": "code",
      "metadata": {
        "id": "iVLwK99mwGd1",
        "colab_type": "code",
        "colab": {
          "base_uri": "https://localhost:8080/",
          "height": 51
        },
        "outputId": "4f47fde4-8783-46b1-fee7-7000952a1fea"
      },
      "source": [
        "# Calls the most specialized version\n",
        "f(3)"
      ],
      "execution_count": null,
      "outputs": [
        {
          "output_type": "stream",
          "text": [
            "c\n"
          ],
          "name": "stdout"
        },
        {
          "output_type": "execute_result",
          "data": {
            "text/plain": [
              "tensor(-0.3475)"
            ]
          },
          "metadata": {
            "tags": []
          },
          "execution_count": 82
        }
      ]
    },
    {
      "cell_type": "code",
      "metadata": {
        "id": "I8WVh7ENwGPw",
        "colab_type": "code",
        "colab": {}
      },
      "source": [
        "# Return to basics\n",
        "class Norm(Transform):\n",
        "    def __init__(self, m, s):\n",
        "        super().__init__()\n",
        "        self.m,self.s = m,s\n",
        "    def encodes(self, x:MyTensorImg): return (x-self.m)/self.s\n",
        "    def decodes(self, x:MyTensorImg): return (x*self.s)+self.m"
      ],
      "execution_count": null,
      "outputs": []
    },
    {
      "cell_type": "markdown",
      "metadata": {
        "id": "On-uAPvmxZqs",
        "colab_type": "text"
      },
      "source": [
        "### Going in the opposite direction"
      ]
    },
    {
      "cell_type": "code",
      "metadata": {
        "id": "IGMpffRBxHYv",
        "colab_type": "code",
        "colab": {}
      },
      "source": [
        "m,s = timg.mean(), timg.std()"
      ],
      "execution_count": null,
      "outputs": []
    },
    {
      "cell_type": "code",
      "metadata": {
        "id": "kdD5xl3ixH65",
        "colab_type": "code",
        "colab": {}
      },
      "source": [
        "f = Norm(m=m,s=s)"
      ],
      "execution_count": null,
      "outputs": []
    },
    {
      "cell_type": "code",
      "metadata": {
        "id": "yyjwh1ewxIMC",
        "colab_type": "code",
        "colab": {
          "base_uri": "https://localhost:8080/",
          "height": 119
        },
        "outputId": "678b7a8c-4710-4661-8bc1-9e823b98ecd5"
      },
      "source": [
        "nimg = f(mti)\n",
        "nimg[12:15]"
      ],
      "execution_count": null,
      "outputs": [
        {
          "output_type": "execute_result",
          "data": {
            "text/plain": [
              "tensor([[-0.3888, -0.3888, -0.3888, -0.3888, -0.3888, -0.3888, -0.3888, -0.3888, -0.3888, -0.3888, -0.3888, -0.3475,  0.0796,  2.5045,  3.1107,  3.0969,  2.0774,  0.4929, -0.3888, -0.3888, -0.3888,\n",
              "         -0.3888, -0.3888, -0.3888, -0.3888, -0.3888, -0.3888, -0.3888],\n",
              "        [-0.3888, -0.3888, -0.3888, -0.3888, -0.3888, -0.3888, -0.3888, -0.3888, -0.3888, -0.3888, -0.3888,  1.0578,  3.0969,  3.0969,  3.1107,  1.1818, -0.2373, -0.3888, -0.3888, -0.3888, -0.3888,\n",
              "         -0.3888, -0.3888, -0.3888, -0.3888, -0.3888, -0.3888, -0.3888],\n",
              "        [-0.3888, -0.3888, -0.3888, -0.3888, -0.3888, -0.3888, -0.3888, -0.3888, -0.3888, -0.3888, -0.0857,  2.5045,  3.0969,  3.0969,  1.2783, -0.3062, -0.3888, -0.3888, -0.3888, -0.3888, -0.3888,\n",
              "         -0.3888, -0.3888, -0.3888, -0.3888, -0.3888, -0.3888, -0.3888]])"
            ]
          },
          "metadata": {
            "tags": []
          },
          "execution_count": 86
        }
      ]
    },
    {
      "cell_type": "code",
      "metadata": {
        "id": "dsvQsKvnxHrP",
        "colab_type": "code",
        "colab": {
          "base_uri": "https://localhost:8080/",
          "height": 969
        },
        "outputId": "910b5746-3291-475a-b34e-bbf725914ca0"
      },
      "source": [
        "f.decode(nimg)"
      ],
      "execution_count": null,
      "outputs": [
        {
          "output_type": "execute_result",
          "data": {
            "text/plain": [
              "MyTensorImg([[  0.0000,   0.0000,   0.0000,   0.0000,   0.0000,   0.0000,   0.0000,   0.0000,   0.0000,   0.0000,   0.0000,   0.0000,   0.0000,   0.0000,   0.0000,   0.0000,   0.0000,   0.0000,   0.0000,\n",
              "           0.0000,   0.0000,   0.0000,   0.0000,   0.0000,   0.0000,   0.0000,   0.0000,   0.0000],\n",
              "        [  0.0000,   0.0000,   0.0000,   0.0000,   0.0000,   0.0000,   0.0000,   0.0000,   0.0000,   0.0000,   0.0000,   0.0000,   0.0000,   0.0000,   0.0000,   0.0000,   0.0000,   0.0000,   0.0000,\n",
              "           0.0000,   0.0000,   0.0000,   0.0000,   0.0000,   0.0000,   0.0000,   0.0000,   0.0000],\n",
              "        [  0.0000,   0.0000,   0.0000,   0.0000,   0.0000,   0.0000,   0.0000,   0.0000,   0.0000,   0.0000,   0.0000,   0.0000,   0.0000,   0.0000,   0.0000,   0.0000,   0.0000,   0.0000,   0.0000,\n",
              "           0.0000,   0.0000,   0.0000,   0.0000,   0.0000,   0.0000,   0.0000,   0.0000,   0.0000],\n",
              "        [  0.0000,   0.0000,   0.0000,   0.0000,   0.0000,   0.0000,   0.0000,   0.0000,   0.0000,   0.0000,   0.0000,   0.0000,   0.0000,   0.0000,   0.0000,   0.0000,   0.0000,   0.0000,   0.0000,\n",
              "           0.0000,   0.0000,   0.0000,   0.0000,   0.0000,   0.0000,   0.0000,   0.0000,   0.0000],\n",
              "        [  0.0000,   0.0000,   0.0000,   0.0000,   0.0000,   0.0000,   0.0000,   0.0000,   0.0000,   0.0000,   0.0000,   0.0000,   0.0000,   0.0000,   0.0000,   0.0000,   0.0000,   0.0000,   0.0000,\n",
              "           0.0000,   0.0000,   0.0000,   0.0000,   0.0000,   0.0000,   0.0000,   0.0000,   0.0000],\n",
              "        [  0.0000,   0.0000,   0.0000,   0.0000,   0.0000,   0.0000,   0.0000,   0.0000,   0.0000,  26.0000, 213.0000, 169.0000, 121.0000, 121.0000, 192.0000, 121.0000, 121.0000, 121.0000,  89.0000,\n",
              "           0.0000,   0.0000,   0.0000,   0.0000,   0.0000,   0.0000,   0.0000,   0.0000,   0.0000],\n",
              "        [  0.0000,   0.0000,   0.0000,   0.0000,   0.0000,   0.0000,   0.0000,   0.0000,   0.0000,  31.0000, 220.0000, 253.0000, 253.0000, 253.0000, 254.0000, 253.0000, 253.0000, 253.0000, 250.0000,\n",
              "         190.0000,   0.0000,   0.0000,   0.0000,   0.0000,   0.0000,   0.0000,   0.0000,   0.0000],\n",
              "        [  0.0000,   0.0000,   0.0000,   0.0000,   0.0000,   0.0000,   0.0000,   0.0000,   0.0000,   0.0000,  39.0000, 159.0000, 214.0000, 253.0000, 160.0000, 159.0000, 194.0000, 253.0000, 253.0000,\n",
              "         199.0000,   0.0000,   0.0000,   0.0000,   0.0000,   0.0000,   0.0000,   0.0000,   0.0000],\n",
              "        [  0.0000,   0.0000,   0.0000,   0.0000,   0.0000,   0.0000,   0.0000,   0.0000,   0.0000,   0.0000,   0.0000,   0.0000,  23.0000,  39.0000,   0.0000,   0.0000,  94.0000, 253.0000, 253.0000,\n",
              "         199.0000,   0.0000,   0.0000,   0.0000,   0.0000,   0.0000,   0.0000,   0.0000,   0.0000],\n",
              "        [  0.0000,   0.0000,   0.0000,   0.0000,   0.0000,   0.0000,   0.0000,   0.0000,   0.0000,   0.0000,   0.0000,   0.0000,   0.0000,   0.0000,   0.0000,   0.0000, 129.0000, 253.0000, 253.0000,\n",
              "         164.0000,   0.0000,   0.0000,   0.0000,   0.0000,   0.0000,   0.0000,   0.0000,   0.0000],\n",
              "        [  0.0000,   0.0000,   0.0000,   0.0000,   0.0000,   0.0000,   0.0000,   0.0000,   0.0000,   0.0000,   0.0000,   0.0000,   0.0000,   0.0000,   0.0000, 178.0000, 247.0000, 253.0000, 239.0000,\n",
              "          52.0000,   0.0000,   0.0000,   0.0000,   0.0000,   0.0000,   0.0000,   0.0000,   0.0000],\n",
              "        [  0.0000,   0.0000,   0.0000,   0.0000,   0.0000,   0.0000,   0.0000,   0.0000,   0.0000,   0.0000,   0.0000,   0.0000,   0.0000,  22.0000, 175.0000, 249.0000, 253.0000, 240.0000,  86.0000,\n",
              "           0.0000,   0.0000,   0.0000,   0.0000,   0.0000,   0.0000,   0.0000,   0.0000,   0.0000],\n",
              "        [  0.0000,   0.0000,   0.0000,   0.0000,   0.0000,   0.0000,   0.0000,   0.0000,   0.0000,   0.0000,   0.0000,   3.0000,  34.0000, 210.0000, 254.0000, 253.0000, 179.0000,  64.0000,   0.0000,\n",
              "           0.0000,   0.0000,   0.0000,   0.0000,   0.0000,   0.0000,   0.0000,   0.0000,   0.0000],\n",
              "        [  0.0000,   0.0000,   0.0000,   0.0000,   0.0000,   0.0000,   0.0000,   0.0000,   0.0000,   0.0000,   0.0000, 105.0000, 253.0000, 253.0000, 254.0000, 114.0000,  11.0000,   0.0000,   0.0000,\n",
              "           0.0000,   0.0000,   0.0000,   0.0000,   0.0000,   0.0000,   0.0000,   0.0000,   0.0000],\n",
              "        [  0.0000,   0.0000,   0.0000,   0.0000,   0.0000,   0.0000,   0.0000,   0.0000,   0.0000,   0.0000,  22.0000, 210.0000, 253.0000, 253.0000, 121.0000,   6.0000,   0.0000,   0.0000,   0.0000,\n",
              "           0.0000,   0.0000,   0.0000,   0.0000,   0.0000,   0.0000,   0.0000,   0.0000,   0.0000],\n",
              "        [  0.0000,   0.0000,   0.0000,   0.0000,   0.0000,   0.0000,   0.0000,   0.0000,   0.0000,   0.0000,  41.0000, 254.0000, 254.0000, 121.0000,   0.0000,   0.0000,   0.0000,   0.0000,   0.0000,\n",
              "           0.0000,   0.0000,   0.0000,   0.0000,   0.0000,   0.0000,   0.0000,   0.0000,   0.0000],\n",
              "        [  0.0000,   0.0000,   0.0000,   0.0000,   0.0000,   0.0000,   0.0000,   0.0000,   0.0000,   0.0000,   2.0000, 165.0000, 253.0000, 247.0000,   0.0000,   0.0000,   0.0000,   0.0000,   0.0000,\n",
              "           0.0000,   0.0000,   0.0000,   0.0000,   0.0000,   0.0000,   0.0000,   0.0000,   0.0000],\n",
              "        [  0.0000,   0.0000,   0.0000,   0.0000,   0.0000,   0.0000,   0.0000,   0.0000,   0.0000,   0.0000,   0.0000, 112.0000, 253.0000, 253.0000, 165.0000,   5.0000,   0.0000,   0.0000,   0.0000,\n",
              "           0.0000,   0.0000,   0.0000,   0.0000,   0.0000,   0.0000,   0.0000,   0.0000,   0.0000],\n",
              "        [  0.0000,   0.0000,   0.0000,   0.0000,   0.0000,   0.0000,   0.0000,   0.0000,   0.0000,   0.0000,   0.0000,  19.0000, 219.0000, 253.0000, 254.0000,  13.0000,   0.0000,   0.0000,   0.0000,\n",
              "           0.0000,   0.0000,   0.0000,   0.0000,   0.0000,   0.0000,   0.0000,   0.0000,   0.0000],\n",
              "        [  0.0000,   0.0000,   0.0000,   0.0000,   0.0000,   0.0000,   0.0000,   0.0000,   0.0000,   0.0000,   0.0000,   0.0000,  42.0000, 253.0000, 254.0000, 119.0000,   0.0000,   0.0000,   0.0000,\n",
              "           0.0000,   0.0000,   0.0000,   0.0000,   0.0000,   0.0000,   0.0000,   0.0000,   0.0000],\n",
              "        [  0.0000,   0.0000,   0.0000,   0.0000,   0.0000,   0.0000,   0.0000,   0.0000,   0.0000,   0.0000,   0.0000,   0.0000,   4.0000, 165.0000, 254.0000, 225.0000,  19.0000,   0.0000,   0.0000,\n",
              "           0.0000,   0.0000,   0.0000,   0.0000,   0.0000,   0.0000,   0.0000,   0.0000,   0.0000],\n",
              "        [  0.0000,   0.0000,   0.0000,   0.0000,   0.0000,   0.0000,   0.0000,   0.0000,  32.0000,  41.0000,  41.0000,  41.0000,  41.0000, 153.0000, 255.0000, 253.0000, 118.0000,   0.0000,   0.0000,\n",
              "           0.0000,   0.0000,   0.0000,   0.0000,   0.0000,   0.0000,   0.0000,   0.0000,   0.0000],\n",
              "        [  0.0000,   0.0000,   0.0000,   0.0000,   0.0000,   0.0000,   0.0000,   0.0000, 201.0000, 253.0000, 253.0000, 253.0000, 253.0000, 253.0000, 255.0000, 253.0000,  75.0000,   0.0000,   0.0000,\n",
              "           0.0000,   0.0000,   0.0000,   0.0000,   0.0000,   0.0000,   0.0000,   0.0000,   0.0000],\n",
              "        [  0.0000,   0.0000,   0.0000,   0.0000,   0.0000,   0.0000,   0.0000,   0.0000, 194.0000, 253.0000, 253.0000, 253.0000, 253.0000, 253.0000, 255.0000, 184.0000,  11.0000,   0.0000,   0.0000,\n",
              "           0.0000,   0.0000,   0.0000,   0.0000,   0.0000,   0.0000,   0.0000,   0.0000,   0.0000],\n",
              "        [  0.0000,   0.0000,   0.0000,   0.0000,   0.0000,   0.0000,   0.0000,   0.0000,  32.0000, 120.0000, 120.0000, 120.0000, 120.0000, 190.0000, 121.0000,   6.0000,   0.0000,   0.0000,   0.0000,\n",
              "           0.0000,   0.0000,   0.0000,   0.0000,   0.0000,   0.0000,   0.0000,   0.0000,   0.0000],\n",
              "        [  0.0000,   0.0000,   0.0000,   0.0000,   0.0000,   0.0000,   0.0000,   0.0000,   0.0000,   0.0000,   0.0000,   0.0000,   0.0000,   0.0000,   0.0000,   0.0000,   0.0000,   0.0000,   0.0000,\n",
              "           0.0000,   0.0000,   0.0000,   0.0000,   0.0000,   0.0000,   0.0000,   0.0000,   0.0000],\n",
              "        [  0.0000,   0.0000,   0.0000,   0.0000,   0.0000,   0.0000,   0.0000,   0.0000,   0.0000,   0.0000,   0.0000,   0.0000,   0.0000,   0.0000,   0.0000,   0.0000,   0.0000,   0.0000,   0.0000,\n",
              "           0.0000,   0.0000,   0.0000,   0.0000,   0.0000,   0.0000,   0.0000,   0.0000,   0.0000],\n",
              "        [  0.0000,   0.0000,   0.0000,   0.0000,   0.0000,   0.0000,   0.0000,   0.0000,   0.0000,   0.0000,   0.0000,   0.0000,   0.0000,   0.0000,   0.0000,   0.0000,   0.0000,   0.0000,   0.0000,\n",
              "           0.0000,   0.0000,   0.0000,   0.0000,   0.0000,   0.0000,   0.0000,   0.0000,   0.0000]])"
            ]
          },
          "metadata": {
            "tags": []
          },
          "execution_count": 87
        }
      ]
    },
    {
      "cell_type": "markdown",
      "metadata": {
        "id": "IjgNOd2-zB36",
        "colab_type": "text"
      },
      "source": [
        "Works for tuples the same way "
      ]
    },
    {
      "cell_type": "code",
      "metadata": {
        "id": "a3Ui7SohxHJq",
        "colab_type": "code",
        "colab": {}
      },
      "source": [
        "imgtup = (mti, mi)"
      ],
      "execution_count": null,
      "outputs": []
    },
    {
      "cell_type": "code",
      "metadata": {
        "id": "vCRpvKX4wFzH",
        "colab_type": "code",
        "colab": {}
      },
      "source": [
        "ftup = f(imgtup)"
      ],
      "execution_count": null,
      "outputs": []
    },
    {
      "cell_type": "code",
      "metadata": {
        "id": "9tMGBRxqwFf4",
        "colab_type": "code",
        "colab": {
          "base_uri": "https://localhost:8080/",
          "height": 969
        },
        "outputId": "190dfade-6048-499c-9f31-92f716a9c7a0"
      },
      "source": [
        "ftup"
      ],
      "execution_count": null,
      "outputs": [
        {
          "output_type": "execute_result",
          "data": {
            "text/plain": [
              "(MyTensorImg([[-0.3888, -0.3888, -0.3888, -0.3888, -0.3888, -0.3888, -0.3888, -0.3888, -0.3888, -0.3888, -0.3888, -0.3888, -0.3888, -0.3888, -0.3888, -0.3888, -0.3888, -0.3888, -0.3888, -0.3888, -0.3888,\n",
              "          -0.3888, -0.3888, -0.3888, -0.3888, -0.3888, -0.3888, -0.3888],\n",
              "         [-0.3888, -0.3888, -0.3888, -0.3888, -0.3888, -0.3888, -0.3888, -0.3888, -0.3888, -0.3888, -0.3888, -0.3888, -0.3888, -0.3888, -0.3888, -0.3888, -0.3888, -0.3888, -0.3888, -0.3888, -0.3888,\n",
              "          -0.3888, -0.3888, -0.3888, -0.3888, -0.3888, -0.3888, -0.3888],\n",
              "         [-0.3888, -0.3888, -0.3888, -0.3888, -0.3888, -0.3888, -0.3888, -0.3888, -0.3888, -0.3888, -0.3888, -0.3888, -0.3888, -0.3888, -0.3888, -0.3888, -0.3888, -0.3888, -0.3888, -0.3888, -0.3888,\n",
              "          -0.3888, -0.3888, -0.3888, -0.3888, -0.3888, -0.3888, -0.3888],\n",
              "         [-0.3888, -0.3888, -0.3888, -0.3888, -0.3888, -0.3888, -0.3888, -0.3888, -0.3888, -0.3888, -0.3888, -0.3888, -0.3888, -0.3888, -0.3888, -0.3888, -0.3888, -0.3888, -0.3888, -0.3888, -0.3888,\n",
              "          -0.3888, -0.3888, -0.3888, -0.3888, -0.3888, -0.3888, -0.3888],\n",
              "         [-0.3888, -0.3888, -0.3888, -0.3888, -0.3888, -0.3888, -0.3888, -0.3888, -0.3888, -0.3888, -0.3888, -0.3888, -0.3888, -0.3888, -0.3888, -0.3888, -0.3888, -0.3888, -0.3888, -0.3888, -0.3888,\n",
              "          -0.3888, -0.3888, -0.3888, -0.3888, -0.3888, -0.3888, -0.3888],\n",
              "         [-0.3888, -0.3888, -0.3888, -0.3888, -0.3888, -0.3888, -0.3888, -0.3888, -0.3888, -0.0306,  2.5458,  1.9396,  1.2783,  1.2783,  2.2565,  1.2783,  1.2783,  1.2783,  0.8374, -0.3888, -0.3888,\n",
              "          -0.3888, -0.3888, -0.3888, -0.3888, -0.3888, -0.3888, -0.3888],\n",
              "         [-0.3888, -0.3888, -0.3888, -0.3888, -0.3888, -0.3888, -0.3888, -0.3888, -0.3888,  0.0383,  2.6422,  3.0969,  3.0969,  3.0969,  3.1107,  3.0969,  3.0969,  3.0969,  3.0556,  2.2289, -0.3888,\n",
              "          -0.3888, -0.3888, -0.3888, -0.3888, -0.3888, -0.3888, -0.3888],\n",
              "         [-0.3888, -0.3888, -0.3888, -0.3888, -0.3888, -0.3888, -0.3888, -0.3888, -0.3888, -0.3888,  0.1485,  1.8018,  2.5596,  3.0969,  1.8156,  1.8018,  2.2840,  3.0969,  3.0969,  2.3529, -0.3888,\n",
              "          -0.3888, -0.3888, -0.3888, -0.3888, -0.3888, -0.3888, -0.3888],\n",
              "         [-0.3888, -0.3888, -0.3888, -0.3888, -0.3888, -0.3888, -0.3888, -0.3888, -0.3888, -0.3888, -0.3888, -0.3888, -0.0719,  0.1485, -0.3888, -0.3888,  0.9063,  3.0969,  3.0969,  2.3529, -0.3888,\n",
              "          -0.3888, -0.3888, -0.3888, -0.3888, -0.3888, -0.3888, -0.3888],\n",
              "         [-0.3888, -0.3888, -0.3888, -0.3888, -0.3888, -0.3888, -0.3888, -0.3888, -0.3888, -0.3888, -0.3888, -0.3888, -0.3888, -0.3888, -0.3888, -0.3888,  1.3885,  3.0969,  3.0969,  1.8707, -0.3888,\n",
              "          -0.3888, -0.3888, -0.3888, -0.3888, -0.3888, -0.3888, -0.3888],\n",
              "         [-0.3888, -0.3888, -0.3888, -0.3888, -0.3888, -0.3888, -0.3888, -0.3888, -0.3888, -0.3888, -0.3888, -0.3888, -0.3888, -0.3888, -0.3888,  2.0636,  3.0142,  3.0969,  2.9040,  0.3276, -0.3888,\n",
              "          -0.3888, -0.3888, -0.3888, -0.3888, -0.3888, -0.3888, -0.3888],\n",
              "         [-0.3888, -0.3888, -0.3888, -0.3888, -0.3888, -0.3888, -0.3888, -0.3888, -0.3888, -0.3888, -0.3888, -0.3888, -0.3888, -0.0857,  2.0222,  3.0418,  3.0969,  2.9178,  0.7960, -0.3888, -0.3888,\n",
              "          -0.3888, -0.3888, -0.3888, -0.3888, -0.3888, -0.3888, -0.3888],\n",
              "         [-0.3888, -0.3888, -0.3888, -0.3888, -0.3888, -0.3888, -0.3888, -0.3888, -0.3888, -0.3888, -0.3888, -0.3475,  0.0796,  2.5045,  3.1107,  3.0969,  2.0774,  0.4929, -0.3888, -0.3888, -0.3888,\n",
              "          -0.3888, -0.3888, -0.3888, -0.3888, -0.3888, -0.3888, -0.3888],\n",
              "         [-0.3888, -0.3888, -0.3888, -0.3888, -0.3888, -0.3888, -0.3888, -0.3888, -0.3888, -0.3888, -0.3888,  1.0578,  3.0969,  3.0969,  3.1107,  1.1818, -0.2373, -0.3888, -0.3888, -0.3888, -0.3888,\n",
              "          -0.3888, -0.3888, -0.3888, -0.3888, -0.3888, -0.3888, -0.3888],\n",
              "         [-0.3888, -0.3888, -0.3888, -0.3888, -0.3888, -0.3888, -0.3888, -0.3888, -0.3888, -0.3888, -0.0857,  2.5045,  3.0969,  3.0969,  1.2783, -0.3062, -0.3888, -0.3888, -0.3888, -0.3888, -0.3888,\n",
              "          -0.3888, -0.3888, -0.3888, -0.3888, -0.3888, -0.3888, -0.3888],\n",
              "         [-0.3888, -0.3888, -0.3888, -0.3888, -0.3888, -0.3888, -0.3888, -0.3888, -0.3888, -0.3888,  0.1761,  3.1107,  3.1107,  1.2783, -0.3888, -0.3888, -0.3888, -0.3888, -0.3888, -0.3888, -0.3888,\n",
              "          -0.3888, -0.3888, -0.3888, -0.3888, -0.3888, -0.3888, -0.3888],\n",
              "         [-0.3888, -0.3888, -0.3888, -0.3888, -0.3888, -0.3888, -0.3888, -0.3888, -0.3888, -0.3888, -0.3613,  1.8845,  3.0969,  3.0142, -0.3888, -0.3888, -0.3888, -0.3888, -0.3888, -0.3888, -0.3888,\n",
              "          -0.3888, -0.3888, -0.3888, -0.3888, -0.3888, -0.3888, -0.3888],\n",
              "         [-0.3888, -0.3888, -0.3888, -0.3888, -0.3888, -0.3888, -0.3888, -0.3888, -0.3888, -0.3888, -0.3888,  1.1543,  3.0969,  3.0969,  1.8845, -0.3199, -0.3888, -0.3888, -0.3888, -0.3888, -0.3888,\n",
              "          -0.3888, -0.3888, -0.3888, -0.3888, -0.3888, -0.3888, -0.3888],\n",
              "         [-0.3888, -0.3888, -0.3888, -0.3888, -0.3888, -0.3888, -0.3888, -0.3888, -0.3888, -0.3888, -0.3888, -0.1271,  2.6285,  3.0969,  3.1107, -0.2097, -0.3888, -0.3888, -0.3888, -0.3888, -0.3888,\n",
              "          -0.3888, -0.3888, -0.3888, -0.3888, -0.3888, -0.3888, -0.3888],\n",
              "         [-0.3888, -0.3888, -0.3888, -0.3888, -0.3888, -0.3888, -0.3888, -0.3888, -0.3888, -0.3888, -0.3888, -0.3888,  0.1898,  3.0969,  3.1107,  1.2507, -0.3888, -0.3888, -0.3888, -0.3888, -0.3888,\n",
              "          -0.3888, -0.3888, -0.3888, -0.3888, -0.3888, -0.3888, -0.3888],\n",
              "         [-0.3888, -0.3888, -0.3888, -0.3888, -0.3888, -0.3888, -0.3888, -0.3888, -0.3888, -0.3888, -0.3888, -0.3888, -0.3337,  1.8845,  3.1107,  2.7111, -0.1271, -0.3888, -0.3888, -0.3888, -0.3888,\n",
              "          -0.3888, -0.3888, -0.3888, -0.3888, -0.3888, -0.3888, -0.3888],\n",
              "         [-0.3888, -0.3888, -0.3888, -0.3888, -0.3888, -0.3888, -0.3888, -0.3888,  0.0521,  0.1761,  0.1761,  0.1761,  0.1761,  1.7191,  3.1244,  3.0969,  1.2369, -0.3888, -0.3888, -0.3888, -0.3888,\n",
              "          -0.3888, -0.3888, -0.3888, -0.3888, -0.3888, -0.3888, -0.3888],\n",
              "         [-0.3888, -0.3888, -0.3888, -0.3888, -0.3888, -0.3888, -0.3888, -0.3888,  2.3805,  3.0969,  3.0969,  3.0969,  3.0969,  3.0969,  3.1244,  3.0969,  0.6445, -0.3888, -0.3888, -0.3888, -0.3888,\n",
              "          -0.3888, -0.3888, -0.3888, -0.3888, -0.3888, -0.3888, -0.3888],\n",
              "         [-0.3888, -0.3888, -0.3888, -0.3888, -0.3888, -0.3888, -0.3888, -0.3888,  2.2840,  3.0969,  3.0969,  3.0969,  3.0969,  3.0969,  3.1244,  2.1462, -0.2373, -0.3888, -0.3888, -0.3888, -0.3888,\n",
              "          -0.3888, -0.3888, -0.3888, -0.3888, -0.3888, -0.3888, -0.3888],\n",
              "         [-0.3888, -0.3888, -0.3888, -0.3888, -0.3888, -0.3888, -0.3888, -0.3888,  0.0521,  1.2645,  1.2645,  1.2645,  1.2645,  2.2289,  1.2783, -0.3062, -0.3888, -0.3888, -0.3888, -0.3888, -0.3888,\n",
              "          -0.3888, -0.3888, -0.3888, -0.3888, -0.3888, -0.3888, -0.3888],\n",
              "         [-0.3888, -0.3888, -0.3888, -0.3888, -0.3888, -0.3888, -0.3888, -0.3888, -0.3888, -0.3888, -0.3888, -0.3888, -0.3888, -0.3888, -0.3888, -0.3888, -0.3888, -0.3888, -0.3888, -0.3888, -0.3888,\n",
              "          -0.3888, -0.3888, -0.3888, -0.3888, -0.3888, -0.3888, -0.3888],\n",
              "         [-0.3888, -0.3888, -0.3888, -0.3888, -0.3888, -0.3888, -0.3888, -0.3888, -0.3888, -0.3888, -0.3888, -0.3888, -0.3888, -0.3888, -0.3888, -0.3888, -0.3888, -0.3888, -0.3888, -0.3888, -0.3888,\n",
              "          -0.3888, -0.3888, -0.3888, -0.3888, -0.3888, -0.3888, -0.3888],\n",
              "         [-0.3888, -0.3888, -0.3888, -0.3888, -0.3888, -0.3888, -0.3888, -0.3888, -0.3888, -0.3888, -0.3888, -0.3888, -0.3888, -0.3888, -0.3888, -0.3888, -0.3888, -0.3888, -0.3888, -0.3888, -0.3888,\n",
              "          -0.3888, -0.3888, -0.3888, -0.3888, -0.3888, -0.3888, -0.3888]]), 1)"
            ]
          },
          "metadata": {
            "tags": []
          },
          "execution_count": 90
        }
      ]
    },
    {
      "cell_type": "code",
      "metadata": {
        "id": "FK9InxxDwFKa",
        "colab_type": "code",
        "colab": {
          "base_uri": "https://localhost:8080/",
          "height": 986
        },
        "outputId": "ac0e51fb-19a5-484d-8ac8-6401dae8a1e5"
      },
      "source": [
        "f.decode(ftup)"
      ],
      "execution_count": null,
      "outputs": [
        {
          "output_type": "execute_result",
          "data": {
            "text/plain": [
              "(MyTensorImg([[  0.0000,   0.0000,   0.0000,   0.0000,   0.0000,   0.0000,   0.0000,   0.0000,   0.0000,   0.0000,   0.0000,   0.0000,   0.0000,   0.0000,   0.0000,   0.0000,   0.0000,   0.0000,   0.0000,\n",
              "            0.0000,   0.0000,   0.0000,   0.0000,   0.0000,   0.0000,   0.0000,   0.0000,   0.0000],\n",
              "         [  0.0000,   0.0000,   0.0000,   0.0000,   0.0000,   0.0000,   0.0000,   0.0000,   0.0000,   0.0000,   0.0000,   0.0000,   0.0000,   0.0000,   0.0000,   0.0000,   0.0000,   0.0000,   0.0000,\n",
              "            0.0000,   0.0000,   0.0000,   0.0000,   0.0000,   0.0000,   0.0000,   0.0000,   0.0000],\n",
              "         [  0.0000,   0.0000,   0.0000,   0.0000,   0.0000,   0.0000,   0.0000,   0.0000,   0.0000,   0.0000,   0.0000,   0.0000,   0.0000,   0.0000,   0.0000,   0.0000,   0.0000,   0.0000,   0.0000,\n",
              "            0.0000,   0.0000,   0.0000,   0.0000,   0.0000,   0.0000,   0.0000,   0.0000,   0.0000],\n",
              "         [  0.0000,   0.0000,   0.0000,   0.0000,   0.0000,   0.0000,   0.0000,   0.0000,   0.0000,   0.0000,   0.0000,   0.0000,   0.0000,   0.0000,   0.0000,   0.0000,   0.0000,   0.0000,   0.0000,\n",
              "            0.0000,   0.0000,   0.0000,   0.0000,   0.0000,   0.0000,   0.0000,   0.0000,   0.0000],\n",
              "         [  0.0000,   0.0000,   0.0000,   0.0000,   0.0000,   0.0000,   0.0000,   0.0000,   0.0000,   0.0000,   0.0000,   0.0000,   0.0000,   0.0000,   0.0000,   0.0000,   0.0000,   0.0000,   0.0000,\n",
              "            0.0000,   0.0000,   0.0000,   0.0000,   0.0000,   0.0000,   0.0000,   0.0000,   0.0000],\n",
              "         [  0.0000,   0.0000,   0.0000,   0.0000,   0.0000,   0.0000,   0.0000,   0.0000,   0.0000,  26.0000, 213.0000, 169.0000, 121.0000, 121.0000, 192.0000, 121.0000, 121.0000, 121.0000,  89.0000,\n",
              "            0.0000,   0.0000,   0.0000,   0.0000,   0.0000,   0.0000,   0.0000,   0.0000,   0.0000],\n",
              "         [  0.0000,   0.0000,   0.0000,   0.0000,   0.0000,   0.0000,   0.0000,   0.0000,   0.0000,  31.0000, 220.0000, 253.0000, 253.0000, 253.0000, 254.0000, 253.0000, 253.0000, 253.0000, 250.0000,\n",
              "          190.0000,   0.0000,   0.0000,   0.0000,   0.0000,   0.0000,   0.0000,   0.0000,   0.0000],\n",
              "         [  0.0000,   0.0000,   0.0000,   0.0000,   0.0000,   0.0000,   0.0000,   0.0000,   0.0000,   0.0000,  39.0000, 159.0000, 214.0000, 253.0000, 160.0000, 159.0000, 194.0000, 253.0000, 253.0000,\n",
              "          199.0000,   0.0000,   0.0000,   0.0000,   0.0000,   0.0000,   0.0000,   0.0000,   0.0000],\n",
              "         [  0.0000,   0.0000,   0.0000,   0.0000,   0.0000,   0.0000,   0.0000,   0.0000,   0.0000,   0.0000,   0.0000,   0.0000,  23.0000,  39.0000,   0.0000,   0.0000,  94.0000, 253.0000, 253.0000,\n",
              "          199.0000,   0.0000,   0.0000,   0.0000,   0.0000,   0.0000,   0.0000,   0.0000,   0.0000],\n",
              "         [  0.0000,   0.0000,   0.0000,   0.0000,   0.0000,   0.0000,   0.0000,   0.0000,   0.0000,   0.0000,   0.0000,   0.0000,   0.0000,   0.0000,   0.0000,   0.0000, 129.0000, 253.0000, 253.0000,\n",
              "          164.0000,   0.0000,   0.0000,   0.0000,   0.0000,   0.0000,   0.0000,   0.0000,   0.0000],\n",
              "         [  0.0000,   0.0000,   0.0000,   0.0000,   0.0000,   0.0000,   0.0000,   0.0000,   0.0000,   0.0000,   0.0000,   0.0000,   0.0000,   0.0000,   0.0000, 178.0000, 247.0000, 253.0000, 239.0000,\n",
              "           52.0000,   0.0000,   0.0000,   0.0000,   0.0000,   0.0000,   0.0000,   0.0000,   0.0000],\n",
              "         [  0.0000,   0.0000,   0.0000,   0.0000,   0.0000,   0.0000,   0.0000,   0.0000,   0.0000,   0.0000,   0.0000,   0.0000,   0.0000,  22.0000, 175.0000, 249.0000, 253.0000, 240.0000,  86.0000,\n",
              "            0.0000,   0.0000,   0.0000,   0.0000,   0.0000,   0.0000,   0.0000,   0.0000,   0.0000],\n",
              "         [  0.0000,   0.0000,   0.0000,   0.0000,   0.0000,   0.0000,   0.0000,   0.0000,   0.0000,   0.0000,   0.0000,   3.0000,  34.0000, 210.0000, 254.0000, 253.0000, 179.0000,  64.0000,   0.0000,\n",
              "            0.0000,   0.0000,   0.0000,   0.0000,   0.0000,   0.0000,   0.0000,   0.0000,   0.0000],\n",
              "         [  0.0000,   0.0000,   0.0000,   0.0000,   0.0000,   0.0000,   0.0000,   0.0000,   0.0000,   0.0000,   0.0000, 105.0000, 253.0000, 253.0000, 254.0000, 114.0000,  11.0000,   0.0000,   0.0000,\n",
              "            0.0000,   0.0000,   0.0000,   0.0000,   0.0000,   0.0000,   0.0000,   0.0000,   0.0000],\n",
              "         [  0.0000,   0.0000,   0.0000,   0.0000,   0.0000,   0.0000,   0.0000,   0.0000,   0.0000,   0.0000,  22.0000, 210.0000, 253.0000, 253.0000, 121.0000,   6.0000,   0.0000,   0.0000,   0.0000,\n",
              "            0.0000,   0.0000,   0.0000,   0.0000,   0.0000,   0.0000,   0.0000,   0.0000,   0.0000],\n",
              "         [  0.0000,   0.0000,   0.0000,   0.0000,   0.0000,   0.0000,   0.0000,   0.0000,   0.0000,   0.0000,  41.0000, 254.0000, 254.0000, 121.0000,   0.0000,   0.0000,   0.0000,   0.0000,   0.0000,\n",
              "            0.0000,   0.0000,   0.0000,   0.0000,   0.0000,   0.0000,   0.0000,   0.0000,   0.0000],\n",
              "         [  0.0000,   0.0000,   0.0000,   0.0000,   0.0000,   0.0000,   0.0000,   0.0000,   0.0000,   0.0000,   2.0000, 165.0000, 253.0000, 247.0000,   0.0000,   0.0000,   0.0000,   0.0000,   0.0000,\n",
              "            0.0000,   0.0000,   0.0000,   0.0000,   0.0000,   0.0000,   0.0000,   0.0000,   0.0000],\n",
              "         [  0.0000,   0.0000,   0.0000,   0.0000,   0.0000,   0.0000,   0.0000,   0.0000,   0.0000,   0.0000,   0.0000, 112.0000, 253.0000, 253.0000, 165.0000,   5.0000,   0.0000,   0.0000,   0.0000,\n",
              "            0.0000,   0.0000,   0.0000,   0.0000,   0.0000,   0.0000,   0.0000,   0.0000,   0.0000],\n",
              "         [  0.0000,   0.0000,   0.0000,   0.0000,   0.0000,   0.0000,   0.0000,   0.0000,   0.0000,   0.0000,   0.0000,  19.0000, 219.0000, 253.0000, 254.0000,  13.0000,   0.0000,   0.0000,   0.0000,\n",
              "            0.0000,   0.0000,   0.0000,   0.0000,   0.0000,   0.0000,   0.0000,   0.0000,   0.0000],\n",
              "         [  0.0000,   0.0000,   0.0000,   0.0000,   0.0000,   0.0000,   0.0000,   0.0000,   0.0000,   0.0000,   0.0000,   0.0000,  42.0000, 253.0000, 254.0000, 119.0000,   0.0000,   0.0000,   0.0000,\n",
              "            0.0000,   0.0000,   0.0000,   0.0000,   0.0000,   0.0000,   0.0000,   0.0000,   0.0000],\n",
              "         [  0.0000,   0.0000,   0.0000,   0.0000,   0.0000,   0.0000,   0.0000,   0.0000,   0.0000,   0.0000,   0.0000,   0.0000,   4.0000, 165.0000, 254.0000, 225.0000,  19.0000,   0.0000,   0.0000,\n",
              "            0.0000,   0.0000,   0.0000,   0.0000,   0.0000,   0.0000,   0.0000,   0.0000,   0.0000],\n",
              "         [  0.0000,   0.0000,   0.0000,   0.0000,   0.0000,   0.0000,   0.0000,   0.0000,  32.0000,  41.0000,  41.0000,  41.0000,  41.0000, 153.0000, 255.0000, 253.0000, 118.0000,   0.0000,   0.0000,\n",
              "            0.0000,   0.0000,   0.0000,   0.0000,   0.0000,   0.0000,   0.0000,   0.0000,   0.0000],\n",
              "         [  0.0000,   0.0000,   0.0000,   0.0000,   0.0000,   0.0000,   0.0000,   0.0000, 201.0000, 253.0000, 253.0000, 253.0000, 253.0000, 253.0000, 255.0000, 253.0000,  75.0000,   0.0000,   0.0000,\n",
              "            0.0000,   0.0000,   0.0000,   0.0000,   0.0000,   0.0000,   0.0000,   0.0000,   0.0000],\n",
              "         [  0.0000,   0.0000,   0.0000,   0.0000,   0.0000,   0.0000,   0.0000,   0.0000, 194.0000, 253.0000, 253.0000, 253.0000, 253.0000, 253.0000, 255.0000, 184.0000,  11.0000,   0.0000,   0.0000,\n",
              "            0.0000,   0.0000,   0.0000,   0.0000,   0.0000,   0.0000,   0.0000,   0.0000,   0.0000],\n",
              "         [  0.0000,   0.0000,   0.0000,   0.0000,   0.0000,   0.0000,   0.0000,   0.0000,  32.0000, 120.0000, 120.0000, 120.0000, 120.0000, 190.0000, 121.0000,   6.0000,   0.0000,   0.0000,   0.0000,\n",
              "            0.0000,   0.0000,   0.0000,   0.0000,   0.0000,   0.0000,   0.0000,   0.0000,   0.0000],\n",
              "         [  0.0000,   0.0000,   0.0000,   0.0000,   0.0000,   0.0000,   0.0000,   0.0000,   0.0000,   0.0000,   0.0000,   0.0000,   0.0000,   0.0000,   0.0000,   0.0000,   0.0000,   0.0000,   0.0000,\n",
              "            0.0000,   0.0000,   0.0000,   0.0000,   0.0000,   0.0000,   0.0000,   0.0000,   0.0000],\n",
              "         [  0.0000,   0.0000,   0.0000,   0.0000,   0.0000,   0.0000,   0.0000,   0.0000,   0.0000,   0.0000,   0.0000,   0.0000,   0.0000,   0.0000,   0.0000,   0.0000,   0.0000,   0.0000,   0.0000,\n",
              "            0.0000,   0.0000,   0.0000,   0.0000,   0.0000,   0.0000,   0.0000,   0.0000,   0.0000],\n",
              "         [  0.0000,   0.0000,   0.0000,   0.0000,   0.0000,   0.0000,   0.0000,   0.0000,   0.0000,   0.0000,   0.0000,   0.0000,   0.0000,   0.0000,   0.0000,   0.0000,   0.0000,   0.0000,   0.0000,\n",
              "            0.0000,   0.0000,   0.0000,   0.0000,   0.0000,   0.0000,   0.0000,   0.0000,   0.0000]]),\n",
              " 1)"
            ]
          },
          "metadata": {
            "tags": []
          },
          "execution_count": 91
        }
      ]
    },
    {
      "cell_type": "markdown",
      "metadata": {
        "id": "Kpya5Qogzz3E",
        "colab_type": "text"
      },
      "source": [
        "Not enough to just have one transform like Normalize but need to be able to do other things as well. For eg flip during data augmentation"
      ]
    },
    {
      "cell_type": "code",
      "metadata": {
        "id": "453ilqhbzodv",
        "colab_type": "code",
        "colab": {}
      },
      "source": [
        "def flip_img(x:MyTensorImg): return torch.flip(x, (1,)) if random.random()>0.5 else x"
      ],
      "execution_count": null,
      "outputs": []
    },
    {
      "cell_type": "markdown",
      "metadata": {
        "id": "2s2MLfR10wjw",
        "colab_type": "text"
      },
      "source": [
        "Q: How do we combine the two things together. Normalization and Flipping. "
      ]
    },
    {
      "cell_type": "code",
      "metadata": {
        "id": "cxv9JR-kzojR",
        "colab_type": "code",
        "colab": {
          "base_uri": "https://localhost:8080/",
          "height": 231
        },
        "outputId": "b6e2e86e-840f-40f9-9214-3a4cef7bab40"
      },
      "source": [
        "# One way would be to do this but if we try it for the tuple DOES NOT WORK\n",
        "ttup = flip_img(f(imgtup))"
      ],
      "execution_count": null,
      "outputs": [
        {
          "output_type": "error",
          "ename": "TypeError",
          "evalue": "ignored",
          "traceback": [
            "\u001b[0;31m---------------------------------------------------------------------------\u001b[0m",
            "\u001b[0;31mTypeError\u001b[0m                                 Traceback (most recent call last)",
            "\u001b[0;32m<ipython-input-93-3a964ea6bd3b>\u001b[0m in \u001b[0;36m<module>\u001b[0;34m()\u001b[0m\n\u001b[1;32m      1\u001b[0m \u001b[0;31m# One way would be to do this but if we try it for the tuple DOES NOT WORK\u001b[0m\u001b[0;34m\u001b[0m\u001b[0;34m\u001b[0m\u001b[0;34m\u001b[0m\u001b[0m\n\u001b[0;32m----> 2\u001b[0;31m \u001b[0mttup\u001b[0m \u001b[0;34m=\u001b[0m \u001b[0mflip_img\u001b[0m\u001b[0;34m(\u001b[0m\u001b[0mf\u001b[0m\u001b[0;34m(\u001b[0m\u001b[0mimgtup\u001b[0m\u001b[0;34m)\u001b[0m\u001b[0;34m)\u001b[0m\u001b[0;34m\u001b[0m\u001b[0;34m\u001b[0m\u001b[0m\n\u001b[0m",
            "\u001b[0;32m<ipython-input-92-80cbf03141cd>\u001b[0m in \u001b[0;36mflip_img\u001b[0;34m(x)\u001b[0m\n\u001b[0;32m----> 1\u001b[0;31m \u001b[0;32mdef\u001b[0m \u001b[0mflip_img\u001b[0m\u001b[0;34m(\u001b[0m\u001b[0mx\u001b[0m\u001b[0;34m:\u001b[0m\u001b[0mMyTensorImg\u001b[0m\u001b[0;34m)\u001b[0m\u001b[0;34m:\u001b[0m \u001b[0;32mreturn\u001b[0m \u001b[0mtorch\u001b[0m\u001b[0;34m.\u001b[0m\u001b[0mflip\u001b[0m\u001b[0;34m(\u001b[0m\u001b[0mx\u001b[0m\u001b[0;34m,\u001b[0m \u001b[0;36m1\u001b[0m\u001b[0;34m)\u001b[0m \u001b[0;32mif\u001b[0m \u001b[0mrandom\u001b[0m\u001b[0;34m.\u001b[0m\u001b[0mrandom\u001b[0m\u001b[0;34m(\u001b[0m\u001b[0;34m)\u001b[0m\u001b[0;34m>\u001b[0m\u001b[0;36m0.5\u001b[0m \u001b[0;32melse\u001b[0m \u001b[0mx\u001b[0m\u001b[0;34m\u001b[0m\u001b[0;34m\u001b[0m\u001b[0m\n\u001b[0m",
            "\u001b[0;31mTypeError\u001b[0m: flip(): argument 'input' (position 1) must be Tensor, not tuple"
          ]
        }
      ]
    },
    {
      "cell_type": "code",
      "metadata": {
        "id": "PtIyHxZNzo8W",
        "colab_type": "code",
        "colab": {}
      },
      "source": [
        "@Transform\n",
        "def flip_img(x:MyTensorImg): return torch.flip(x, (1,)) if random.random()>0.5 else x"
      ],
      "execution_count": null,
      "outputs": []
    },
    {
      "cell_type": "code",
      "metadata": {
        "id": "_hnLKN8RzpVV",
        "colab_type": "code",
        "colab": {}
      },
      "source": [
        "m,s = timg.mean(),timg.std()"
      ],
      "execution_count": null,
      "outputs": []
    },
    {
      "cell_type": "code",
      "metadata": {
        "id": "FjyjT3qkzpsg",
        "colab_type": "code",
        "colab": {}
      },
      "source": [
        "f= Norm(m=m,s=s)"
      ],
      "execution_count": null,
      "outputs": []
    },
    {
      "cell_type": "code",
      "metadata": {
        "id": "_xP_qU5ezpnE",
        "colab_type": "code",
        "colab": {}
      },
      "source": [
        "ttup = flip_img(f(imgtup))"
      ],
      "execution_count": null,
      "outputs": []
    },
    {
      "cell_type": "code",
      "metadata": {
        "id": "gg3OS-cRTWWL",
        "colab_type": "code",
        "colab": {
          "base_uri": "https://localhost:8080/",
          "height": 969
        },
        "outputId": "937d72b5-d490-4791-d62c-86a5b5bbe220"
      },
      "source": [
        "ttup"
      ],
      "execution_count": null,
      "outputs": [
        {
          "output_type": "execute_result",
          "data": {
            "text/plain": [
              "(MyTensorImg([[-0.3888, -0.3888, -0.3888, -0.3888, -0.3888, -0.3888, -0.3888, -0.3888, -0.3888, -0.3888, -0.3888, -0.3888, -0.3888, -0.3888, -0.3888, -0.3888, -0.3888, -0.3888, -0.3888, -0.3888, -0.3888,\n",
              "          -0.3888, -0.3888, -0.3888, -0.3888, -0.3888, -0.3888, -0.3888],\n",
              "         [-0.3888, -0.3888, -0.3888, -0.3888, -0.3888, -0.3888, -0.3888, -0.3888, -0.3888, -0.3888, -0.3888, -0.3888, -0.3888, -0.3888, -0.3888, -0.3888, -0.3888, -0.3888, -0.3888, -0.3888, -0.3888,\n",
              "          -0.3888, -0.3888, -0.3888, -0.3888, -0.3888, -0.3888, -0.3888],\n",
              "         [-0.3888, -0.3888, -0.3888, -0.3888, -0.3888, -0.3888, -0.3888, -0.3888, -0.3888, -0.3888, -0.3888, -0.3888, -0.3888, -0.3888, -0.3888, -0.3888, -0.3888, -0.3888, -0.3888, -0.3888, -0.3888,\n",
              "          -0.3888, -0.3888, -0.3888, -0.3888, -0.3888, -0.3888, -0.3888],\n",
              "         [-0.3888, -0.3888, -0.3888, -0.3888, -0.3888, -0.3888, -0.3888, -0.3888, -0.3888, -0.3888, -0.3888, -0.3888, -0.3888, -0.3888, -0.3888, -0.3888, -0.3888, -0.3888, -0.3888, -0.3888, -0.3888,\n",
              "          -0.3888, -0.3888, -0.3888, -0.3888, -0.3888, -0.3888, -0.3888],\n",
              "         [-0.3888, -0.3888, -0.3888, -0.3888, -0.3888, -0.3888, -0.3888, -0.3888, -0.3888, -0.3888, -0.3888, -0.3888, -0.3888, -0.3888, -0.3888, -0.3888, -0.3888, -0.3888, -0.3888, -0.3888, -0.3888,\n",
              "          -0.3888, -0.3888, -0.3888, -0.3888, -0.3888, -0.3888, -0.3888],\n",
              "         [-0.3888, -0.3888, -0.3888, -0.3888, -0.3888, -0.3888, -0.3888, -0.3888, -0.3888, -0.0306,  2.5458,  1.9396,  1.2783,  1.2783,  2.2565,  1.2783,  1.2783,  1.2783,  0.8374, -0.3888, -0.3888,\n",
              "          -0.3888, -0.3888, -0.3888, -0.3888, -0.3888, -0.3888, -0.3888],\n",
              "         [-0.3888, -0.3888, -0.3888, -0.3888, -0.3888, -0.3888, -0.3888, -0.3888, -0.3888,  0.0383,  2.6422,  3.0969,  3.0969,  3.0969,  3.1107,  3.0969,  3.0969,  3.0969,  3.0556,  2.2289, -0.3888,\n",
              "          -0.3888, -0.3888, -0.3888, -0.3888, -0.3888, -0.3888, -0.3888],\n",
              "         [-0.3888, -0.3888, -0.3888, -0.3888, -0.3888, -0.3888, -0.3888, -0.3888, -0.3888, -0.3888,  0.1485,  1.8018,  2.5596,  3.0969,  1.8156,  1.8018,  2.2840,  3.0969,  3.0969,  2.3529, -0.3888,\n",
              "          -0.3888, -0.3888, -0.3888, -0.3888, -0.3888, -0.3888, -0.3888],\n",
              "         [-0.3888, -0.3888, -0.3888, -0.3888, -0.3888, -0.3888, -0.3888, -0.3888, -0.3888, -0.3888, -0.3888, -0.3888, -0.0719,  0.1485, -0.3888, -0.3888,  0.9063,  3.0969,  3.0969,  2.3529, -0.3888,\n",
              "          -0.3888, -0.3888, -0.3888, -0.3888, -0.3888, -0.3888, -0.3888],\n",
              "         [-0.3888, -0.3888, -0.3888, -0.3888, -0.3888, -0.3888, -0.3888, -0.3888, -0.3888, -0.3888, -0.3888, -0.3888, -0.3888, -0.3888, -0.3888, -0.3888,  1.3885,  3.0969,  3.0969,  1.8707, -0.3888,\n",
              "          -0.3888, -0.3888, -0.3888, -0.3888, -0.3888, -0.3888, -0.3888],\n",
              "         [-0.3888, -0.3888, -0.3888, -0.3888, -0.3888, -0.3888, -0.3888, -0.3888, -0.3888, -0.3888, -0.3888, -0.3888, -0.3888, -0.3888, -0.3888,  2.0636,  3.0142,  3.0969,  2.9040,  0.3276, -0.3888,\n",
              "          -0.3888, -0.3888, -0.3888, -0.3888, -0.3888, -0.3888, -0.3888],\n",
              "         [-0.3888, -0.3888, -0.3888, -0.3888, -0.3888, -0.3888, -0.3888, -0.3888, -0.3888, -0.3888, -0.3888, -0.3888, -0.3888, -0.0857,  2.0222,  3.0418,  3.0969,  2.9178,  0.7960, -0.3888, -0.3888,\n",
              "          -0.3888, -0.3888, -0.3888, -0.3888, -0.3888, -0.3888, -0.3888],\n",
              "         [-0.3888, -0.3888, -0.3888, -0.3888, -0.3888, -0.3888, -0.3888, -0.3888, -0.3888, -0.3888, -0.3888, -0.3475,  0.0796,  2.5045,  3.1107,  3.0969,  2.0774,  0.4929, -0.3888, -0.3888, -0.3888,\n",
              "          -0.3888, -0.3888, -0.3888, -0.3888, -0.3888, -0.3888, -0.3888],\n",
              "         [-0.3888, -0.3888, -0.3888, -0.3888, -0.3888, -0.3888, -0.3888, -0.3888, -0.3888, -0.3888, -0.3888,  1.0578,  3.0969,  3.0969,  3.1107,  1.1818, -0.2373, -0.3888, -0.3888, -0.3888, -0.3888,\n",
              "          -0.3888, -0.3888, -0.3888, -0.3888, -0.3888, -0.3888, -0.3888],\n",
              "         [-0.3888, -0.3888, -0.3888, -0.3888, -0.3888, -0.3888, -0.3888, -0.3888, -0.3888, -0.3888, -0.0857,  2.5045,  3.0969,  3.0969,  1.2783, -0.3062, -0.3888, -0.3888, -0.3888, -0.3888, -0.3888,\n",
              "          -0.3888, -0.3888, -0.3888, -0.3888, -0.3888, -0.3888, -0.3888],\n",
              "         [-0.3888, -0.3888, -0.3888, -0.3888, -0.3888, -0.3888, -0.3888, -0.3888, -0.3888, -0.3888,  0.1761,  3.1107,  3.1107,  1.2783, -0.3888, -0.3888, -0.3888, -0.3888, -0.3888, -0.3888, -0.3888,\n",
              "          -0.3888, -0.3888, -0.3888, -0.3888, -0.3888, -0.3888, -0.3888],\n",
              "         [-0.3888, -0.3888, -0.3888, -0.3888, -0.3888, -0.3888, -0.3888, -0.3888, -0.3888, -0.3888, -0.3613,  1.8845,  3.0969,  3.0142, -0.3888, -0.3888, -0.3888, -0.3888, -0.3888, -0.3888, -0.3888,\n",
              "          -0.3888, -0.3888, -0.3888, -0.3888, -0.3888, -0.3888, -0.3888],\n",
              "         [-0.3888, -0.3888, -0.3888, -0.3888, -0.3888, -0.3888, -0.3888, -0.3888, -0.3888, -0.3888, -0.3888,  1.1543,  3.0969,  3.0969,  1.8845, -0.3199, -0.3888, -0.3888, -0.3888, -0.3888, -0.3888,\n",
              "          -0.3888, -0.3888, -0.3888, -0.3888, -0.3888, -0.3888, -0.3888],\n",
              "         [-0.3888, -0.3888, -0.3888, -0.3888, -0.3888, -0.3888, -0.3888, -0.3888, -0.3888, -0.3888, -0.3888, -0.1271,  2.6285,  3.0969,  3.1107, -0.2097, -0.3888, -0.3888, -0.3888, -0.3888, -0.3888,\n",
              "          -0.3888, -0.3888, -0.3888, -0.3888, -0.3888, -0.3888, -0.3888],\n",
              "         [-0.3888, -0.3888, -0.3888, -0.3888, -0.3888, -0.3888, -0.3888, -0.3888, -0.3888, -0.3888, -0.3888, -0.3888,  0.1898,  3.0969,  3.1107,  1.2507, -0.3888, -0.3888, -0.3888, -0.3888, -0.3888,\n",
              "          -0.3888, -0.3888, -0.3888, -0.3888, -0.3888, -0.3888, -0.3888],\n",
              "         [-0.3888, -0.3888, -0.3888, -0.3888, -0.3888, -0.3888, -0.3888, -0.3888, -0.3888, -0.3888, -0.3888, -0.3888, -0.3337,  1.8845,  3.1107,  2.7111, -0.1271, -0.3888, -0.3888, -0.3888, -0.3888,\n",
              "          -0.3888, -0.3888, -0.3888, -0.3888, -0.3888, -0.3888, -0.3888],\n",
              "         [-0.3888, -0.3888, -0.3888, -0.3888, -0.3888, -0.3888, -0.3888, -0.3888,  0.0521,  0.1761,  0.1761,  0.1761,  0.1761,  1.7191,  3.1244,  3.0969,  1.2369, -0.3888, -0.3888, -0.3888, -0.3888,\n",
              "          -0.3888, -0.3888, -0.3888, -0.3888, -0.3888, -0.3888, -0.3888],\n",
              "         [-0.3888, -0.3888, -0.3888, -0.3888, -0.3888, -0.3888, -0.3888, -0.3888,  2.3805,  3.0969,  3.0969,  3.0969,  3.0969,  3.0969,  3.1244,  3.0969,  0.6445, -0.3888, -0.3888, -0.3888, -0.3888,\n",
              "          -0.3888, -0.3888, -0.3888, -0.3888, -0.3888, -0.3888, -0.3888],\n",
              "         [-0.3888, -0.3888, -0.3888, -0.3888, -0.3888, -0.3888, -0.3888, -0.3888,  2.2840,  3.0969,  3.0969,  3.0969,  3.0969,  3.0969,  3.1244,  2.1462, -0.2373, -0.3888, -0.3888, -0.3888, -0.3888,\n",
              "          -0.3888, -0.3888, -0.3888, -0.3888, -0.3888, -0.3888, -0.3888],\n",
              "         [-0.3888, -0.3888, -0.3888, -0.3888, -0.3888, -0.3888, -0.3888, -0.3888,  0.0521,  1.2645,  1.2645,  1.2645,  1.2645,  2.2289,  1.2783, -0.3062, -0.3888, -0.3888, -0.3888, -0.3888, -0.3888,\n",
              "          -0.3888, -0.3888, -0.3888, -0.3888, -0.3888, -0.3888, -0.3888],\n",
              "         [-0.3888, -0.3888, -0.3888, -0.3888, -0.3888, -0.3888, -0.3888, -0.3888, -0.3888, -0.3888, -0.3888, -0.3888, -0.3888, -0.3888, -0.3888, -0.3888, -0.3888, -0.3888, -0.3888, -0.3888, -0.3888,\n",
              "          -0.3888, -0.3888, -0.3888, -0.3888, -0.3888, -0.3888, -0.3888],\n",
              "         [-0.3888, -0.3888, -0.3888, -0.3888, -0.3888, -0.3888, -0.3888, -0.3888, -0.3888, -0.3888, -0.3888, -0.3888, -0.3888, -0.3888, -0.3888, -0.3888, -0.3888, -0.3888, -0.3888, -0.3888, -0.3888,\n",
              "          -0.3888, -0.3888, -0.3888, -0.3888, -0.3888, -0.3888, -0.3888],\n",
              "         [-0.3888, -0.3888, -0.3888, -0.3888, -0.3888, -0.3888, -0.3888, -0.3888, -0.3888, -0.3888, -0.3888, -0.3888, -0.3888, -0.3888, -0.3888, -0.3888, -0.3888, -0.3888, -0.3888, -0.3888, -0.3888,\n",
              "          -0.3888, -0.3888, -0.3888, -0.3888, -0.3888, -0.3888, -0.3888]]), 1)"
            ]
          },
          "metadata": {
            "tags": []
          },
          "execution_count": 98
        }
      ]
    },
    {
      "cell_type": "markdown",
      "metadata": {
        "id": "uRPFMFK3TcbC",
        "colab_type": "text"
      },
      "source": [
        "We would like to have ability to define a sequence of such functions (Transforms) and Use them multiple times. One way to do that is by using a Pipeline."
      ]
    },
    {
      "cell_type": "markdown",
      "metadata": {
        "colab_type": "text",
        "id": "Du1-5i4IUp1G"
      },
      "source": [
        "### Pipeline"
      ]
    },
    {
      "cell_type": "code",
      "metadata": {
        "id": "ryOmdget1qQT",
        "colab_type": "code",
        "colab": {}
      },
      "source": [
        "# compose is just a thing that runs functions in order \n",
        "pipe = compose(f, flip_img) # note the order seq"
      ],
      "execution_count": null,
      "outputs": []
    },
    {
      "cell_type": "code",
      "metadata": {
        "id": "ET0eRPxX1rMW",
        "colab_type": "code",
        "colab": {}
      },
      "source": [
        "ttup = pipe(imgtup)"
      ],
      "execution_count": null,
      "outputs": []
    },
    {
      "cell_type": "markdown",
      "metadata": {
        "id": "OI9z7CmsUF7r",
        "colab_type": "text"
      },
      "source": [
        "Problem with above is compose does NOT know anything about Transforms so we cannot do pipe.decode"
      ]
    },
    {
      "cell_type": "code",
      "metadata": {
        "id": "-6wiTCRJ1r4n",
        "colab_type": "code",
        "colab": {
          "base_uri": "https://localhost:8080/",
          "height": 163
        },
        "outputId": "64e4d8d5-d11c-4f22-f211-204356a31a47"
      },
      "source": [
        "pipe.decode(ttup) # Does NOT work"
      ],
      "execution_count": null,
      "outputs": [
        {
          "output_type": "error",
          "ename": "AttributeError",
          "evalue": "ignored",
          "traceback": [
            "\u001b[0;31m---------------------------------------------------------------------------\u001b[0m",
            "\u001b[0;31mAttributeError\u001b[0m                            Traceback (most recent call last)",
            "\u001b[0;32m<ipython-input-101-03ed84f17088>\u001b[0m in \u001b[0;36m<module>\u001b[0;34m()\u001b[0m\n\u001b[0;32m----> 1\u001b[0;31m \u001b[0mpipe\u001b[0m\u001b[0;34m.\u001b[0m\u001b[0mdecode\u001b[0m\u001b[0;34m(\u001b[0m\u001b[0mttup\u001b[0m\u001b[0;34m)\u001b[0m \u001b[0;31m# Does NOT work\u001b[0m\u001b[0;34m\u001b[0m\u001b[0;34m\u001b[0m\u001b[0m\n\u001b[0m",
            "\u001b[0;31mAttributeError\u001b[0m: 'function' object has no attribute 'decode'"
          ]
        }
      ]
    },
    {
      "cell_type": "code",
      "metadata": {
        "id": "CH2xFjHf1rdl",
        "colab_type": "code",
        "colab": {
          "base_uri": "https://localhost:8080/",
          "height": 986
        },
        "outputId": "61a81cfd-8004-45f9-d745-bcc8e0fb15f6"
      },
      "source": [
        "# have to do the following\n",
        "f.decode(flip_img.decode(ttup))"
      ],
      "execution_count": null,
      "outputs": [
        {
          "output_type": "execute_result",
          "data": {
            "text/plain": [
              "(MyTensorImg([[  0.0000,   0.0000,   0.0000,   0.0000,   0.0000,   0.0000,   0.0000,   0.0000,   0.0000,   0.0000,   0.0000,   0.0000,   0.0000,   0.0000,   0.0000,   0.0000,   0.0000,   0.0000,   0.0000,\n",
              "            0.0000,   0.0000,   0.0000,   0.0000,   0.0000,   0.0000,   0.0000,   0.0000,   0.0000],\n",
              "         [  0.0000,   0.0000,   0.0000,   0.0000,   0.0000,   0.0000,   0.0000,   0.0000,   0.0000,   0.0000,   0.0000,   0.0000,   0.0000,   0.0000,   0.0000,   0.0000,   0.0000,   0.0000,   0.0000,\n",
              "            0.0000,   0.0000,   0.0000,   0.0000,   0.0000,   0.0000,   0.0000,   0.0000,   0.0000],\n",
              "         [  0.0000,   0.0000,   0.0000,   0.0000,   0.0000,   0.0000,   0.0000,   0.0000,   0.0000,   0.0000,   0.0000,   0.0000,   0.0000,   0.0000,   0.0000,   0.0000,   0.0000,   0.0000,   0.0000,\n",
              "            0.0000,   0.0000,   0.0000,   0.0000,   0.0000,   0.0000,   0.0000,   0.0000,   0.0000],\n",
              "         [  0.0000,   0.0000,   0.0000,   0.0000,   0.0000,   0.0000,   0.0000,   0.0000,   0.0000,   0.0000,   0.0000,   0.0000,   0.0000,   0.0000,   0.0000,   0.0000,   0.0000,   0.0000,   0.0000,\n",
              "            0.0000,   0.0000,   0.0000,   0.0000,   0.0000,   0.0000,   0.0000,   0.0000,   0.0000],\n",
              "         [  0.0000,   0.0000,   0.0000,   0.0000,   0.0000,   0.0000,   0.0000,   0.0000,   0.0000,   0.0000,   0.0000,   0.0000,   0.0000,   0.0000,   0.0000,   0.0000,   0.0000,   0.0000,   0.0000,\n",
              "            0.0000,   0.0000,   0.0000,   0.0000,   0.0000,   0.0000,   0.0000,   0.0000,   0.0000],\n",
              "         [  0.0000,   0.0000,   0.0000,   0.0000,   0.0000,   0.0000,   0.0000,   0.0000,   0.0000,  26.0000, 213.0000, 169.0000, 121.0000, 121.0000, 192.0000, 121.0000, 121.0000, 121.0000,  89.0000,\n",
              "            0.0000,   0.0000,   0.0000,   0.0000,   0.0000,   0.0000,   0.0000,   0.0000,   0.0000],\n",
              "         [  0.0000,   0.0000,   0.0000,   0.0000,   0.0000,   0.0000,   0.0000,   0.0000,   0.0000,  31.0000, 220.0000, 253.0000, 253.0000, 253.0000, 254.0000, 253.0000, 253.0000, 253.0000, 250.0000,\n",
              "          190.0000,   0.0000,   0.0000,   0.0000,   0.0000,   0.0000,   0.0000,   0.0000,   0.0000],\n",
              "         [  0.0000,   0.0000,   0.0000,   0.0000,   0.0000,   0.0000,   0.0000,   0.0000,   0.0000,   0.0000,  39.0000, 159.0000, 214.0000, 253.0000, 160.0000, 159.0000, 194.0000, 253.0000, 253.0000,\n",
              "          199.0000,   0.0000,   0.0000,   0.0000,   0.0000,   0.0000,   0.0000,   0.0000,   0.0000],\n",
              "         [  0.0000,   0.0000,   0.0000,   0.0000,   0.0000,   0.0000,   0.0000,   0.0000,   0.0000,   0.0000,   0.0000,   0.0000,  23.0000,  39.0000,   0.0000,   0.0000,  94.0000, 253.0000, 253.0000,\n",
              "          199.0000,   0.0000,   0.0000,   0.0000,   0.0000,   0.0000,   0.0000,   0.0000,   0.0000],\n",
              "         [  0.0000,   0.0000,   0.0000,   0.0000,   0.0000,   0.0000,   0.0000,   0.0000,   0.0000,   0.0000,   0.0000,   0.0000,   0.0000,   0.0000,   0.0000,   0.0000, 129.0000, 253.0000, 253.0000,\n",
              "          164.0000,   0.0000,   0.0000,   0.0000,   0.0000,   0.0000,   0.0000,   0.0000,   0.0000],\n",
              "         [  0.0000,   0.0000,   0.0000,   0.0000,   0.0000,   0.0000,   0.0000,   0.0000,   0.0000,   0.0000,   0.0000,   0.0000,   0.0000,   0.0000,   0.0000, 178.0000, 247.0000, 253.0000, 239.0000,\n",
              "           52.0000,   0.0000,   0.0000,   0.0000,   0.0000,   0.0000,   0.0000,   0.0000,   0.0000],\n",
              "         [  0.0000,   0.0000,   0.0000,   0.0000,   0.0000,   0.0000,   0.0000,   0.0000,   0.0000,   0.0000,   0.0000,   0.0000,   0.0000,  22.0000, 175.0000, 249.0000, 253.0000, 240.0000,  86.0000,\n",
              "            0.0000,   0.0000,   0.0000,   0.0000,   0.0000,   0.0000,   0.0000,   0.0000,   0.0000],\n",
              "         [  0.0000,   0.0000,   0.0000,   0.0000,   0.0000,   0.0000,   0.0000,   0.0000,   0.0000,   0.0000,   0.0000,   3.0000,  34.0000, 210.0000, 254.0000, 253.0000, 179.0000,  64.0000,   0.0000,\n",
              "            0.0000,   0.0000,   0.0000,   0.0000,   0.0000,   0.0000,   0.0000,   0.0000,   0.0000],\n",
              "         [  0.0000,   0.0000,   0.0000,   0.0000,   0.0000,   0.0000,   0.0000,   0.0000,   0.0000,   0.0000,   0.0000, 105.0000, 253.0000, 253.0000, 254.0000, 114.0000,  11.0000,   0.0000,   0.0000,\n",
              "            0.0000,   0.0000,   0.0000,   0.0000,   0.0000,   0.0000,   0.0000,   0.0000,   0.0000],\n",
              "         [  0.0000,   0.0000,   0.0000,   0.0000,   0.0000,   0.0000,   0.0000,   0.0000,   0.0000,   0.0000,  22.0000, 210.0000, 253.0000, 253.0000, 121.0000,   6.0000,   0.0000,   0.0000,   0.0000,\n",
              "            0.0000,   0.0000,   0.0000,   0.0000,   0.0000,   0.0000,   0.0000,   0.0000,   0.0000],\n",
              "         [  0.0000,   0.0000,   0.0000,   0.0000,   0.0000,   0.0000,   0.0000,   0.0000,   0.0000,   0.0000,  41.0000, 254.0000, 254.0000, 121.0000,   0.0000,   0.0000,   0.0000,   0.0000,   0.0000,\n",
              "            0.0000,   0.0000,   0.0000,   0.0000,   0.0000,   0.0000,   0.0000,   0.0000,   0.0000],\n",
              "         [  0.0000,   0.0000,   0.0000,   0.0000,   0.0000,   0.0000,   0.0000,   0.0000,   0.0000,   0.0000,   2.0000, 165.0000, 253.0000, 247.0000,   0.0000,   0.0000,   0.0000,   0.0000,   0.0000,\n",
              "            0.0000,   0.0000,   0.0000,   0.0000,   0.0000,   0.0000,   0.0000,   0.0000,   0.0000],\n",
              "         [  0.0000,   0.0000,   0.0000,   0.0000,   0.0000,   0.0000,   0.0000,   0.0000,   0.0000,   0.0000,   0.0000, 112.0000, 253.0000, 253.0000, 165.0000,   5.0000,   0.0000,   0.0000,   0.0000,\n",
              "            0.0000,   0.0000,   0.0000,   0.0000,   0.0000,   0.0000,   0.0000,   0.0000,   0.0000],\n",
              "         [  0.0000,   0.0000,   0.0000,   0.0000,   0.0000,   0.0000,   0.0000,   0.0000,   0.0000,   0.0000,   0.0000,  19.0000, 219.0000, 253.0000, 254.0000,  13.0000,   0.0000,   0.0000,   0.0000,\n",
              "            0.0000,   0.0000,   0.0000,   0.0000,   0.0000,   0.0000,   0.0000,   0.0000,   0.0000],\n",
              "         [  0.0000,   0.0000,   0.0000,   0.0000,   0.0000,   0.0000,   0.0000,   0.0000,   0.0000,   0.0000,   0.0000,   0.0000,  42.0000, 253.0000, 254.0000, 119.0000,   0.0000,   0.0000,   0.0000,\n",
              "            0.0000,   0.0000,   0.0000,   0.0000,   0.0000,   0.0000,   0.0000,   0.0000,   0.0000],\n",
              "         [  0.0000,   0.0000,   0.0000,   0.0000,   0.0000,   0.0000,   0.0000,   0.0000,   0.0000,   0.0000,   0.0000,   0.0000,   4.0000, 165.0000, 254.0000, 225.0000,  19.0000,   0.0000,   0.0000,\n",
              "            0.0000,   0.0000,   0.0000,   0.0000,   0.0000,   0.0000,   0.0000,   0.0000,   0.0000],\n",
              "         [  0.0000,   0.0000,   0.0000,   0.0000,   0.0000,   0.0000,   0.0000,   0.0000,  32.0000,  41.0000,  41.0000,  41.0000,  41.0000, 153.0000, 255.0000, 253.0000, 118.0000,   0.0000,   0.0000,\n",
              "            0.0000,   0.0000,   0.0000,   0.0000,   0.0000,   0.0000,   0.0000,   0.0000,   0.0000],\n",
              "         [  0.0000,   0.0000,   0.0000,   0.0000,   0.0000,   0.0000,   0.0000,   0.0000, 201.0000, 253.0000, 253.0000, 253.0000, 253.0000, 253.0000, 255.0000, 253.0000,  75.0000,   0.0000,   0.0000,\n",
              "            0.0000,   0.0000,   0.0000,   0.0000,   0.0000,   0.0000,   0.0000,   0.0000,   0.0000],\n",
              "         [  0.0000,   0.0000,   0.0000,   0.0000,   0.0000,   0.0000,   0.0000,   0.0000, 194.0000, 253.0000, 253.0000, 253.0000, 253.0000, 253.0000, 255.0000, 184.0000,  11.0000,   0.0000,   0.0000,\n",
              "            0.0000,   0.0000,   0.0000,   0.0000,   0.0000,   0.0000,   0.0000,   0.0000,   0.0000],\n",
              "         [  0.0000,   0.0000,   0.0000,   0.0000,   0.0000,   0.0000,   0.0000,   0.0000,  32.0000, 120.0000, 120.0000, 120.0000, 120.0000, 190.0000, 121.0000,   6.0000,   0.0000,   0.0000,   0.0000,\n",
              "            0.0000,   0.0000,   0.0000,   0.0000,   0.0000,   0.0000,   0.0000,   0.0000,   0.0000],\n",
              "         [  0.0000,   0.0000,   0.0000,   0.0000,   0.0000,   0.0000,   0.0000,   0.0000,   0.0000,   0.0000,   0.0000,   0.0000,   0.0000,   0.0000,   0.0000,   0.0000,   0.0000,   0.0000,   0.0000,\n",
              "            0.0000,   0.0000,   0.0000,   0.0000,   0.0000,   0.0000,   0.0000,   0.0000,   0.0000],\n",
              "         [  0.0000,   0.0000,   0.0000,   0.0000,   0.0000,   0.0000,   0.0000,   0.0000,   0.0000,   0.0000,   0.0000,   0.0000,   0.0000,   0.0000,   0.0000,   0.0000,   0.0000,   0.0000,   0.0000,\n",
              "            0.0000,   0.0000,   0.0000,   0.0000,   0.0000,   0.0000,   0.0000,   0.0000,   0.0000],\n",
              "         [  0.0000,   0.0000,   0.0000,   0.0000,   0.0000,   0.0000,   0.0000,   0.0000,   0.0000,   0.0000,   0.0000,   0.0000,   0.0000,   0.0000,   0.0000,   0.0000,   0.0000,   0.0000,   0.0000,\n",
              "            0.0000,   0.0000,   0.0000,   0.0000,   0.0000,   0.0000,   0.0000,   0.0000,   0.0000]]),\n",
              " 1)"
            ]
          },
          "metadata": {
            "tags": []
          },
          "execution_count": 102
        }
      ]
    },
    {
      "cell_type": "markdown",
      "metadata": {
        "id": "wFsFSGW1UxMh",
        "colab_type": "text"
      },
      "source": [
        "So would be great IF we can use compose to do encoding as well as decoding and to do that we just change compose to Pipeline"
      ]
    },
    {
      "cell_type": "code",
      "metadata": {
        "id": "TK5OUFaPUgtr",
        "colab_type": "code",
        "colab": {}
      },
      "source": [
        "pipe = Pipeline([f, flip_img])"
      ],
      "execution_count": null,
      "outputs": []
    },
    {
      "cell_type": "code",
      "metadata": {
        "id": "isWJTvBpUhSX",
        "colab_type": "code",
        "colab": {}
      },
      "source": [
        "ttup = pipe(imgtup)"
      ],
      "execution_count": null,
      "outputs": []
    },
    {
      "cell_type": "markdown",
      "metadata": {
        "id": "u25ucjeAVJLe",
        "colab_type": "text"
      },
      "source": [
        "Now we can use decode"
      ]
    },
    {
      "cell_type": "code",
      "metadata": {
        "id": "87bdwB3WUhnq",
        "colab_type": "code",
        "colab": {
          "base_uri": "https://localhost:8080/",
          "height": 986
        },
        "outputId": "a4be2450-ab24-462b-b9f3-09fa6c3ce032"
      },
      "source": [
        "pipe.decode(ttup)"
      ],
      "execution_count": null,
      "outputs": [
        {
          "output_type": "execute_result",
          "data": {
            "text/plain": [
              "(MyTensorImg([[  0.0000,   0.0000,   0.0000,   0.0000,   0.0000,   0.0000,   0.0000,   0.0000,   0.0000,   0.0000,   0.0000,   0.0000,   0.0000,   0.0000,   0.0000,   0.0000,   0.0000,   0.0000,   0.0000,\n",
              "            0.0000,   0.0000,   0.0000,   0.0000,   0.0000,   0.0000,   0.0000,   0.0000,   0.0000],\n",
              "         [  0.0000,   0.0000,   0.0000,   0.0000,   0.0000,   0.0000,   0.0000,   0.0000,   0.0000,   0.0000,   0.0000,   0.0000,   0.0000,   0.0000,   0.0000,   0.0000,   0.0000,   0.0000,   0.0000,\n",
              "            0.0000,   0.0000,   0.0000,   0.0000,   0.0000,   0.0000,   0.0000,   0.0000,   0.0000],\n",
              "         [  0.0000,   0.0000,   0.0000,   0.0000,   0.0000,   0.0000,   0.0000,   0.0000,   0.0000,   0.0000,   0.0000,   0.0000,   0.0000,   0.0000,   0.0000,   0.0000,   0.0000,   0.0000,   0.0000,\n",
              "            0.0000,   0.0000,   0.0000,   0.0000,   0.0000,   0.0000,   0.0000,   0.0000,   0.0000],\n",
              "         [  0.0000,   0.0000,   0.0000,   0.0000,   0.0000,   0.0000,   0.0000,   0.0000,   0.0000,   0.0000,   0.0000,   0.0000,   0.0000,   0.0000,   0.0000,   0.0000,   0.0000,   0.0000,   0.0000,\n",
              "            0.0000,   0.0000,   0.0000,   0.0000,   0.0000,   0.0000,   0.0000,   0.0000,   0.0000],\n",
              "         [  0.0000,   0.0000,   0.0000,   0.0000,   0.0000,   0.0000,   0.0000,   0.0000,   0.0000,   0.0000,   0.0000,   0.0000,   0.0000,   0.0000,   0.0000,   0.0000,   0.0000,   0.0000,   0.0000,\n",
              "            0.0000,   0.0000,   0.0000,   0.0000,   0.0000,   0.0000,   0.0000,   0.0000,   0.0000],\n",
              "         [  0.0000,   0.0000,   0.0000,   0.0000,   0.0000,   0.0000,   0.0000,   0.0000,   0.0000,  26.0000, 213.0000, 169.0000, 121.0000, 121.0000, 192.0000, 121.0000, 121.0000, 121.0000,  89.0000,\n",
              "            0.0000,   0.0000,   0.0000,   0.0000,   0.0000,   0.0000,   0.0000,   0.0000,   0.0000],\n",
              "         [  0.0000,   0.0000,   0.0000,   0.0000,   0.0000,   0.0000,   0.0000,   0.0000,   0.0000,  31.0000, 220.0000, 253.0000, 253.0000, 253.0000, 254.0000, 253.0000, 253.0000, 253.0000, 250.0000,\n",
              "          190.0000,   0.0000,   0.0000,   0.0000,   0.0000,   0.0000,   0.0000,   0.0000,   0.0000],\n",
              "         [  0.0000,   0.0000,   0.0000,   0.0000,   0.0000,   0.0000,   0.0000,   0.0000,   0.0000,   0.0000,  39.0000, 159.0000, 214.0000, 253.0000, 160.0000, 159.0000, 194.0000, 253.0000, 253.0000,\n",
              "          199.0000,   0.0000,   0.0000,   0.0000,   0.0000,   0.0000,   0.0000,   0.0000,   0.0000],\n",
              "         [  0.0000,   0.0000,   0.0000,   0.0000,   0.0000,   0.0000,   0.0000,   0.0000,   0.0000,   0.0000,   0.0000,   0.0000,  23.0000,  39.0000,   0.0000,   0.0000,  94.0000, 253.0000, 253.0000,\n",
              "          199.0000,   0.0000,   0.0000,   0.0000,   0.0000,   0.0000,   0.0000,   0.0000,   0.0000],\n",
              "         [  0.0000,   0.0000,   0.0000,   0.0000,   0.0000,   0.0000,   0.0000,   0.0000,   0.0000,   0.0000,   0.0000,   0.0000,   0.0000,   0.0000,   0.0000,   0.0000, 129.0000, 253.0000, 253.0000,\n",
              "          164.0000,   0.0000,   0.0000,   0.0000,   0.0000,   0.0000,   0.0000,   0.0000,   0.0000],\n",
              "         [  0.0000,   0.0000,   0.0000,   0.0000,   0.0000,   0.0000,   0.0000,   0.0000,   0.0000,   0.0000,   0.0000,   0.0000,   0.0000,   0.0000,   0.0000, 178.0000, 247.0000, 253.0000, 239.0000,\n",
              "           52.0000,   0.0000,   0.0000,   0.0000,   0.0000,   0.0000,   0.0000,   0.0000,   0.0000],\n",
              "         [  0.0000,   0.0000,   0.0000,   0.0000,   0.0000,   0.0000,   0.0000,   0.0000,   0.0000,   0.0000,   0.0000,   0.0000,   0.0000,  22.0000, 175.0000, 249.0000, 253.0000, 240.0000,  86.0000,\n",
              "            0.0000,   0.0000,   0.0000,   0.0000,   0.0000,   0.0000,   0.0000,   0.0000,   0.0000],\n",
              "         [  0.0000,   0.0000,   0.0000,   0.0000,   0.0000,   0.0000,   0.0000,   0.0000,   0.0000,   0.0000,   0.0000,   3.0000,  34.0000, 210.0000, 254.0000, 253.0000, 179.0000,  64.0000,   0.0000,\n",
              "            0.0000,   0.0000,   0.0000,   0.0000,   0.0000,   0.0000,   0.0000,   0.0000,   0.0000],\n",
              "         [  0.0000,   0.0000,   0.0000,   0.0000,   0.0000,   0.0000,   0.0000,   0.0000,   0.0000,   0.0000,   0.0000, 105.0000, 253.0000, 253.0000, 254.0000, 114.0000,  11.0000,   0.0000,   0.0000,\n",
              "            0.0000,   0.0000,   0.0000,   0.0000,   0.0000,   0.0000,   0.0000,   0.0000,   0.0000],\n",
              "         [  0.0000,   0.0000,   0.0000,   0.0000,   0.0000,   0.0000,   0.0000,   0.0000,   0.0000,   0.0000,  22.0000, 210.0000, 253.0000, 253.0000, 121.0000,   6.0000,   0.0000,   0.0000,   0.0000,\n",
              "            0.0000,   0.0000,   0.0000,   0.0000,   0.0000,   0.0000,   0.0000,   0.0000,   0.0000],\n",
              "         [  0.0000,   0.0000,   0.0000,   0.0000,   0.0000,   0.0000,   0.0000,   0.0000,   0.0000,   0.0000,  41.0000, 254.0000, 254.0000, 121.0000,   0.0000,   0.0000,   0.0000,   0.0000,   0.0000,\n",
              "            0.0000,   0.0000,   0.0000,   0.0000,   0.0000,   0.0000,   0.0000,   0.0000,   0.0000],\n",
              "         [  0.0000,   0.0000,   0.0000,   0.0000,   0.0000,   0.0000,   0.0000,   0.0000,   0.0000,   0.0000,   2.0000, 165.0000, 253.0000, 247.0000,   0.0000,   0.0000,   0.0000,   0.0000,   0.0000,\n",
              "            0.0000,   0.0000,   0.0000,   0.0000,   0.0000,   0.0000,   0.0000,   0.0000,   0.0000],\n",
              "         [  0.0000,   0.0000,   0.0000,   0.0000,   0.0000,   0.0000,   0.0000,   0.0000,   0.0000,   0.0000,   0.0000, 112.0000, 253.0000, 253.0000, 165.0000,   5.0000,   0.0000,   0.0000,   0.0000,\n",
              "            0.0000,   0.0000,   0.0000,   0.0000,   0.0000,   0.0000,   0.0000,   0.0000,   0.0000],\n",
              "         [  0.0000,   0.0000,   0.0000,   0.0000,   0.0000,   0.0000,   0.0000,   0.0000,   0.0000,   0.0000,   0.0000,  19.0000, 219.0000, 253.0000, 254.0000,  13.0000,   0.0000,   0.0000,   0.0000,\n",
              "            0.0000,   0.0000,   0.0000,   0.0000,   0.0000,   0.0000,   0.0000,   0.0000,   0.0000],\n",
              "         [  0.0000,   0.0000,   0.0000,   0.0000,   0.0000,   0.0000,   0.0000,   0.0000,   0.0000,   0.0000,   0.0000,   0.0000,  42.0000, 253.0000, 254.0000, 119.0000,   0.0000,   0.0000,   0.0000,\n",
              "            0.0000,   0.0000,   0.0000,   0.0000,   0.0000,   0.0000,   0.0000,   0.0000,   0.0000],\n",
              "         [  0.0000,   0.0000,   0.0000,   0.0000,   0.0000,   0.0000,   0.0000,   0.0000,   0.0000,   0.0000,   0.0000,   0.0000,   4.0000, 165.0000, 254.0000, 225.0000,  19.0000,   0.0000,   0.0000,\n",
              "            0.0000,   0.0000,   0.0000,   0.0000,   0.0000,   0.0000,   0.0000,   0.0000,   0.0000],\n",
              "         [  0.0000,   0.0000,   0.0000,   0.0000,   0.0000,   0.0000,   0.0000,   0.0000,  32.0000,  41.0000,  41.0000,  41.0000,  41.0000, 153.0000, 255.0000, 253.0000, 118.0000,   0.0000,   0.0000,\n",
              "            0.0000,   0.0000,   0.0000,   0.0000,   0.0000,   0.0000,   0.0000,   0.0000,   0.0000],\n",
              "         [  0.0000,   0.0000,   0.0000,   0.0000,   0.0000,   0.0000,   0.0000,   0.0000, 201.0000, 253.0000, 253.0000, 253.0000, 253.0000, 253.0000, 255.0000, 253.0000,  75.0000,   0.0000,   0.0000,\n",
              "            0.0000,   0.0000,   0.0000,   0.0000,   0.0000,   0.0000,   0.0000,   0.0000,   0.0000],\n",
              "         [  0.0000,   0.0000,   0.0000,   0.0000,   0.0000,   0.0000,   0.0000,   0.0000, 194.0000, 253.0000, 253.0000, 253.0000, 253.0000, 253.0000, 255.0000, 184.0000,  11.0000,   0.0000,   0.0000,\n",
              "            0.0000,   0.0000,   0.0000,   0.0000,   0.0000,   0.0000,   0.0000,   0.0000,   0.0000],\n",
              "         [  0.0000,   0.0000,   0.0000,   0.0000,   0.0000,   0.0000,   0.0000,   0.0000,  32.0000, 120.0000, 120.0000, 120.0000, 120.0000, 190.0000, 121.0000,   6.0000,   0.0000,   0.0000,   0.0000,\n",
              "            0.0000,   0.0000,   0.0000,   0.0000,   0.0000,   0.0000,   0.0000,   0.0000,   0.0000],\n",
              "         [  0.0000,   0.0000,   0.0000,   0.0000,   0.0000,   0.0000,   0.0000,   0.0000,   0.0000,   0.0000,   0.0000,   0.0000,   0.0000,   0.0000,   0.0000,   0.0000,   0.0000,   0.0000,   0.0000,\n",
              "            0.0000,   0.0000,   0.0000,   0.0000,   0.0000,   0.0000,   0.0000,   0.0000,   0.0000],\n",
              "         [  0.0000,   0.0000,   0.0000,   0.0000,   0.0000,   0.0000,   0.0000,   0.0000,   0.0000,   0.0000,   0.0000,   0.0000,   0.0000,   0.0000,   0.0000,   0.0000,   0.0000,   0.0000,   0.0000,\n",
              "            0.0000,   0.0000,   0.0000,   0.0000,   0.0000,   0.0000,   0.0000,   0.0000,   0.0000],\n",
              "         [  0.0000,   0.0000,   0.0000,   0.0000,   0.0000,   0.0000,   0.0000,   0.0000,   0.0000,   0.0000,   0.0000,   0.0000,   0.0000,   0.0000,   0.0000,   0.0000,   0.0000,   0.0000,   0.0000,\n",
              "            0.0000,   0.0000,   0.0000,   0.0000,   0.0000,   0.0000,   0.0000,   0.0000,   0.0000]]),\n",
              " 1)"
            ]
          },
          "metadata": {
            "tags": []
          },
          "execution_count": 105
        }
      ]
    },
    {
      "cell_type": "markdown",
      "metadata": {
        "id": "X7nkbjVLVeH4",
        "colab_type": "text"
      },
      "source": [
        "Pipeline knows that if it just gets a function to turn it into a transform so for eg you can remove Transform decorator from flip_img and run this again and "
      ]
    },
    {
      "cell_type": "code",
      "metadata": {
        "id": "6vo2F7TjXRPc",
        "colab_type": "code",
        "colab": {}
      },
      "source": [
        "# Return to basics\n",
        "class Norm(Transform):\n",
        "    def __init__(self, m, s):\n",
        "        super().__init__()\n",
        "        self.m,self.s = m,s\n",
        "    def encodes(self, x:MyTensorImg): return (x-self.m)/self.s\n",
        "    def decodes(self, x:MyTensorImg): return (x*self.s)+self.m"
      ],
      "execution_count": null,
      "outputs": []
    },
    {
      "cell_type": "code",
      "metadata": {
        "id": "gzUMPizXUhcx",
        "colab_type": "code",
        "colab": {}
      },
      "source": [
        "# @Transform\n",
        "def flip_img(x:MyTensorImg): return torch.flip(x, (1,)) if random.random()>0.5 else x"
      ],
      "execution_count": null,
      "outputs": []
    },
    {
      "cell_type": "code",
      "metadata": {
        "id": "b6QKvKYZUhDU",
        "colab_type": "code",
        "colab": {}
      },
      "source": [
        "m,s = timg.mean(),timg.std()"
      ],
      "execution_count": null,
      "outputs": []
    },
    {
      "cell_type": "code",
      "metadata": {
        "id": "7dZzUbaC1q7A",
        "colab_type": "code",
        "colab": {}
      },
      "source": [
        "f = Norm(m=m,s=s)"
      ],
      "execution_count": null,
      "outputs": []
    },
    {
      "cell_type": "code",
      "metadata": {
        "id": "-FyAkjHVWDdH",
        "colab_type": "code",
        "colab": {}
      },
      "source": [
        "pipe = Pipeline([f, flip_img])"
      ],
      "execution_count": null,
      "outputs": []
    },
    {
      "cell_type": "code",
      "metadata": {
        "id": "ZuLSRa_WWnL_",
        "colab_type": "code",
        "colab": {}
      },
      "source": [
        "imgtup = (mti,mi)"
      ],
      "execution_count": null,
      "outputs": []
    },
    {
      "cell_type": "code",
      "metadata": {
        "id": "HyZTQY87WEDm",
        "colab_type": "code",
        "colab": {}
      },
      "source": [
        "ttup = pipe(imgtup)"
      ],
      "execution_count": null,
      "outputs": []
    },
    {
      "cell_type": "code",
      "metadata": {
        "id": "1jmc4Ke-WEXo",
        "colab_type": "code",
        "colab": {
          "base_uri": "https://localhost:8080/",
          "height": 1000
        },
        "outputId": "7f0a43fe-8f1f-49e4-f843-4befc978dacf"
      },
      "source": [
        "pipe.decode(ttup)"
      ],
      "execution_count": null,
      "outputs": [
        {
          "output_type": "execute_result",
          "data": {
            "text/plain": [
              "(MyTensorImg([[  0.0000,   0.0000,   0.0000,   0.0000,   0.0000,   0.0000,   0.0000,   0.0000,   0.0000,   0.0000,   0.0000,   0.0000,   0.0000,   0.0000,   0.0000,   0.0000,   0.0000,   0.0000,   0.0000,\n",
              "            0.0000,   0.0000,   0.0000,   0.0000,   0.0000,   0.0000,   0.0000,   0.0000,   0.0000],\n",
              "         [  0.0000,   0.0000,   0.0000,   0.0000,   0.0000,   0.0000,   0.0000,   0.0000,   0.0000,   0.0000,   0.0000,   0.0000,   0.0000,   0.0000,   0.0000,   0.0000,   0.0000,   0.0000,   0.0000,\n",
              "            0.0000,   0.0000,   0.0000,   0.0000,   0.0000,   0.0000,   0.0000,   0.0000,   0.0000],\n",
              "         [  0.0000,   0.0000,   0.0000,   0.0000,   0.0000,   0.0000,   0.0000,   0.0000,   0.0000,   0.0000,   0.0000,   0.0000,   0.0000,   0.0000,   0.0000,   0.0000,   0.0000,   0.0000,   0.0000,\n",
              "            0.0000,   0.0000,   0.0000,   0.0000,   0.0000,   0.0000,   0.0000,   0.0000,   0.0000],\n",
              "         [  0.0000,   0.0000,   0.0000,   0.0000,   0.0000,   0.0000,   0.0000,   0.0000,   0.0000,   0.0000,   0.0000,   0.0000,   0.0000,   0.0000,   0.0000,   0.0000,   0.0000,   0.0000,   0.0000,\n",
              "            0.0000,   0.0000,   0.0000,   0.0000,   0.0000,   0.0000,   0.0000,   0.0000,   0.0000],\n",
              "         [  0.0000,   0.0000,   0.0000,   0.0000,   0.0000,   0.0000,   0.0000,   0.0000,   0.0000,   0.0000,   0.0000,   0.0000,   0.0000,   0.0000,   0.0000,   0.0000,   0.0000,   0.0000,   0.0000,\n",
              "            0.0000,   0.0000,   0.0000,   0.0000,   0.0000,   0.0000,   0.0000,   0.0000,   0.0000],\n",
              "         [  0.0000,   0.0000,   0.0000,   0.0000,   0.0000,   0.0000,   0.0000,   0.0000,   0.0000,  89.0000, 121.0000, 121.0000, 121.0000, 192.0000, 121.0000, 121.0000, 169.0000, 213.0000,  26.0000,\n",
              "            0.0000,   0.0000,   0.0000,   0.0000,   0.0000,   0.0000,   0.0000,   0.0000,   0.0000],\n",
              "         [  0.0000,   0.0000,   0.0000,   0.0000,   0.0000,   0.0000,   0.0000,   0.0000, 190.0000, 250.0000, 253.0000, 253.0000, 253.0000, 254.0000, 253.0000, 253.0000, 253.0000, 220.0000,  31.0000,\n",
              "            0.0000,   0.0000,   0.0000,   0.0000,   0.0000,   0.0000,   0.0000,   0.0000,   0.0000],\n",
              "         [  0.0000,   0.0000,   0.0000,   0.0000,   0.0000,   0.0000,   0.0000,   0.0000, 199.0000, 253.0000, 253.0000, 194.0000, 159.0000, 160.0000, 253.0000, 214.0000, 159.0000,  39.0000,   0.0000,\n",
              "            0.0000,   0.0000,   0.0000,   0.0000,   0.0000,   0.0000,   0.0000,   0.0000,   0.0000],\n",
              "         [  0.0000,   0.0000,   0.0000,   0.0000,   0.0000,   0.0000,   0.0000,   0.0000, 199.0000, 253.0000, 253.0000,  94.0000,   0.0000,   0.0000,  39.0000,  23.0000,   0.0000,   0.0000,   0.0000,\n",
              "            0.0000,   0.0000,   0.0000,   0.0000,   0.0000,   0.0000,   0.0000,   0.0000,   0.0000],\n",
              "         [  0.0000,   0.0000,   0.0000,   0.0000,   0.0000,   0.0000,   0.0000,   0.0000, 164.0000, 253.0000, 253.0000, 129.0000,   0.0000,   0.0000,   0.0000,   0.0000,   0.0000,   0.0000,   0.0000,\n",
              "            0.0000,   0.0000,   0.0000,   0.0000,   0.0000,   0.0000,   0.0000,   0.0000,   0.0000],\n",
              "         [  0.0000,   0.0000,   0.0000,   0.0000,   0.0000,   0.0000,   0.0000,   0.0000,  52.0000, 239.0000, 253.0000, 247.0000, 178.0000,   0.0000,   0.0000,   0.0000,   0.0000,   0.0000,   0.0000,\n",
              "            0.0000,   0.0000,   0.0000,   0.0000,   0.0000,   0.0000,   0.0000,   0.0000,   0.0000],\n",
              "         [  0.0000,   0.0000,   0.0000,   0.0000,   0.0000,   0.0000,   0.0000,   0.0000,   0.0000,  86.0000, 240.0000, 253.0000, 249.0000, 175.0000,  22.0000,   0.0000,   0.0000,   0.0000,   0.0000,\n",
              "            0.0000,   0.0000,   0.0000,   0.0000,   0.0000,   0.0000,   0.0000,   0.0000,   0.0000],\n",
              "         [  0.0000,   0.0000,   0.0000,   0.0000,   0.0000,   0.0000,   0.0000,   0.0000,   0.0000,   0.0000,  64.0000, 179.0000, 253.0000, 254.0000, 210.0000,  34.0000,   3.0000,   0.0000,   0.0000,\n",
              "            0.0000,   0.0000,   0.0000,   0.0000,   0.0000,   0.0000,   0.0000,   0.0000,   0.0000],\n",
              "         [  0.0000,   0.0000,   0.0000,   0.0000,   0.0000,   0.0000,   0.0000,   0.0000,   0.0000,   0.0000,   0.0000,  11.0000, 114.0000, 254.0000, 253.0000, 253.0000, 105.0000,   0.0000,   0.0000,\n",
              "            0.0000,   0.0000,   0.0000,   0.0000,   0.0000,   0.0000,   0.0000,   0.0000,   0.0000],\n",
              "         [  0.0000,   0.0000,   0.0000,   0.0000,   0.0000,   0.0000,   0.0000,   0.0000,   0.0000,   0.0000,   0.0000,   0.0000,   6.0000, 121.0000, 253.0000, 253.0000, 210.0000,  22.0000,   0.0000,\n",
              "            0.0000,   0.0000,   0.0000,   0.0000,   0.0000,   0.0000,   0.0000,   0.0000,   0.0000],\n",
              "         [  0.0000,   0.0000,   0.0000,   0.0000,   0.0000,   0.0000,   0.0000,   0.0000,   0.0000,   0.0000,   0.0000,   0.0000,   0.0000,   0.0000, 121.0000, 254.0000, 254.0000,  41.0000,   0.0000,\n",
              "            0.0000,   0.0000,   0.0000,   0.0000,   0.0000,   0.0000,   0.0000,   0.0000,   0.0000],\n",
              "         [  0.0000,   0.0000,   0.0000,   0.0000,   0.0000,   0.0000,   0.0000,   0.0000,   0.0000,   0.0000,   0.0000,   0.0000,   0.0000,   0.0000, 247.0000, 253.0000, 165.0000,   2.0000,   0.0000,\n",
              "            0.0000,   0.0000,   0.0000,   0.0000,   0.0000,   0.0000,   0.0000,   0.0000,   0.0000],\n",
              "         [  0.0000,   0.0000,   0.0000,   0.0000,   0.0000,   0.0000,   0.0000,   0.0000,   0.0000,   0.0000,   0.0000,   0.0000,   5.0000, 165.0000, 253.0000, 253.0000, 112.0000,   0.0000,   0.0000,\n",
              "            0.0000,   0.0000,   0.0000,   0.0000,   0.0000,   0.0000,   0.0000,   0.0000,   0.0000],\n",
              "         [  0.0000,   0.0000,   0.0000,   0.0000,   0.0000,   0.0000,   0.0000,   0.0000,   0.0000,   0.0000,   0.0000,   0.0000,  13.0000, 254.0000, 253.0000, 219.0000,  19.0000,   0.0000,   0.0000,\n",
              "            0.0000,   0.0000,   0.0000,   0.0000,   0.0000,   0.0000,   0.0000,   0.0000,   0.0000],\n",
              "         [  0.0000,   0.0000,   0.0000,   0.0000,   0.0000,   0.0000,   0.0000,   0.0000,   0.0000,   0.0000,   0.0000,   0.0000, 119.0000, 254.0000, 253.0000,  42.0000,   0.0000,   0.0000,   0.0000,\n",
              "            0.0000,   0.0000,   0.0000,   0.0000,   0.0000,   0.0000,   0.0000,   0.0000,   0.0000],\n",
              "         [  0.0000,   0.0000,   0.0000,   0.0000,   0.0000,   0.0000,   0.0000,   0.0000,   0.0000,   0.0000,   0.0000,  19.0000, 225.0000, 254.0000, 165.0000,   4.0000,   0.0000,   0.0000,   0.0000,\n",
              "            0.0000,   0.0000,   0.0000,   0.0000,   0.0000,   0.0000,   0.0000,   0.0000,   0.0000],\n",
              "         [  0.0000,   0.0000,   0.0000,   0.0000,   0.0000,   0.0000,   0.0000,   0.0000,   0.0000,   0.0000,   0.0000, 118.0000, 253.0000, 255.0000, 153.0000,  41.0000,  41.0000,  41.0000,  41.0000,\n",
              "           32.0000,   0.0000,   0.0000,   0.0000,   0.0000,   0.0000,   0.0000,   0.0000,   0.0000],\n",
              "         [  0.0000,   0.0000,   0.0000,   0.0000,   0.0000,   0.0000,   0.0000,   0.0000,   0.0000,   0.0000,   0.0000,  75.0000, 253.0000, 255.0000, 253.0000, 253.0000, 253.0000, 253.0000, 253.0000,\n",
              "          201.0000,   0.0000,   0.0000,   0.0000,   0.0000,   0.0000,   0.0000,   0.0000,   0.0000],\n",
              "         [  0.0000,   0.0000,   0.0000,   0.0000,   0.0000,   0.0000,   0.0000,   0.0000,   0.0000,   0.0000,   0.0000,  11.0000, 184.0000, 255.0000, 253.0000, 253.0000, 253.0000, 253.0000, 253.0000,\n",
              "          194.0000,   0.0000,   0.0000,   0.0000,   0.0000,   0.0000,   0.0000,   0.0000,   0.0000],\n",
              "         [  0.0000,   0.0000,   0.0000,   0.0000,   0.0000,   0.0000,   0.0000,   0.0000,   0.0000,   0.0000,   0.0000,   0.0000,   6.0000, 121.0000, 190.0000, 120.0000, 120.0000, 120.0000, 120.0000,\n",
              "           32.0000,   0.0000,   0.0000,   0.0000,   0.0000,   0.0000,   0.0000,   0.0000,   0.0000],\n",
              "         [  0.0000,   0.0000,   0.0000,   0.0000,   0.0000,   0.0000,   0.0000,   0.0000,   0.0000,   0.0000,   0.0000,   0.0000,   0.0000,   0.0000,   0.0000,   0.0000,   0.0000,   0.0000,   0.0000,\n",
              "            0.0000,   0.0000,   0.0000,   0.0000,   0.0000,   0.0000,   0.0000,   0.0000,   0.0000],\n",
              "         [  0.0000,   0.0000,   0.0000,   0.0000,   0.0000,   0.0000,   0.0000,   0.0000,   0.0000,   0.0000,   0.0000,   0.0000,   0.0000,   0.0000,   0.0000,   0.0000,   0.0000,   0.0000,   0.0000,\n",
              "            0.0000,   0.0000,   0.0000,   0.0000,   0.0000,   0.0000,   0.0000,   0.0000,   0.0000],\n",
              "         [  0.0000,   0.0000,   0.0000,   0.0000,   0.0000,   0.0000,   0.0000,   0.0000,   0.0000,   0.0000,   0.0000,   0.0000,   0.0000,   0.0000,   0.0000,   0.0000,   0.0000,   0.0000,   0.0000,\n",
              "            0.0000,   0.0000,   0.0000,   0.0000,   0.0000,   0.0000,   0.0000,   0.0000,   0.0000]]),\n",
              " 1)"
            ]
          },
          "metadata": {
            "tags": []
          },
          "execution_count": 120
        }
      ]
    },
    {
      "cell_type": "markdown",
      "metadata": {
        "id": "xO9sbGcdaP2e",
        "colab_type": "text"
      },
      "source": [
        "We actually do NOT need to define a MyTensorImage class since fastai(??) already has a TensorImage class which we can use and is defined exactly the same way"
      ]
    },
    {
      "cell_type": "code",
      "metadata": {
        "id": "zRKJuY3VWEc8",
        "colab_type": "code",
        "colab": {}
      },
      "source": [
        "'''\n",
        "Init signature: TensorImage(*args, **kwargs)\n",
        "Source:         class TensorImage(TensorImageBase): pass\n",
        "File:           /usr/local/lib/python3.6/dist-packages/fastai2/torch_core.py\n",
        "Type:           type\n",
        "'''\n",
        "TensorImage??"
      ],
      "execution_count": null,
      "outputs": []
    },
    {
      "cell_type": "code",
      "metadata": {
        "id": "lC-4FKmNWEuB",
        "colab_type": "code",
        "colab": {}
      },
      "source": [
        "mti = TensorImage(timg.clone()).float()"
      ],
      "execution_count": null,
      "outputs": []
    },
    {
      "cell_type": "code",
      "metadata": {
        "id": "j2JSRs5nWEKL",
        "colab_type": "code",
        "colab": {}
      },
      "source": [
        "'''\n",
        "Init signature: Int(*args, **kwargs)\n",
        "Source:         class Int(int,ShowPrint): pass\n",
        "File:           /usr/local/lib/python3.6/dist-packages/fastcore/utils.py\n",
        "Type:           type\n",
        "'''\n",
        "Int??"
      ],
      "execution_count": null,
      "outputs": []
    },
    {
      "cell_type": "code",
      "metadata": {
        "id": "h5HmnjGAWDvy",
        "colab_type": "code",
        "colab": {}
      },
      "source": [
        "mi = Int(1)"
      ],
      "execution_count": null,
      "outputs": []
    },
    {
      "cell_type": "code",
      "metadata": {
        "id": "R9wHOhxJa1e_",
        "colab_type": "code",
        "colab": {}
      },
      "source": [
        "# Return to basics\n",
        "class Norm(Transform):\n",
        "    def __init__(self, m, s):\n",
        "        super().__init__()\n",
        "        self.m,self.s = m,s\n",
        "    def encodes(self, x:TensorImage): return (x-self.m)/self.s\n",
        "    def decodes(self, x:TensorImage): return (x*self.s)+self.m"
      ],
      "execution_count": null,
      "outputs": []
    },
    {
      "cell_type": "code",
      "metadata": {
        "id": "1AcmZr4Ka15F",
        "colab_type": "code",
        "colab": {}
      },
      "source": [
        "# @Transform\n",
        "def flip_img(x:TensorImage): return torch.flip(x, (1,)) if random.random()>0.5 else x"
      ],
      "execution_count": null,
      "outputs": []
    },
    {
      "cell_type": "code",
      "metadata": {
        "id": "_Rpq3wjla19k",
        "colab_type": "code",
        "colab": {}
      },
      "source": [
        "m,s = timg.mean(),timg.std()"
      ],
      "execution_count": null,
      "outputs": []
    },
    {
      "cell_type": "code",
      "metadata": {
        "id": "LdOgp85Qa2CI",
        "colab_type": "code",
        "colab": {}
      },
      "source": [
        "f = Norm(m=m,s=s)"
      ],
      "execution_count": null,
      "outputs": []
    },
    {
      "cell_type": "code",
      "metadata": {
        "id": "Bk4YxOFFa2Go",
        "colab_type": "code",
        "colab": {}
      },
      "source": [
        "imgtup = (mti,mi)"
      ],
      "execution_count": null,
      "outputs": []
    },
    {
      "cell_type": "code",
      "metadata": {
        "id": "87NCGlWNa2LH",
        "colab_type": "code",
        "colab": {}
      },
      "source": [
        "pipe = Pipeline([f, flip_img])"
      ],
      "execution_count": null,
      "outputs": []
    },
    {
      "cell_type": "code",
      "metadata": {
        "id": "rCb0D6s5a2jF",
        "colab_type": "code",
        "colab": {}
      },
      "source": [
        "ttup = pipe(imgtup)"
      ],
      "execution_count": null,
      "outputs": []
    },
    {
      "cell_type": "code",
      "metadata": {
        "id": "Hu_nfA5Va2c3",
        "colab_type": "code",
        "colab": {
          "base_uri": "https://localhost:8080/",
          "height": 986
        },
        "outputId": "7dc9d057-63b7-4a3b-e364-8876fe14bf86"
      },
      "source": [
        "pipe.decode(ttup)"
      ],
      "execution_count": null,
      "outputs": [
        {
          "output_type": "execute_result",
          "data": {
            "text/plain": [
              "(TensorImage([[  0.0000,   0.0000,   0.0000,   0.0000,   0.0000,   0.0000,   0.0000,   0.0000,   0.0000,   0.0000,   0.0000,   0.0000,   0.0000,   0.0000,   0.0000,   0.0000,   0.0000,   0.0000,   0.0000,\n",
              "            0.0000,   0.0000,   0.0000,   0.0000,   0.0000,   0.0000,   0.0000,   0.0000,   0.0000],\n",
              "         [  0.0000,   0.0000,   0.0000,   0.0000,   0.0000,   0.0000,   0.0000,   0.0000,   0.0000,   0.0000,   0.0000,   0.0000,   0.0000,   0.0000,   0.0000,   0.0000,   0.0000,   0.0000,   0.0000,\n",
              "            0.0000,   0.0000,   0.0000,   0.0000,   0.0000,   0.0000,   0.0000,   0.0000,   0.0000],\n",
              "         [  0.0000,   0.0000,   0.0000,   0.0000,   0.0000,   0.0000,   0.0000,   0.0000,   0.0000,   0.0000,   0.0000,   0.0000,   0.0000,   0.0000,   0.0000,   0.0000,   0.0000,   0.0000,   0.0000,\n",
              "            0.0000,   0.0000,   0.0000,   0.0000,   0.0000,   0.0000,   0.0000,   0.0000,   0.0000],\n",
              "         [  0.0000,   0.0000,   0.0000,   0.0000,   0.0000,   0.0000,   0.0000,   0.0000,   0.0000,   0.0000,   0.0000,   0.0000,   0.0000,   0.0000,   0.0000,   0.0000,   0.0000,   0.0000,   0.0000,\n",
              "            0.0000,   0.0000,   0.0000,   0.0000,   0.0000,   0.0000,   0.0000,   0.0000,   0.0000],\n",
              "         [  0.0000,   0.0000,   0.0000,   0.0000,   0.0000,   0.0000,   0.0000,   0.0000,   0.0000,   0.0000,   0.0000,   0.0000,   0.0000,   0.0000,   0.0000,   0.0000,   0.0000,   0.0000,   0.0000,\n",
              "            0.0000,   0.0000,   0.0000,   0.0000,   0.0000,   0.0000,   0.0000,   0.0000,   0.0000],\n",
              "         [  0.0000,   0.0000,   0.0000,   0.0000,   0.0000,   0.0000,   0.0000,   0.0000,   0.0000,  89.0000, 121.0000, 121.0000, 121.0000, 192.0000, 121.0000, 121.0000, 169.0000, 213.0000,  26.0000,\n",
              "            0.0000,   0.0000,   0.0000,   0.0000,   0.0000,   0.0000,   0.0000,   0.0000,   0.0000],\n",
              "         [  0.0000,   0.0000,   0.0000,   0.0000,   0.0000,   0.0000,   0.0000,   0.0000, 190.0000, 250.0000, 253.0000, 253.0000, 253.0000, 254.0000, 253.0000, 253.0000, 253.0000, 220.0000,  31.0000,\n",
              "            0.0000,   0.0000,   0.0000,   0.0000,   0.0000,   0.0000,   0.0000,   0.0000,   0.0000],\n",
              "         [  0.0000,   0.0000,   0.0000,   0.0000,   0.0000,   0.0000,   0.0000,   0.0000, 199.0000, 253.0000, 253.0000, 194.0000, 159.0000, 160.0000, 253.0000, 214.0000, 159.0000,  39.0000,   0.0000,\n",
              "            0.0000,   0.0000,   0.0000,   0.0000,   0.0000,   0.0000,   0.0000,   0.0000,   0.0000],\n",
              "         [  0.0000,   0.0000,   0.0000,   0.0000,   0.0000,   0.0000,   0.0000,   0.0000, 199.0000, 253.0000, 253.0000,  94.0000,   0.0000,   0.0000,  39.0000,  23.0000,   0.0000,   0.0000,   0.0000,\n",
              "            0.0000,   0.0000,   0.0000,   0.0000,   0.0000,   0.0000,   0.0000,   0.0000,   0.0000],\n",
              "         [  0.0000,   0.0000,   0.0000,   0.0000,   0.0000,   0.0000,   0.0000,   0.0000, 164.0000, 253.0000, 253.0000, 129.0000,   0.0000,   0.0000,   0.0000,   0.0000,   0.0000,   0.0000,   0.0000,\n",
              "            0.0000,   0.0000,   0.0000,   0.0000,   0.0000,   0.0000,   0.0000,   0.0000,   0.0000],\n",
              "         [  0.0000,   0.0000,   0.0000,   0.0000,   0.0000,   0.0000,   0.0000,   0.0000,  52.0000, 239.0000, 253.0000, 247.0000, 178.0000,   0.0000,   0.0000,   0.0000,   0.0000,   0.0000,   0.0000,\n",
              "            0.0000,   0.0000,   0.0000,   0.0000,   0.0000,   0.0000,   0.0000,   0.0000,   0.0000],\n",
              "         [  0.0000,   0.0000,   0.0000,   0.0000,   0.0000,   0.0000,   0.0000,   0.0000,   0.0000,  86.0000, 240.0000, 253.0000, 249.0000, 175.0000,  22.0000,   0.0000,   0.0000,   0.0000,   0.0000,\n",
              "            0.0000,   0.0000,   0.0000,   0.0000,   0.0000,   0.0000,   0.0000,   0.0000,   0.0000],\n",
              "         [  0.0000,   0.0000,   0.0000,   0.0000,   0.0000,   0.0000,   0.0000,   0.0000,   0.0000,   0.0000,  64.0000, 179.0000, 253.0000, 254.0000, 210.0000,  34.0000,   3.0000,   0.0000,   0.0000,\n",
              "            0.0000,   0.0000,   0.0000,   0.0000,   0.0000,   0.0000,   0.0000,   0.0000,   0.0000],\n",
              "         [  0.0000,   0.0000,   0.0000,   0.0000,   0.0000,   0.0000,   0.0000,   0.0000,   0.0000,   0.0000,   0.0000,  11.0000, 114.0000, 254.0000, 253.0000, 253.0000, 105.0000,   0.0000,   0.0000,\n",
              "            0.0000,   0.0000,   0.0000,   0.0000,   0.0000,   0.0000,   0.0000,   0.0000,   0.0000],\n",
              "         [  0.0000,   0.0000,   0.0000,   0.0000,   0.0000,   0.0000,   0.0000,   0.0000,   0.0000,   0.0000,   0.0000,   0.0000,   6.0000, 121.0000, 253.0000, 253.0000, 210.0000,  22.0000,   0.0000,\n",
              "            0.0000,   0.0000,   0.0000,   0.0000,   0.0000,   0.0000,   0.0000,   0.0000,   0.0000],\n",
              "         [  0.0000,   0.0000,   0.0000,   0.0000,   0.0000,   0.0000,   0.0000,   0.0000,   0.0000,   0.0000,   0.0000,   0.0000,   0.0000,   0.0000, 121.0000, 254.0000, 254.0000,  41.0000,   0.0000,\n",
              "            0.0000,   0.0000,   0.0000,   0.0000,   0.0000,   0.0000,   0.0000,   0.0000,   0.0000],\n",
              "         [  0.0000,   0.0000,   0.0000,   0.0000,   0.0000,   0.0000,   0.0000,   0.0000,   0.0000,   0.0000,   0.0000,   0.0000,   0.0000,   0.0000, 247.0000, 253.0000, 165.0000,   2.0000,   0.0000,\n",
              "            0.0000,   0.0000,   0.0000,   0.0000,   0.0000,   0.0000,   0.0000,   0.0000,   0.0000],\n",
              "         [  0.0000,   0.0000,   0.0000,   0.0000,   0.0000,   0.0000,   0.0000,   0.0000,   0.0000,   0.0000,   0.0000,   0.0000,   5.0000, 165.0000, 253.0000, 253.0000, 112.0000,   0.0000,   0.0000,\n",
              "            0.0000,   0.0000,   0.0000,   0.0000,   0.0000,   0.0000,   0.0000,   0.0000,   0.0000],\n",
              "         [  0.0000,   0.0000,   0.0000,   0.0000,   0.0000,   0.0000,   0.0000,   0.0000,   0.0000,   0.0000,   0.0000,   0.0000,  13.0000, 254.0000, 253.0000, 219.0000,  19.0000,   0.0000,   0.0000,\n",
              "            0.0000,   0.0000,   0.0000,   0.0000,   0.0000,   0.0000,   0.0000,   0.0000,   0.0000],\n",
              "         [  0.0000,   0.0000,   0.0000,   0.0000,   0.0000,   0.0000,   0.0000,   0.0000,   0.0000,   0.0000,   0.0000,   0.0000, 119.0000, 254.0000, 253.0000,  42.0000,   0.0000,   0.0000,   0.0000,\n",
              "            0.0000,   0.0000,   0.0000,   0.0000,   0.0000,   0.0000,   0.0000,   0.0000,   0.0000],\n",
              "         [  0.0000,   0.0000,   0.0000,   0.0000,   0.0000,   0.0000,   0.0000,   0.0000,   0.0000,   0.0000,   0.0000,  19.0000, 225.0000, 254.0000, 165.0000,   4.0000,   0.0000,   0.0000,   0.0000,\n",
              "            0.0000,   0.0000,   0.0000,   0.0000,   0.0000,   0.0000,   0.0000,   0.0000,   0.0000],\n",
              "         [  0.0000,   0.0000,   0.0000,   0.0000,   0.0000,   0.0000,   0.0000,   0.0000,   0.0000,   0.0000,   0.0000, 118.0000, 253.0000, 255.0000, 153.0000,  41.0000,  41.0000,  41.0000,  41.0000,\n",
              "           32.0000,   0.0000,   0.0000,   0.0000,   0.0000,   0.0000,   0.0000,   0.0000,   0.0000],\n",
              "         [  0.0000,   0.0000,   0.0000,   0.0000,   0.0000,   0.0000,   0.0000,   0.0000,   0.0000,   0.0000,   0.0000,  75.0000, 253.0000, 255.0000, 253.0000, 253.0000, 253.0000, 253.0000, 253.0000,\n",
              "          201.0000,   0.0000,   0.0000,   0.0000,   0.0000,   0.0000,   0.0000,   0.0000,   0.0000],\n",
              "         [  0.0000,   0.0000,   0.0000,   0.0000,   0.0000,   0.0000,   0.0000,   0.0000,   0.0000,   0.0000,   0.0000,  11.0000, 184.0000, 255.0000, 253.0000, 253.0000, 253.0000, 253.0000, 253.0000,\n",
              "          194.0000,   0.0000,   0.0000,   0.0000,   0.0000,   0.0000,   0.0000,   0.0000,   0.0000],\n",
              "         [  0.0000,   0.0000,   0.0000,   0.0000,   0.0000,   0.0000,   0.0000,   0.0000,   0.0000,   0.0000,   0.0000,   0.0000,   6.0000, 121.0000, 190.0000, 120.0000, 120.0000, 120.0000, 120.0000,\n",
              "           32.0000,   0.0000,   0.0000,   0.0000,   0.0000,   0.0000,   0.0000,   0.0000,   0.0000],\n",
              "         [  0.0000,   0.0000,   0.0000,   0.0000,   0.0000,   0.0000,   0.0000,   0.0000,   0.0000,   0.0000,   0.0000,   0.0000,   0.0000,   0.0000,   0.0000,   0.0000,   0.0000,   0.0000,   0.0000,\n",
              "            0.0000,   0.0000,   0.0000,   0.0000,   0.0000,   0.0000,   0.0000,   0.0000,   0.0000],\n",
              "         [  0.0000,   0.0000,   0.0000,   0.0000,   0.0000,   0.0000,   0.0000,   0.0000,   0.0000,   0.0000,   0.0000,   0.0000,   0.0000,   0.0000,   0.0000,   0.0000,   0.0000,   0.0000,   0.0000,\n",
              "            0.0000,   0.0000,   0.0000,   0.0000,   0.0000,   0.0000,   0.0000,   0.0000,   0.0000],\n",
              "         [  0.0000,   0.0000,   0.0000,   0.0000,   0.0000,   0.0000,   0.0000,   0.0000,   0.0000,   0.0000,   0.0000,   0.0000,   0.0000,   0.0000,   0.0000,   0.0000,   0.0000,   0.0000,   0.0000,\n",
              "            0.0000,   0.0000,   0.0000,   0.0000,   0.0000,   0.0000,   0.0000,   0.0000,   0.0000]]),\n",
              " 1)"
            ]
          },
          "metadata": {
            "tags": []
          },
          "execution_count": 132
        }
      ]
    },
    {
      "cell_type": "markdown",
      "metadata": {
        "id": "5Jpfzz6icWnG",
        "colab_type": "text"
      },
      "source": [
        "Last piece of the puzzle is to make load_image function a transform as well. So"
      ]
    },
    {
      "cell_type": "code",
      "metadata": {
        "id": "QWhnlmrAa1sR",
        "colab_type": "code",
        "colab": {}
      },
      "source": [
        "# Note that we could make the output a tensor BUT we want to choose a TensorImage\n",
        "# class so that we know when we decode (for eg) that the tensor is that of an image\n",
        "# vs say a Tensor resulting from a word representation or char rep or something else\n",
        "\n",
        "# Could also do this by (x)->TensorImage and then return could be tensor\n",
        "@Transform\n",
        "def create_image_tensor(x): return TensorImage(tensor(array(load_image(x))))"
      ],
      "execution_count": null,
      "outputs": []
    },
    {
      "cell_type": "code",
      "metadata": {
        "id": "nwHd7bBOleLn",
        "colab_type": "code",
        "colab": {}
      },
      "source": [
        "# Instead of having a Transform decorator in previous cell we could also create a Pipeline like so\n",
        "# That would work too since Pipeline converts functions into Transforms\n",
        "\n",
        "# timg = Pipeline(create_image_tensor)(fn)"
      ],
      "execution_count": null,
      "outputs": []
    },
    {
      "cell_type": "code",
      "metadata": {
        "id": "oOuGluaea1n8",
        "colab_type": "code",
        "colab": {
          "base_uri": "https://localhost:8080/",
          "height": 493
        },
        "outputId": "4a610fe5-4550-4405-aed2-82ebce915ef4"
      },
      "source": [
        "# Instead of having a Transform decorator in previous cell we could also create a Pipeline\n",
        "timg = create_image_tensor(fn); timg"
      ],
      "execution_count": null,
      "outputs": [
        {
          "output_type": "execute_result",
          "data": {
            "text/plain": [
              "TensorImage([[  0,   0,   0,   0,   0,   0,   0,   0,   0,   0,   0,   0,   0,   0,   0,   0,   0,   0,   0,   0,   0,   0,   0,   0,   0,   0,   0,   0],\n",
              "        [  0,   0,   0,   0,   0,   0,   0,   0,   0,   0,   0,   0,   0,   0,   0,   0,   0,   0,   0,   0,   0,   0,   0,   0,   0,   0,   0,   0],\n",
              "        [  0,   0,   0,   0,   0,   0,   0,   0,   0,   0,   0,   0,   0,   0,   0,   0,   0,   0,   0,   0,   0,   0,   0,   0,   0,   0,   0,   0],\n",
              "        [  0,   0,   0,   0,   0,   0,   0,   0,   0,   0,   0,   0,   0,   0,   0,   0,   0,   0,   0,   0,   0,   0,   0,   0,   0,   0,   0,   0],\n",
              "        [  0,   0,   0,   0,   0,   0,   0,   0,   0,   0,   0,   0,   0,   0,   0,   0,   0,   0,   0,   0,   0,   0,   0,   0,   0,   0,   0,   0],\n",
              "        [  0,   0,   0,   0,   0,   0,   0,   0,   0,  26, 213, 169, 121, 121, 192, 121, 121, 121,  89,   0,   0,   0,   0,   0,   0,   0,   0,   0],\n",
              "        [  0,   0,   0,   0,   0,   0,   0,   0,   0,  31, 220, 253, 253, 253, 254, 253, 253, 253, 250, 190,   0,   0,   0,   0,   0,   0,   0,   0],\n",
              "        [  0,   0,   0,   0,   0,   0,   0,   0,   0,   0,  39, 159, 214, 253, 160, 159, 194, 253, 253, 199,   0,   0,   0,   0,   0,   0,   0,   0],\n",
              "        [  0,   0,   0,   0,   0,   0,   0,   0,   0,   0,   0,   0,  23,  39,   0,   0,  94, 253, 253, 199,   0,   0,   0,   0,   0,   0,   0,   0],\n",
              "        [  0,   0,   0,   0,   0,   0,   0,   0,   0,   0,   0,   0,   0,   0,   0,   0, 129, 253, 253, 164,   0,   0,   0,   0,   0,   0,   0,   0],\n",
              "        [  0,   0,   0,   0,   0,   0,   0,   0,   0,   0,   0,   0,   0,   0,   0, 178, 247, 253, 239,  52,   0,   0,   0,   0,   0,   0,   0,   0],\n",
              "        [  0,   0,   0,   0,   0,   0,   0,   0,   0,   0,   0,   0,   0,  22, 175, 249, 253, 240,  86,   0,   0,   0,   0,   0,   0,   0,   0,   0],\n",
              "        [  0,   0,   0,   0,   0,   0,   0,   0,   0,   0,   0,   3,  34, 210, 254, 253, 179,  64,   0,   0,   0,   0,   0,   0,   0,   0,   0,   0],\n",
              "        [  0,   0,   0,   0,   0,   0,   0,   0,   0,   0,   0, 105, 253, 253, 254, 114,  11,   0,   0,   0,   0,   0,   0,   0,   0,   0,   0,   0],\n",
              "        [  0,   0,   0,   0,   0,   0,   0,   0,   0,   0,  22, 210, 253, 253, 121,   6,   0,   0,   0,   0,   0,   0,   0,   0,   0,   0,   0,   0],\n",
              "        [  0,   0,   0,   0,   0,   0,   0,   0,   0,   0,  41, 254, 254, 121,   0,   0,   0,   0,   0,   0,   0,   0,   0,   0,   0,   0,   0,   0],\n",
              "        [  0,   0,   0,   0,   0,   0,   0,   0,   0,   0,   2, 165, 253, 247,   0,   0,   0,   0,   0,   0,   0,   0,   0,   0,   0,   0,   0,   0],\n",
              "        [  0,   0,   0,   0,   0,   0,   0,   0,   0,   0,   0, 112, 253, 253, 165,   5,   0,   0,   0,   0,   0,   0,   0,   0,   0,   0,   0,   0],\n",
              "        [  0,   0,   0,   0,   0,   0,   0,   0,   0,   0,   0,  19, 219, 253, 254,  13,   0,   0,   0,   0,   0,   0,   0,   0,   0,   0,   0,   0],\n",
              "        [  0,   0,   0,   0,   0,   0,   0,   0,   0,   0,   0,   0,  42, 253, 254, 119,   0,   0,   0,   0,   0,   0,   0,   0,   0,   0,   0,   0],\n",
              "        [  0,   0,   0,   0,   0,   0,   0,   0,   0,   0,   0,   0,   4, 165, 254, 225,  19,   0,   0,   0,   0,   0,   0,   0,   0,   0,   0,   0],\n",
              "        [  0,   0,   0,   0,   0,   0,   0,   0,  32,  41,  41,  41,  41, 153, 255, 253, 118,   0,   0,   0,   0,   0,   0,   0,   0,   0,   0,   0],\n",
              "        [  0,   0,   0,   0,   0,   0,   0,   0, 201, 253, 253, 253, 253, 253, 255, 253,  75,   0,   0,   0,   0,   0,   0,   0,   0,   0,   0,   0],\n",
              "        [  0,   0,   0,   0,   0,   0,   0,   0, 194, 253, 253, 253, 253, 253, 255, 184,  11,   0,   0,   0,   0,   0,   0,   0,   0,   0,   0,   0],\n",
              "        [  0,   0,   0,   0,   0,   0,   0,   0,  32, 120, 120, 120, 120, 190, 121,   6,   0,   0,   0,   0,   0,   0,   0,   0,   0,   0,   0,   0],\n",
              "        [  0,   0,   0,   0,   0,   0,   0,   0,   0,   0,   0,   0,   0,   0,   0,   0,   0,   0,   0,   0,   0,   0,   0,   0,   0,   0,   0,   0],\n",
              "        [  0,   0,   0,   0,   0,   0,   0,   0,   0,   0,   0,   0,   0,   0,   0,   0,   0,   0,   0,   0,   0,   0,   0,   0,   0,   0,   0,   0],\n",
              "        [  0,   0,   0,   0,   0,   0,   0,   0,   0,   0,   0,   0,   0,   0,   0,   0,   0,   0,   0,   0,   0,   0,   0,   0,   0,   0,   0,   0]], dtype=torch.uint8)"
            ]
          },
          "metadata": {
            "tags": []
          },
          "execution_count": 134
        }
      ]
    },
    {
      "cell_type": "code",
      "metadata": {
        "id": "kZCXOnCBeSPT",
        "colab_type": "code",
        "colab": {
          "base_uri": "https://localhost:8080/",
          "height": 34
        },
        "outputId": "cb87708e-7438-43af-e538-9f86062ba9f9"
      },
      "source": [
        "type(timg)"
      ],
      "execution_count": null,
      "outputs": [
        {
          "output_type": "execute_result",
          "data": {
            "text/plain": [
              "fastai2.torch_core.TensorImage"
            ]
          },
          "metadata": {
            "tags": []
          },
          "execution_count": 135
        }
      ]
    },
    {
      "cell_type": "code",
      "metadata": {
        "id": "to3vWflna1Qs",
        "colab_type": "code",
        "colab": {
          "base_uri": "https://localhost:8080/",
          "height": 68
        },
        "outputId": "1886dc6e-f81a-4172-a822-627da397e8f9"
      },
      "source": [
        "tsub = timg[12:15]\n",
        "tsub"
      ],
      "execution_count": null,
      "outputs": [
        {
          "output_type": "execute_result",
          "data": {
            "text/plain": [
              "tensor([[  0,   0,   0,   0,   0,   0,   0,   0,   0,   0,   0,   3,  34, 210, 254, 253, 179,  64,   0,   0,   0,   0,   0,   0,   0,   0,   0,   0],\n",
              "        [  0,   0,   0,   0,   0,   0,   0,   0,   0,   0,   0, 105, 253, 253, 254, 114,  11,   0,   0,   0,   0,   0,   0,   0,   0,   0,   0,   0],\n",
              "        [  0,   0,   0,   0,   0,   0,   0,   0,   0,   0,  22, 210, 253, 253, 121,   6,   0,   0,   0,   0,   0,   0,   0,   0,   0,   0,   0,   0]], dtype=torch.uint8)"
            ]
          },
          "metadata": {
            "tags": []
          },
          "execution_count": 136
        }
      ]
    },
    {
      "cell_type": "code",
      "metadata": {
        "id": "It9o4Z8wdaNh",
        "colab_type": "code",
        "colab": {}
      },
      "source": [
        "mti = TensorImage(timg.clone()).float()"
      ],
      "execution_count": null,
      "outputs": []
    },
    {
      "cell_type": "code",
      "metadata": {
        "id": "s1qJBuHXeKdu",
        "colab_type": "code",
        "colab": {
          "base_uri": "https://localhost:8080/",
          "height": 34
        },
        "outputId": "4031fa1d-ec63-4b56-9673-331391a885e9"
      },
      "source": [
        "type(mti)"
      ],
      "execution_count": null,
      "outputs": [
        {
          "output_type": "execute_result",
          "data": {
            "text/plain": [
              "fastai2.torch_core.TensorImage"
            ]
          },
          "metadata": {
            "tags": []
          },
          "execution_count": 138
        }
      ]
    },
    {
      "cell_type": "code",
      "metadata": {
        "id": "C52ArTOzdcjR",
        "colab_type": "code",
        "colab": {}
      },
      "source": [
        "mi = Int(1)"
      ],
      "execution_count": null,
      "outputs": []
    },
    {
      "cell_type": "code",
      "metadata": {
        "id": "wArucEZTddF9",
        "colab_type": "code",
        "colab": {}
      },
      "source": [
        "# Return to basics\n",
        "class Norm(Transform):\n",
        "    def __init__(self, m, s):\n",
        "        super().__init__()\n",
        "        self.m,self.s = m,s\n",
        "    def encodes(self, x:TensorImage): return (x-self.m)/self.s\n",
        "    def decodes(self, x:TensorImage): return (x*self.s)+self.m"
      ],
      "execution_count": null,
      "outputs": []
    },
    {
      "cell_type": "code",
      "metadata": {
        "id": "zPZJlxFqddjA",
        "colab_type": "code",
        "colab": {}
      },
      "source": [
        "# @Transform\n",
        "def flip_img(x:TensorImage): return torch.flip(x, (1,)) if random.random()>0.5 else x"
      ],
      "execution_count": null,
      "outputs": []
    },
    {
      "cell_type": "code",
      "metadata": {
        "id": "zqS2RSF0dd9V",
        "colab_type": "code",
        "colab": {}
      },
      "source": [
        "# Since up top I can converting timg to float and calling it mti\n",
        "m,s = mti.mean(),mti.std()"
      ],
      "execution_count": null,
      "outputs": []
    },
    {
      "cell_type": "code",
      "metadata": {
        "id": "OMPZ2wNTdeXi",
        "colab_type": "code",
        "colab": {}
      },
      "source": [
        "f = Norm(m=m,s=s)"
      ],
      "execution_count": null,
      "outputs": []
    },
    {
      "cell_type": "code",
      "metadata": {
        "id": "rhM6ql6ydela",
        "colab_type": "code",
        "colab": {}
      },
      "source": [
        "imgtup = (mti, mi)"
      ],
      "execution_count": null,
      "outputs": []
    },
    {
      "cell_type": "code",
      "metadata": {
        "id": "F0-AWATPdeKb",
        "colab_type": "code",
        "colab": {}
      },
      "source": [
        "pipe = Pipeline([f, flip_img])"
      ],
      "execution_count": null,
      "outputs": []
    },
    {
      "cell_type": "code",
      "metadata": {
        "id": "tPVIqWJmddwf",
        "colab_type": "code",
        "colab": {}
      },
      "source": [
        "ttup = pipe(imgtup)"
      ],
      "execution_count": null,
      "outputs": []
    },
    {
      "cell_type": "code",
      "metadata": {
        "id": "PfgvgY4DddU9",
        "colab_type": "code",
        "colab": {
          "base_uri": "https://localhost:8080/",
          "height": 986
        },
        "outputId": "b589be13-d108-4fe6-ab21-212c8fea7df8"
      },
      "source": [
        "pipe.decode(ttup)"
      ],
      "execution_count": null,
      "outputs": [
        {
          "output_type": "execute_result",
          "data": {
            "text/plain": [
              "(TensorImage([[  0.0000,   0.0000,   0.0000,   0.0000,   0.0000,   0.0000,   0.0000,   0.0000,   0.0000,   0.0000,   0.0000,   0.0000,   0.0000,   0.0000,   0.0000,   0.0000,   0.0000,   0.0000,   0.0000,\n",
              "            0.0000,   0.0000,   0.0000,   0.0000,   0.0000,   0.0000,   0.0000,   0.0000,   0.0000],\n",
              "         [  0.0000,   0.0000,   0.0000,   0.0000,   0.0000,   0.0000,   0.0000,   0.0000,   0.0000,   0.0000,   0.0000,   0.0000,   0.0000,   0.0000,   0.0000,   0.0000,   0.0000,   0.0000,   0.0000,\n",
              "            0.0000,   0.0000,   0.0000,   0.0000,   0.0000,   0.0000,   0.0000,   0.0000,   0.0000],\n",
              "         [  0.0000,   0.0000,   0.0000,   0.0000,   0.0000,   0.0000,   0.0000,   0.0000,   0.0000,   0.0000,   0.0000,   0.0000,   0.0000,   0.0000,   0.0000,   0.0000,   0.0000,   0.0000,   0.0000,\n",
              "            0.0000,   0.0000,   0.0000,   0.0000,   0.0000,   0.0000,   0.0000,   0.0000,   0.0000],\n",
              "         [  0.0000,   0.0000,   0.0000,   0.0000,   0.0000,   0.0000,   0.0000,   0.0000,   0.0000,   0.0000,   0.0000,   0.0000,   0.0000,   0.0000,   0.0000,   0.0000,   0.0000,   0.0000,   0.0000,\n",
              "            0.0000,   0.0000,   0.0000,   0.0000,   0.0000,   0.0000,   0.0000,   0.0000,   0.0000],\n",
              "         [  0.0000,   0.0000,   0.0000,   0.0000,   0.0000,   0.0000,   0.0000,   0.0000,   0.0000,   0.0000,   0.0000,   0.0000,   0.0000,   0.0000,   0.0000,   0.0000,   0.0000,   0.0000,   0.0000,\n",
              "            0.0000,   0.0000,   0.0000,   0.0000,   0.0000,   0.0000,   0.0000,   0.0000,   0.0000],\n",
              "         [  0.0000,   0.0000,   0.0000,   0.0000,   0.0000,   0.0000,   0.0000,   0.0000,   0.0000,  26.0000, 213.0000, 169.0000, 121.0000, 121.0000, 192.0000, 121.0000, 121.0000, 121.0000,  89.0000,\n",
              "            0.0000,   0.0000,   0.0000,   0.0000,   0.0000,   0.0000,   0.0000,   0.0000,   0.0000],\n",
              "         [  0.0000,   0.0000,   0.0000,   0.0000,   0.0000,   0.0000,   0.0000,   0.0000,   0.0000,  31.0000, 220.0000, 253.0000, 253.0000, 253.0000, 254.0000, 253.0000, 253.0000, 253.0000, 250.0000,\n",
              "          190.0000,   0.0000,   0.0000,   0.0000,   0.0000,   0.0000,   0.0000,   0.0000,   0.0000],\n",
              "         [  0.0000,   0.0000,   0.0000,   0.0000,   0.0000,   0.0000,   0.0000,   0.0000,   0.0000,   0.0000,  39.0000, 159.0000, 214.0000, 253.0000, 160.0000, 159.0000, 194.0000, 253.0000, 253.0000,\n",
              "          199.0000,   0.0000,   0.0000,   0.0000,   0.0000,   0.0000,   0.0000,   0.0000,   0.0000],\n",
              "         [  0.0000,   0.0000,   0.0000,   0.0000,   0.0000,   0.0000,   0.0000,   0.0000,   0.0000,   0.0000,   0.0000,   0.0000,  23.0000,  39.0000,   0.0000,   0.0000,  94.0000, 253.0000, 253.0000,\n",
              "          199.0000,   0.0000,   0.0000,   0.0000,   0.0000,   0.0000,   0.0000,   0.0000,   0.0000],\n",
              "         [  0.0000,   0.0000,   0.0000,   0.0000,   0.0000,   0.0000,   0.0000,   0.0000,   0.0000,   0.0000,   0.0000,   0.0000,   0.0000,   0.0000,   0.0000,   0.0000, 129.0000, 253.0000, 253.0000,\n",
              "          164.0000,   0.0000,   0.0000,   0.0000,   0.0000,   0.0000,   0.0000,   0.0000,   0.0000],\n",
              "         [  0.0000,   0.0000,   0.0000,   0.0000,   0.0000,   0.0000,   0.0000,   0.0000,   0.0000,   0.0000,   0.0000,   0.0000,   0.0000,   0.0000,   0.0000, 178.0000, 247.0000, 253.0000, 239.0000,\n",
              "           52.0000,   0.0000,   0.0000,   0.0000,   0.0000,   0.0000,   0.0000,   0.0000,   0.0000],\n",
              "         [  0.0000,   0.0000,   0.0000,   0.0000,   0.0000,   0.0000,   0.0000,   0.0000,   0.0000,   0.0000,   0.0000,   0.0000,   0.0000,  22.0000, 175.0000, 249.0000, 253.0000, 240.0000,  86.0000,\n",
              "            0.0000,   0.0000,   0.0000,   0.0000,   0.0000,   0.0000,   0.0000,   0.0000,   0.0000],\n",
              "         [  0.0000,   0.0000,   0.0000,   0.0000,   0.0000,   0.0000,   0.0000,   0.0000,   0.0000,   0.0000,   0.0000,   3.0000,  34.0000, 210.0000, 254.0000, 253.0000, 179.0000,  64.0000,   0.0000,\n",
              "            0.0000,   0.0000,   0.0000,   0.0000,   0.0000,   0.0000,   0.0000,   0.0000,   0.0000],\n",
              "         [  0.0000,   0.0000,   0.0000,   0.0000,   0.0000,   0.0000,   0.0000,   0.0000,   0.0000,   0.0000,   0.0000, 105.0000, 253.0000, 253.0000, 254.0000, 114.0000,  11.0000,   0.0000,   0.0000,\n",
              "            0.0000,   0.0000,   0.0000,   0.0000,   0.0000,   0.0000,   0.0000,   0.0000,   0.0000],\n",
              "         [  0.0000,   0.0000,   0.0000,   0.0000,   0.0000,   0.0000,   0.0000,   0.0000,   0.0000,   0.0000,  22.0000, 210.0000, 253.0000, 253.0000, 121.0000,   6.0000,   0.0000,   0.0000,   0.0000,\n",
              "            0.0000,   0.0000,   0.0000,   0.0000,   0.0000,   0.0000,   0.0000,   0.0000,   0.0000],\n",
              "         [  0.0000,   0.0000,   0.0000,   0.0000,   0.0000,   0.0000,   0.0000,   0.0000,   0.0000,   0.0000,  41.0000, 254.0000, 254.0000, 121.0000,   0.0000,   0.0000,   0.0000,   0.0000,   0.0000,\n",
              "            0.0000,   0.0000,   0.0000,   0.0000,   0.0000,   0.0000,   0.0000,   0.0000,   0.0000],\n",
              "         [  0.0000,   0.0000,   0.0000,   0.0000,   0.0000,   0.0000,   0.0000,   0.0000,   0.0000,   0.0000,   2.0000, 165.0000, 253.0000, 247.0000,   0.0000,   0.0000,   0.0000,   0.0000,   0.0000,\n",
              "            0.0000,   0.0000,   0.0000,   0.0000,   0.0000,   0.0000,   0.0000,   0.0000,   0.0000],\n",
              "         [  0.0000,   0.0000,   0.0000,   0.0000,   0.0000,   0.0000,   0.0000,   0.0000,   0.0000,   0.0000,   0.0000, 112.0000, 253.0000, 253.0000, 165.0000,   5.0000,   0.0000,   0.0000,   0.0000,\n",
              "            0.0000,   0.0000,   0.0000,   0.0000,   0.0000,   0.0000,   0.0000,   0.0000,   0.0000],\n",
              "         [  0.0000,   0.0000,   0.0000,   0.0000,   0.0000,   0.0000,   0.0000,   0.0000,   0.0000,   0.0000,   0.0000,  19.0000, 219.0000, 253.0000, 254.0000,  13.0000,   0.0000,   0.0000,   0.0000,\n",
              "            0.0000,   0.0000,   0.0000,   0.0000,   0.0000,   0.0000,   0.0000,   0.0000,   0.0000],\n",
              "         [  0.0000,   0.0000,   0.0000,   0.0000,   0.0000,   0.0000,   0.0000,   0.0000,   0.0000,   0.0000,   0.0000,   0.0000,  42.0000, 253.0000, 254.0000, 119.0000,   0.0000,   0.0000,   0.0000,\n",
              "            0.0000,   0.0000,   0.0000,   0.0000,   0.0000,   0.0000,   0.0000,   0.0000,   0.0000],\n",
              "         [  0.0000,   0.0000,   0.0000,   0.0000,   0.0000,   0.0000,   0.0000,   0.0000,   0.0000,   0.0000,   0.0000,   0.0000,   4.0000, 165.0000, 254.0000, 225.0000,  19.0000,   0.0000,   0.0000,\n",
              "            0.0000,   0.0000,   0.0000,   0.0000,   0.0000,   0.0000,   0.0000,   0.0000,   0.0000],\n",
              "         [  0.0000,   0.0000,   0.0000,   0.0000,   0.0000,   0.0000,   0.0000,   0.0000,  32.0000,  41.0000,  41.0000,  41.0000,  41.0000, 153.0000, 255.0000, 253.0000, 118.0000,   0.0000,   0.0000,\n",
              "            0.0000,   0.0000,   0.0000,   0.0000,   0.0000,   0.0000,   0.0000,   0.0000,   0.0000],\n",
              "         [  0.0000,   0.0000,   0.0000,   0.0000,   0.0000,   0.0000,   0.0000,   0.0000, 201.0000, 253.0000, 253.0000, 253.0000, 253.0000, 253.0000, 255.0000, 253.0000,  75.0000,   0.0000,   0.0000,\n",
              "            0.0000,   0.0000,   0.0000,   0.0000,   0.0000,   0.0000,   0.0000,   0.0000,   0.0000],\n",
              "         [  0.0000,   0.0000,   0.0000,   0.0000,   0.0000,   0.0000,   0.0000,   0.0000, 194.0000, 253.0000, 253.0000, 253.0000, 253.0000, 253.0000, 255.0000, 184.0000,  11.0000,   0.0000,   0.0000,\n",
              "            0.0000,   0.0000,   0.0000,   0.0000,   0.0000,   0.0000,   0.0000,   0.0000,   0.0000],\n",
              "         [  0.0000,   0.0000,   0.0000,   0.0000,   0.0000,   0.0000,   0.0000,   0.0000,  32.0000, 120.0000, 120.0000, 120.0000, 120.0000, 190.0000, 121.0000,   6.0000,   0.0000,   0.0000,   0.0000,\n",
              "            0.0000,   0.0000,   0.0000,   0.0000,   0.0000,   0.0000,   0.0000,   0.0000,   0.0000],\n",
              "         [  0.0000,   0.0000,   0.0000,   0.0000,   0.0000,   0.0000,   0.0000,   0.0000,   0.0000,   0.0000,   0.0000,   0.0000,   0.0000,   0.0000,   0.0000,   0.0000,   0.0000,   0.0000,   0.0000,\n",
              "            0.0000,   0.0000,   0.0000,   0.0000,   0.0000,   0.0000,   0.0000,   0.0000,   0.0000],\n",
              "         [  0.0000,   0.0000,   0.0000,   0.0000,   0.0000,   0.0000,   0.0000,   0.0000,   0.0000,   0.0000,   0.0000,   0.0000,   0.0000,   0.0000,   0.0000,   0.0000,   0.0000,   0.0000,   0.0000,\n",
              "            0.0000,   0.0000,   0.0000,   0.0000,   0.0000,   0.0000,   0.0000,   0.0000,   0.0000],\n",
              "         [  0.0000,   0.0000,   0.0000,   0.0000,   0.0000,   0.0000,   0.0000,   0.0000,   0.0000,   0.0000,   0.0000,   0.0000,   0.0000,   0.0000,   0.0000,   0.0000,   0.0000,   0.0000,   0.0000,\n",
              "            0.0000,   0.0000,   0.0000,   0.0000,   0.0000,   0.0000,   0.0000,   0.0000,   0.0000]]),\n",
              " 1)"
            ]
          },
          "metadata": {
            "tags": []
          },
          "execution_count": 148
        }
      ]
    },
    {
      "cell_type": "markdown",
      "metadata": {
        "id": "m96QuU8LmNWG",
        "colab_type": "text"
      },
      "source": [
        "Transforms treats passed in values ie x as tuples and behavior is for the function to act on each elem of tuple or listy thing or collection thing x conditioned on types. \n",
        "\n",
        "There is *only* ItemTransform now - no TupleTransform. ItemTransform is subclass of Transform and you can inherit from that instead of inheriting from Transform. \n",
        "\n",
        "Q - Does Pipeline now change the Transform if it is a ItemTransform - need to check this out. ie does it treat as tuple or as item?.\n",
        "\n",
        "WT Lecture he says that *all the time* you will get requested behavior.\n",
        "Reason to support this flexibility of both behaviors is depending on where you are in the data processing pipeline, some time you want tuple behavior and sometime you want item behavior. Specifically, until you collate batch together - so after_item, before_batch callbacks you have two separate pipelines going on - for eg, for image and for label a Pipeline for each. So each pipeline is separately applied eg in Pets as when we are building a dataset one Pipeline is applied to one item at a time (& not tuples), the Pipeline will process an item. (The data has NOT been combined into tuples yet). \n",
        "\n",
        "Later on in the process after they are pulled out of the datasets, by the time we get to using a dataloader the Pipeline will operate on tuples. "
      ]
    },
    {
      "cell_type": "code",
      "metadata": {
        "id": "J6b1vDF3zo2w",
        "colab_type": "code",
        "colab": {}
      },
      "source": [
        ""
      ],
      "execution_count": null,
      "outputs": []
    },
    {
      "cell_type": "markdown",
      "metadata": {
        "id": "zyCgz4HzRuPI",
        "colab_type": "text"
      },
      "source": [
        "## fin -"
      ]
    }
  ]
}