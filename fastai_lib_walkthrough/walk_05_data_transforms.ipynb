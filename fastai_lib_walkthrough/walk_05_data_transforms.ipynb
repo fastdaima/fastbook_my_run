{
  "nbformat": 4,
  "nbformat_minor": 0,
  "metadata": {
    "jupytext": {
      "split_at_heading": true
    },
    "kernelspec": {
      "display_name": "Python 3",
      "language": "python",
      "name": "python3"
    },
    "colab": {
      "name": "walk_05_data.transforms.ipynb",
      "provenance": [],
      "collapsed_sections": [
        "5GIZj344fLF_",
        "R7jccqBnfLGr",
        "2Zme1zkUBB13",
        "vypSW8o3D7cj",
        "4HebQ3JnfLG_",
        "h2i2c0U-GuBe",
        "JCeD5pPSfLHW",
        "V_a8_Te1fLHn",
        "bXfAv800fLHy",
        "H8-yWtUcfLH0",
        "mKDYG-2RfLH3",
        "KV5BOoOEfLID"
      ]
    }
  },
  "cells": [
    {
      "cell_type": "code",
      "metadata": {
        "id": "reISfOLarSP3",
        "colab_type": "code",
        "colab": {
          "base_uri": "https://localhost:8080/",
          "height": 122
        },
        "outputId": "4b773b78-1714-407a-8d9b-f80c47038174"
      },
      "source": [
        "from google.colab import drive\n",
        "drive.mount('/content/drive')\n"
      ],
      "execution_count": 1,
      "outputs": [
        {
          "output_type": "stream",
          "text": [
            "Go to this URL in a browser: https://accounts.google.com/o/oauth2/auth?client_id=947318989803-6bn6qk8qdgf4n4g3pfee6491hc0brc4i.apps.googleusercontent.com&redirect_uri=urn%3aietf%3awg%3aoauth%3a2.0%3aoob&response_type=code&scope=email%20https%3a%2f%2fwww.googleapis.com%2fauth%2fdocs.test%20https%3a%2f%2fwww.googleapis.com%2fauth%2fdrive%20https%3a%2f%2fwww.googleapis.com%2fauth%2fdrive.photos.readonly%20https%3a%2f%2fwww.googleapis.com%2fauth%2fpeopleapi.readonly\n",
            "\n",
            "Enter your authorization code:\n",
            "··········\n",
            "Mounted at /content/drive\n"
          ],
          "name": "stdout"
        }
      ]
    },
    {
      "cell_type": "code",
      "metadata": {
        "id": "eL57TEy-uXhH",
        "colab_type": "code",
        "colab": {
          "base_uri": "https://localhost:8080/",
          "height": 34
        },
        "outputId": "b3c8db08-27e2-4715-f655-53351c241397"
      },
      "source": [
        "%cd drive/'My Drive'/'Colab Notebooks'/"
      ],
      "execution_count": 2,
      "outputs": [
        {
          "output_type": "stream",
          "text": [
            "/content/drive/My Drive/Colab Notebooks\n"
          ],
          "name": "stdout"
        }
      ]
    },
    {
      "cell_type": "code",
      "metadata": {
        "id": "FCqGH-88vxdz",
        "colab_type": "code",
        "colab": {
          "base_uri": "https://localhost:8080/",
          "height": 1000
        },
        "outputId": "bdae935a-683e-47c1-e60c-b19c54662708"
      },
      "source": [
        "!wget -c https://repo.continuum.io/archive/Anaconda3-5.1.0-Linux-x86_64.sh\n",
        "\n",
        "!chmod +x Anaconda3-5.1.0-Linux-x86_64.sh\n",
        "\n",
        "!bash ./Anaconda3-5.1.0-Linux-x86_64.sh -b -f -p /usr/local\n",
        "\n"
      ],
      "execution_count": 3,
      "outputs": [
        {
          "output_type": "stream",
          "text": [
            "--2020-07-12 12:43:25--  https://repo.continuum.io/archive/Anaconda3-5.1.0-Linux-x86_64.sh\n",
            "Resolving repo.continuum.io (repo.continuum.io)... 104.18.201.79, 104.18.200.79, 2606:4700::6812:c94f, ...\n",
            "Connecting to repo.continuum.io (repo.continuum.io)|104.18.201.79|:443... connected.\n",
            "HTTP request sent, awaiting response... 301 Moved Permanently\n",
            "Location: https://repo.anaconda.com/archive/Anaconda3-5.1.0-Linux-x86_64.sh [following]\n",
            "--2020-07-12 12:43:25--  https://repo.anaconda.com/archive/Anaconda3-5.1.0-Linux-x86_64.sh\n",
            "Resolving repo.anaconda.com (repo.anaconda.com)... 104.16.131.3, 104.16.130.3, 2606:4700::6810:8303, ...\n",
            "Connecting to repo.anaconda.com (repo.anaconda.com)|104.16.131.3|:443... connected.\n",
            "HTTP request sent, awaiting response... 416 Requested Range Not Satisfiable\n",
            "\n",
            "    The file is already fully retrieved; nothing to do.\n",
            "\n",
            "PREFIX=/usr/local\n",
            "installing: python-3.6.4-hc3d631a_1 ...\n",
            "Python 3.6.4 :: Anaconda, Inc.\n",
            "installing: ca-certificates-2017.08.26-h1d4fec5_0 ...\n",
            "installing: conda-env-2.6.0-h36134e3_1 ...\n",
            "installing: intel-openmp-2018.0.0-hc7b2577_8 ...\n",
            "installing: libgcc-ng-7.2.0-h7cc24e2_2 ...\n",
            "installing: libgfortran-ng-7.2.0-h9f7466a_2 ...\n",
            "installing: libstdcxx-ng-7.2.0-h7a57d05_2 ...\n",
            "installing: bzip2-1.0.6-h9a117a8_4 ...\n",
            "installing: expat-2.2.5-he0dffb1_0 ...\n",
            "installing: gmp-6.1.2-h6c8ec71_1 ...\n",
            "installing: graphite2-1.3.10-hf63cedd_1 ...\n",
            "installing: icu-58.2-h9c2bf20_1 ...\n",
            "installing: jbig-2.1-hdba287a_0 ...\n",
            "installing: jpeg-9b-h024ee3a_2 ...\n",
            "installing: libffi-3.2.1-hd88cf55_4 ...\n",
            "installing: libsodium-1.0.15-hf101ebd_0 ...\n",
            "installing: libtool-2.4.6-h544aabb_3 ...\n",
            "installing: libxcb-1.12-hcd93eb1_4 ...\n",
            "installing: lzo-2.10-h49e0be7_2 ...\n",
            "installing: mkl-2018.0.1-h19d6760_4 ...\n",
            "installing: ncurses-6.0-h9df7e31_2 ...\n",
            "installing: openssl-1.0.2n-hb7f436b_0 ...\n",
            "installing: patchelf-0.9-hf79760b_2 ...\n",
            "installing: pcre-8.41-hc27e229_1 ...\n",
            "installing: pixman-0.34.0-hceecf20_3 ...\n",
            "installing: tk-8.6.7-hc745277_3 ...\n",
            "installing: unixodbc-2.3.4-hc36303a_1 ...\n",
            "installing: xz-5.2.3-h55aa19d_2 ...\n",
            "installing: yaml-0.1.7-had09818_2 ...\n",
            "installing: zlib-1.2.11-ha838bed_2 ...\n",
            "installing: glib-2.53.6-h5d9569c_2 ...\n",
            "installing: hdf5-1.10.1-h9caa474_1 ...\n",
            "installing: libedit-3.1-heed3624_0 ...\n",
            "installing: libpng-1.6.34-hb9fc6fc_0 ...\n",
            "installing: libssh2-1.8.0-h9cfc8f7_4 ...\n",
            "installing: libtiff-4.0.9-h28f6b97_0 ...\n",
            "installing: libxml2-2.9.7-h26e45fe_0 ...\n",
            "installing: mpfr-3.1.5-h11a74b3_2 ...\n",
            "installing: pandoc-1.19.2.1-hea2e7c5_1 ...\n",
            "installing: readline-7.0-ha6073c6_4 ...\n",
            "installing: zeromq-4.2.2-hbedb6e5_2 ...\n",
            "installing: dbus-1.12.2-hc3f9b76_1 ...\n",
            "installing: freetype-2.8-hab7d2ae_1 ...\n",
            "installing: gstreamer-1.12.4-hb53b477_0 ...\n",
            "installing: libcurl-7.58.0-h1ad7b7a_0 ...\n",
            "installing: libxslt-1.1.32-h1312cb7_0 ...\n",
            "installing: mpc-1.0.3-hec55b23_5 ...\n",
            "installing: sqlite-3.22.0-h1bed415_0 ...\n",
            "installing: curl-7.58.0-h84994c4_0 ...\n",
            "installing: fontconfig-2.12.4-h88586e7_1 ...\n",
            "installing: gst-plugins-base-1.12.4-h33fb286_0 ...\n",
            "installing: alabaster-0.7.10-py36h306e16b_0 ...\n",
            "installing: asn1crypto-0.24.0-py36_0 ...\n",
            "installing: attrs-17.4.0-py36_0 ...\n",
            "installing: backports-1.0-py36hfa02d7e_1 ...\n",
            "installing: beautifulsoup4-4.6.0-py36h49b8c8c_1 ...\n",
            "installing: bitarray-0.8.1-py36h14c3975_1 ...\n",
            "installing: boto-2.48.0-py36h6e4cd66_1 ...\n",
            "installing: cairo-1.14.12-h77bcde2_0 ...\n",
            "installing: certifi-2018.1.18-py36_0 ...\n",
            "installing: chardet-3.0.4-py36h0f667ec_1 ...\n",
            "installing: click-6.7-py36h5253387_0 ...\n",
            "installing: cloudpickle-0.5.2-py36_1 ...\n",
            "installing: colorama-0.3.9-py36h489cec4_0 ...\n",
            "installing: contextlib2-0.5.5-py36h6c84a62_0 ...\n",
            "installing: dask-core-0.16.1-py36_0 ...\n",
            "installing: decorator-4.2.1-py36_0 ...\n",
            "installing: docutils-0.14-py36hb0f60f5_0 ...\n",
            "installing: entrypoints-0.2.3-py36h1aec115_2 ...\n",
            "installing: et_xmlfile-1.0.1-py36hd6bccc3_0 ...\n",
            "installing: fastcache-1.0.2-py36h14c3975_2 ...\n",
            "installing: filelock-2.0.13-py36h646ffb5_0 ...\n",
            "installing: glob2-0.6-py36he249c77_0 ...\n",
            "installing: gmpy2-2.0.8-py36hc8893dd_2 ...\n",
            "installing: greenlet-0.4.12-py36h2d503a6_0 ...\n",
            "installing: heapdict-1.0.0-py36_2 ...\n",
            "installing: idna-2.6-py36h82fb2a8_1 ...\n",
            "installing: imagesize-0.7.1-py36h52d8127_0 ...\n",
            "installing: ipython_genutils-0.2.0-py36hb52b0d5_0 ...\n",
            "installing: itsdangerous-0.24-py36h93cc618_1 ...\n",
            "installing: jdcal-1.3-py36h4c697fb_0 ...\n",
            "installing: lazy-object-proxy-1.3.1-py36h10fcdad_0 ...\n",
            "installing: llvmlite-0.21.0-py36ha241eea_0 ...\n",
            "installing: locket-0.2.0-py36h787c0ad_1 ...\n",
            "installing: lxml-4.1.1-py36hf71bdeb_1 ...\n",
            "installing: markupsafe-1.0-py36hd9260cd_1 ...\n",
            "installing: mccabe-0.6.1-py36h5ad9710_1 ...\n",
            "installing: mistune-0.8.3-py36_0 ...\n",
            "installing: mkl-service-1.1.2-py36h17a0993_4 ...\n",
            "installing: mpmath-1.0.0-py36hfeacd6b_2 ...\n",
            "installing: msgpack-python-0.5.1-py36h6bb024c_0 ...\n",
            "installing: multipledispatch-0.4.9-py36h41da3fb_0 ...\n",
            "installing: numpy-1.14.0-py36h3dfced4_1 ...\n",
            "installing: olefile-0.45.1-py36_0 ...\n",
            "installing: pandocfilters-1.4.2-py36ha6701b7_1 ...\n",
            "installing: parso-0.1.1-py36h35f843b_0 ...\n",
            "installing: path.py-10.5-py36h55ceabb_0 ...\n",
            "installing: pep8-1.7.1-py36_0 ...\n",
            "installing: pickleshare-0.7.4-py36h63277f8_0 ...\n",
            "installing: pkginfo-1.4.1-py36h215d178_1 ...\n",
            "installing: pluggy-0.6.0-py36hb689045_0 ...\n",
            "installing: ply-3.10-py36hed35086_0 ...\n",
            "installing: psutil-5.4.3-py36h14c3975_0 ...\n",
            "installing: ptyprocess-0.5.2-py36h69acd42_0 ...\n",
            "installing: py-1.5.2-py36h29bf505_0 ...\n",
            "installing: pycodestyle-2.3.1-py36hf609f19_0 ...\n",
            "installing: pycosat-0.6.3-py36h0a5515d_0 ...\n",
            "installing: pycparser-2.18-py36hf9f622e_1 ...\n",
            "installing: pycrypto-2.6.1-py36h14c3975_7 ...\n",
            "installing: pycurl-7.43.0.1-py36hb7f436b_0 ...\n",
            "installing: pyodbc-4.0.22-py36hf484d3e_0 ...\n",
            "installing: pyparsing-2.2.0-py36hee85983_1 ...\n",
            "installing: pysocks-1.6.7-py36hd97a5b1_1 ...\n",
            "installing: pytz-2017.3-py36h63b9c63_0 ...\n",
            "installing: pyyaml-3.12-py36hafb9ca4_1 ...\n",
            "installing: pyzmq-16.0.3-py36he2533c7_0 ...\n",
            "installing: qt-5.6.2-h974d657_12 ...\n",
            "installing: qtpy-1.3.1-py36h3691cc8_0 ...\n",
            "installing: rope-0.10.7-py36h147e2ec_0 ...\n",
            "installing: ruamel_yaml-0.15.35-py36h14c3975_1 ...\n",
            "installing: send2trash-1.4.2-py36_0 ...\n",
            "installing: simplegeneric-0.8.1-py36_2 ...\n",
            "installing: sip-4.18.1-py36h51ed4ed_2 ...\n",
            "installing: six-1.11.0-py36h372c433_1 ...\n",
            "installing: snowballstemmer-1.2.1-py36h6febd40_0 ...\n",
            "installing: sortedcontainers-1.5.9-py36_0 ...\n",
            "installing: sphinxcontrib-1.0-py36h6d0f590_1 ...\n",
            "installing: sqlalchemy-1.2.1-py36h14c3975_0 ...\n",
            "installing: tblib-1.3.2-py36h34cf8b6_0 ...\n",
            "installing: testpath-0.3.1-py36h8cadb63_0 ...\n",
            "installing: toolz-0.9.0-py36_0 ...\n",
            "installing: tornado-4.5.3-py36_0 ...\n",
            "installing: typing-3.6.2-py36h7da032a_0 ...\n",
            "installing: unicodecsv-0.14.1-py36ha668878_0 ...\n",
            "installing: wcwidth-0.1.7-py36hdf4376a_0 ...\n",
            "installing: webencodings-0.5.1-py36h800622e_1 ...\n",
            "installing: werkzeug-0.14.1-py36_0 ...\n",
            "installing: wrapt-1.10.11-py36h28b7045_0 ...\n",
            "installing: xlrd-1.1.0-py36h1db9f0c_1 ...\n",
            "installing: xlsxwriter-1.0.2-py36h3de1aca_0 ...\n",
            "installing: xlwt-1.3.0-py36h7b00a1f_0 ...\n",
            "installing: babel-2.5.3-py36_0 ...\n",
            "installing: backports.shutil_get_terminal_size-1.0.0-py36hfea85ff_2 ...\n",
            "installing: bottleneck-1.2.1-py36haac1ea0_0 ...\n",
            "installing: cffi-1.11.4-py36h9745a5d_0 ...\n",
            "installing: conda-verify-2.0.0-py36h98955d8_0 ...\n",
            "installing: cycler-0.10.0-py36h93f1223_0 ...\n",
            "installing: cytoolz-0.9.0-py36h14c3975_0 ...\n",
            "installing: h5py-2.7.1-py36h3585f63_0 ...\n",
            "installing: harfbuzz-1.7.4-hc5b324e_0 ...\n",
            "installing: html5lib-1.0.1-py36h2f9c1c0_0 ...\n",
            "installing: jedi-0.11.1-py36_0 ...\n",
            "installing: networkx-2.1-py36_0 ...\n",
            "installing: nltk-3.2.5-py36h7532b22_0 ...\n",
            "installing: numba-0.36.2-np114py36hc6662d5_0 ...\n",
            "installing: numexpr-2.6.4-py36hc4a3f9a_0 ...\n",
            "installing: openpyxl-2.4.10-py36_0 ...\n",
            "installing: packaging-16.8-py36ha668100_1 ...\n",
            "installing: partd-0.3.8-py36h36fd896_0 ...\n",
            "installing: pathlib2-2.3.0-py36h49efa8e_0 ...\n",
            "installing: pexpect-4.3.1-py36_0 ...\n",
            "installing: pillow-5.0.0-py36h3deb7b8_0 ...\n",
            "installing: pyqt-5.6.0-py36h0386399_5 ...\n",
            "installing: python-dateutil-2.6.1-py36h88d3b88_1 ...\n",
            "installing: pywavelets-0.5.2-py36he602eb0_0 ...\n",
            "installing: qtawesome-0.4.4-py36h609ed8c_0 ...\n",
            "installing: scipy-1.0.0-py36hbf646e7_0 ...\n",
            "installing: setuptools-38.4.0-py36_0 ...\n",
            "installing: singledispatch-3.4.0.3-py36h7a266c3_0 ...\n",
            "installing: sortedcollections-0.5.3-py36h3c761f9_0 ...\n",
            "installing: sphinxcontrib-websupport-1.0.1-py36hb5cb234_1 ...\n",
            "installing: sympy-1.1.1-py36hc6d1c1c_0 ...\n",
            "installing: terminado-0.8.1-py36_1 ...\n",
            "installing: traitlets-4.3.2-py36h674d592_0 ...\n",
            "installing: zict-0.1.3-py36h3a3bf81_0 ...\n",
            "installing: astroid-1.6.1-py36_0 ...\n",
            "installing: bleach-2.1.2-py36_0 ...\n",
            "installing: clyent-1.2.2-py36h7e57e65_1 ...\n",
            "installing: cryptography-2.1.4-py36hd09be54_0 ...\n",
            "installing: cython-0.27.3-py36h1860423_0 ...\n",
            "installing: datashape-0.5.4-py36h3ad6b5c_0 ...\n",
            "installing: distributed-1.20.2-py36_0 ...\n",
            "installing: get_terminal_size-1.0.0-haa9412d_0 ...\n",
            "installing: gevent-1.2.2-py36h2fe25dc_0 ...\n",
            "installing: imageio-2.2.0-py36he555465_0 ...\n",
            "installing: isort-4.2.15-py36had401c0_0 ...\n",
            "installing: jinja2-2.10-py36ha16c418_0 ...\n",
            "installing: jsonschema-2.6.0-py36h006f8b5_0 ...\n",
            "installing: jupyter_core-4.4.0-py36h7c827e3_0 ...\n",
            "installing: matplotlib-2.1.2-py36h0e671d2_0 ...\n",
            "installing: navigator-updater-0.1.0-py36h14770f7_0 ...\n",
            "installing: nose-1.3.7-py36hcdf7029_2 ...\n",
            "installing: pandas-0.22.0-py36hf484d3e_0 ...\n",
            "installing: pango-1.41.0-hd475d92_0 ...\n",
            "installing: patsy-0.5.0-py36_0 ...\n",
            "installing: pyflakes-1.6.0-py36h7bd6a15_0 ...\n",
            "installing: pygments-2.2.0-py36h0d3125c_0 ...\n",
            "installing: pytables-3.4.2-py36h3b5282a_2 ...\n",
            "installing: pytest-3.3.2-py36_0 ...\n",
            "installing: scikit-learn-0.19.1-py36h7aa7ec6_0 ...\n",
            "installing: wheel-0.30.0-py36hfd4bba0_1 ...\n",
            "installing: astropy-2.0.3-py36h14c3975_0 ...\n",
            "installing: bkcharts-0.2-py36h735825a_0 ...\n",
            "installing: bokeh-0.12.13-py36h2f9c1c0_0 ...\n",
            "installing: flask-0.12.2-py36hb24657c_0 ...\n",
            "installing: jupyter_client-5.2.2-py36_0 ...\n",
            "installing: nbformat-4.4.0-py36h31c9010_0 ...\n",
            "installing: pip-9.0.1-py36h6c6f9ce_4 ...\n",
            "installing: prompt_toolkit-1.0.15-py36h17d85b1_0 ...\n",
            "installing: pylint-1.8.2-py36_0 ...\n",
            "installing: pyopenssl-17.5.0-py36h20ba746_0 ...\n",
            "installing: statsmodels-0.8.0-py36h8533d0b_0 ...\n",
            "installing: dask-0.16.1-py36_0 ...\n",
            "installing: flask-cors-3.0.3-py36h2d857d3_0 ...\n",
            "installing: ipython-6.2.1-py36h88c514a_1 ...\n",
            "installing: nbconvert-5.3.1-py36hb41ffb7_0 ...\n",
            "installing: seaborn-0.8.1-py36hfad7ec4_0 ...\n",
            "installing: urllib3-1.22-py36hbe7ace6_0 ...\n",
            "installing: ipykernel-4.8.0-py36_0 ...\n",
            "installing: odo-0.5.1-py36h90ed295_0 ...\n",
            "installing: requests-2.18.4-py36he2e5f8d_1 ...\n",
            "installing: scikit-image-0.13.1-py36h14c3975_1 ...\n",
            "installing: anaconda-client-1.6.9-py36_0 ...\n",
            "installing: blaze-0.11.3-py36h4e06776_0 ...\n",
            "installing: jupyter_console-5.2.0-py36he59e554_1 ...\n",
            "installing: notebook-5.4.0-py36_0 ...\n",
            "installing: qtconsole-4.3.1-py36h8f73b5b_0 ...\n",
            "installing: sphinx-1.6.6-py36_0 ...\n",
            "installing: anaconda-project-0.8.2-py36h44fb852_0 ...\n",
            "installing: jupyterlab_launcher-0.10.2-py36_0 ...\n",
            "installing: numpydoc-0.7.0-py36h18f165f_0 ...\n",
            "installing: widgetsnbextension-3.1.0-py36_0 ...\n",
            "installing: anaconda-navigator-1.7.0-py36_0 ...\n",
            "installing: ipywidgets-7.1.1-py36_0 ...\n",
            "installing: jupyterlab-0.31.5-py36_0 ...\n",
            "installing: spyder-3.2.6-py36_0 ...\n",
            "installing: _ipyw_jlab_nb_ext_conf-0.1.0-py36he11e457_0 ...\n",
            "installing: jupyter-1.0.0-py36_4 ...\n",
            "installing: anaconda-5.1.0-py36_2 ...\n",
            "installing: conda-4.4.10-py36_0 ...\n",
            "installing: conda-build-3.4.1-py36_0 ...\n",
            "installation finished.\n",
            "WARNING:\n",
            "    You currently have a PYTHONPATH environment variable set. This may cause\n",
            "    unexpected behavior when running the Python interpreter in Anaconda3.\n",
            "    For best results, please verify that your PYTHONPATH only points to\n",
            "    directories of packages that are compatible with the Python interpreter\n",
            "    in Anaconda3: /usr/local\n"
          ],
          "name": "stdout"
        }
      ]
    },
    {
      "cell_type": "code",
      "metadata": {
        "id": "agX7S-jewivs",
        "colab_type": "code",
        "colab": {}
      },
      "source": [
        "import sys\n",
        "sys.path.append('/usr/local/lib/python3.6/site-packages')"
      ],
      "execution_count": 4,
      "outputs": []
    },
    {
      "cell_type": "code",
      "metadata": {
        "id": "-8xEkP7rt3pb",
        "colab_type": "code",
        "colab": {
          "base_uri": "https://localhost:8080/",
          "height": 1000
        },
        "outputId": "4aad0042-ccc6-4aa9-ef97-2d3e12c8beef"
      },
      "source": [
        "%cd fastai2\n",
        "!conda env create -f environment.yml\n",
        "!source activate fastai2"
      ],
      "execution_count": 5,
      "outputs": [
        {
          "output_type": "stream",
          "text": [
            "/content/drive/My Drive/Colab Notebooks/fastai2\n",
            "Solving environment: - \b\b\\ \b\b| \b\b/ \b\b- \b\b\\ \b\b| \b\b/ \b\b- \b\b\\ \b\b| \b\b/ \b\b- \b\b\\ \b\b| \b\b/ \b\b- \b\b\\ \b\b| \b\b/ \b\b- \b\b\\ \b\b| \b\b/ \b\b- \b\b\\ \b\b| \b\b/ \b\b- \b\b\\ \b\b| \b\b/ \b\b- \b\b\\ \b\b| \b\b/ \b\b- \b\b\\ \b\b| \b\b/ \b\b- \b\b\\ \b\b| \b\b/ \b\b- \b\b\\ \b\b| \b\b/ \b\b- \b\b\\ \b\b| \b\b/ \b\b- \b\b\\ \b\b| \b\b/ \b\b- \b\b\\ \b\b| \b\b/ \b\b- \b\b\\ \b\b| \b\b/ \b\b- \b\b\\ \b\b| \b\b/ \b\b- \b\b\\ \b\b| \b\b/ \b\b- \b\b\\ \b\b| \b\b/ \b\b- \b\b\\ \b\b| \b\b/ \b\b- \b\b\\ \b\b| \b\b/ \b\b- \b\b\\ \b\b| \b\b/ \b\b- \b\b\\ \b\b| \b\b/ \b\b- \b\b\\ \b\b| \b\b/ \b\b- \b\b\\ \b\b| \b\b/ \b\b- \b\b\\ \b\b| \b\b/ \b\b- \b\b\\ \b\b| \b\b/ \b\b- \b\b\\ \b\b| \b\b/ \b\b- \b\b\\ \b\b| \b\b/ \b\b- \b\b\\ \b\b| \b\b/ \b\b- \b\b\\ \b\b| \b\b/ \b\b- \b\b\\ \b\b| \b\b/ \b\b- \b\b\\ \b\b| \b\b/ \b\b- \b\b\\ \b\b| \b\b/ \b\b- \b\b\\ \b\b| \b\b/ \b\b- \b\b\\ \b\b| \b\b/ \b\b- \b\b\\ \b\b| \b\b/ \b\b- \b\b\\ \b\b| \b\b/ \b\b- \b\b\\ \b\b| \b\b/ \b\b- \b\b\\ \b\b| \b\b/ \b\b- \b\b\\ \b\b| \b\b/ \b\b- \b\b\\ \b\b| \b\b/ \b\b- \b\b\\ \b\b| \b\b/ \b\b- \b\b\\ \b\b| \b\b/ \b\b- \b\b\\ \b\b| \b\b/ \b\b- \b\b\\ \b\b| \b\b/ \b\b- \b\b\\ \b\b| \b\b/ \b\b- \b\b\\ \b\b| \b\b/ \b\b- \b\b\\ \b\b| \b\b/ \b\b- \b\b\\ \b\b| \b\b/ \b\b- \b\b\\ \b\b| \b\b/ \b\b- \b\b\\ \b\b| \b\b/ \b\b- \b\b\\ \b\b| \b\b/ \b\b- \b\b\\ \b\b| \b\b/ \b\b- \b\b\\ \b\b| \b\b/ \b\b- \b\b\\ \b\b| \b\b/ \b\b- \b\b\\ \b\b| \b\b/ \b\b- \b\b\\ \b\b| \b\b/ \b\b- \b\b\\ \b\b| \b\b/ \b\b- \b\b\\ \b\b| \b\b/ \b\b- \b\b\\ \b\b| \b\b/ \b\b- \b\b\\ \b\b| \b\b/ \b\b- \b\b\\ \b\b| \b\b/ \b\b- \b\b\\ \b\b| \b\b/ \b\b- \b\b\\ \b\b| \b\b/ \b\b- \b\b\\ \b\b| \b\b/ \b\b- \b\b\\ \b\b| \b\b/ \b\b- \b\b\\ \b\b| \b\b/ \b\b- \b\b\\ \b\b| \b\b/ \b\b- \b\b\\ \b\b| \b\b/ \b\b- \b\b\\ \b\b| \b\b/ \b\b- \b\b\\ \b\b| \b\b/ \b\b- \b\b\\ \b\b| \b\b/ \b\b- \b\b\\ \b\b| \b\b/ \b\b- \b\b\\ \b\b| \b\b/ \b\b- \b\b\\ \b\b| \b\b/ \b\b- \b\b\\ \b\b| \b\b/ \b\b- \b\b\\ \b\b| \b\b/ \b\b- \b\b\\ \b\b| \b\b/ \b\b- \b\b\\ \b\b| \b\b/ \b\b- \b\b\\ \b\b| \b\b/ \b\b- \b\b\\ \b\b| \b\b/ \b\b- \b\b\\ \b\b| \b\b/ \b\b- \b\b\\ \b\b| \b\b/ \b\b- \b\b\\ \b\b| \b\b/ \b\b- \b\b\\ \b\b| \b\b/ \b\b- \b\b\\ \b\b| \b\b/ \b\b- \b\b\\ \b\b| \b\b/ \b\b- \b\b\\ \b\b| \b\b/ \b\b- \b\b\\ \b\b| \b\b/ \b\b- \b\b\\ \b\b| \b\b/ \b\b- \b\b\\ \b\b| \b\b/ \b\b- \b\b\\ \b\b| \b\b/ \b\b- \b\b\\ \b\b| \b\b/ \b\b- \b\b\\ \b\b| \b\b/ \b\b- \b\b\\ \b\b| \b\b/ \b\b- \b\b\\ \b\b| \b\b/ \b\b- \b\b\\ \b\b| \b\b/ \b\b- \b\b\\ \b\b| \b\b/ \b\b- \b\b\\ \b\b| \b\b/ \b\b- \b\b\\ \b\b| \b\b/ \b\b- \b\b\\ \b\b| \b\b/ \b\b- \b\b\\ \b\b| \b\b/ \b\b- \b\b\\ \b\b| \b\b/ \b\b- \b\b\\ \b\b| \b\b/ \b\b- \b\b\\ \b\b| \b\b/ \b\b- \b\b\\ \b\b| \b\b/ \b\b- \b\b\\ \b\b| \b\b/ \b\b- \b\b\\ \b\b| \b\b/ \b\b- \b\b\\ \b\b| \b\b/ \b\b- \b\b\\ \b\b| \b\b/ \b\b- \b\b\\ \b\b| \b\b/ \b\b- \b\b\\ \b\b| \b\b/ \b\b- \b\b\\ \b\b| \b\b/ \b\b- \b\b\\ \b\b| \b\b/ \b\b- \b\b\\ \b\b| \b\b/ \b\b- \b\b\\ \b\b| \b\b/ \b\b- \b\b\\ \b\b| \b\b/ \b\b- \b\b\\ \b\b| \b\b/ \b\b- \b\b\\ \b\b| \b\b/ \b\b- \b\b\\ \b\b| \b\b/ \b\b- \b\b\\ \b\b| \b\b/ \b\b- \b\b\\ \b\b| \b\b/ \b\b- \b\b\\ \b\b| \b\b/ \b\b- \b\b\\ \b\b| \b\b/ \b\b- \b\b\\ \b\b| \b\b/ \b\b- \b\b\\ \b\b| \b\b/ \b\b- \b\b\\ \b\b| \b\b/ \b\b- \b\b\\ \b\b| \b\b/ \b\b- \b\b\\ \b\b| \b\b/ \b\b- \b\b\\ \b\b| \b\b/ \b\b- \b\b\\ \b\b| \b\b/ \b\b- \b\b\\ \b\b| \b\b/ \b\b- \b\b\\ \b\b| \b\b/ \b\b- \b\b\\ \b\b| \b\b/ \b\b- \b\b\\ \b\b| \b\b/ \b\b- \b\b\\ \b\b| \b\b/ \b\b- \b\b\\ \b\b| \b\b/ \b\b- \b\b\\ \b\b| \b\b/ \b\b- \b\b\\ \b\b| \b\b/ \b\b- \b\b\\ \b\b| \b\b/ \b\b- \b\b\\ \b\b| \b\b/ \b\b- \b\b\\ \b\b| \b\b/ \b\b- \b\b\\ \b\b| \b\b/ \b\b- \b\b\\ \b\b| \b\b/ \b\b- \b\b\\ \b\b| \b\b/ \b\b- \b\b\\ \b\b| \b\b/ \b\b- \b\b\\ \b\b| \b\b/ \b\b- \b\b\\ \b\b| \b\b/ \b\b- \b\b\\ \b\b| \b\b/ \b\b- \b\b\\ \b\b| \b\b/ \b\b- \b\b\\ \b\b| \b\b/ \b\b- \b\b\\ \b\b| \b\b/ \b\b- \b\b\\ \b\b| \b\b/ \b\b- \b\b\\ \b\b| \b\b/ \b\b- \b\b\\ \b\b| \b\b/ \b\b- \b\b\\ \b\b| \b\b/ \b\b- \b\b\\ \b\b| \b\b/ \b\b- \b\b\\ \b\b| \b\b/ \b\b- \b\b\\ \b\b| \b\b/ \b\b- \b\b\\ \b\b| \b\b/ \b\b- \b\b\\ \b\b| \b\b/ \b\b- \b\b\\ \b\b| \b\b/ \b\b- \b\b\\ \b\b| \b\b/ \b\b- \b\b\\ \b\b| \b\b/ \b\b- \b\b\\ \b\b| \b\b/ \b\b- \b\b\\ \b\b| \b\b/ \b\b- \b\b\\ \b\b| \b\b/ \b\b- \b\b\\ \b\b| \b\b/ \b\b- \b\b\\ \b\b| \b\b/ \b\b- \b\b\\ \b\b| \b\b/ \b\b- \b\b\\ \b\b| \b\b/ \b\b- \b\b\\ \b\b| \b\b/ \b\b- \b\b\\ \b\b| \b\b/ \b\b- \b\b\\ \b\b| \b\b/ \b\b- \b\b\\ \b\b| \b\b/ \b\b- \b\b\\ \b\b| \b\b/ \b\b- \b\b\\ \b\b| \b\b/ \b\b- \b\b\\ \b\b| \b\b/ \b\b- \b\b\\ \b\b| \b\b/ \b\b- \b\b\\ \b\b| \b\b/ \b\b- \b\b\\ \b\b| \b\b/ \b\b- \b\b\\ \b\b| \b\b/ \b\b- \b\b\\ \b\b| \b\b/ \b\b- \b\b\\ \b\b| \b\b/ \b\b- \b\b\\ \b\b| \b\b/ \b\b- \b\b\\ \b\b| \b\b/ \b\b- \b\b\\ \b\b| \b\b/ \b\b- \b\b\\ \b\b| \b\b/ \b\b- \b\b\\ \b\b| \b\b/ \b\b- \b\b\\ \b\b| \b\b/ \b\b- \b\b\\ \b\b| \b\b/ \b\b- \b\b\\ \b\b| \b\b/ \b\b- \b\b\\ \b\b| \b\b/ \b\b- \b\b\\ \b\b| \b\b/ \b\b- \b\b\\ \b\b| \b\b/ \b\b- \b\b\\ \b\b| \b\b/ \b\b- \b\b\\ \b\b| \b\b/ \b\b- \b\b\\ \b\b| \b\b/ \b\b- \b\b\\ \b\b| \b\b/ \b\b- \b\b\\ \b\b| \b\b/ \b\b- \b\b\\ \b\b| \b\b/ \b\b- \b\b\\ \b\b| \b\b/ \b\b- \b\b\\ \b\b| \b\b/ \b\b- \b\b\\ \b\b| \b\b/ \b\b- \b\b\\ \b\b| \b\b/ \b\b- \b\b\\ \b\b| \b\b/ \b\b- \b\b\\ \b\b| \b\b/ \b\b- \b\b\\ \b\b| \b\b/ \b\b- \b\b\\ \b\b| \b\b/ \b\b- \b\b\\ \b\b| \b\b/ \b\b- \b\b\\ \b\b| \b\b/ \b\b- \b\b\\ \b\b| \b\b/ \b\b- \b\b\\ \b\b| \b\b/ \b\b- \b\b\\ \b\b| \b\b/ \b\b- \b\b\\ \b\b| \b\b/ \b\b- \b\b\\ \b\b| \b\b/ \b\b- \b\b\\ \b\b| \b\b/ \b\b- \b\b\\ \b\b| \b\b/ \b\b- \b\b\\ \b\b| \b\b/ \b\b- \b\b\\ \b\b| \b\b/ \b\b- \b\b\\ \b\b| \b\b/ \b\b- \b\b\\ \b\b| \b\b/ \b\b- \b\b\\ \b\b| \b\b/ \b\b- \b\b\\ \b\b| \b\b/ \b\b- \b\b\\ \b\b| \b\b/ \b\b- \b\b\\ \b\b| \b\b/ \b\b- \b\b\\ \b\b| \b\b/ \b\b- \b\b\\ \b\b| \b\b/ \b\b- \b\b\\ \b\b| \b\b/ \b\b- \b\b\\ \b\b| \b\b/ \b\b- \b\b\\ \b\b| \b\b/ \b\b- \b\b\\ \b\b| \b\b/ \b\b- \b\b\\ \b\b| \b\b/ \b\b- \b\b\\ \b\b| \b\b/ \b\bdone\n",
            "\n",
            "\n",
            "==> WARNING: A newer version of conda exists. <==\n",
            "  current version: 4.4.10\n",
            "  latest version: 4.8.3\n",
            "\n",
            "Please update conda by running\n",
            "\n",
            "    $ conda update -n base conda\n",
            "\n",
            "\n",
            "\n",
            "Downloading and Extracting Packages\n",
            "matplotlib 3.2.2: 100% 1.0/1 [00:00<00:00, 14.29it/s]\n",
            "attrs 19.3.0: 100% 1.0/1 [00:00<00:00, 13.67it/s]\n",
            "scikit-learn 0.23.1: 100% 1.0/1 [00:04<00:00,  4.91s/it]               \n",
            "libffi 3.3: 100% 1.0/1 [00:00<00:00, 14.57it/s]\n",
            "ipython_genutils 0.2.0: 100% 1.0/1 [00:00<00:00, 13.78it/s]\n",
            "libsodium 1.0.18: 100% 1.0/1 [00:00<00:00,  3.38it/s] \n",
            "spacy 2.1.8: 100% 1.0/1 [00:35<00:00, 35.57s/it]              \n",
            "pycparser 2.20: 100% 1.0/1 [00:00<00:00,  7.55it/s]               \n",
            "jinja2 2.11.2: 100% 1.0/1 [00:00<00:00,  7.85it/s]               \n",
            "notebook 6.0.3: 100% 1.0/1 [00:04<00:00,  4.16s/it]               \n",
            "pytorch 1.5.1: 100% 1.0/1 [03:13<00:00, 193.78s/it]     \n",
            "libtiff 4.1.0: 100% 1.0/1 [00:00<00:00,  2.29it/s]               \n",
            "thinc 7.0.8: 100% 1.0/1 [00:01<00:00,  1.88s/it]               \n",
            "mkl 2020.1: 100% 1.0/1 [01:49<00:00, 109.84s/it]                \n",
            "nbconvert 5.6.1: 100% 1.0/1 [00:00<00:00,  2.29it/s]              \n",
            "pandoc 2.9.2.1: 100% 1.0/1 [00:15<00:00, 15.06s/it]               \n",
            "libgfortran-ng 7.3.0: 100% 1.0/1 [00:00<00:00,  1.35it/s]               \n",
            "ptyprocess 0.6.0: 100% 1.0/1 [00:00<00:00, 16.28it/s]\n",
            "tqdm 4.47.0: 100% 1.0/1 [00:00<00:00, 12.63it/s]\n",
            "libpng 1.6.37: 100% 1.0/1 [00:00<00:00,  4.20it/s] \n",
            "backcall 0.2.0: 100% 1.0/1 [00:00<00:00, 18.24it/s]\n",
            "libstdcxx-ng 9.1.0: 100% 1.0/1 [00:01<00:00,  1.85s/it]               \n",
            "ld_impl_linux-64 2.33.1: 100% 1.0/1 [00:00<00:00,  2.09it/s] \n",
            "pcre 8.44: 100% 1.0/1 [00:00<00:00,  5.71it/s] \n",
            "mistune 0.8.4: 100% 1.0/1 [00:00<00:00,  5.59it/s]                \n",
            "joblib 0.16.0: 100% 1.0/1 [00:00<00:00,  3.79it/s]               \n",
            "murmurhash 1.0.2: 100% 1.0/1 [00:00<00:00, 15.53it/s]\n",
            "parso 0.7.0: 100% 1.0/1 [00:00<00:00, 10.08it/s]\n",
            "pyopenssl 19.1.0: 100% 1.0/1 [00:00<00:00, 10.00it/s]\n",
            "ncurses 6.2: 100% 1.0/1 [00:01<00:00,  2.99s/it]               \n",
            "fastprogress 0.2.2: 100% 1.0/1 [00:00<00:00,  2.80it/s] \n",
            "widgetsnbextension 3.5.1: 100% 1.0/1 [00:01<00:00,  1.13s/it]               \n",
            "ca-certificates 2020.6.24: 100% 1.0/1 [00:00<00:00, 11.04it/s]\n",
            "pexpect 4.8.0: 100% 1.0/1 [00:00<00:00,  9.45it/s]               \n",
            "wasabi 0.2.2: 100% 1.0/1 [00:00<00:00,  2.84it/s] \n",
            "blas 1.0: 100% 1.0/1 [00:00<00:00, 20.69it/s]\n",
            "threadpoolctl 2.1.0: 100% 1.0/1 [00:00<00:00, 17.79it/s]\n",
            "wheel 0.34.2: 100% 1.0/1 [00:00<00:00, 13.07it/s]\n",
            "pickleshare 0.7.5: 100% 1.0/1 [00:00<00:00, 18.73it/s]\n",
            "pillow 7.2.0: 100% 1.0/1 [00:00<00:00,  2.01it/s]               \n",
            "fontconfig 2.13.0: 100% 1.0/1 [00:00<00:00,  3.51it/s] \n",
            "cudatoolkit 10.2.89: 100% 1.0/1 [03:24<00:00, 204.38s/it]                \n",
            "pandas 1.0.5: 100% 1.0/1 [00:06<00:00,  6.71s/it]               \n",
            "nbformat 5.0.7: 100% 1.0/1 [00:00<00:00,  6.33it/s]               \n",
            "defusedxml 0.6.0: 100% 1.0/1 [00:00<00:00, 15.24it/s]\n",
            "zipp 3.1.0: 100% 1.0/1 [00:00<00:00, 18.02it/s]\n",
            "srsly 0.1.0: 100% 1.0/1 [00:00<00:00,  1.80it/s] \n",
            "numpy 1.18.5: 100% 1.0/1 [00:00<00:00, 19.49it/s]\n",
            "libedit 3.1.20191231: 100% 1.0/1 [00:00<00:00,  5.91it/s]               \n",
            "markupsafe 1.1.1: 100% 1.0/1 [00:00<00:00, 15.51it/s]\n",
            "zlib 1.2.11: 100% 1.0/1 [00:00<00:00, 10.33it/s]\n",
            "lcms2 2.11: 100% 1.0/1 [00:00<00:00,  4.03it/s]               \n",
            "prometheus_client 0.8.0: 100% 1.0/1 [00:00<00:00, 11.56it/s]\n",
            "brotlipy 0.7.0: 100% 1.0/1 [00:00<00:00,  5.35it/s] \n",
            "qtconsole 4.7.5: 100% 1.0/1 [00:00<00:00,  8.63it/s]               \n",
            "pyparsing 2.4.7: 100% 1.0/1 [00:00<00:00, 11.29it/s]\n",
            "jupyter_console 6.1.0: 100% 1.0/1 [00:00<00:00, 16.25it/s]\n",
            "sqlite 3.32.3: 100% 1.0/1 [00:01<00:00,  1.95s/it] \n",
            "pytz 2020.1: 100% 1.0/1 [00:00<00:00,  2.55it/s]               \n",
            "libxml2 2.9.10: 100% 1.0/1 [00:01<00:00,  1.01s/it]               \n",
            "pyzmq 19.0.1: 100% 1.0/1 [00:00<00:00,  2.21it/s]               \n",
            "chardet 3.0.4: 100% 1.0/1 [00:00<00:00,  6.22it/s]               \n",
            "libgcc-ng 9.1.0: 100% 1.0/1 [00:03<00:00,  3.37s/it]               \n",
            "importlib_metadata 1.7.0: 100% 1.0/1 [00:00<00:00, 18.49it/s]\n",
            "torchvision 0.6.1: 100% 1.0/1 [00:05<00:00,  5.51s/it]              \n",
            "jupyter_client 6.1.5: 100% 1.0/1 [00:00<00:00,  8.57it/s]               \n",
            "plac 0.9.6: 100% 1.0/1 [00:00<00:00, 14.77it/s]\n",
            "tornado 6.0.4: 100% 1.0/1 [00:00<00:00,  1.82it/s]               \n",
            "tk 8.6.10: 100% 1.0/1 [00:01<00:00,  1.79s/it]               \n",
            "pip 20.1.1: 100% 1.0/1 [00:01<00:00,  1.48s/it]               \n",
            "ipywidgets 7.5.1: 100% 1.0/1 [00:00<00:00,  8.45it/s]              \n",
            "urllib3 1.25.9: 100% 1.0/1 [00:00<00:00,  8.17it/s]               \n",
            "wcwidth 0.2.5: 100% 1.0/1 [00:00<00:00, 10.52it/s]\n",
            "cryptography 2.9.2: 100% 1.0/1 [00:00<00:00,  1.80it/s]               \n",
            "intel-openmp 2020.1: 100% 1.0/1 [00:00<00:00,  2.34it/s]               \n",
            "ipython 7.16.1: 100% 1.0/1 [00:00<00:00,  1.06it/s]               \n",
            "cycler 0.10.0: 100% 1.0/1 [00:00<00:00, 17.43it/s]\n",
            "readline 8.0: 100% 1.0/1 [00:00<00:00,  3.15it/s]               \n",
            "preshed 2.0.1: 100% 1.0/1 [00:00<00:00, 11.62it/s]\n",
            "jupyter_core 4.6.3: 100% 1.0/1 [00:00<00:00,  8.49it/s]               \n",
            "requests 2.24.0: 100% 1.0/1 [00:00<00:00, 13.60it/s]\n",
            "python-dateutil 2.8.1: 100% 1.0/1 [00:00<00:00,  7.88it/s]    \n",
            "icu 58.2: 100% 1.0/1 [00:10<00:00, 10.27s/it]               \n",
            "yaml 0.2.5: 100% 1.0/1 [00:00<00:00, 10.05it/s]\n",
            "pysocks 1.7.1: 100% 1.0/1 [00:00<00:00, 17.59it/s]\n",
            "entrypoints 0.3: 100% 1.0/1 [00:00<00:00, 18.82it/s]\n",
            "idna 2.10: 100% 1.0/1 [00:00<00:00, 14.75it/s]\n",
            "openssl 1.1.1g: 100% 1.0/1 [00:01<00:00,  2.00s/it]               \n",
            "six 1.15.0: 100% 1.0/1 [00:00<00:00, 18.56it/s]\n",
            "pyrsistent 0.16.0: 100% 1.0/1 [00:00<00:00,  8.85it/s]               \n",
            "decorator 4.4.2: 100% 1.0/1 [00:00<00:00, 20.54it/s]\n",
            "terminado 0.8.3: 100% 1.0/1 [00:00<00:00, 17.05it/s]\n",
            "prompt-toolkit 3.0.5: 100% 1.0/1 [00:00<00:00,  3.44it/s]               \n",
            "mkl_fft 1.1.0: 100% 1.0/1 [00:00<00:00,  8.77it/s]               \n",
            "pygments 2.6.1: 100% 1.0/1 [00:00<00:00,  1.85it/s]               \n",
            "qtpy 1.9.0: 100% 1.0/1 [00:00<00:00, 11.24it/s]\n",
            "cymem 2.0.2: 100% 1.0/1 [00:00<00:00,  2.28it/s] \n",
            "webencodings 0.5.1: 100% 1.0/1 [00:00<00:00, 18.19it/s]\n",
            "packaging 20.4: 100% 1.0/1 [00:00<00:00, 15.35it/s]\n",
            "pyqt 5.9.2: 100% 1.0/1 [00:03<00:00,  3.80s/it]              \n",
            "jedi 0.17.1: 100% 1.0/1 [00:01<00:00,  1.66s/it]               \n",
            "python 3.7.7: 100% 1.0/1 [00:20<00:00, 20.68s/it]               \n",
            "bleach 3.1.5: 100% 1.0/1 [00:00<00:00,  6.10it/s] \n",
            "zeromq 4.3.2: 100% 1.0/1 [00:00<00:00,  2.25it/s]               \n",
            "lz4-c 1.9.2: 100% 1.0/1 [00:00<00:00,  4.81it/s] \n",
            "freetype 2.10.2: 100% 1.0/1 [00:00<00:00,  1.97it/s]               \n",
            "matplotlib-base 3.2.2: 100% 1.0/1 [00:03<00:00,  3.71s/it]               \n",
            "libxcb 1.14: 100% 1.0/1 [00:00<00:00,  1.89it/s]               \n",
            "cython-blis 0.2.4: 100% 1.0/1 [00:02<00:00,  2.12s/it]               \n",
            "dbus 1.13.16: 100% 1.0/1 [00:00<00:00,  3.02it/s]               \n",
            "cffi 1.14.0: 100% 1.0/1 [00:00<00:00,  5.55it/s] \n",
            "_libgcc_mutex 0.1: 100% 1.0/1 [00:00<00:00, 20.75it/s]\n",
            "send2trash 1.5.0: 100% 1.0/1 [00:00<00:00, 16.93it/s]\n",
            "setuptools 47.3.1: 100% 1.0/1 [00:00<00:00,  1.60it/s]               \n",
            "testpath 0.4.4: 100% 1.0/1 [00:00<00:00, 12.95it/s]\n",
            "ninja 1.9.0: 100% 1.0/1 [00:00<00:00,  1.52it/s]               \n",
            "xz 5.2.5: 100% 1.0/1 [00:00<00:00,  3.74it/s]               \n",
            "sip 4.19.8: 100% 1.0/1 [00:00<00:00,  6.34it/s]               \n",
            "numpy-base 1.18.5: 100% 1.0/1 [00:03<00:00, 12.32s/it]               \n",
            "mkl-service 2.3.0: 100% 1.0/1 [00:00<00:00,  6.62it/s] \n",
            "glib 2.65.0: 100% 1.0/1 [00:02<00:00,  2.18s/it]               \n",
            "kiwisolver 1.2.0: 100% 1.0/1 [00:00<00:00, 11.49it/s]\n",
            "pandocfilters 1.4.2: 100% 1.0/1 [00:00<00:00, 18.98it/s]\n",
            "traitlets 4.3.3: 100% 1.0/1 [00:00<00:00,  6.59it/s]               \n",
            "libuuid 1.0.3: 100% 1.0/1 [00:00<00:00, 19.73it/s]\n",
            "gst-plugins-base 1.14.0: 100% 1.0/1 [00:02<00:00,  2.60s/it]               \n",
            "ipykernel 5.3.0: 100% 1.0/1 [00:00<00:00,  5.20it/s]               \n",
            "olefile 0.46: 100% 1.0/1 [00:00<00:00, 13.75it/s]\n",
            "gstreamer 1.14.0: 100% 1.0/1 [00:01<00:00,  1.96s/it]               \n",
            "certifi 2020.6.20: 100% 1.0/1 [00:00<00:00,  8.43it/s]               \n",
            "pyyaml 5.3.1: 100% 1.0/1 [00:00<00:00,  6.43it/s]               \n",
            "zstd 1.4.4: 100% 1.0/1 [00:00<00:00,  1.92it/s]               \n",
            "expat 2.2.9: 100% 1.0/1 [00:00<00:00,  6.25it/s]               \n",
            "importlib-metadata 1.7.0: 100% 1.0/1 [00:00<00:00, 12.80it/s]\n",
            "prompt_toolkit 3.0.5: 100% 1.0/1 [00:00<00:00, 19.96it/s]\n",
            "jupyter 1.0.0: 100% 1.0/1 [00:00<00:00, 20.76it/s]\n",
            "mkl_random 1.1.1: 100% 1.0/1 [00:00<00:00,  4.56it/s] \n",
            "qt 5.9.7: 100% 1.0/1 [00:49<00:00, 171.88s/it]               \n",
            "jsonschema 3.2.0: 100% 1.0/1 [00:00<00:00,  7.07it/s]               \n",
            "scipy 1.5.0: 100% 1.0/1 [00:09<00:00,  9.71s/it]               \n",
            "Preparing transaction: \\ \b\b| \b\b/ \b\b- \b\b\\ \b\b| \b\b/ \b\b- \b\b\\ \b\b| \b\b/ \b\b- \b\b\\ \b\b| \b\b/ \b\b- \b\b\\ \b\bdone\n",
            "Verifying transaction: / \b\b- \b\b\\ \b\b| \b\b/ \b\b- \b\b\\ \b\b| \b\b/ \b\b- \b\b\\ \b\b| \b\b/ \b\b- \b\b\\ \b\b| \b\b/ \b\b- \b\b\\ \b\b| \b\b/ \b\b- \b\b\\ \b\b| \b\b/ \b\b- \b\b\\ \b\b| \b\b/ \b\b- \b\b\\ \b\b| \b\b/ \b\b- \b\b\\ \b\b| \b\b/ \b\b- \b\b\\ \b\b| \b\b/ \b\b- \b\b\\ \b\b| \b\b/ \b\b- \b\b\\ \b\b| \b\b/ \b\b- \b\b\\ \b\b| \b\b/ \b\b- \b\b\\ \b\b| \b\b/ \b\b- \b\b\\ \b\b| \b\b/ \b\b- \b\b\\ \b\b| \b\b/ \b\b- \b\b\\ \b\b| \b\b/ \b\b- \b\b\\ \b\b| \b\b/ \b\b- \b\b\\ \b\b| \b\b/ \b\b- \b\b\\ \b\b| \b\b/ \b\b- \b\b\\ \b\b| \b\b/ \b\b- \b\b\\ \b\b| \b\b/ \b\b- \b\b\\ \b\b| \b\b/ \b\b- \b\b\\ \b\b| \b\b/ \b\b- \b\b\\ \b\b| \b\b/ \b\b- \b\b\\ \b\b| \b\b/ \b\b- \b\b\\ \b\b| \b\b/ \b\b- \b\b\\ \b\b| \b\b/ \b\b- \b\b\\ \b\b| \b\b/ \b\b- \b\b\\ \b\b| \b\b/ \b\b- \b\b\\ \b\b| \b\b/ \b\b- \b\b\\ \b\b| \b\b/ \b\b- \b\b\\ \b\b| \b\b/ \b\b- \b\b\\ \b\b| \b\b/ \b\b- \b\b\\ \b\b| \b\b/ \b\b- \b\b\\ \b\b| \b\b/ \b\b- \b\b\\ \b\b| \b\b/ \b\b- \b\b\\ \b\b| \b\b/ \b\b- \b\b\\ \b\b| \b\b/ \b\b- \b\b\\ \b\b| \b\b/ \b\b- \b\b\\ \b\b| \b\b/ \b\b- \b\b\\ \b\b| \b\b/ \b\b- \b\b\\ \b\b| \b\b/ \b\b- \b\b\\ \b\b| \b\b/ \b\b- \b\b\\ \b\b| \b\b/ \b\b- \b\b\\ \b\b| \b\b/ \b\b- \b\b\\ \b\b| \b\b/ \b\b- \b\b\\ \b\b| \b\b/ \b\b- \b\b\\ \b\b| \b\b/ \b\b- \b\b\\ \b\b| \b\b/ \b\b- \b\b\\ \b\b| \b\b/ \b\b- \b\b\\ \b\b| \b\b/ \b\b- \b\b\\ \b\b| \b\b/ \b\b- \b\b\\ \b\b| \b\b/ \b\b- \b\b\\ \b\b| \b\b/ \b\b- \b\b\\ \b\b| \b\b/ \b\b- \b\b\\ \b\b| \b\b/ \b\b- \b\b\\ \b\b| \b\b/ \b\b- \b\b\\ \b\b| \b\b/ \b\b- \b\b\\ \b\b| \b\b/ \b\b- \b\b\\ \b\b| \b\b/ \b\b- \b\b\\ \b\b| \b\b/ \b\b- \b\b\\ \b\b| \b\b/ \b\b- \b\b\\ \b\b| \b\b/ \b\b- \b\b\\ \b\b| \b\b/ \b\b- \b\b\\ \b\b| \b\b/ \b\b- \b\b\\ \b\b| \b\b/ \b\b- \b\b\\ \b\b| \b\b/ \b\b- \b\b\\ \b\b| \b\b/ \b\b- \b\b\\ \b\b| \b\b/ \b\b- \b\b\\ \b\b| \b\b/ \b\b- \b\b\\ \b\b| \b\b/ \b\b- \b\b\\ \b\b| \b\b/ \b\b- \b\b\\ \b\b| \b\b/ \b\b- \b\b\\ \b\b| \b\b/ \b\b- \b\b\\ \b\b| \b\b/ \b\b- \b\b\\ \b\b| \b\b/ \b\b- \b\b\\ \b\b| \b\b/ \b\b- \b\b\\ \b\b| \b\b/ \b\b- \b\b\\ \b\b| \b\b/ \b\b- \b\b\\ \b\b| \b\b/ \b\b- \b\b\\ \b\b| \b\b/ \b\b- \b\b\\ \b\b| \b\b/ \b\b- \b\b\\ \b\b| \b\b/ \b\b- \b\b\\ \b\b| \b\b/ \b\b- \b\b\\ \b\b| \b\b/ \b\b- \b\b\\ \b\b| \b\b/ \b\b- \b\b\\ \b\b| \b\b/ \b\b- \b\b\\ \b\b| \b\b/ \b\b- \b\b\\ \b\b| \b\b/ \b\b- \b\b\\ \b\b| \b\b/ \b\b- \b\b\\ \b\b| \b\b/ \b\b- \b\b\\ \b\b| \b\b/ \b\b- \b\b\\ \b\b| \b\b/ \b\b- \b\b\\ \b\b| \b\b/ \b\b- \b\b\\ \b\b| \b\b/ \b\b- \b\b\\ \b\b| \b\b/ \b\b- \b\b\\ \b\b| \b\b/ \b\b- \b\b\\ \b\b| \b\b/ \b\b- \b\b\\ \b\b| \b\b/ \b\b- \b\b\\ \b\b| \b\b/ \b\b- \b\b\\ \b\b| \b\b/ \b\b- \b\b\\ \b\b| \b\b/ \b\b- \b\b\\ \b\b| \b\b/ \b\b- \b\b\\ \b\b| \b\b/ \b\b- \b\b\\ \b\b| \b\b/ \b\b- \b\b\\ \b\b| \b\bdone\n",
            "Executing transaction: - \b\b\\ \b\b| \b\b/ \b\b- \b\b\\ \b\b| \b\b/ \b\b- \b\b\\ \b\b| \b\b/ \b\b- \b\b\\ \b\b| \b\b/ \b\b- \b\b\\ \b\b| \b\b/ \b\b- \b\b\\ \b\b| \b\b/ \b\b- \b\b\\ \b\b| \b\b/ \b\b- \b\b\\ \b\b| \b\b/ \b\b- \b\b\\ \b\b| \b\b/ \b\b- \b\b\\ \b\b| \b\b/ \b\b- \b\b\\ \b\b| \b\b/ \b\b- \b\b\\ \b\b| \b\b/ \b\b- \b\b\\ \b\b| \b\b/ \b\b- \b\b\\ \b\b| \b\b/ \b\b- \b\b\\ \b\b| \b\b/ \b\b- \b\b\\ \b\b| \b\b/ \b\b- \b\b\\ \b\b| \b\b/ \b\b- \b\b\\ \b\b| \b\b/ \b\b- \b\b\\ \b\b| \b\b/ \b\b- \b\b\\ \b\b| \b\b/ \b\b- \b\b\\ \b\b| \b\b/ \b\b- \b\b\\ \b\b| \b\b/ \b\b- \b\b\\ \b\b| \b\b/ \b\b- \b\b\\ \b\b| \b\b/ \b\b- \b\b\\ \b\b| \b\b/ \b\b- \b\b\\ \b\b| \b\b/ \b\b- \b\b\\ \b\b| \b\b/ \b\b- \b\b\\ \b\b| \b\b/ \b\b- \b\b\\ \b\b| \b\b/ \b\b- \b\b\\ \b\b| \b\b/ \b\b- \b\b\\ \b\b| \b\b/ \b\b- \b\b\\ \b\b| \b\b/ \b\b- \b\b\\ \b\b| \b\b/ \b\b- \b\b\\ \b\b| \b\b/ \b\b- \b\b\\ \b\b| \b\b/ \b\b- \b\b\\ \b\b| \b\b/ \b\b- \b\b\\ \b\b| \b\b/ \b\b- \b\b\\ \b\b| \b\b/ \b\b- \b\b\\ \b\b| \b\b/ \b\b- \b\b\\ \b\b| \b\b/ \b\b- \b\b\\ \b\b| \b\b/ \b\b- \b\b\\ \b\b| \b\b/ \b\b- \b\b\\ \b\b| \b\b/ \b\b- \b\b\\ \b\b| \b\b/ \b\b- \b\b\\ \b\b| \b\b/ \b\b- \b\b\\ \b\b| \b\b/ \b\b- \b\b\\ \b\b| \b\b/ \b\b- \b\b\\ \b\b| \b\b/ \b\b- \b\b\\ \b\b| \b\b/ \b\b- \b\b\\ \b\b| \b\b/ \b\b- \b\b\\ \b\b| \b\b/ \b\b- \b\b\\ \b\b| \b\b/ \b\b- \b\b\\ \b\b| \b\b/ \b\b- \b\b\\ \b\b| \b\b/ \b\b- \b\b\\ \b\b| \b\b/ \b\b- \b\b\\ \b\b| \b\b/ \b\b- \b\b\\ \b\b| \b\b/ \b\b- \b\b\\ \b\b| \b\b/ \b\b- \b\b\\ \b\b| \b\b/ \b\b- \b\b\\ \b\b| \b\b/ \b\b- \b\b\\ \b\b| \b\b/ \b\b- \b\b\\ \b\b| \b\b/ \b\b- \b\b\\ \b\b| \b\b/ \b\b- \b\b\\ \b\b| \b\b/ \b\b- \b\b\\ \b\b| \b\b/ \b\b- \b\b\\ \b\b| \b\b/ \b\b- \b\b\\ \b\b| \b\b/ \b\b- \b\b\\ \b\b| \b\b/ \b\b- \b\b\\ \b\b| \b\b/ \b\b- \b\b\\ \b\b| \b\b/ \b\b- \b\b\\ \b\b| \b\b/ \b\b- \b\b\\ \b\b| \b\b/ \b\b- \b\b\\ \b\b| \b\b/ \b\b- \b\b\\ \b\b| \b\b/ \b\b- \b\b\\ \b\b| \b\b/ \b\b- \b\b\\ \b\b| \b\b/ \b\b- \b\b\\ \b\b| \b\b/ \b\b- \b\b\\ \b\b| \b\b/ \b\b- \b\b\\ \b\b| \b\b/ \b\b- \b\b\\ \b\b| \b\b/ \b\b- \b\b\\ \b\b| \b\b/ \b\b- \b\b\\ \b\b| \b\b/ \b\b- \b\b\\ \b\b| \b\b/ \b\b- \b\b\\ \b\b| \b\b/ \b\b- \b\b\\ \b\b| \b\b/ \b\b- \b\b\\ \b\b| \b\b/ \b\b- \b\b\\ \b\b| \b\b/ \b\b- \b\b\\ \b\b| \b\b/ \b\b- \b\b\\ \b\b| \b\b/ \b\b- \b\b\\ \b\b| \b\b/ \b\b- \b\b\\ \b\b| \b\b/ \b\b- \b\b\\ \b\b| \b\b/ \b\b- \b\b\\ \b\b| \b\b/ \b\b- \b\b\\ \b\b| \b\b/ \b\b- \b\b\\ \b\b| \b\b/ \b\b- \b\b\\ \b\b| \b\b/ \b\b- \b\b\\ \b\b| \b\b/ \b\b- \b\b\\ \b\b| \b\b/ \b\b- \b\b\\ \b\b| \b\b/ \b\b- \b\b\\ \b\b| \b\b/ \b\b- \b\b\\ \b\b| \b\b/ \b\b- \b\b\\ \b\b| \b\b/ \b\b- \b\b\\ \b\b| \b\b/ \b\b- \b\b\\ \b\b| \b\b/ \b\b- \b\b\\ \b\b| \b\b/ \b\b- \b\b\\ \b\b| \b\b/ \b\b- \b\b\\ \b\b| \b\b/ \b\b- \b\b\\ \b\b| \b\b/ \b\b- \b\b\\ \b\b| \b\b/ \b\b- \b\b\\ \b\b| \b\b/ \b\b- \b\b\\ \b\b| \b\b/ \b\b- \b\b\\ \b\b| \b\b/ \b\b- \b\b\\ \b\b| \b\b/ \b\b- \b\b\\ \b\b| \b\b/ \b\b- \b\b\\ \b\b| \b\b/ \b\b- \b\b\\ \b\b| \b\b/ \b\b- \b\b\\ \b\b| \b\b/ \b\b- \b\b\\ \b\b| \b\b/ \b\b- \b\b\\ \b\b| \b\b/ \b\b- \b\b\\ \b\b| \b\b/ \b\b- \b\b\\ \b\b| \b\b/ \b\b- \b\b\\ \b\b| \b\b/ \b\b- \b\b\\ \b\b| \b\b/ \b\b- \b\b\\ \b\b| \b\b/ \b\b- \b\b\\ \b\b| \b\b/ \b\b- \b\b\\ \b\b| \b\b/ \b\b- \b\b\\ \b\b| \b\b/ \b\b- \b\b\\ \b\b| \b\b/ \b\b- \b\b\\ \b\b| \b\b/ \b\b- \b\b\\ \b\b| \b\b/ \b\b- \b\b\\ \b\b| \b\b/ \b\b- \b\b\\ \b\b| \b\b/ \b\b- \b\b\\ \b\b| \b\b/ \b\b- \b\b\\ \b\b| \b\b/ \b\b- \b\b\\ \b\b| \b\b/ \b\b- \b\b\\ \b\b| \b\b/ \b\b- \b\b\\ \b\b| \b\b/ \b\b- \b\b\\ \b\b| \b\b/ \b\b- \b\b\\ \b\b| \b\b/ \b\b- \b\b\\ \b\b| \b\b/ \b\b- \b\b\\ \b\b| \b\b/ \b\b- \b\b\\ \b\b| \b\b/ \b\b- \b\b\\ \b\b| \b\b/ \b\b- \b\b\\ \b\b| \b\b/ \b\b- \b\b\\ \b\b| \b\b/ \b\b- \b\b\\ \b\b| \b\b/ \b\b- \b\b\\ \b\b| \b\b/ \b\b- \b\b\\ \b\b| \b\b/ \b\b- \b\b\\ \b\b| \b\b/ \b\b- \b\b\\ \b\b| \b\b/ \b\b- \b\b\\ \b\b| \b\b/ \b\b- \b\b\\ \b\b| \b\b/ \b\b- \b\bdone\n",
            "#\n",
            "# To activate this environment, use:\n",
            "# > source activate fastai2\n",
            "#\n",
            "# To deactivate an active environment, use:\n",
            "# > source deactivate\n",
            "#\n",
            "\n"
          ],
          "name": "stdout"
        }
      ]
    },
    {
      "cell_type": "code",
      "metadata": {
        "id": "PlGTUU-Vp-WM",
        "colab_type": "code",
        "colab": {
          "base_uri": "https://localhost:8080/",
          "height": 1000
        },
        "outputId": "1f1dad63-3678-44f8-a94f-402347bad339"
      },
      "source": [
        "!pip install -e \".[dev]\""
      ],
      "execution_count": 6,
      "outputs": [
        {
          "output_type": "stream",
          "text": [
            "Obtaining file:///content/drive/My%20Drive/Colab%20Notebooks/fastai2\n",
            "Collecting fastcore (from fastai2==0.0.18)\n",
            "  Downloading https://files.pythonhosted.org/packages/e2/6e/a18c0ff6cdca36915e65cf1690137134241a33d74ceef7882f4a63a6af55/fastcore-0.1.18-py3-none-any.whl\n",
            "Collecting torch>=1.3.0 (from fastai2==0.0.18)\n",
            "  Downloading https://files.pythonhosted.org/packages/62/01/457b49d790b6c4b9720e6f9dbbb617692f6ce8afdaadf425c055c41a7416/torch-1.5.1-cp36-cp36m-manylinux1_x86_64.whl (753.2MB)\n",
            "\u001b[K    99% |████████████████████████████████| 753.2MB 48.2MB/s eta 0:00:01tcmalloc: large alloc 1506312192 bytes == 0x55f3c407a000 @  0x7f8b1d3b51e7 0x55f38b979804 0x55f38b9beeb4 0x55f38ba6eae2 0x55f38b9bf999 0x7f8b1a119f98 0x55f38b9a0060 0x55f38b9cdf24 0x55f38ba2dbec 0x55f38ba52eb1 0x55f38ba269a6 0x55f38ba27a11 0x55f38ba2dcc5 0x55f38ba5219a 0x55f38ba277db 0x55f38ba2dcc5 0x55f38ba5219a 0x55f38ba269a6 0x55f38ba27a11 0x55f38ba2dcc5 0x55f38ba52eb1 0x55f38ba269a6 0x55f38ba27eee 0x55f38b9a039f 0x55f38b9a4ff3 0x55f38b99fdde 0x55f38ba95095 0x55f38b9a01bb 0x55f38ba2dd3e 0x55f38ba5219a 0x55f38ba277db\n",
            "\u001b[K    100% |████████████████████████████████| 753.2MB 1.5kB/s \n",
            "\u001b[?25hCollecting torchvision>=0.5 (from fastai2==0.0.18)\n",
            "  Downloading https://files.pythonhosted.org/packages/9a/f1/535a407b4a265adf2dd7c2c2458217e37c5fe83ec97234e66c564592a9a0/torchvision-0.6.1-cp36-cp36m-manylinux1_x86_64.whl (6.6MB)\n",
            "\u001b[K    100% |████████████████████████████████| 6.6MB 142kB/s \n",
            "\u001b[?25hRequirement already satisfied: matplotlib in /usr/local/lib/python3.6/site-packages (from fastai2==0.0.18)\n",
            "Requirement already satisfied: pandas in /usr/local/lib/python3.6/site-packages (from fastai2==0.0.18)\n",
            "Requirement already satisfied: requests in /usr/local/lib/python3.6/site-packages (from fastai2==0.0.18)\n",
            "Requirement already satisfied: pyyaml in /usr/local/lib/python3.6/site-packages (from fastai2==0.0.18)\n",
            "Collecting fastprogress>=0.1.22 (from fastai2==0.0.18)\n",
            "  Downloading https://files.pythonhosted.org/packages/a3/da/ffd8fe0daf7e679804a32a1e8654ac2988e2ef85937fc1d223e98eee736e/fastprogress-0.2.3-py3-none-any.whl\n",
            "Requirement already satisfied: pillow in /usr/local/lib/python3.6/site-packages (from fastai2==0.0.18)\n",
            "Requirement already satisfied: scikit-learn in /usr/local/lib/python3.6/site-packages (from fastai2==0.0.18)\n",
            "Requirement already satisfied: scipy in /usr/local/lib/python3.6/site-packages (from fastai2==0.0.18)\n",
            "Collecting spacy (from fastai2==0.0.18)\n",
            "  Downloading https://files.pythonhosted.org/packages/f3/80/c3c0d15cc3ea97c1fd578c39489ef6c360ec0fedfbf15cb29fd89dcf3271/spacy-2.3.1-cp36-cp36m-manylinux1_x86_64.whl (9.9MB)\n",
            "\u001b[K    100% |████████████████████████████████| 9.9MB 106kB/s \n",
            "\u001b[?25hCollecting nbdev (from fastai2==0.0.18)\n",
            "  Downloading https://files.pythonhosted.org/packages/19/54/f39f9050f0e1610c4c5f764872812ef72615dac70ea7f1c9bc20948acb04/nbdev-0.2.18-py3-none-any.whl (45kB)\n",
            "\u001b[K    100% |████████████████████████████████| 51kB 8.0MB/s \n",
            "\u001b[?25hRequirement already satisfied: numpy in /usr/local/lib/python3.6/site-packages (from fastcore->fastai2==0.0.18)\n",
            "Collecting dataclasses>='0.7'; python_version < \"3.7\" (from fastcore->fastai2==0.0.18)\n",
            "  Downloading https://files.pythonhosted.org/packages/e1/d2/6f02df2616fd4016075f60157c7a0452b38d8f7938ae94343911e0fb0b09/dataclasses-0.7-py3-none-any.whl\n",
            "Collecting future (from torch>=1.3.0->fastai2==0.0.18)\n",
            "  Downloading https://files.pythonhosted.org/packages/45/0b/38b06fd9b92dc2b68d58b75f900e97884c45bedd2ff83203d933cf5851c9/future-0.18.2.tar.gz (829kB)\n",
            "\u001b[K    100% |████████████████████████████████| 829kB 567kB/s \n",
            "\u001b[?25hRequirement already satisfied: six>=1.10 in /usr/local/lib/python3.6/site-packages (from matplotlib->fastai2==0.0.18)\n",
            "Requirement already satisfied: python-dateutil>=2.1 in /usr/local/lib/python3.6/site-packages (from matplotlib->fastai2==0.0.18)\n",
            "Requirement already satisfied: pytz in /usr/local/lib/python3.6/site-packages (from matplotlib->fastai2==0.0.18)\n",
            "Requirement already satisfied: cycler>=0.10 in /usr/local/lib/python3.6/site-packages (from matplotlib->fastai2==0.0.18)\n",
            "Requirement already satisfied: pyparsing!=2.0.4,!=2.1.2,!=2.1.6,>=2.0.1 in /usr/local/lib/python3.6/site-packages (from matplotlib->fastai2==0.0.18)\n",
            "Requirement already satisfied: chardet<3.1.0,>=3.0.2 in /usr/local/lib/python3.6/site-packages (from requests->fastai2==0.0.18)\n",
            "Requirement already satisfied: idna<2.7,>=2.5 in /usr/local/lib/python3.6/site-packages (from requests->fastai2==0.0.18)\n",
            "Requirement already satisfied: urllib3<1.23,>=1.21.1 in /usr/local/lib/python3.6/site-packages (from requests->fastai2==0.0.18)\n",
            "Requirement already satisfied: certifi>=2017.4.17 in /usr/local/lib/python3.6/site-packages (from requests->fastai2==0.0.18)\n",
            "Collecting wasabi<1.1.0,>=0.4.0 (from spacy->fastai2==0.0.18)\n",
            "  Downloading https://files.pythonhosted.org/packages/04/e5/aa1892776a8ed6f6d552ba1be0640e6403f07e850d36e79f475f1e605aa9/wasabi-0.7.0.tar.gz\n",
            "Collecting cymem<2.1.0,>=2.0.2 (from spacy->fastai2==0.0.18)\n",
            "  Downloading https://files.pythonhosted.org/packages/e7/b5/3e1714ebda8fd7c5859f9b216e381adc0a38b962f071568fd00d67e1b1ca/cymem-2.0.3-cp36-cp36m-manylinux1_x86_64.whl\n",
            "Collecting thinc==7.4.1 (from spacy->fastai2==0.0.18)\n",
            "  Downloading https://files.pythonhosted.org/packages/10/ae/ef3ae5e93639c0ef8e3eb32e3c18341e511b3c515fcfc603f4b808087651/thinc-7.4.1-cp36-cp36m-manylinux1_x86_64.whl (2.1MB)\n",
            "\u001b[K    100% |████████████████████████████████| 2.1MB 385kB/s \n",
            "\u001b[?25hCollecting plac<1.2.0,>=0.9.6 (from spacy->fastai2==0.0.18)\n",
            "  Downloading https://files.pythonhosted.org/packages/86/85/40b8f66c2dd8f4fd9f09d59b22720cffecf1331e788b8a0cab5bafb353d1/plac-1.1.3-py2.py3-none-any.whl\n",
            "Collecting srsly<1.1.0,>=1.0.2 (from spacy->fastai2==0.0.18)\n",
            "  Downloading https://files.pythonhosted.org/packages/0e/9a/70bd934dd4d25545c9aa6c8cd4edbac2a33ba9c915439a9209b69f0ec0ad/srsly-1.0.2-cp36-cp36m-manylinux1_x86_64.whl (185kB)\n",
            "\u001b[K    100% |████████████████████████████████| 194kB 2.5MB/s \n",
            "\u001b[?25hCollecting murmurhash<1.1.0,>=0.28.0 (from spacy->fastai2==0.0.18)\n",
            "  Downloading https://files.pythonhosted.org/packages/a6/e6/63f160a4fdf0e875d16b28f972083606d8d54f56cd30cb8929f9a1ee700e/murmurhash-1.0.2-cp36-cp36m-manylinux1_x86_64.whl\n",
            "Collecting blis<0.5.0,>=0.4.0 (from spacy->fastai2==0.0.18)\n",
            "  Downloading https://files.pythonhosted.org/packages/41/19/f95c75562d18eb27219df3a3590b911e78d131b68466ad79fdf5847eaac4/blis-0.4.1-cp36-cp36m-manylinux1_x86_64.whl (3.7MB)\n",
            "\u001b[K    100% |████████████████████████████████| 3.7MB 238kB/s \n",
            "\u001b[?25hCollecting tqdm<5.0.0,>=4.38.0 (from spacy->fastai2==0.0.18)\n",
            "  Downloading https://files.pythonhosted.org/packages/46/62/7663894f67ac5a41a0d8812d78d9d2a9404124051885af9d77dc526fb399/tqdm-4.47.0-py2.py3-none-any.whl (66kB)\n",
            "\u001b[K    100% |████████████████████████████████| 71kB 9.5MB/s \n",
            "\u001b[?25hCollecting catalogue<1.1.0,>=0.0.7 (from spacy->fastai2==0.0.18)\n",
            "  Downloading https://files.pythonhosted.org/packages/6c/f9/9a5658e2f56932e41eb264941f9a2cb7f3ce41a80cb36b2af6ab78e2f8af/catalogue-1.0.0-py2.py3-none-any.whl\n",
            "Requirement already satisfied: setuptools in /usr/local/lib/python3.6/site-packages (from spacy->fastai2==0.0.18)\n",
            "Collecting preshed<3.1.0,>=3.0.2 (from spacy->fastai2==0.0.18)\n",
            "  Downloading https://files.pythonhosted.org/packages/db/6b/e07fad36913879757c90ba03d6fb7f406f7279e11dcefc105ee562de63ea/preshed-3.0.2-cp36-cp36m-manylinux1_x86_64.whl (119kB)\n",
            "\u001b[K    100% |████████████████████████████████| 122kB 7.3MB/s \n",
            "\u001b[?25hCollecting nbconvert>=5.6.1 (from nbdev->fastai2==0.0.18)\n",
            "  Downloading https://files.pythonhosted.org/packages/79/6c/05a569e9f703d18aacb89b7ad6075b404e8a4afde2c26b73ca77bb644b14/nbconvert-5.6.1-py2.py3-none-any.whl (455kB)\n",
            "\u001b[K    100% |████████████████████████████████| 460kB 764kB/s \n",
            "\u001b[?25hRequirement already satisfied: nbformat>=4.4.0 in /usr/local/lib/python3.6/site-packages (from nbdev->fastai2==0.0.18)\n",
            "Collecting fastscript (from nbdev->fastai2==0.0.18)\n",
            "  Downloading https://files.pythonhosted.org/packages/55/0e/ecdc0213646bc82986884121109a38b50bbc2cd2c491bbbfdc7ae39228e3/fastscript-0.1.4-py3-none-any.whl\n",
            "Requirement already satisfied: packaging in /usr/local/lib/python3.6/site-packages (from nbdev->fastai2==0.0.18)\n",
            "Collecting importlib-metadata>=0.20; python_version < \"3.8\" (from catalogue<1.1.0,>=0.0.7->spacy->fastai2==0.0.18)\n",
            "  Downloading https://files.pythonhosted.org/packages/8e/58/cdea07eb51fc2b906db0968a94700866fc46249bdc75cac23f9d13168929/importlib_metadata-1.7.0-py2.py3-none-any.whl\n",
            "Requirement already satisfied: bleach in /usr/local/lib/python3.6/site-packages (from nbconvert>=5.6.1->nbdev->fastai2==0.0.18)\n",
            "Requirement already satisfied: jupyter-core in /usr/local/lib/python3.6/site-packages (from nbconvert>=5.6.1->nbdev->fastai2==0.0.18)\n",
            "Requirement already satisfied: traitlets>=4.2 in /usr/local/lib/python3.6/site-packages (from nbconvert>=5.6.1->nbdev->fastai2==0.0.18)\n",
            "Requirement already satisfied: pandocfilters>=1.4.1 in /usr/local/lib/python3.6/site-packages (from nbconvert>=5.6.1->nbdev->fastai2==0.0.18)\n",
            "Requirement already satisfied: testpath in /usr/local/lib/python3.6/site-packages (from nbconvert>=5.6.1->nbdev->fastai2==0.0.18)\n",
            "Requirement already satisfied: mistune<2,>=0.8.1 in /usr/local/lib/python3.6/site-packages (from nbconvert>=5.6.1->nbdev->fastai2==0.0.18)\n",
            "Requirement already satisfied: pygments in /usr/local/lib/python3.6/site-packages (from nbconvert>=5.6.1->nbdev->fastai2==0.0.18)\n",
            "Requirement already satisfied: entrypoints>=0.2.2 in /usr/local/lib/python3.6/site-packages (from nbconvert>=5.6.1->nbdev->fastai2==0.0.18)\n",
            "Requirement already satisfied: jinja2>=2.4 in /usr/local/lib/python3.6/site-packages (from nbconvert>=5.6.1->nbdev->fastai2==0.0.18)\n",
            "Collecting defusedxml (from nbconvert>=5.6.1->nbdev->fastai2==0.0.18)\n",
            "  Downloading https://files.pythonhosted.org/packages/06/74/9b387472866358ebc08732de3da6dc48e44b0aacd2ddaa5cb85ab7e986a2/defusedxml-0.6.0-py2.py3-none-any.whl\n",
            "Requirement already satisfied: ipython_genutils in /usr/local/lib/python3.6/site-packages (from nbformat>=4.4.0->nbdev->fastai2==0.0.18)\n",
            "Requirement already satisfied: jsonschema!=2.5.0,>=2.4 in /usr/local/lib/python3.6/site-packages (from nbformat>=4.4.0->nbdev->fastai2==0.0.18)\n",
            "Collecting zipp>=0.5 (from importlib-metadata>=0.20; python_version < \"3.8\"->catalogue<1.1.0,>=0.0.7->spacy->fastai2==0.0.18)\n",
            "  Downloading https://files.pythonhosted.org/packages/b2/34/bfcb43cc0ba81f527bc4f40ef41ba2ff4080e047acb0586b56b3d017ace4/zipp-3.1.0-py3-none-any.whl\n",
            "Requirement already satisfied: html5lib!=1.0b1,!=1.0b2,!=1.0b3,!=1.0b4,!=1.0b5,!=1.0b6,!=1.0b7,!=1.0b8,>=0.99999999pre in /usr/local/lib/python3.6/site-packages (from bleach->nbconvert>=5.6.1->nbdev->fastai2==0.0.18)\n",
            "Requirement already satisfied: decorator in /usr/local/lib/python3.6/site-packages (from traitlets>=4.2->nbconvert>=5.6.1->nbdev->fastai2==0.0.18)\n",
            "Requirement already satisfied: MarkupSafe>=0.23 in /usr/local/lib/python3.6/site-packages (from jinja2>=2.4->nbconvert>=5.6.1->nbdev->fastai2==0.0.18)\n",
            "Requirement already satisfied: webencodings in /usr/local/lib/python3.6/site-packages (from html5lib!=1.0b1,!=1.0b2,!=1.0b3,!=1.0b4,!=1.0b5,!=1.0b6,!=1.0b7,!=1.0b8,>=0.99999999pre->bleach->nbconvert>=5.6.1->nbdev->fastai2==0.0.18)\n",
            "Building wheels for collected packages: future, wasabi\n",
            "  Running setup.py bdist_wheel for future ... \u001b[?25ldone\n",
            "\u001b[?25h  Stored in directory: /root/.cache/pip/wheels/8b/99/a0/81daf51dcd359a9377b110a8a886b3895921802d2fc1b2397e\n",
            "  Running setup.py bdist_wheel for wasabi ... \u001b[?25ldone\n",
            "\u001b[?25h  Stored in directory: /root/.cache/pip/wheels/33/96/74/01741d5dde3d866a4461a05b3fc6aa43bd7ece8729a7264bf7\n",
            "Successfully built future wasabi\n",
            "Installing collected packages: dataclasses, fastcore, future, torch, torchvision, fastprogress, wasabi, cymem, plac, murmurhash, preshed, blis, zipp, importlib-metadata, catalogue, tqdm, srsly, thinc, spacy, defusedxml, nbconvert, fastscript, nbdev, fastai2\n",
            "  Found existing installation: nbconvert 5.3.1\n",
            "    Uninstalling nbconvert-5.3.1:\n",
            "      Successfully uninstalled nbconvert-5.3.1\n",
            "  Running setup.py develop for fastai2\n",
            "Successfully installed blis-0.4.1 catalogue-1.0.0 cymem-2.0.3 dataclasses-0.7 defusedxml-0.6.0 fastai2 fastcore-0.1.18 fastprogress-0.2.3 fastscript-0.1.4 future-0.18.2 importlib-metadata-1.7.0 murmurhash-1.0.2 nbconvert-5.6.1 nbdev-0.2.18 plac-1.1.3 preshed-3.0.2 spacy-2.3.1 srsly-1.0.2 thinc-7.4.1 torch-1.5.1 torchvision-0.6.1 tqdm-4.47.0 wasabi-0.7.0 zipp-3.1.0\n"
          ],
          "name": "stdout"
        }
      ]
    },
    {
      "cell_type": "code",
      "metadata": {
        "id": "IatxZXWdhcvm",
        "colab_type": "code",
        "colab": {
          "base_uri": "https://localhost:8080/",
          "height": 445
        },
        "outputId": "52c44fd5-8dbf-4b54-aefd-aa77c53d8d7f"
      },
      "source": [
        "!pip install nbdev"
      ],
      "execution_count": 7,
      "outputs": [
        {
          "output_type": "stream",
          "text": [
            "Requirement already satisfied: nbdev in /usr/local/lib/python3.6/site-packages\n",
            "Requirement already satisfied: nbconvert>=5.6.1 in /usr/local/lib/python3.6/site-packages (from nbdev)\n",
            "Requirement already satisfied: nbformat>=4.4.0 in /usr/local/lib/python3.6/site-packages (from nbdev)\n",
            "Requirement already satisfied: fastscript in /usr/local/lib/python3.6/site-packages (from nbdev)\n",
            "Requirement already satisfied: packaging in /usr/local/lib/python3.6/site-packages (from nbdev)\n",
            "Requirement already satisfied: pyyaml in /usr/local/lib/python3.6/site-packages (from nbdev)\n",
            "Requirement already satisfied: bleach in /usr/local/lib/python3.6/site-packages (from nbconvert>=5.6.1->nbdev)\n",
            "Requirement already satisfied: entrypoints>=0.2.2 in /usr/local/lib/python3.6/site-packages (from nbconvert>=5.6.1->nbdev)\n",
            "Requirement already satisfied: pygments in /usr/local/lib/python3.6/site-packages (from nbconvert>=5.6.1->nbdev)\n",
            "Requirement already satisfied: traitlets>=4.2 in /usr/local/lib/python3.6/site-packages (from nbconvert>=5.6.1->nbdev)\n",
            "Requirement already satisfied: defusedxml in /usr/local/lib/python3.6/site-packages (from nbconvert>=5.6.1->nbdev)\n",
            "Requirement already satisfied: mistune<2,>=0.8.1 in /usr/local/lib/python3.6/site-packages (from nbconvert>=5.6.1->nbdev)\n",
            "Requirement already satisfied: pandocfilters>=1.4.1 in /usr/local/lib/python3.6/site-packages (from nbconvert>=5.6.1->nbdev)\n",
            "Requirement already satisfied: testpath in /usr/local/lib/python3.6/site-packages (from nbconvert>=5.6.1->nbdev)\n",
            "Requirement already satisfied: jinja2>=2.4 in /usr/local/lib/python3.6/site-packages (from nbconvert>=5.6.1->nbdev)\n",
            "Requirement already satisfied: jupyter-core in /usr/local/lib/python3.6/site-packages (from nbconvert>=5.6.1->nbdev)\n",
            "Requirement already satisfied: ipython_genutils in /usr/local/lib/python3.6/site-packages (from nbformat>=4.4.0->nbdev)\n",
            "Requirement already satisfied: jsonschema!=2.5.0,>=2.4 in /usr/local/lib/python3.6/site-packages (from nbformat>=4.4.0->nbdev)\n",
            "Requirement already satisfied: pyparsing in /usr/local/lib/python3.6/site-packages (from packaging->nbdev)\n",
            "Requirement already satisfied: six in /usr/local/lib/python3.6/site-packages (from packaging->nbdev)\n",
            "Requirement already satisfied: html5lib!=1.0b1,!=1.0b2,!=1.0b3,!=1.0b4,!=1.0b5,!=1.0b6,!=1.0b7,!=1.0b8,>=0.99999999pre in /usr/local/lib/python3.6/site-packages (from bleach->nbconvert>=5.6.1->nbdev)\n",
            "Requirement already satisfied: decorator in /usr/local/lib/python3.6/site-packages (from traitlets>=4.2->nbconvert>=5.6.1->nbdev)\n",
            "Requirement already satisfied: MarkupSafe>=0.23 in /usr/local/lib/python3.6/site-packages (from jinja2>=2.4->nbconvert>=5.6.1->nbdev)\n",
            "Requirement already satisfied: webencodings in /usr/local/lib/python3.6/site-packages (from html5lib!=1.0b1,!=1.0b2,!=1.0b3,!=1.0b4,!=1.0b5,!=1.0b6,!=1.0b7,!=1.0b8,>=0.99999999pre->bleach->nbconvert>=5.6.1->nbdev)\n"
          ],
          "name": "stdout"
        }
      ]
    },
    {
      "cell_type": "markdown",
      "metadata": {
        "id": "pK756csKG9q2",
        "colab_type": "text"
      },
      "source": [
        "### **walk-note** literate programming , default_exp\n",
        "The cells that have \"export\" (and only this code) will be used to generate the notebook [data.transforms](https://github.com/fastai/fastai2/blob/master/fastai2/data/transforms.py)\n",
        "\n",
        "export is used to automaticall create \\_\\_all\\_\\_: this is used by python to decide what will be imported if you say import *\n",
        "\n",
        "* In most python libraries, this dunder method is not created and this is the main reason people are saying \"don’t use import \\*\". If there is no \\_\\_all\\_\\_, it will also import everything recursively.\n",
        "* by default functions that start with underscore will be exported to the library but will no be part of \\_\\_all\\_\\_ as they are considered private"
      ]
    },
    {
      "cell_type": "code",
      "metadata": {
        "id": "-Y00t68ifLFI",
        "colab_type": "code",
        "colab": {}
      },
      "source": [
        "#default_exp data.transforms"
      ],
      "execution_count": 155,
      "outputs": []
    },
    {
      "cell_type": "code",
      "metadata": {
        "id": "U_VLypogfLFM",
        "colab_type": "code",
        "colab": {}
      },
      "source": [
        "#export\n",
        "from fastai2.torch_basics import *\n",
        "from fastai2.data.core import *\n",
        "from fastai2.data.load import *\n",
        "from fastai2.data.external import *\n",
        "\n",
        "from sklearn.model_selection import train_test_split"
      ],
      "execution_count": 156,
      "outputs": []
    },
    {
      "cell_type": "code",
      "metadata": {
        "id": "uLTBn4tmfLFP",
        "colab_type": "code",
        "colab": {}
      },
      "source": [
        "from nbdev.showdoc import *"
      ],
      "execution_count": 26,
      "outputs": []
    },
    {
      "cell_type": "markdown",
      "metadata": {
        "id": "RgAITjbRfLFS",
        "colab_type": "text"
      },
      "source": [
        "# Helper functions for processing data and basic transforms\n",
        "\n",
        "> Functions for getting, splitting, and labeling data, as well as generic transforms"
      ]
    },
    {
      "cell_type": "markdown",
      "metadata": {
        "id": "OGHh2eBcfLFS",
        "colab_type": "text"
      },
      "source": [
        "## Get, split, and label"
      ]
    },
    {
      "cell_type": "markdown",
      "metadata": {
        "id": "tvv_NYQqfLFT",
        "colab_type": "text"
      },
      "source": [
        "For most data source creation we need functions to get a list of items, split them in to train/valid sets, and label them. fastai provides functions to make each of these steps easy (especially when combined with `fastai.data.blocks`)."
      ]
    },
    {
      "cell_type": "markdown",
      "metadata": {
        "id": "uaqVyr3_fLFT",
        "colab_type": "text"
      },
      "source": [
        "### Get"
      ]
    },
    {
      "cell_type": "markdown",
      "metadata": {
        "id": "KLkxe5OJfLFU",
        "colab_type": "text"
      },
      "source": [
        "First we'll look at functions that *get* a list of items (generally file names).\n",
        "\n",
        "We'll use *tiny MNIST* (a subset of MNIST with just two classes, `7`s and `3`s) for our examples/tests throughout this page."
      ]
    },
    {
      "cell_type": "code",
      "metadata": {
        "id": "-Dw_heqZfLFV",
        "colab_type": "code",
        "colab": {
          "base_uri": "https://localhost:8080/",
          "height": 34
        },
        "outputId": "fea55a23-c928-4f26-d0e6-9fd46fa88212"
      },
      "source": [
        "path = untar_data(URLs.MNIST_TINY)\n",
        "(path/'train').ls()"
      ],
      "execution_count": 27,
      "outputs": [
        {
          "output_type": "execute_result",
          "data": {
            "text/plain": [
              "(#2) [Path('/root/.fastai/data/mnist_tiny/train/7'),Path('/root/.fastai/data/mnist_tiny/train/3')]"
            ]
          },
          "metadata": {
            "tags": []
          },
          "execution_count": 27
        }
      ]
    },
    {
      "cell_type": "markdown",
      "metadata": {
        "id": "fdrnddqIIW7E",
        "colab_type": "text"
      },
      "source": [
        "###**walk-note**\n",
        "An item can be kind of anything you like:\n",
        "* For vision, it is normally a list of paths\n",
        "* An item list can also be a DataFrame, connection to a DataBase, a network, a pipe… etc\n",
        "* For now we are using these with paths and are looking at DataFrames later."
      ]
    },
    {
      "cell_type": "code",
      "metadata": {
        "id": "aMmK8HvPfLFY",
        "colab_type": "code",
        "colab": {}
      },
      "source": [
        "# export\n",
        "def _get_files(p, fs, extensions=None):\n",
        "    p = Path(p)\n",
        "    res = [p/f for f in fs if not f.startswith('.')\n",
        "           and ((not extensions) or f'.{f.split(\".\")[-1].lower()}' in extensions)]\n",
        "    return res"
      ],
      "execution_count": 28,
      "outputs": []
    },
    {
      "cell_type": "code",
      "metadata": {
        "id": "w_N0RyYi5mc2",
        "colab_type": "code",
        "colab": {}
      },
      "source": [
        "get_files??"
      ],
      "execution_count": 29,
      "outputs": []
    },
    {
      "cell_type": "markdown",
      "metadata": {
        "id": "QMrFi5C-FEEe",
        "colab_type": "text"
      },
      "source": [
        "### **walk-note** [os.walk](https://www.geeksforgeeks.org/os-walk-python/)\n",
        "os.walk is very very fast, Jeremy dedicated a good amount of time into selecting the library that would provide the best performance to look for things in the fylesystems files... os.walk is capable of reading the imagenet files over 3M files in  <10 seconds"
      ]
    },
    {
      "cell_type": "code",
      "metadata": {
        "id": "INmKBClnfLFb",
        "colab_type": "code",
        "colab": {}
      },
      "source": [
        "# export\n",
        "def get_files(path, extensions=None, recurse=True, folders=None, followlinks=True):\n",
        "    \"Get all the files in `path` with optional `extensions`, optionally with `recurse`, only in `folders`, if specified.\"\n",
        "    path = Path(path)\n",
        "    folders=L(folders)\n",
        "    extensions = setify(extensions)\n",
        "    extensions = {e.lower() for e in extensions}\n",
        "    if recurse:\n",
        "        res = []\n",
        "        for i,(p,d,f) in enumerate(os.walk(path, followlinks=followlinks)): # returns (dirpath, dirnames, filenames)\n",
        "            if len(folders) !=0 and i==0: d[:] = [o for o in d if o in folders]\n",
        "            else:                         d[:] = [o for o in d if not o.startswith('.')]\n",
        "            if len(folders) !=0 and i==0 and '.' not in folders: continue\n",
        "            res += _get_files(p, f, extensions)\n",
        "    else:\n",
        "        f = [o.name for o in os.scandir(path) if o.is_file()]\n",
        "        res = _get_files(path, f, extensions)\n",
        "    return L(res)"
      ],
      "execution_count": 30,
      "outputs": []
    },
    {
      "cell_type": "code",
      "metadata": {
        "id": "jcOSW5415dMp",
        "colab_type": "code",
        "colab": {
          "base_uri": "https://localhost:8080/",
          "height": 121
        },
        "outputId": "7912a818-01a5-4fcd-f237-954bd87f19e3"
      },
      "source": [
        "show_doc(get_files)"
      ],
      "execution_count": 31,
      "outputs": [
        {
          "output_type": "display_data",
          "data": {
            "text/markdown": "<h4 id=\"get_files\" class=\"doc_header\"><code>get_files</code><a href=\"__main__.py#L2\" class=\"source_link\" style=\"float:right\">[source]</a></h4>\n\n> <code>get_files</code>(**`path`**, **`extensions`**=*`None`*, **`recurse`**=*`True`*, **`folders`**=*`None`*, **`followlinks`**=*`True`*)\n\nGet all the files in `path` with optional `extensions`, optionally with `recurse`, only in `folders`, if specified.",
            "text/plain": [
              "<IPython.core.display.Markdown object>"
            ]
          },
          "metadata": {
            "tags": []
          }
        }
      ]
    },
    {
      "cell_type": "markdown",
      "metadata": {
        "id": "Y6m84WB_fLFd",
        "colab_type": "text"
      },
      "source": [
        "This is the most general way to grab a bunch of file names from disk. If you pass `extensions` (including the `.`) then returned file names are filtered by that list. Only those files directly in `path` are included, unless you pass `recurse`, in which case all child folders are also searched recursively. `folders` is an optional list of directories to limit the search to."
      ]
    },
    {
      "cell_type": "markdown",
      "metadata": {
        "id": "RoKH8MQKJWnA",
        "colab_type": "text"
      },
      "source": [
        "###**walk-note** tests\n",
        "used to demostrate/ensure functionality in documentation  [implemented in fastcore](https://github.com/fastai/fastcore/blob/master/nbs/00_test.ipynb)"
      ]
    },
    {
      "cell_type": "code",
      "metadata": {
        "id": "CO2eNCg1fLFe",
        "colab_type": "code",
        "colab": {
          "base_uri": "https://localhost:8080/",
          "height": 54
        },
        "outputId": "485723e8-3b0a-41b3-e083-9b83ab44ca81"
      },
      "source": [
        "t3 = get_files(path/'train'/'3', extensions='.png', recurse=False)\n",
        "t7 = get_files(path/'train'/'7', extensions='.png', recurse=False)\n",
        "t  = get_files(path/'train', extensions='.png', recurse=True)\n",
        "test_eq(len(t), len(t3)+len(t7))\n",
        "test_eq(len(get_files(path/'train'/'3', extensions='.jpg', recurse=False)),0)\n",
        "test_eq(len(t), len(get_files(path, extensions='.png', recurse=True, folders='train')))\n",
        "t"
      ],
      "execution_count": 32,
      "outputs": [
        {
          "output_type": "execute_result",
          "data": {
            "text/plain": [
              "(#709) [Path('/root/.fastai/data/mnist_tiny/train/7/7331.png'),Path('/root/.fastai/data/mnist_tiny/train/7/7547.png'),Path('/root/.fastai/data/mnist_tiny/train/7/8845.png'),Path('/root/.fastai/data/mnist_tiny/train/7/969.png'),Path('/root/.fastai/data/mnist_tiny/train/7/8214.png'),Path('/root/.fastai/data/mnist_tiny/train/7/8827.png'),Path('/root/.fastai/data/mnist_tiny/train/7/9588.png'),Path('/root/.fastai/data/mnist_tiny/train/7/7530.png'),Path('/root/.fastai/data/mnist_tiny/train/7/7913.png'),Path('/root/.fastai/data/mnist_tiny/train/7/8205.png')...]"
            ]
          },
          "metadata": {
            "tags": []
          },
          "execution_count": 32
        }
      ]
    },
    {
      "cell_type": "markdown",
      "metadata": {
        "id": "-YACRNU9J39S",
        "colab_type": "text"
      },
      "source": [
        "###**walk-note**\n",
        "Sometimes there are additional checks that are not that interesting for documentation purposes but just useful as tests. These are marked with \"#hide\" so that it will not be included in the docs."
      ]
    },
    {
      "cell_type": "code",
      "metadata": {
        "id": "sE8PoX3ofLFh",
        "colab_type": "code",
        "colab": {}
      },
      "source": [
        "#hide\n",
        "test_eq(len(get_files(path/'train'/'3', recurse=False)),346)\n",
        "test_eq(len(get_files(path, extensions='.png', recurse=True, folders=['train', 'test'])),729)\n",
        "test_eq(len(get_files(path, extensions='.png', recurse=True, folders='train')),709)\n",
        "test_eq(len(get_files(path, extensions='.png', recurse=True, folders='training')),0)"
      ],
      "execution_count": 33,
      "outputs": []
    },
    {
      "cell_type": "markdown",
      "metadata": {
        "id": "YOPVqVNUfLFj",
        "colab_type": "text"
      },
      "source": [
        "It's often useful to be able to create functions with customized behavior. `fastai.data` generally uses functions named as CamelCase verbs ending in `er` to create these functions. `FileGetter` is a simple example of such a function creator."
      ]
    },
    {
      "cell_type": "markdown",
      "metadata": {
        "id": "2kUUl_QQLI0x",
        "colab_type": "text"
      },
      "source": [
        "###**walk-note** Partial functions that end in \"ER\"\n",
        "\n",
        "Functions named as CamelCase verbs ending in er are used for frequent type of behaviors, for example function below is used to get all files in *suf* directory, you can still specify whether it should be recursive or not."
      ]
    },
    {
      "cell_type": "code",
      "metadata": {
        "id": "KQCsZAnzfLFk",
        "colab_type": "code",
        "colab": {}
      },
      "source": [
        "#export\n",
        "def FileGetter(suf='', extensions=None, recurse=True, folders=None):\n",
        "    \"Create `get_files` partial function that searches path suffix `suf`, only in `folders`, if specified, and passes along args\"\n",
        "    def _inner(o, extensions=extensions, recurse=recurse, folders=folders):\n",
        "        return get_files(o/suf, extensions, recurse, folders)\n",
        "    return _inner"
      ],
      "execution_count": 34,
      "outputs": []
    },
    {
      "cell_type": "code",
      "metadata": {
        "id": "9hgqzdUmfLFm",
        "colab_type": "code",
        "colab": {}
      },
      "source": [
        "fpng = FileGetter(extensions='.png', recurse=False)\n",
        "test_eq(len(t7), len(fpng(path/'train'/'7')))\n",
        "test_eq(len(t), len(fpng(path/'train', recurse=True)))\n",
        "fpng_r = FileGetter(extensions='.png', recurse=True)\n",
        "test_eq(len(t), len(fpng_r(path/'train')))"
      ],
      "execution_count": 35,
      "outputs": []
    },
    {
      "cell_type": "code",
      "metadata": {
        "id": "rYjp69DdfLFo",
        "colab_type": "code",
        "colab": {}
      },
      "source": [
        "#export\n",
        "image_extensions = set(k for k,v in mimetypes.types_map.items() if v.startswith('image/'))"
      ],
      "execution_count": 157,
      "outputs": []
    },
    {
      "cell_type": "code",
      "metadata": {
        "id": "hg8yi27kfLFq",
        "colab_type": "code",
        "colab": {}
      },
      "source": [
        "#export\n",
        "def get_image_files(path, recurse=True, folders=None):\n",
        "    \"Get image files in `path` recursively, only in `folders`, if specified.\"\n",
        "    return get_files(path, extensions=image_extensions, recurse=recurse, folders=folders)"
      ],
      "execution_count": 37,
      "outputs": []
    },
    {
      "cell_type": "markdown",
      "metadata": {
        "id": "1kU7ShSCfLFs",
        "colab_type": "text"
      },
      "source": [
        "This is simply `get_files` called with a list of standard image extensions."
      ]
    },
    {
      "cell_type": "code",
      "metadata": {
        "id": "6CUL6OtWfLFt",
        "colab_type": "code",
        "colab": {}
      },
      "source": [
        "test_eq(len(t), len(get_image_files(path, recurse=True, folders='train')))"
      ],
      "execution_count": 38,
      "outputs": []
    },
    {
      "cell_type": "code",
      "metadata": {
        "id": "k5aca-kTfLFv",
        "colab_type": "code",
        "colab": {}
      },
      "source": [
        "#export\n",
        "def ImageGetter(suf='', recurse=True, folders=None):\n",
        "    \"Create `get_image_files` partial function that searches path suffix `suf` and passes along `kwargs`, only in `folders`, if specified.\"\n",
        "    def _inner(o, recurse=recurse, folders=folders): return get_image_files(o/suf, recurse, folders)\n",
        "    return _inner"
      ],
      "execution_count": 118,
      "outputs": []
    },
    {
      "cell_type": "markdown",
      "metadata": {
        "id": "WIDmkC7OMGWY",
        "colab_type": "text"
      },
      "source": [
        "###**walk-note**\n",
        "Example below\n",
        "* Our suffix is 'train' which means it only looks in this parent folder\n",
        "* we use *recurse=True* because the images are inside the class folders (e.g. *train/3/image000.png* )\n",
        "* we are interested only in the images for class 3"
      ]
    },
    {
      "cell_type": "code",
      "metadata": {
        "id": "ehNt98vfMJia",
        "colab_type": "code",
        "colab": {
          "base_uri": "https://localhost:8080/",
          "height": 54
        },
        "outputId": "b0507c78-41da-40f0-9b8c-acc7b82e42b0"
      },
      "source": [
        "my_img_getter = ImageGetter('train', recurse=True, folders='3')\n",
        "my_img_getter(path)"
      ],
      "execution_count": 119,
      "outputs": [
        {
          "output_type": "execute_result",
          "data": {
            "text/plain": [
              "(#346) [Path('/root/.fastai/data/mnist_tiny/train/3/7134.png'),Path('/root/.fastai/data/mnist_tiny/train/3/8338.png'),Path('/root/.fastai/data/mnist_tiny/train/3/8936.png'),Path('/root/.fastai/data/mnist_tiny/train/3/8716.png'),Path('/root/.fastai/data/mnist_tiny/train/3/857.png'),Path('/root/.fastai/data/mnist_tiny/train/3/8077.png'),Path('/root/.fastai/data/mnist_tiny/train/3/9140.png'),Path('/root/.fastai/data/mnist_tiny/train/3/7881.png'),Path('/root/.fastai/data/mnist_tiny/train/3/9664.png'),Path('/root/.fastai/data/mnist_tiny/train/3/8967.png')...]"
            ]
          },
          "metadata": {
            "tags": []
          },
          "execution_count": 119
        }
      ]
    },
    {
      "cell_type": "markdown",
      "metadata": {
        "id": "6caMkN62fLFx",
        "colab_type": "text"
      },
      "source": [
        "Same as `FileGetter`, but for image extensions."
      ]
    },
    {
      "cell_type": "code",
      "metadata": {
        "id": "DJZokX3afLFy",
        "colab_type": "code",
        "colab": {}
      },
      "source": [
        "test_eq(len(get_files(path/'train', extensions='.png', recurse=True, folders='3')),\n",
        "        len(ImageGetter(   'train',                    recurse=True, folders='3')(path)))"
      ],
      "execution_count": 40,
      "outputs": []
    },
    {
      "cell_type": "code",
      "metadata": {
        "id": "dTDHd9vifLF0",
        "colab_type": "code",
        "colab": {}
      },
      "source": [
        "#export\n",
        "def get_text_files(path, recurse=True, folders=None):\n",
        "    \"Get text files in `path` recursively, only in `folders`, if specified.\"\n",
        "    return get_files(path, extensions=['.txt'], recurse=recurse, folders=folders)"
      ],
      "execution_count": 41,
      "outputs": []
    },
    {
      "cell_type": "code",
      "metadata": {
        "id": "5zGPcofJfLF3",
        "colab_type": "code",
        "colab": {}
      },
      "source": [
        "#export\n",
        "class ItemGetter(ItemTransform):\n",
        "    \"Creates a proper transform that applies `itemgetter(i)` (even on a tuple)\"\n",
        "    _retain = False\n",
        "    def __init__(self, i): self.i = i\n",
        "    def encodes(self, x): return x[self.i]"
      ],
      "execution_count": 42,
      "outputs": []
    },
    {
      "cell_type": "code",
      "metadata": {
        "id": "iYITizxQfLF5",
        "colab_type": "code",
        "colab": {}
      },
      "source": [
        "test_eq(ItemGetter(1)((1,2,3)),  2)\n",
        "test_eq(ItemGetter(1)(L(1,2,3)), 2)\n",
        "test_eq(ItemGetter(1)([1,2,3]),  2)\n",
        "test_eq(ItemGetter(1)(np.array([1,2,3])),  2)"
      ],
      "execution_count": 43,
      "outputs": []
    },
    {
      "cell_type": "markdown",
      "metadata": {
        "id": "jE8LfuBVOj8x",
        "colab_type": "text"
      },
      "source": [
        "###**walk-note**  [store_attr](https://fastcore.fast.ai/utils#store_attr)\n",
        "\n",
        "```\n",
        "store_attr(self, 'suff,label_delim')\n",
        "```\n",
        "Store params named in comma-separated nms from calling context into attrs in self.\n",
        "\n",
        "In this example it saves two parameters in just one line. Equivalent to:\n",
        "```\n",
        "self.nm=nm\n",
        "self.default=default\n",
        "```\n",
        "\n",
        "It finds the appopiate context (class level) in which to store the attributes"
      ]
    },
    {
      "cell_type": "code",
      "metadata": {
        "id": "ap78P-11fLF7",
        "colab_type": "code",
        "colab": {}
      },
      "source": [
        "#export\n",
        "class AttrGetter(ItemTransform):\n",
        "    \"Creates a proper transform that applies `attrgetter(nm)` (even on a tuple)\"\n",
        "    _retain = False\n",
        "    def __init__(self, nm, default=None): store_attr(self, 'nm,default')\n",
        "    def encodes(self, x): return getattr(x, self.nm, self.default)"
      ],
      "execution_count": 44,
      "outputs": []
    },
    {
      "cell_type": "code",
      "metadata": {
        "id": "qHdKEzQRfLF9",
        "colab_type": "code",
        "colab": {}
      },
      "source": [
        "test_eq(AttrGetter('shape')(torch.randn([4,5])), [4,5])\n",
        "test_eq(AttrGetter('shape', [0])([4,5]), [0])"
      ],
      "execution_count": 45,
      "outputs": []
    },
    {
      "cell_type": "markdown",
      "metadata": {
        "id": "5GIZj344fLF_",
        "colab_type": "text"
      },
      "source": [
        "### Split"
      ]
    },
    {
      "cell_type": "markdown",
      "metadata": {
        "id": "lxT4aEBXfLGA",
        "colab_type": "text"
      },
      "source": [
        "The next set of functions are used to *split* data into training and validation sets. The functions return two lists - a list of indices or masks for each of training and validation sets."
      ]
    },
    {
      "cell_type": "code",
      "metadata": {
        "id": "XOQG7QxDfLGA",
        "colab_type": "code",
        "colab": {}
      },
      "source": [
        "# export\n",
        "def RandomSplitter(valid_pct=0.2, seed=None, **kwargs):\n",
        "    \"Create function that splits `items` between train/val with `valid_pct` randomly.\"\n",
        "    def _inner(o, **kwargs):\n",
        "        if seed is not None: torch.manual_seed(seed)\n",
        "        rand_idx = L(int(i) for i in torch.randperm(len(o)))\n",
        "        cut = int(valid_pct * len(o))\n",
        "        return rand_idx[cut:],rand_idx[:cut]\n",
        "    return _inner"
      ],
      "execution_count": 46,
      "outputs": []
    },
    {
      "cell_type": "code",
      "metadata": {
        "id": "BmOyUfODfLGC",
        "colab_type": "code",
        "colab": {}
      },
      "source": [
        "src = list(range(30))\n",
        "f = RandomSplitter(seed=42)\n",
        "trn,val = f(src)\n",
        "assert 0<len(trn)<len(src)\n",
        "assert all(o not in val for o in trn)\n",
        "test_eq(len(trn), len(src)-len(val))\n",
        "# test random seed consistency\n",
        "test_eq(f(src)[0], trn)"
      ],
      "execution_count": 47,
      "outputs": []
    },
    {
      "cell_type": "markdown",
      "metadata": {
        "id": "Bd-DrGdRfLGF",
        "colab_type": "text"
      },
      "source": [
        "Use scikit-learn train_test_split. This allow to *split* items in a stratified fashion (uniformely according to the ‘labels‘ distribution)"
      ]
    },
    {
      "cell_type": "markdown",
      "metadata": {
        "id": "wTDecUJYPMC4",
        "colab_type": "text"
      },
      "source": [
        "###**walk-note** stratify\n",
        "In here we just call scikit-learn test splitter to ensure the train and validation sets have the same proportion of classes.\n",
        "\n",
        "\n",
        "*   No need to re-write something the works, hence only wrap-up the call to scikit-learn instead of reimplementing it.\n",
        "\n"
      ]
    },
    {
      "cell_type": "code",
      "metadata": {
        "id": "P8aqRAGdfLGF",
        "colab_type": "code",
        "colab": {}
      },
      "source": [
        "# export\n",
        "def TrainTestSplitter(test_size=0.2, random_state=None, stratify=None, **kwargs):\n",
        "    \"Split `items` into random train and test subsets using sklearn train_test_split utility.\"\n",
        "    def _inner(o, **kwargs):\n",
        "        train, valid = train_test_split(range(len(o)), test_size=test_size, random_state=random_state, stratify=stratify, **kwargs)\n",
        "        return L(train), L(valid)\n",
        "    return _inner"
      ],
      "execution_count": 48,
      "outputs": []
    },
    {
      "cell_type": "code",
      "metadata": {
        "id": "RWn9TENUfLGI",
        "colab_type": "code",
        "colab": {}
      },
      "source": [
        "src = list(range(30))\n",
        "labels = [0] * 20 + [1] * 10\n",
        "test_size = 0.2\n",
        "\n",
        "f = TrainTestSplitter(test_size=test_size, random_state=42, stratify=labels)\n",
        "trn,val = f(src)\n",
        "assert 0<len(trn)<len(src)\n",
        "assert all(o not in val for o in trn)\n",
        "test_eq(len(trn), len(src)-len(val))\n",
        "\n",
        "# test random seed consistency\n",
        "test_eq(f(src)[0], trn)\n",
        "\n",
        "# test labels distribution consistency\n",
        "# there should be test_size % of zeroes and ones respectively in the validation set\n",
        "test_eq(len([t for t in val if t < 20]) / 20, test_size)\n",
        "test_eq(len([t for t in val if t > 20]) / 10, test_size)"
      ],
      "execution_count": 49,
      "outputs": []
    },
    {
      "cell_type": "markdown",
      "metadata": {
        "id": "_KVgDTn_PwDC",
        "colab_type": "text"
      },
      "source": [
        "###**walk-note** range_of\n",
        "\n",
        "* Custom function from fastai\n",
        "* It creates the list of the indices"
      ]
    },
    {
      "cell_type": "code",
      "metadata": {
        "id": "q14t2xWkQKBT",
        "colab_type": "code",
        "colab": {
          "base_uri": "https://localhost:8080/",
          "height": 561
        },
        "outputId": "bebc0725-6265-4894-977a-2cdea4a7c44d"
      },
      "source": [
        "# walk-note\n",
        "# Given a list, for example a list of files, src, obtain a list with the indices\n",
        "\n",
        "a = range(len(src))\n",
        "print(a)\n",
        "# Notice it's not really a list yet\n",
        "b = list(a)\n",
        "print(b)\n",
        "# now, it is a list\n",
        "\n",
        "# we can do it in one step\n",
        "range_of(src)"
      ],
      "execution_count": 126,
      "outputs": [
        {
          "output_type": "stream",
          "text": [
            "range(0, 30)\n",
            "[0, 1, 2, 3, 4, 5, 6, 7, 8, 9, 10, 11, 12, 13, 14, 15, 16, 17, 18, 19, 20, 21, 22, 23, 24, 25, 26, 27, 28, 29]\n"
          ],
          "name": "stdout"
        },
        {
          "output_type": "execute_result",
          "data": {
            "text/plain": [
              "[0,\n",
              " 1,\n",
              " 2,\n",
              " 3,\n",
              " 4,\n",
              " 5,\n",
              " 6,\n",
              " 7,\n",
              " 8,\n",
              " 9,\n",
              " 10,\n",
              " 11,\n",
              " 12,\n",
              " 13,\n",
              " 14,\n",
              " 15,\n",
              " 16,\n",
              " 17,\n",
              " 18,\n",
              " 19,\n",
              " 20,\n",
              " 21,\n",
              " 22,\n",
              " 23,\n",
              " 24,\n",
              " 25,\n",
              " 26,\n",
              " 27,\n",
              " 28,\n",
              " 29]"
            ]
          },
          "metadata": {
            "tags": []
          },
          "execution_count": 126
        }
      ]
    },
    {
      "cell_type": "code",
      "metadata": {
        "id": "5z5yt6EgP0CX",
        "colab_type": "code",
        "colab": {
          "base_uri": "https://localhost:8080/",
          "height": 121
        },
        "outputId": "032375e2-cbfe-4817-f642-fafdc98e6a1d"
      },
      "source": [
        "show_doc(range_of)"
      ],
      "execution_count": 120,
      "outputs": [
        {
          "output_type": "display_data",
          "data": {
            "text/markdown": "<h4 id=\"range_of\" class=\"doc_header\"><code>range_of</code><a href=\"https://github.com/fastai/fastcore/tree/master/fastcore/utils.py#L170\" class=\"source_link\" style=\"float:right\">[source]</a></h4>\n\n> <code>range_of</code>(**`x`**)\n\nAll indices of collection `x` (i.e. `list(range(len(x)))`)",
            "text/plain": [
              "<IPython.core.display.Markdown object>"
            ]
          },
          "metadata": {
            "tags": []
          }
        }
      ]
    },
    {
      "cell_type": "code",
      "metadata": {
        "id": "ccigv_ArfLGK",
        "colab_type": "code",
        "colab": {}
      },
      "source": [
        "#export\n",
        "def IndexSplitter(valid_idx):\n",
        "    \"Split `items` so that `val_idx` are in the validation set and the others in the training set\"\n",
        "    def _inner(o, **kwargs):\n",
        "        train_idx = np.setdiff1d(np.array(range_of(o)), np.array(valid_idx))\n",
        "        return L(train_idx, use_list=True), L(valid_idx, use_list=True)\n",
        "    return _inner"
      ],
      "execution_count": 50,
      "outputs": []
    },
    {
      "cell_type": "code",
      "metadata": {
        "id": "KufpeFsvfLGM",
        "colab_type": "code",
        "colab": {}
      },
      "source": [
        "items = list(range(10))\n",
        "splitter = IndexSplitter([3,7,9])\n",
        "test_eq(splitter(items),[[0,1,2,4,5,6,8],[3,7,9]])"
      ],
      "execution_count": 51,
      "outputs": []
    },
    {
      "cell_type": "code",
      "metadata": {
        "id": "phuOTFgefLGN",
        "colab_type": "code",
        "colab": {}
      },
      "source": [
        "# export\n",
        "def _grandparent_idxs(items, name):\n",
        "    def _inner(items, name): return mask2idxs(Path(o).parent.parent.name == name for o in items)\n",
        "    return [i for n in L(name) for i in _inner(items,n)]"
      ],
      "execution_count": 52,
      "outputs": []
    },
    {
      "cell_type": "markdown",
      "metadata": {
        "id": "8VH8Su_cRlLZ",
        "colab_type": "text"
      },
      "source": [
        "###**walk-note**\n",
        "With GrandparentSplitter you can look at the parent of the parent. In MNIST  that would be the path for valid or train."
      ]
    },
    {
      "cell_type": "code",
      "metadata": {
        "id": "WH0uX1klfLGP",
        "colab_type": "code",
        "colab": {}
      },
      "source": [
        "# export\n",
        "def GrandparentSplitter(train_name='train', valid_name='valid'):\n",
        "    \"Split `items` from the grand parent folder names (`train_name` and `valid_name`).\"\n",
        "    def _inner(o, **kwargs):\n",
        "        return _grandparent_idxs(o, train_name),_grandparent_idxs(o, valid_name)\n",
        "    return _inner"
      ],
      "execution_count": 53,
      "outputs": []
    },
    {
      "cell_type": "code",
      "metadata": {
        "id": "bh16YkxOfLGS",
        "colab_type": "code",
        "colab": {}
      },
      "source": [
        "fnames = [path/'train/3/9932.png', path/'valid/7/7189.png', \n",
        "          path/'valid/7/7320.png', path/'train/7/9833.png',  \n",
        "          path/'train/3/7666.png', path/'valid/3/925.png',\n",
        "          path/'train/7/724.png', path/'valid/3/93055.png']\n",
        "splitter = GrandparentSplitter()\n",
        "test_eq(splitter(fnames),[[0,3,4,6],[1,2,5,7]])"
      ],
      "execution_count": 54,
      "outputs": []
    },
    {
      "cell_type": "code",
      "metadata": {
        "id": "rmdmcF1hfLGU",
        "colab_type": "code",
        "colab": {}
      },
      "source": [
        "fnames2 = fnames + [path/'test/3/4256.png', path/'test/7/2345.png', path/'valid/7/6467.png']\n",
        "splitter = GrandparentSplitter(train_name=('train', 'valid'), valid_name='test')\n",
        "test_eq(splitter(fnames2),[[0,3,4,6,1,2,5,7,10],[8,9]])"
      ],
      "execution_count": 55,
      "outputs": []
    },
    {
      "cell_type": "code",
      "metadata": {
        "id": "urf_ms6OfLGW",
        "colab_type": "code",
        "colab": {}
      },
      "source": [
        "# export\n",
        "def FuncSplitter(func):\n",
        "    \"Split `items` by result of `func` (`True` for validation, `False` for training set).\"\n",
        "    def _inner(o, **kwargs):\n",
        "        val_idx = mask2idxs(func(o_) for o_ in o)\n",
        "        return IndexSplitter(val_idx)(o)\n",
        "    return _inner"
      ],
      "execution_count": 56,
      "outputs": []
    },
    {
      "cell_type": "code",
      "metadata": {
        "id": "dNRpbWJnfLGY",
        "colab_type": "code",
        "colab": {}
      },
      "source": [
        "splitter = FuncSplitter(lambda o: Path(o).parent.parent.name == 'valid')\n",
        "test_eq(splitter(fnames),[[0,3,4,6],[1,2,5,7]])"
      ],
      "execution_count": 57,
      "outputs": []
    },
    {
      "cell_type": "markdown",
      "metadata": {
        "id": "8wtvzHyxSvRO",
        "colab_type": "text"
      },
      "source": [
        "###**walk-note**\n",
        "\n",
        "MaskSplitter\n",
        "* Return the indices of the items for which mask has value 1\n",
        "* Return two collections, the first is a list of the indices of the items for which the mask value is False, and teh second list is the indicees of the items for which the mask is True"
      ]
    },
    {
      "cell_type": "code",
      "metadata": {
        "id": "cxcJIEAaTH_G",
        "colab_type": "code",
        "colab": {
          "base_uri": "https://localhost:8080/",
          "height": 121
        },
        "outputId": "03a07c4e-3dae-47c0-9fbb-dea986e690e9"
      },
      "source": [
        "show_doc(MaskSplitter)"
      ],
      "execution_count": 128,
      "outputs": [
        {
          "output_type": "display_data",
          "data": {
            "text/markdown": "<h4 id=\"MaskSplitter\" class=\"doc_header\"><code>MaskSplitter</code><a href=\"__main__.py#L2\" class=\"source_link\" style=\"float:right\">[source]</a></h4>\n\n> <code>MaskSplitter</code>(**`mask`**)\n\nSplit `items` depending on the value of `mask`.",
            "text/plain": [
              "<IPython.core.display.Markdown object>"
            ]
          },
          "metadata": {
            "tags": []
          }
        }
      ]
    },
    {
      "cell_type": "code",
      "metadata": {
        "id": "HbYYpF63S4wr",
        "colab_type": "code",
        "colab": {
          "base_uri": "https://localhost:8080/",
          "height": 121
        },
        "outputId": "2000d046-12e4-4569-fea8-cd01ae5926ce"
      },
      "source": [
        "show_doc(mask2idxs)"
      ],
      "execution_count": 127,
      "outputs": [
        {
          "output_type": "display_data",
          "data": {
            "text/markdown": "<h4 id=\"mask2idxs\" class=\"doc_header\"><code>mask2idxs</code><a href=\"https://github.com/fastai/fastcore/tree/master/fastcore/foundation.py#L264\" class=\"source_link\" style=\"float:right\">[source]</a></h4>\n\n> <code>mask2idxs</code>(**`mask`**)\n\nConvert bool mask or index list to index `L`",
            "text/plain": [
              "<IPython.core.display.Markdown object>"
            ]
          },
          "metadata": {
            "tags": []
          }
        }
      ]
    },
    {
      "cell_type": "code",
      "metadata": {
        "id": "3sq5pxfKfLGa",
        "colab_type": "code",
        "colab": {}
      },
      "source": [
        "# export\n",
        "def MaskSplitter(mask):\n",
        "    \"Split `items` depending on the value of `mask`.\"\n",
        "    def _inner(o, **kwargs): return IndexSplitter(mask2idxs(mask))(o)\n",
        "    return _inner"
      ],
      "execution_count": 58,
      "outputs": []
    },
    {
      "cell_type": "code",
      "metadata": {
        "id": "dJPWS4fRfLGc",
        "colab_type": "code",
        "colab": {}
      },
      "source": [
        "items = list(range(6))\n",
        "splitter = MaskSplitter([True,False,False,True,False,True])\n",
        "test_eq(splitter(items),[[1,2,4],[0,3,5]])"
      ],
      "execution_count": 59,
      "outputs": []
    },
    {
      "cell_type": "markdown",
      "metadata": {
        "id": "3uh9dOiXT1vL",
        "colab_type": "text"
      },
      "source": [
        "###**walk-note**\n",
        "\n",
        "Typo below\n",
        "\n",
        "The comment should read\n",
        "\n",
        "\n",
        "```\n",
        "\"Split `items` depending on the return value of fname\"\n",
        "```\n",
        "\n"
      ]
    },
    {
      "cell_type": "code",
      "metadata": {
        "id": "Wtx9nMjNfLGd",
        "colab_type": "code",
        "colab": {}
      },
      "source": [
        "# export\n",
        "def FileSplitter(fname):\n",
        "    \"Split `items` depending on the value of `mask`.\"\n",
        "    valid = Path(fname).read().split('\\n')\n",
        "    def _func(x): return x.name in valid\n",
        "    def _inner(o, **kwargs): return FuncSplitter(_func)(o)\n",
        "    return _inner"
      ],
      "execution_count": 134,
      "outputs": []
    },
    {
      "cell_type": "code",
      "metadata": {
        "id": "p1kjwDsgVH9c",
        "colab_type": "code",
        "colab": {
          "base_uri": "https://localhost:8080/",
          "height": 153
        },
        "outputId": "2a73db5e-2c59-4f02-b94a-f9615088945b"
      },
      "source": [
        "fnames"
      ],
      "execution_count": 140,
      "outputs": [
        {
          "output_type": "execute_result",
          "data": {
            "text/plain": [
              "[Path('/root/.fastai/data/mnist_tiny/train/3/9932.png'),\n",
              " Path('/root/.fastai/data/mnist_tiny/valid/7/7189.png'),\n",
              " Path('/root/.fastai/data/mnist_tiny/valid/7/7320.png'),\n",
              " Path('/root/.fastai/data/mnist_tiny/train/7/9833.png'),\n",
              " Path('/root/.fastai/data/mnist_tiny/train/3/7666.png'),\n",
              " Path('/root/.fastai/data/mnist_tiny/valid/3/925.png'),\n",
              " Path('/root/.fastai/data/mnist_tiny/train/7/724.png'),\n",
              " Path('/root/.fastai/data/mnist_tiny/valid/3/93055.png')]"
            ]
          },
          "metadata": {
            "tags": []
          },
          "execution_count": 140
        }
      ]
    },
    {
      "cell_type": "markdown",
      "metadata": {
        "id": "nPV3E8CMU89N",
        "colab_type": "text"
      },
      "source": [
        "###**walk-note** \n",
        "Read a txt file where each line is the name of a file"
      ]
    },
    {
      "cell_type": "code",
      "metadata": {
        "id": "ArfgLDtDfLGg",
        "colab_type": "code",
        "colab": {}
      },
      "source": [
        "with tempfile.TemporaryDirectory() as d:\n",
        "    fname = Path(d)/'valid.txt'\n",
        "    fname.write('\\n'.join([Path(fnames[i]).name for i in [1,3,4]]))\n",
        "    splitter = FileSplitter(fname)\n",
        "    test_eq(splitter(fnames),[[0,2,5,6,7],[1,3,4]])"
      ],
      "execution_count": 132,
      "outputs": []
    },
    {
      "cell_type": "markdown",
      "metadata": {
        "id": "E4ItKZW1SRFJ",
        "colab_type": "text"
      },
      "source": [
        "###**walk-note**\n",
        "\n",
        "* Notice we return the indices of items for which the column *is\\_valid* is True\n",
        "* In cases we have a pre-determined validation test, so you do not want to select it randomly but identify it"
      ]
    },
    {
      "cell_type": "code",
      "metadata": {
        "id": "DEGji9njfLGh",
        "colab_type": "code",
        "colab": {}
      },
      "source": [
        "# export\n",
        "def ColSplitter(col='is_valid'):\n",
        "    \"Split `items` (supposed to be a dataframe) by value in `col`\"\n",
        "    def _inner(o, **kwargs):\n",
        "        assert isinstance(o, pd.DataFrame), \"ColSplitter only works when your items are a pandas DataFrame\"\n",
        "        valid_idx = (o.iloc[:,col] if isinstance(col, int) else o[col]).values\n",
        "        return IndexSplitter(mask2idxs(valid_idx))(o)\n",
        "    return _inner"
      ],
      "execution_count": 62,
      "outputs": []
    },
    {
      "cell_type": "code",
      "metadata": {
        "id": "7Jm03lwWfLGk",
        "colab_type": "code",
        "colab": {}
      },
      "source": [
        "df = pd.DataFrame({'a': [0,1,2,3,4], 'b': [True,False,True,True,False]})\n",
        "splits = ColSplitter('b')(df)\n",
        "test_eq(splits, [[1,4], [0,2,3]])\n",
        "#Works with strings or index\n",
        "splits = ColSplitter(1)(df)\n",
        "test_eq(splits, [[1,4], [0,2,3]])"
      ],
      "execution_count": 63,
      "outputs": []
    },
    {
      "cell_type": "markdown",
      "metadata": {
        "id": "78UsRjginEGF",
        "colab_type": "text"
      },
      "source": [
        "\n",
        "Take a small subset of data, and the randomly select train/validation from it"
      ]
    },
    {
      "cell_type": "code",
      "metadata": {
        "id": "NpVK2JvHfLGm",
        "colab_type": "code",
        "colab": {}
      },
      "source": [
        "# export\n",
        "def RandomSubsetSplitter(train_sz, valid_sz, seed=None):\n",
        "    \"Take randoms subsets of `splits` with `train_sz` and `valid_sz`\"\n",
        "    assert 0 < train_sz < 1\n",
        "    assert 0 < valid_sz < 1\n",
        "    assert train_sz + valid_sz <= 1.\n",
        "\n",
        "    def _inner(o, **kwargs):\n",
        "        if seed is not None: torch.manual_seed(seed)\n",
        "        train_len,valid_len = int(len(o)*train_sz),int(len(o)*valid_sz)\n",
        "        idxs = L(int(i) for i in torch.randperm(len(o)))\n",
        "        return idxs[:train_len],idxs[train_len:train_len+valid_len]\n",
        "    return _inner"
      ],
      "execution_count": 64,
      "outputs": []
    },
    {
      "cell_type": "code",
      "metadata": {
        "id": "iAYW8PP6fLGp",
        "colab_type": "code",
        "colab": {}
      },
      "source": [
        "items = list(range(100))\n",
        "valid_idx = list(np.arange(70,100))\n",
        "splits = RandomSubsetSplitter(0.3, 0.1)(items)\n",
        "test_eq(len(splits[0]), 30)\n",
        "test_eq(len(splits[1]), 10)"
      ],
      "execution_count": 158,
      "outputs": []
    },
    {
      "cell_type": "code",
      "metadata": {
        "id": "gnpe0lcBmTBS",
        "colab_type": "code",
        "colab": {
          "base_uri": "https://localhost:8080/",
          "height": 527
        },
        "outputId": "1edfa714-3c88-4989-a933-6f96447c6cdd"
      },
      "source": [
        "valid_idx"
      ],
      "execution_count": 164,
      "outputs": [
        {
          "output_type": "execute_result",
          "data": {
            "text/plain": [
              "[70,\n",
              " 71,\n",
              " 72,\n",
              " 73,\n",
              " 74,\n",
              " 75,\n",
              " 76,\n",
              " 77,\n",
              " 78,\n",
              " 79,\n",
              " 80,\n",
              " 81,\n",
              " 82,\n",
              " 83,\n",
              " 84,\n",
              " 85,\n",
              " 86,\n",
              " 87,\n",
              " 88,\n",
              " 89,\n",
              " 90,\n",
              " 91,\n",
              " 92,\n",
              " 93,\n",
              " 94,\n",
              " 95,\n",
              " 96,\n",
              " 97,\n",
              " 98,\n",
              " 99]"
            ]
          },
          "metadata": {
            "tags": []
          },
          "execution_count": 164
        }
      ]
    },
    {
      "cell_type": "code",
      "metadata": {
        "id": "8sgVeEtBmbkb",
        "colab_type": "code",
        "colab": {
          "base_uri": "https://localhost:8080/",
          "height": 34
        },
        "outputId": "48334e41-1d55-416c-ad3d-19b44189c410"
      },
      "source": [
        "splits[1]"
      ],
      "execution_count": 161,
      "outputs": [
        {
          "output_type": "execute_result",
          "data": {
            "text/plain": [
              "(#10) [25,87,35,1,40,85,28,17,33,9]"
            ]
          },
          "metadata": {
            "tags": []
          },
          "execution_count": 161
        }
      ]
    },
    {
      "cell_type": "markdown",
      "metadata": {
        "id": "R7jccqBnfLGr",
        "colab_type": "text"
      },
      "source": [
        "### Label"
      ]
    },
    {
      "cell_type": "markdown",
      "metadata": {
        "id": "yQCD3-c5fLGr",
        "colab_type": "text"
      },
      "source": [
        "The final set of functions is used to *label* a single item of data."
      ]
    },
    {
      "cell_type": "code",
      "metadata": {
        "id": "lwRb8c_ufLGs",
        "colab_type": "code",
        "colab": {}
      },
      "source": [
        "# export\n",
        "def parent_label(o, **kwargs):\n",
        "    \"Label `item` with the parent folder name.\"\n",
        "    return Path(o).parent.name"
      ],
      "execution_count": 66,
      "outputs": []
    },
    {
      "cell_type": "markdown",
      "metadata": {
        "id": "b0Me1j2bfLGv",
        "colab_type": "text"
      },
      "source": [
        "Note that `parent_label` doesn't have anything customize, so it doesn't return a function - you can just use it directly."
      ]
    },
    {
      "cell_type": "code",
      "metadata": {
        "id": "7n7xdBzOfLGv",
        "colab_type": "code",
        "colab": {
          "base_uri": "https://localhost:8080/",
          "height": 34
        },
        "outputId": "8c906da4-a770-411b-863d-5ed200e8d399"
      },
      "source": [
        "test_eq(parent_label(fnames[0]), '3')\n",
        "test_eq(parent_label(\"fastai_dev/dev/data/mnist_tiny/train/3/9932.png\"), '3')\n",
        "[parent_label(o) for o in fnames]"
      ],
      "execution_count": 67,
      "outputs": [
        {
          "output_type": "execute_result",
          "data": {
            "text/plain": [
              "['3', '7', '7', '7', '3', '3', '7', '3']"
            ]
          },
          "metadata": {
            "tags": []
          },
          "execution_count": 67
        }
      ]
    },
    {
      "cell_type": "code",
      "metadata": {
        "id": "GDsxCtJhfLGx",
        "colab_type": "code",
        "colab": {}
      },
      "source": [
        "#hide\n",
        "#test for MS Windows when os.path.sep is '\\\\' instead of '/'\n",
        "test_eq(parent_label(os.path.join(\"fastai_dev\",\"dev\",\"data\",\"mnist_tiny\",\"train\", \"3\", \"9932.png\") ), '3')"
      ],
      "execution_count": 68,
      "outputs": []
    },
    {
      "cell_type": "markdown",
      "metadata": {
        "id": "GqmrNCNKePi4",
        "colab_type": "text"
      },
      "source": [
        "###**walk-note**\n",
        "\n",
        "* Why create an ER function, why not rewrite it every time?\n",
        "  * because it does the setup of the compile of the pattern and you only need to specify the expression"
      ]
    },
    {
      "cell_type": "code",
      "metadata": {
        "id": "fzHK8jVxfLG0",
        "colab_type": "code",
        "colab": {}
      },
      "source": [
        "# export\n",
        "class RegexLabeller():\n",
        "    \"Label `item` with regex `pat`.\"\n",
        "    def __init__(self, pat, match=False):\n",
        "        self.pat = re.compile(pat)\n",
        "        self.matcher = self.pat.match if match else self.pat.search\n",
        "\n",
        "    def __call__(self, o, **kwargs):\n",
        "        res = self.matcher(str(o))\n",
        "        assert res,f'Failed to find \"{self.pat}\" in \"{o}\"'\n",
        "        return res.group(1)"
      ],
      "execution_count": 69,
      "outputs": []
    },
    {
      "cell_type": "markdown",
      "metadata": {
        "id": "anKbDCiyfLG3",
        "colab_type": "text"
      },
      "source": [
        "`RegexLabeller` is a very flexible function since it handles any regex search of the stringified item. Pass `match=True` to use `re.match` (i.e. check only start of string), or `re.search` otherwise (default).\n",
        "\n",
        "For instance, here's an example the replicates the previous `parent_label` results."
      ]
    },
    {
      "cell_type": "markdown",
      "metadata": {
        "id": "2Zme1zkUBB13",
        "colab_type": "text"
      },
      "source": [
        "###***walk-note*** [f-strings](https://www.python.org/dev/peps/pep-0498/)\n",
        "\n",
        "str.format()\n",
        "```\n",
        "'The value is {}.'.format(value)\n",
        "'The value is 80.'\n",
        "```\n",
        "With an **f-string**, this becomes:\n",
        "\n",
        "```\n",
        "f'The value is {value}.'\n",
        "'The value is 80.'\n",
        "```\n",
        "f-strings are string literals that are prefixed by the letter 'f' or 'F'. 'f' may be combined with 'r' or 'R', in either order, to produce raw f-string literals\n",
        "\n",
        "Python raw string is created by prefixing a string literal with ‘r’ or ‘R’. Python raw string treats backslash (\\) as a literal character. This is useful when we want to have a string that contains backslash and don’t want it to be treated as an escape character."
      ]
    },
    {
      "cell_type": "code",
      "metadata": {
        "id": "wnSxyDIkfLG3",
        "colab_type": "code",
        "colab": {
          "base_uri": "https://localhost:8080/",
          "height": 34
        },
        "outputId": "a1faf5eb-57cf-4f0e-987d-c6c43d97fe90"
      },
      "source": [
        "f = RegexLabeller(fr'{os.path.sep}(\\d){os.path.sep}')\n",
        "test_eq(f(fnames[0]), '3')\n",
        "[f(o) for o in fnames]"
      ],
      "execution_count": 70,
      "outputs": [
        {
          "output_type": "execute_result",
          "data": {
            "text/plain": [
              "['3', '7', '7', '7', '3', '3', '7', '3']"
            ]
          },
          "metadata": {
            "tags": []
          },
          "execution_count": 70
        }
      ]
    },
    {
      "cell_type": "code",
      "metadata": {
        "id": "l7I21LO1fLG6",
        "colab_type": "code",
        "colab": {}
      },
      "source": [
        "f = RegexLabeller(r'(\\d*)', match=True)\n",
        "test_eq(f(fnames[0].name), '9932')"
      ],
      "execution_count": 71,
      "outputs": []
    },
    {
      "cell_type": "markdown",
      "metadata": {
        "id": "vypSW8o3D7cj",
        "colab_type": "text"
      },
      "source": [
        "###**walk-note**  [store_attr](https://fastcore.fast.ai/utils#store_attr)\n",
        "\n",
        "```\n",
        "store_attr(self, 'suff,label_delim')\n",
        "```\n",
        "Store params named in comma-separated nms from calling context into attrs in self.\n",
        "\n",
        "In this example it saves two parameters in just one line. Equivalent to:\n",
        "```\n",
        "self.suff=suff\n",
        "self.label_delim=label_delim\n",
        "```\n",
        "\n"
      ]
    },
    {
      "cell_type": "code",
      "metadata": {
        "id": "GZuicxc2fLG8",
        "colab_type": "code",
        "colab": {}
      },
      "source": [
        "#export\n",
        "class ColReader():\n",
        "    \"Read `cols` in `row` with potential `pref` and `suff`\"\n",
        "    def __init__(self, cols, pref='', suff='', label_delim=None):\n",
        "        store_attr(self, 'suff,label_delim')\n",
        "        self.pref = str(pref) + os.path.sep if isinstance(pref, Path) else pref\n",
        "        self.cols = L(cols)\n",
        "\n",
        "    def _do_one(self, r, c):\n",
        "        o = r[c] if isinstance(c, int) else r[c] if c=='name' else getattr(r, c)\n",
        "        if len(self.pref)==0 and len(self.suff)==0 and self.label_delim is None: return o\n",
        "        if self.label_delim is None: return f'{self.pref}{o}{self.suff}'\n",
        "        else: return o.split(self.label_delim) if len(o)>0 else []\n",
        "\n",
        "    def __call__(self, o, **kwargs): \n",
        "        if len(self.cols) == 1: return self._do_one(o, self.cols[0])\n",
        "        return L(self._do_one(o, c) for c in self.cols)"
      ],
      "execution_count": 72,
      "outputs": []
    },
    {
      "cell_type": "markdown",
      "metadata": {
        "id": "GRYTLrQufLG9",
        "colab_type": "text"
      },
      "source": [
        "`cols` can be a list of column names or a list of indices (or a mix of both). If `label_delim` is passed, the result is split using it."
      ]
    },
    {
      "cell_type": "code",
      "metadata": {
        "id": "J185ChtufLG9",
        "colab_type": "code",
        "colab": {}
      },
      "source": [
        "df = pd.DataFrame({'a': 'a b c d'.split(), 'b': ['1 2', '0', '', '1 2 3']})\n",
        "f = ColReader('a', pref='0', suff='1')\n",
        "test_eq([f(o) for o in df.itertuples()], '0a1 0b1 0c1 0d1'.split())\n",
        "\n",
        "f = ColReader('b', label_delim=' ')\n",
        "test_eq([f(o) for o in df.itertuples()], [['1', '2'], ['0'], [], ['1', '2', '3']])\n",
        "\n",
        "df['a1'] = df['a']\n",
        "f = ColReader(['a', 'a1'], pref='0', suff='1')\n",
        "test_eq([f(o) for o in df.itertuples()], [L('0a1', '0a1'), L('0b1', '0b1'), L('0c1', '0c1'), L('0d1', '0d1')])\n",
        "\n",
        "df = pd.DataFrame({'a': [L(0,1), L(2,3,4), L(5,6,7)]})\n",
        "f = ColReader('a')\n",
        "test_eq([f(o) for o in df.itertuples()], [L(0,1), L(2,3,4), L(5,6,7)])\n",
        "\n",
        "df['name'] = df['a']\n",
        "f = ColReader('name')\n",
        "test_eq([f(df.iloc[0,:])], [L(0,1)])"
      ],
      "execution_count": 73,
      "outputs": []
    },
    {
      "cell_type": "markdown",
      "metadata": {
        "id": "4HebQ3JnfLG_",
        "colab_type": "text"
      },
      "source": [
        "## Categorize -"
      ]
    },
    {
      "cell_type": "markdown",
      "metadata": {
        "id": "h2i2c0U-GuBe",
        "colab_type": "text"
      },
      "source": [
        "###**walk-note** [L lists](https://towardsdatascience.com/upgrading-python-lists-35440096ec36)\n",
        "\n",
        "L are the fastai version of lists. It can do everything that a Python list can do and much more."
      ]
    },
    {
      "cell_type": "code",
      "metadata": {
        "id": "_LLnH3W1HyV6",
        "colab_type": "code",
        "colab": {
          "base_uri": "https://localhost:8080/",
          "height": 34
        },
        "outputId": "8a6dcbbb-cffa-4f9d-c69e-d2219f583558"
      },
      "source": [
        "# walk-note\n",
        "a = L([1,2,3])\n",
        "a += [4,5]\n",
        "a"
      ],
      "execution_count": 74,
      "outputs": [
        {
          "output_type": "execute_result",
          "data": {
            "text/plain": [
              "(#5) [1,2,3,4,5]"
            ]
          },
          "metadata": {
            "tags": []
          },
          "execution_count": 74
        }
      ]
    },
    {
      "cell_type": "markdown",
      "metadata": {
        "id": "pqzoGA1qY-07",
        "colab_type": "text"
      },
      "source": [
        "###**walk-note** CategoryMap\n",
        "* uses the fastcore object L (which is an improved collection)\n",
        "* the object L has the method val2idx\n"
      ]
    },
    {
      "cell_type": "code",
      "metadata": {
        "id": "Odpi4Zh1Z7CG",
        "colab_type": "code",
        "colab": {
          "base_uri": "https://localhost:8080/",
          "height": 121
        },
        "outputId": "6331e597-8b51-4a52-8747-7d925d5eae82"
      },
      "source": [
        "show_doc(L.val2idx)"
      ],
      "execution_count": 141,
      "outputs": [
        {
          "output_type": "display_data",
          "data": {
            "text/markdown": "<h4 id=\"L.val2idx\" class=\"doc_header\"><code>L.val2idx</code><a href=\"https://github.com/fastai/fastcore/tree/master/fastcore/foundation.py#L391\" class=\"source_link\" style=\"float:right\">[source]</a></h4>\n\n> <code>L.val2idx</code>()\n\nDict from value to index",
            "text/plain": [
              "<IPython.core.display.Markdown object>"
            ]
          },
          "metadata": {
            "tags": []
          }
        }
      ]
    },
    {
      "cell_type": "markdown",
      "metadata": {
        "id": "qYGwm1sxZR8N",
        "colab_type": "text"
      },
      "source": [
        "###**walk-note** o==o\n",
        "* cool way to detect non-Nan objects\n"
      ]
    },
    {
      "cell_type": "markdown",
      "metadata": {
        "id": "MYkOHC8wae6H",
        "colab_type": "text"
      },
      "source": [
        "###**walk-note** defaultdict\n",
        "\n",
        "* int in here tells it to use the default value of int, in this case nan is 0\n"
      ]
    },
    {
      "cell_type": "code",
      "metadata": {
        "id": "ysgrJ0sFfLG_",
        "colab_type": "code",
        "colab": {}
      },
      "source": [
        "#export\n",
        "class CategoryMap(CollBase):\n",
        "    \"Collection of categories with the reverse mapping in `o2i`\"\n",
        "    def __init__(self, col, sort=True, add_na=False, strict=False):\n",
        "        if is_categorical_dtype(col): \n",
        "            items = L(col.cat.categories, use_list=True)\n",
        "            #Remove non-used categories while keeping order\n",
        "            if strict: items = L(o for o in items if o in col.unique())\n",
        "        else:\n",
        "            if not hasattr(col,'unique'): col = L(col, use_list=True)\n",
        "            # `o==o` is the generalized definition of non-NaN used by Pandas\n",
        "            items = L(o for o in col.unique() if o==o)\n",
        "            if sort: items = items.sorted()\n",
        "        self.items = '#na#' + items if add_na else items\n",
        "        self.o2i = defaultdict(int, self.items.val2idx()) if add_na else dict(self.items.val2idx())\n",
        "    def __eq__(self,b): return all_equal(b,self)"
      ],
      "execution_count": 75,
      "outputs": []
    },
    {
      "cell_type": "code",
      "metadata": {
        "id": "HYiFBy3JfLHC",
        "colab_type": "code",
        "colab": {}
      },
      "source": [
        "t = CategoryMap([4,2,3,4])\n",
        "test_eq(t, [2,3,4])\n",
        "test_eq(t.o2i, {2:0,3:1,4:2})\n",
        "test_fail(lambda: t.o2i['unseen label'])"
      ],
      "execution_count": 76,
      "outputs": []
    },
    {
      "cell_type": "code",
      "metadata": {
        "id": "w_ZXIFVufLHD",
        "colab_type": "code",
        "colab": {}
      },
      "source": [
        "t = CategoryMap([4,2,3,4], add_na=True)\n",
        "test_eq(t, ['#na#',2,3,4])\n",
        "test_eq(t.o2i, {'#na#':0,2:1,3:2,4:3})"
      ],
      "execution_count": 77,
      "outputs": []
    },
    {
      "cell_type": "code",
      "metadata": {
        "id": "vIecqa3afLHH",
        "colab_type": "code",
        "colab": {}
      },
      "source": [
        "t = CategoryMap(pd.Series([4,2,3,4]), sort=False)\n",
        "test_eq(t, [4,2,3])\n",
        "test_eq(t.o2i, {4:0,2:1,3:2})"
      ],
      "execution_count": 78,
      "outputs": []
    },
    {
      "cell_type": "code",
      "metadata": {
        "id": "Er2McLw9fLHK",
        "colab_type": "code",
        "colab": {}
      },
      "source": [
        "col = pd.Series(pd.Categorical(['M','H','L','M'], categories=['H','M','L'], ordered=True))\n",
        "t = CategoryMap(col)\n",
        "test_eq(t, ['H','M','L'])\n",
        "test_eq(t.o2i, {'H':0,'M':1,'L':2})"
      ],
      "execution_count": 79,
      "outputs": []
    },
    {
      "cell_type": "code",
      "metadata": {
        "id": "m7zb0rZFfLHM",
        "colab_type": "code",
        "colab": {}
      },
      "source": [
        "col = pd.Series(pd.Categorical(['M','H','M'], categories=['H','M','L'], ordered=True))\n",
        "t = CategoryMap(col, strict=True)\n",
        "test_eq(t, ['H','M'])\n",
        "test_eq(t.o2i, {'H':0,'M':1})"
      ],
      "execution_count": 80,
      "outputs": []
    },
    {
      "cell_type": "markdown",
      "metadata": {
        "id": "y3Wo4lxZX5Os",
        "colab_type": "text"
      },
      "source": [
        "###**walk-note** Categorize\n",
        "\n",
        "* uses store_attr (explained above in another walk-note)\n",
        "* notice *setup* \n",
        "  * you can pass it the vocab or *setup* generates it automatically\n",
        "  \n",
        "* it sets the *loss\\_function* to CrossEntropyLossFlat automatically (this is how this loss is automatically set for category problem)\n",
        "\n",
        "* it sets the default order to 1\n",
        "\n",
        "decodes returns Category which is a tiny class that inherits from ShowTitle and this simply has a show-method."
      ]
    },
    {
      "cell_type": "code",
      "metadata": {
        "id": "i1PbcMGVfDMU",
        "colab_type": "code",
        "colab": {
          "base_uri": "https://localhost:8080/",
          "height": 185
        },
        "outputId": "eca26cdc-456b-49c0-b94e-a4cf0d0c71e2"
      },
      "source": [
        "show_doc(Category)"
      ],
      "execution_count": 150,
      "outputs": [
        {
          "output_type": "display_data",
          "data": {
            "text/markdown": "<h2 id=\"Category\" class=\"doc_header\"><code>class</code> <code>Category</code><a href=\"\" class=\"source_link\" style=\"float:right\">[source]</a></h2>\n\n> <code>Category</code>() :: `str`\n\nstr(object='') -> str\nstr(bytes_or_buffer[, encoding[, errors]]) -> str\n\nCreate a new string object from the given object. If encoding or\nerrors is specified, then the object must expose a data buffer\nthat will be decoded using the given encoding and error handler.\nOtherwise, returns the result of object.__str__() (if defined)\nor repr(object).\nencoding defaults to sys.getdefaultencoding().\nerrors defaults to 'strict'.",
            "text/plain": [
              "<IPython.core.display.Markdown object>"
            ]
          },
          "metadata": {
            "tags": []
          }
        }
      ]
    },
    {
      "cell_type": "code",
      "metadata": {
        "id": "aIE-aXgWfLHP",
        "colab_type": "code",
        "colab": {}
      },
      "source": [
        "#export\n",
        "class Category(str, ShowTitle): _show_args = {'label': 'category'}"
      ],
      "execution_count": 152,
      "outputs": []
    },
    {
      "cell_type": "code",
      "metadata": {
        "id": "MwuxbNTnfLHO",
        "colab_type": "code",
        "colab": {}
      },
      "source": [
        "# export\n",
        "class Categorize(Transform):\n",
        "    \"Reversible transform of category string to `vocab` id\"\n",
        "    loss_func,order=CrossEntropyLossFlat(),1\n",
        "    def __init__(self, vocab=None, sort=True, add_na=False):\n",
        "        store_attr(self, 'add_na,sort')\n",
        "        self.vocab = None if vocab is None else CategoryMap(vocab, sort=sort, add_na=add_na)\n",
        "\n",
        "    def setups(self, dsets):\n",
        "        if self.vocab is None and dsets is not None: self.vocab = CategoryMap(dsets, sort=self.sort, add_na=self.add_na)\n",
        "        self.c = len(self.vocab)\n",
        "\n",
        "    def encodes(self, o): return TensorCategory(self.vocab.o2i[o])\n",
        "    def decodes(self, o): return Category      (self.vocab    [o])"
      ],
      "execution_count": 153,
      "outputs": []
    },
    {
      "cell_type": "code",
      "metadata": {
        "id": "Tvme_sQDfLHQ",
        "colab_type": "code",
        "colab": {}
      },
      "source": [
        "cat = Categorize()\n",
        "tds = Datasets(['cat', 'dog', 'cat'], tfms=[cat])\n",
        "test_eq(cat.vocab, ['cat', 'dog'])\n",
        "test_eq(cat('cat'), 0)\n",
        "test_eq(cat.decode(1), 'dog')\n",
        "test_stdout(lambda: show_at(tds,2), 'cat')"
      ],
      "execution_count": 165,
      "outputs": []
    },
    {
      "cell_type": "code",
      "metadata": {
        "id": "RVEFxI-Ppnth",
        "colab_type": "code",
        "colab": {
          "base_uri": "https://localhost:8080/",
          "height": 34
        },
        "outputId": "d2c2432e-8a3e-4f48-a433-daf41d675674"
      },
      "source": [
        "cat.vocab"
      ],
      "execution_count": 166,
      "outputs": [
        {
          "output_type": "execute_result",
          "data": {
            "text/plain": [
              "(#2) ['cat','dog']"
            ]
          },
          "metadata": {
            "tags": []
          },
          "execution_count": 166
        }
      ]
    },
    {
      "cell_type": "code",
      "metadata": {
        "id": "08JJ1GEIfLHS",
        "colab_type": "code",
        "colab": {}
      },
      "source": [
        "cat = Categorize(add_na=True)\n",
        "tds = Datasets(['cat', 'dog', 'cat'], tfms=[cat])\n",
        "test_eq(cat.vocab, ['#na#', 'cat', 'dog'])\n",
        "test_eq(cat('cat'), 1)\n",
        "test_eq(cat.decode(2), 'dog')\n",
        "test_stdout(lambda: show_at(tds,2), 'cat')"
      ],
      "execution_count": 84,
      "outputs": []
    },
    {
      "cell_type": "code",
      "metadata": {
        "id": "LU8L1pT9fLHU",
        "colab_type": "code",
        "colab": {}
      },
      "source": [
        "cat = Categorize(vocab=['dog', 'cat'], sort=False, add_na=True)\n",
        "tds = Datasets(['cat', 'dog', 'cat'], tfms=[cat])\n",
        "test_eq(cat.vocab, ['#na#', 'dog', 'cat'])\n",
        "test_eq(cat('dog'), 1)\n",
        "test_eq(cat.decode(2), 'cat')\n",
        "test_stdout(lambda: show_at(tds,2), 'cat')"
      ],
      "execution_count": 85,
      "outputs": []
    },
    {
      "cell_type": "markdown",
      "metadata": {
        "id": "JCeD5pPSfLHW",
        "colab_type": "text"
      },
      "source": [
        "## Multicategorize -"
      ]
    },
    {
      "cell_type": "markdown",
      "metadata": {
        "id": "VkWyoaYXbSpC",
        "colab_type": "text"
      },
      "source": [
        "###**walk-note** Multicategorize\n",
        "\n",
        "* loss_func = BCEWithLogitsLossFlat()\n",
        "* every item has a list of labels\n"
      ]
    },
    {
      "cell_type": "code",
      "metadata": {
        "id": "OPD5bxmdfLHW",
        "colab_type": "code",
        "colab": {}
      },
      "source": [
        "# export\n",
        "class MultiCategorize(Categorize):\n",
        "    \"Reversible transform of multi-category strings to `vocab` id\"\n",
        "    loss_func,order=BCEWithLogitsLossFlat(),1\n",
        "    def __init__(self, vocab=None, add_na=False):\n",
        "        self.add_na = add_na\n",
        "        self.vocab = None if vocab is None else CategoryMap(vocab, add_na=add_na)\n",
        "\n",
        "    def setups(self, dsets):\n",
        "        if not dsets: return\n",
        "        if self.vocab is None:\n",
        "            vals = set()\n",
        "            for b in dsets: vals = vals.union(set(b))\n",
        "            self.vocab = CategoryMap(list(vals), add_na=self.add_na)\n",
        "\n",
        "    def encodes(self, o): return TensorMultiCategory([self.vocab.o2i[o_] for o_ in o])\n",
        "    def decodes(self, o): return MultiCategory      ([self.vocab    [o_] for o_ in o])"
      ],
      "execution_count": 86,
      "outputs": []
    },
    {
      "cell_type": "markdown",
      "metadata": {
        "id": "SzYz-CoVf017",
        "colab_type": "text"
      },
      "source": [
        "###**walk-note**\n",
        "show method for MultiCategory is a bit different as well because we have multiple things to show. Therefore we use this string joint in python sep.join(self.map(str)"
      ]
    },
    {
      "cell_type": "code",
      "metadata": {
        "id": "QOc-K0kIfLHX",
        "colab_type": "code",
        "colab": {}
      },
      "source": [
        "#export\n",
        "class MultiCategory(L):\n",
        "    def show(self, ctx=None, sep=';', color='black', **kwargs):\n",
        "        return show_title(sep.join(self.map(str)), ctx=ctx, color=color, **kwargs)"
      ],
      "execution_count": 87,
      "outputs": []
    },
    {
      "cell_type": "code",
      "metadata": {
        "id": "vu2XxQM5gBgl",
        "colab_type": "code",
        "colab": {}
      },
      "source": [
        "###**walk-note**"
      ],
      "execution_count": null,
      "outputs": []
    },
    {
      "cell_type": "code",
      "metadata": {
        "id": "D1Z4ETdXfLHZ",
        "colab_type": "code",
        "colab": {}
      },
      "source": [
        "cat = MultiCategorize()\n",
        "tds = Datasets([['b', 'c'], ['a'], ['a', 'c'], []], tfms=[cat])\n",
        "test_eq(tds[3][0], TensorMultiCategory([]))\n",
        "test_eq(cat.vocab, ['a', 'b', 'c'])\n",
        "test_eq(cat(['a', 'c']), tensor([0,2]))\n",
        "test_eq(cat([]), tensor([]))\n",
        "test_eq(cat.decode([1]), ['b'])\n",
        "test_eq(cat.decode([0,2]), ['a', 'c'])\n",
        "test_stdout(lambda: show_at(tds,2), 'a;c')"
      ],
      "execution_count": 88,
      "outputs": []
    },
    {
      "cell_type": "code",
      "metadata": {
        "id": "GOFeT71trcYY",
        "colab_type": "code",
        "colab": {
          "base_uri": "https://localhost:8080/",
          "height": 34
        },
        "outputId": "4bb13fa9-0545-4afd-c233-8b85955a51a9"
      },
      "source": [
        "tds[2][0].item()"
      ],
      "execution_count": 174,
      "outputs": [
        {
          "output_type": "execute_result",
          "data": {
            "text/plain": [
              "0"
            ]
          },
          "metadata": {
            "tags": []
          },
          "execution_count": 174
        }
      ]
    },
    {
      "cell_type": "code",
      "metadata": {
        "id": "eIXVlbdvfLHb",
        "colab_type": "code",
        "colab": {}
      },
      "source": [
        "# export\n",
        "class OneHotEncode(Transform):\n",
        "    \"One-hot encodes targets\"\n",
        "    order=2\n",
        "    def __init__(self, c=None): self.c = c\n",
        "\n",
        "    def setups(self, dsets):\n",
        "        if self.c is None: self.c = len(L(getattr(dsets, 'vocab', None)))\n",
        "        if not self.c: warn(\"Couldn't infer the number of classes, please pass a value for `c` at init\")\n",
        "\n",
        "    def encodes(self, o): return TensorMultiCategory(one_hot(o, self.c).float())\n",
        "    def decodes(self, o): return one_hot_decode(o, None)"
      ],
      "execution_count": 89,
      "outputs": []
    },
    {
      "cell_type": "markdown",
      "metadata": {
        "id": "VCWmuNWBfLHc",
        "colab_type": "text"
      },
      "source": [
        "Works in conjunction with ` MultiCategorize` or on its own if you have one-hot encoded targets (pass a `vocab` for decoding and `do_encode=False` in this case)"
      ]
    },
    {
      "cell_type": "code",
      "metadata": {
        "id": "Q4PBwbFdfLHc",
        "colab_type": "code",
        "colab": {}
      },
      "source": [
        "_tfm = OneHotEncode(c=3)\n",
        "test_eq(_tfm([0,2]), tensor([1.,0,1]))\n",
        "test_eq(_tfm.decode(tensor([0,1,1])), [1,2])"
      ],
      "execution_count": 90,
      "outputs": []
    },
    {
      "cell_type": "code",
      "metadata": {
        "id": "_ZPIEuaVfLHd",
        "colab_type": "code",
        "colab": {}
      },
      "source": [
        "tds = Datasets([['b', 'c'], ['a'], ['a', 'c'], []], [[MultiCategorize(), OneHotEncode()]])\n",
        "test_eq(tds[1], [tensor([1.,0,0])])\n",
        "test_eq(tds[3], [tensor([0.,0,0])])\n",
        "test_eq(tds.decode([tensor([False, True, True])]), [['b','c']])\n",
        "test_eq(type(tds[1][0]), TensorMultiCategory)\n",
        "test_stdout(lambda: show_at(tds,2), 'a;c')"
      ],
      "execution_count": 91,
      "outputs": []
    },
    {
      "cell_type": "code",
      "metadata": {
        "id": "pW8uSui3tZiT",
        "colab_type": "code",
        "colab": {}
      },
      "source": [
        "['c']\n",
        "[2]\n",
        "[0,0,1]\n"
      ],
      "execution_count": null,
      "outputs": []
    },
    {
      "cell_type": "code",
      "metadata": {
        "id": "9GrXCozSfLHe",
        "colab_type": "code",
        "colab": {}
      },
      "source": [
        "#hide\n",
        "#test with passing the vocab\n",
        "tds = Datasets([['b', 'c'], ['a'], ['a', 'c'], []], [[MultiCategorize(vocab=['a', 'b', 'c']), OneHotEncode()]])\n",
        "test_eq(tds[1], [tensor([1.,0,0])])\n",
        "test_eq(tds[3], [tensor([0.,0,0])])\n",
        "test_eq(tds.decode([tensor([False, True, True])]), [['b','c']])\n",
        "test_eq(type(tds[1][0]), TensorMultiCategory)\n",
        "test_stdout(lambda: show_at(tds,2), 'a;c')"
      ],
      "execution_count": 92,
      "outputs": []
    },
    {
      "cell_type": "code",
      "metadata": {
        "id": "BaeO02wyfLHg",
        "colab_type": "code",
        "colab": {}
      },
      "source": [
        "# export\n",
        "class EncodedMultiCategorize(Categorize):\n",
        "    \"Transform of one-hot encoded multi-category that decodes with `vocab`\"\n",
        "    loss_func,order=BCEWithLogitsLossFlat(),1\n",
        "    def __init__(self, vocab): self.vocab,self.c = vocab,len(vocab)\n",
        "    def encodes(self, o): return TensorMultiCategory(tensor(o).float())\n",
        "    def decodes(self, o): return MultiCategory (one_hot_decode(o, self.vocab))"
      ],
      "execution_count": 93,
      "outputs": []
    },
    {
      "cell_type": "code",
      "metadata": {
        "id": "1Nm9CvBBfLHi",
        "colab_type": "code",
        "colab": {}
      },
      "source": [
        "_tfm = EncodedMultiCategorize(vocab=['a', 'b', 'c'])\n",
        "test_eq(_tfm([1,0,1]), tensor([1., 0., 1.]))\n",
        "test_eq(type(_tfm([1,0,1])), TensorMultiCategory)\n",
        "test_eq(_tfm.decode(tensor([False, True, True])), ['b','c'])"
      ],
      "execution_count": 94,
      "outputs": []
    },
    {
      "cell_type": "code",
      "metadata": {
        "id": "e_bhAh2TfLHj",
        "colab_type": "code",
        "colab": {}
      },
      "source": [
        "#export\n",
        "class RegressionSetup(Transform):\n",
        "    \"Transform that floatifies targets\"\n",
        "    loss_func=MSELossFlat()\n",
        "    def __init__(self, c=None): self.c = c\n",
        "    def encodes(self, o): return tensor(o).float()\n",
        "    def decodes(self, o): return TitledFloat(o) if o.ndim==0 else TitledTuple(o_.item() for o_ in o)\n",
        "    def setups(self, dsets):\n",
        "        if self.c is not None: return\n",
        "        try: self.c = len(dsets[0]) if hasattr(dsets[0], '__len__') else 1\n",
        "        except: self.c = 0"
      ],
      "execution_count": 95,
      "outputs": []
    },
    {
      "cell_type": "code",
      "metadata": {
        "id": "HO9LcSh2fLHk",
        "colab_type": "code",
        "colab": {}
      },
      "source": [
        "_tfm = RegressionSetup()\n",
        "dsets = Datasets([0, 1, 2], RegressionSetup)\n",
        "test_eq(dsets.c, 1)\n",
        "test_eq_type(dsets[0], (tensor(0.),))\n",
        "\n",
        "dsets = Datasets([[0, 1, 2], [3,4,5]], RegressionSetup)\n",
        "test_eq(dsets.c, 3)\n",
        "test_eq_type(dsets[0], (tensor([0.,1.,2.]),))"
      ],
      "execution_count": 96,
      "outputs": []
    },
    {
      "cell_type": "markdown",
      "metadata": {
        "id": "Im0XFoZMulbV",
        "colab_type": "text"
      },
      "source": [
        "Callbacks??\n",
        "\n",
        "\n",
        "* **before_batch**\n",
        "* after_item\n",
        "* after_batch\n"
      ]
    },
    {
      "cell_type": "code",
      "metadata": {
        "id": "R-1KsEo4fLHl",
        "colab_type": "code",
        "colab": {}
      },
      "source": [
        "#export\n",
        "def get_c(dls):\n",
        "    if getattr(dls, 'c', False): return dls.c\n",
        "    if getattr(getattr(dls.train, 'after_item', None), 'c', False): return dls.train.after_item.c\n",
        "    if getattr(getattr(dls.train, 'after_batch', None), 'c', False): return dls.train.after_batch.c\n",
        "    vocab = getattr(dls, 'vocab', [])\n",
        "    if len(vocab) > 0 and is_listy(vocab[-1]): vocab = vocab[-1]\n",
        "    return len(vocab)"
      ],
      "execution_count": 175,
      "outputs": []
    },
    {
      "cell_type": "markdown",
      "metadata": {
        "id": "V_a8_Te1fLHn",
        "colab_type": "text"
      },
      "source": [
        "## End-to-end dataset example with MNIST"
      ]
    },
    {
      "cell_type": "markdown",
      "metadata": {
        "id": "jz8_dDxhfLHn",
        "colab_type": "text"
      },
      "source": [
        "Let's show how to use those functions to grab the mnist dataset in a `Datasets`. First we grab all the images."
      ]
    },
    {
      "cell_type": "code",
      "metadata": {
        "id": "YIIVLf4sfLHn",
        "colab_type": "code",
        "colab": {}
      },
      "source": [
        "path = untar_data(URLs.MNIST_TINY)\n",
        "items = get_image_files(path)"
      ],
      "execution_count": 98,
      "outputs": []
    },
    {
      "cell_type": "markdown",
      "metadata": {
        "id": "fUCDGWXifLHr",
        "colab_type": "text"
      },
      "source": [
        "Then we split between train and validation depending on the folder."
      ]
    },
    {
      "cell_type": "code",
      "metadata": {
        "id": "Xk7VcmXDfLHr",
        "colab_type": "code",
        "colab": {
          "base_uri": "https://localhost:8080/",
          "height": 51
        },
        "outputId": "5de1267d-0a5f-4cc6-96a3-d1806f66e6e1"
      },
      "source": [
        "splitter = GrandparentSplitter()\n",
        "splits = splitter(items)\n",
        "train,valid = (items[i] for i in splits)\n",
        "train[:3],valid[:3]"
      ],
      "execution_count": 99,
      "outputs": [
        {
          "output_type": "execute_result",
          "data": {
            "text/plain": [
              "((#3) [Path('/root/.fastai/data/mnist_tiny/train/7/7331.png'),Path('/root/.fastai/data/mnist_tiny/train/7/7547.png'),Path('/root/.fastai/data/mnist_tiny/train/7/8845.png')],\n",
              " (#3) [Path('/root/.fastai/data/mnist_tiny/valid/7/8591.png'),Path('/root/.fastai/data/mnist_tiny/valid/7/8190.png'),Path('/root/.fastai/data/mnist_tiny/valid/7/8638.png')])"
            ]
          },
          "metadata": {
            "tags": []
          },
          "execution_count": 99
        }
      ]
    },
    {
      "cell_type": "markdown",
      "metadata": {
        "id": "9yxG2ODcfLHt",
        "colab_type": "text"
      },
      "source": [
        "Our inputs are images that we open and convert to tensors, our targets are labeled depending on the parent directory and are categories."
      ]
    },
    {
      "cell_type": "markdown",
      "metadata": {
        "id": "UMRu8gc5b479",
        "colab_type": "text"
      },
      "source": [
        "###**walk-note**\n",
        "\n",
        "* when you just provide a fucntion, it becomes a Transform that just performs that function\n",
        "  * these functions would have an order=0 (default order) "
      ]
    },
    {
      "cell_type": "code",
      "metadata": {
        "id": "dCXPhJ8vfLHt",
        "colab_type": "code",
        "colab": {}
      },
      "source": [
        "from PIL import Image\n",
        "def open_img(fn:Path): return Image.open(fn).copy()\n",
        "def img2tensor(im:Image.Image): return TensorImage(array(im)[None])\n",
        "\n",
        "tfms = [[open_img, img2tensor],\n",
        "        [parent_label, Categorize()]]\n",
        "train_ds = Datasets(train, tfms)"
      ],
      "execution_count": 179,
      "outputs": []
    },
    {
      "cell_type": "markdown",
      "metadata": {
        "id": "m7-aNFdJweka",
        "colab_type": "text"
      },
      "source": [
        "###**walk-note**\n",
        "when there's no decode() method, it returns the same value , as in the case of using functions as transforms"
      ]
    },
    {
      "cell_type": "code",
      "metadata": {
        "id": "hf0R-UoyfLHu",
        "colab_type": "code",
        "colab": {}
      },
      "source": [
        "x,y = train_ds[3]\n",
        "xd,yd = decode_at(train_ds,3)\n",
        "test_eq(parent_label(train[3]),yd)\n",
        "test_eq(array(Image.open(train[3])),xd[0].numpy())"
      ],
      "execution_count": 181,
      "outputs": []
    },
    {
      "cell_type": "code",
      "metadata": {
        "id": "twea9l7Pw6Kw",
        "colab_type": "code",
        "colab": {
          "base_uri": "https://localhost:8080/",
          "height": 98
        },
        "outputId": "593ace27-1f74-4315-eea5-943a1f27ddab"
      },
      "source": [
        "show_doc(show_at)"
      ],
      "execution_count": 182,
      "outputs": [
        {
          "output_type": "display_data",
          "data": {
            "text/markdown": "<h4 id=\"show_at\" class=\"doc_header\"><code>show_at</code><a href=\"https://github.com/fastai/fastai2/tree/master/fastai2/data/core.py#L274\" class=\"source_link\" style=\"float:right\">[source]</a></h4>\n\n> <code>show_at</code>(**`o`**, **`idx`**, **\\*\\*`kwargs`**)\n\n",
            "text/plain": [
              "<IPython.core.display.Markdown object>"
            ]
          },
          "metadata": {
            "tags": []
          }
        }
      ]
    },
    {
      "cell_type": "code",
      "metadata": {
        "id": "TIq3bvVPfLHv",
        "colab_type": "code",
        "colab": {
          "base_uri": "https://localhost:8080/",
          "height": 101
        },
        "outputId": "27d344c3-0699-43bb-ee38-d97415515b8f"
      },
      "source": [
        "# walk-note , this call decode() itself, no need to call it\n",
        "ax = show_at(train_ds, 3, cmap=\"Greys\", figsize=(1,1))"
      ],
      "execution_count": 183,
      "outputs": [
        {
          "output_type": "display_data",
          "data": {
            "image/png": "[encoded data removed]",
            "text/plain": [
              "<Figure size 72x72 with 1 Axes>"
            ]
          },
          "metadata": {
            "tags": [],
            "needs_background": "light"
          }
        }
      ]
    },
    {
      "cell_type": "code",
      "metadata": {
        "id": "BOQjiteIfLHw",
        "colab_type": "code",
        "colab": {}
      },
      "source": [
        "assert ax.title.get_text() in ('3','7')\n",
        "test_fig_exists(ax)"
      ],
      "execution_count": 103,
      "outputs": []
    },
    {
      "cell_type": "markdown",
      "metadata": {
        "id": "bXfAv800fLHy",
        "colab_type": "text"
      },
      "source": [
        "## ToTensor -"
      ]
    },
    {
      "cell_type": "code",
      "metadata": {
        "id": "XHEPM-KefLHy",
        "colab_type": "code",
        "colab": {}
      },
      "source": [
        "#export\n",
        "class ToTensor(Transform):\n",
        "    \"Convert item to appropriate tensor class\"\n",
        "    order = 5"
      ],
      "execution_count": 142,
      "outputs": []
    },
    {
      "cell_type": "markdown",
      "metadata": {
        "id": "H8-yWtUcfLH0",
        "colab_type": "text"
      },
      "source": [
        "## IntToFloatTensor -"
      ]
    },
    {
      "cell_type": "markdown",
      "metadata": {
        "id": "D83LOZYZcoeg",
        "colab_type": "text"
      },
      "source": [
        "###**walk_note** \n",
        "* which encodes gets executed?"
      ]
    },
    {
      "cell_type": "code",
      "metadata": {
        "id": "v7JyKm9afLH0",
        "colab_type": "code",
        "colab": {}
      },
      "source": [
        "# export\n",
        "class IntToFloatTensor(Transform):\n",
        "    \"Transform image to float tensor, optionally dividing by 255 (e.g. for images).\"\n",
        "    order = 10 #Need to run after PIL transforms on the GPU\n",
        "    def __init__(self, div=255., div_mask=1): store_attr(self, 'div,div_mask')\n",
        "    def encodes(self, o:TensorImage): return o.float().div_(self.div)\n",
        "    def encodes(self, o:TensorMask ): return o.long() // self.div_mask\n",
        "    def decodes(self, o:TensorImage): return ((o.clamp(0., 1.) * self.div).long()) if self.div else o"
      ],
      "execution_count": 143,
      "outputs": []
    },
    {
      "cell_type": "code",
      "metadata": {
        "id": "aEN9Kp5mfLH1",
        "colab_type": "code",
        "colab": {}
      },
      "source": [
        "t = (TensorImage(tensor(1)),tensor(2).long(),TensorMask(tensor(3)))\n",
        "tfm = IntToFloatTensor()\n",
        "ft = tfm(t)\n",
        "test_eq(ft, [1./255, 2, 3])\n",
        "test_eq(type(ft[0]), TensorImage)\n",
        "test_eq(type(ft[2]), TensorMask)\n",
        "test_eq(ft[0].type(),'torch.FloatTensor')\n",
        "test_eq(ft[1].type(),'torch.LongTensor')\n",
        "test_eq(ft[2].type(),'torch.LongTensor')"
      ],
      "execution_count": 144,
      "outputs": []
    },
    {
      "cell_type": "markdown",
      "metadata": {
        "id": "mKDYG-2RfLH3",
        "colab_type": "text"
      },
      "source": [
        "## Normalization -"
      ]
    },
    {
      "cell_type": "code",
      "metadata": {
        "id": "V3HmQ4dbfLH3",
        "colab_type": "code",
        "colab": {}
      },
      "source": [
        "# export\n",
        "def broadcast_vec(dim, ndim, *t, cuda=True):\n",
        "    \"Make a vector broadcastable over `dim` (out of `ndim` total) by prepending and appending unit axes\"\n",
        "    v = [1]*ndim\n",
        "    v[dim] = -1\n",
        "    f = to_device if cuda else noop\n",
        "    return [f(tensor(o).view(*v)) for o in t]"
      ],
      "execution_count": 107,
      "outputs": []
    },
    {
      "cell_type": "markdown",
      "metadata": {
        "id": "uqH8d30bxhVV",
        "colab_type": "text"
      },
      "source": [
        "###**walk-note**\n",
        "* only one_batch is analyzed for mean,std so it might not be accurate (outlier on that batch?)\n",
        "* is this batch representative?\n",
        "\n",
        "Displays only on cpu"
      ]
    },
    {
      "cell_type": "code",
      "metadata": {
        "id": "0B1Mi2wPfLH5",
        "colab_type": "code",
        "colab": {}
      },
      "source": [
        "# export\n",
        "@docs\n",
        "class Normalize(Transform):\n",
        "    \"Normalize/denorm batch of `TensorImage`\"\n",
        "    parameters,order=L('mean', 'std'),99\n",
        "    def __init__(self, mean=None, std=None, axes=(0,2,3)): self.mean,self.std,self.axes = mean,std,axes\n",
        "\n",
        "    @classmethod\n",
        "    def from_stats(cls, mean, std, dim=1, ndim=4, cuda=True): return cls(*broadcast_vec(dim, ndim, mean, std, cuda=cuda))\n",
        "\n",
        "    def setups(self, dl:DataLoader):\n",
        "        if self.mean is None or self.std is None:\n",
        "            x,*_ = dl.one_batch()\n",
        "            self.mean,self.std = x.mean(self.axes, keepdim=True),x.std(self.axes, keepdim=True)+1e-7\n",
        "\n",
        "    def encodes(self, x:TensorImage): return (x-self.mean) / self.std\n",
        "    def decodes(self, x:TensorImage):\n",
        "        f = to_cpu if x.device.type=='cpu' else noop\n",
        "        return (x*f(self.std) + f(self.mean))\n",
        "\n",
        "    _docs=dict(encodes=\"Normalize batch\", decodes=\"Denormalize batch\")"
      ],
      "execution_count": 108,
      "outputs": []
    },
    {
      "cell_type": "code",
      "metadata": {
        "id": "AqVkcTpffLH7",
        "colab_type": "code",
        "colab": {}
      },
      "source": [
        "mean,std = [0.5]*3,[0.5]*3\n",
        "mean,std = broadcast_vec(1, 4, mean, std)\n",
        "batch_tfms = [IntToFloatTensor, Normalize.from_stats(mean,std)]\n",
        "tdl = TfmdDL(train_ds, after_batch=batch_tfms, bs=4, device=default_device())"
      ],
      "execution_count": 109,
      "outputs": []
    },
    {
      "cell_type": "code",
      "metadata": {
        "id": "bOaqomEIfLH8",
        "colab_type": "code",
        "colab": {}
      },
      "source": [
        "x,y  = tdl.one_batch()\n",
        "xd,yd = tdl.decode((x,y))\n",
        "\n",
        "test_eq(x.type(), 'torch.cuda.FloatTensor' if default_device().type=='cuda' else 'torch.FloatTensor')\n",
        "test_eq(xd.type(), 'torch.LongTensor')\n",
        "test_eq(type(x), TensorImage)\n",
        "test_eq(type(y), TensorCategory)\n",
        "assert x.mean()<0.0\n",
        "assert x.std()>0.5\n",
        "assert 0<xd.float().mean()/255.<1\n",
        "assert 0<xd.float().std()/255.<0.5"
      ],
      "execution_count": 110,
      "outputs": []
    },
    {
      "cell_type": "code",
      "metadata": {
        "id": "HliBvvtKfLH9",
        "colab_type": "code",
        "colab": {}
      },
      "source": [
        "#hide\n",
        "nrm = Normalize()\n",
        "batch_tfms = [IntToFloatTensor(), nrm]\n",
        "tdl = TfmdDL(train_ds, after_batch=batch_tfms, bs=4)\n",
        "x,y  = tdl.one_batch()\n",
        "test_close(x.mean(), 0.0, 1e-4)\n",
        "assert x.std()>0.9, x.std()"
      ],
      "execution_count": 111,
      "outputs": []
    },
    {
      "cell_type": "code",
      "metadata": {
        "id": "AGMvpFMHfLH-",
        "colab_type": "code",
        "colab": {}
      },
      "source": [
        "#Just for visuals\n",
        "from fastai2.vision.core import *"
      ],
      "execution_count": 112,
      "outputs": []
    },
    {
      "cell_type": "code",
      "metadata": {
        "id": "gpnc-Au2fLIA",
        "colab_type": "code",
        "colab": {
          "base_uri": "https://localhost:8080/",
          "height": 353
        },
        "outputId": "3b734c84-aa86-4167-f9ff-0c1fe3152389"
      },
      "source": [
        "tdl.show_batch((x,y))"
      ],
      "execution_count": 113,
      "outputs": [
        {
          "output_type": "display_data",
          "data": {
            "image/png": "[encoded data removed]",
            "text/plain": [
              "<Figure size 72x72 with 1 Axes>"
            ]
          },
          "metadata": {
            "tags": [],
            "needs_background": "light"
          }
        },
        {
          "output_type": "display_data",
          "data": {
            "image/png": "[encoded data removed]",
            "text/plain": [
              "<Figure size 72x72 with 1 Axes>"
            ]
          },
          "metadata": {
            "tags": [],
            "needs_background": "light"
          }
        },
        {
          "output_type": "display_data",
          "data": {
            "image/png": "[encoded data removed]",
            "text/plain": [
              "<Figure size 72x72 with 1 Axes>"
            ]
          },
          "metadata": {
            "tags": [],
            "needs_background": "light"
          }
        },
        {
          "output_type": "display_data",
          "data": {
            "image/png": "[encoded data removed]",
            "text/plain": [
              "<Figure size 72x72 with 1 Axes>"
            ]
          },
          "metadata": {
            "tags": [],
            "needs_background": "light"
          }
        }
      ]
    },
    {
      "cell_type": "code",
      "metadata": {
        "id": "SpIUIoIjfLIB",
        "colab_type": "code",
        "colab": {
          "base_uri": "https://localhost:8080/",
          "height": 1000
        },
        "outputId": "6796fa21-c5dd-4759-c1d5-5ac11e376c4d"
      },
      "source": [
        "x,y = torch.add(x,0),torch.add(y,0) #Lose type of tensors (to emulate predictions)\n",
        "test_ne(type(x), TensorImage)\n",
        "tdl.show_batch((x,y), figsize=(4,4)) #Check that types are put back by dl."
      ],
      "execution_count": 114,
      "outputs": [
        {
          "output_type": "display_data",
          "data": {
            "image/png": "[encoded data removed]",
            "text/plain": [
              "<Figure size 288x288 with 1 Axes>"
            ]
          },
          "metadata": {
            "tags": [],
            "needs_background": "light"
          }
        },
        {
          "output_type": "display_data",
          "data": {
            "image/png": "[encoded data removed]",
            "text/plain": [
              "<Figure size 288x288 with 1 Axes>"
            ]
          },
          "metadata": {
            "tags": [],
            "needs_background": "light"
          }
        },
        {
          "output_type": "display_data",
          "data": {
            "image/png": "[encoded data removed]",
            "text/plain": [
              "<Figure size 288x288 with 1 Axes>"
            ]
          },
          "metadata": {
            "tags": [],
            "needs_background": "light"
          }
        },
        {
          "output_type": "display_data",
          "data": {
            "image/png": "[encoded data removed]",
            "text/plain": [
              "<Figure size 288x288 with 1 Axes>"
            ]
          },
          "metadata": {
            "tags": [],
            "needs_background": "light"
          }
        }
      ]
    },
    {
      "cell_type": "code",
      "metadata": {
        "id": "OYHwXzaRfLIC",
        "colab_type": "code",
        "colab": {}
      },
      "source": [
        "#TODO: make the above check a proper test"
      ],
      "execution_count": 115,
      "outputs": []
    },
    {
      "cell_type": "markdown",
      "metadata": {
        "id": "KV5BOoOEfLID",
        "colab_type": "text"
      },
      "source": [
        "## Export -"
      ]
    },
    {
      "cell_type": "code",
      "metadata": {
        "id": "YuPcPOTnkGlF",
        "colab_type": "code",
        "colab": {}
      },
      "source": [
        ""
      ],
      "execution_count": 115,
      "outputs": []
    },
    {
      "cell_type": "code",
      "metadata": {
        "id": "QXUnS52bfLID",
        "colab_type": "code",
        "colab": {
          "base_uri": "https://localhost:8080/",
          "height": 1000
        },
        "outputId": "82a74998-b271-4a01-badb-499205b530ef"
      },
      "source": [
        "#hide\n",
        "from nbdev.export import notebook2script\n",
        "notebook2script()"
      ],
      "execution_count": 116,
      "outputs": [
        {
          "output_type": "stream",
          "text": [
            "Converted 00_torch_core.ipynb.\n",
            "Converted 01_layers.ipynb.\n",
            "Converted 02_data.load.ipynb.\n",
            "Converted 03_data.core.ipynb.\n",
            "Converted 04_data.external.ipynb.\n",
            "Converted 05_data.transforms.ipynb.\n",
            "Converted 06_data.block.ipynb.\n",
            "Converted 07_vision.core.ipynb.\n",
            "Converted 08_vision.data.ipynb.\n",
            "Converted 09_vision.augment.ipynb.\n",
            "Converted 09b_vision.utils.ipynb.\n",
            "Converted 09c_vision.widgets.ipynb.\n",
            "Converted 10_tutorial.pets.ipynb.\n",
            "Converted 11_vision.models.xresnet.ipynb.\n",
            "Converted 12_optimizer.ipynb.\n",
            "Converted 13_callback.core.ipynb.\n",
            "Converted 13a_learner.ipynb.\n",
            "Converted 13b_metrics.ipynb.\n",
            "Converted 14_callback.schedule.ipynb.\n",
            "Converted 14a_callback.data.ipynb.\n",
            "Converted 15_callback.hook.ipynb.\n",
            "Converted 15a_vision.models.unet.ipynb.\n",
            "Converted 16_callback.progress.ipynb.\n",
            "Converted 17_callback.tracker.ipynb.\n",
            "Converted 18_callback.fp16.ipynb.\n",
            "Converted 18a_callback.training.ipynb.\n",
            "Converted 19_callback.mixup.ipynb.\n",
            "Converted 20_interpret.ipynb.\n",
            "Converted 20a_distributed.ipynb.\n",
            "Converted 21_vision.learner.ipynb.\n",
            "Converted 22_tutorial.imagenette.ipynb.\n",
            "Converted 23_tutorial.vision.ipynb.\n",
            "Converted 24_tutorial.siamese.ipynb.\n",
            "Converted 24_vision.gan.ipynb.\n",
            "Converted 30_text.core.ipynb.\n",
            "Converted 31_text.data.ipynb.\n",
            "Converted 32_text.models.awdlstm.ipynb.\n",
            "Converted 33_text.models.core.ipynb.\n",
            "Converted 34_callback.rnn.ipynb.\n",
            "Converted 35_tutorial.wikitext.ipynb.\n",
            "Converted 36_text.models.qrnn.ipynb.\n",
            "Converted 37_text.learner.ipynb.\n",
            "Converted 38_tutorial.text.ipynb.\n",
            "Converted 39_tutorial.transformers.ipynb.\n",
            "Converted 40_tabular.core.ipynb.\n",
            "Converted 41_tabular.data.ipynb.\n",
            "Converted 42_tabular.model.ipynb.\n",
            "Converted 43_tabular.learner.ipynb.\n",
            "Converted 44_tutorial.tabular.ipynb.\n",
            "Converted 45_collab.ipynb.\n",
            "Converted 46_tutorial.collab.ipynb.\n",
            "Converted 50_tutorial.datablock.ipynb.\n",
            "Converted 60_medical.imaging.ipynb.\n",
            "Converted 61_tutorial.medical_imaging.ipynb.\n",
            "Converted 65_medical.text.ipynb.\n",
            "Converted 70_callback.wandb.ipynb.\n",
            "Converted 71_callback.tensorboard.ipynb.\n",
            "Converted 72_callback.neptune.ipynb.\n",
            "Converted 73_callback.captum.ipynb.\n",
            "Converted 74_callback.cutmix.ipynb.\n",
            "Converted 97_test_utils.ipynb.\n",
            "Converted 99_pytorch_doc.ipynb.\n",
            "Converted index.ipynb.\n",
            "Converted tutorial.ipynb.\n"
          ],
          "name": "stdout"
        }
      ]
    },
    {
      "cell_type": "code",
      "metadata": {
        "id": "vg8XNnFEfLIF",
        "colab_type": "code",
        "colab": {}
      },
      "source": [
        ""
      ],
      "execution_count": 116,
      "outputs": []
    }
  ]
}